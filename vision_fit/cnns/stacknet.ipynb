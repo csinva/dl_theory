{
 "cells": [
  {
   "cell_type": "code",
   "execution_count": 1,
   "metadata": {},
   "outputs": [],
   "source": [
    "import os\n",
    "import torch\n",
    "import torch.nn as nn\n",
    "from torch.autograd import Variable\n",
    "import torchvision.datasets as dset\n",
    "import torchvision.transforms as transforms\n",
    "import torch.nn.functional as F\n",
    "import torch.optim as optim\n",
    "from os.path import join as oj\n",
    "import sys\n",
    "import numpy as np\n",
    "from copy import deepcopy"
   ]
  },
  {
   "cell_type": "code",
   "execution_count": 88,
   "metadata": {},
   "outputs": [
    {
     "name": "stdout",
     "output_type": "stream",
     "text": [
      "init shape torch.Size([2, 1, 3, 32, 32])\n",
      "pass 0 shape torch.Size([2, 4, 1, 26, 26])\n",
      "convert back to torch.Size([2, 1, 4, 26, 26])\n",
      "pass 1 shape torch.Size([2, 4, 2, 20, 20])\n",
      "convert back to torch.Size([2, 1, 8, 20, 20])\n",
      "pass 2 shape torch.Size([2, 4, 6, 14, 14])\n",
      "convert back to torch.Size([2, 1, 24, 14, 14])\n",
      "pass 3 shape torch.Size([2, 4, 22, 8, 8])\n",
      "convert back to torch.Size([2, 1, 88, 8, 8])\n",
      "pass 4 shape torch.Size([2, 4, 86, 2, 2])\n",
      "convert back to torch.Size([2, 1, 344, 2, 2])\n",
      "out shape torch.Size([2, 10])\n"
     ]
    }
   ],
   "source": [
    "class StackNet(nn.Module):\n",
    "    def __init__(self):\n",
    "        super(StackNet, self).__init__()\n",
    "        self.lin = nn.Linear(1376, 10)\n",
    "        # input: (N, C_in, D, H, W)\n",
    "        # output: (N, C_out, D_out, H_out, W_out)        \n",
    "        self.lay = torch.nn.Conv3d(in_channels=1, out_channels=4, kernel_size=(3, 7, 7), \n",
    "                        stride=1, padding=0, dilation=1)\n",
    "        \n",
    "    def features(self, x):\n",
    "        print('init shape', x.shape)\n",
    "        for i in range(5):\n",
    "            x = self.lay(x)\n",
    "    #         x = nn.BatchNorm2d()(x)\n",
    "            x = nn.ReLU()(x)\n",
    "            print('pass', i,  'shape', x.shape)\n",
    "            x = x.reshape(x.shape[0], 1, x.shape[1] * x.shape[2], x.shape[3], x.shape[4])\n",
    "            print('convert back to', x.shape)\n",
    "        return x\n",
    "         \n",
    "#         nn.BatchNorm2d(x),\n",
    "#         nn.ReLU(inplace=True)\n",
    "\n",
    "\n",
    "    def forward(self, x):\n",
    "        y = self.features(x)\n",
    "        y = y.reshape(y.shape[0], -1)\n",
    "        y = self.lin(y)\n",
    "        return y\n",
    "\n",
    "model = StackNet()\n",
    "x = torch.randn(2, 3, 32, 32, requires_grad=True)\n",
    "\n",
    "# print(x.shape, type(x))\n",
    "y = model(x)\n",
    "print('out shape', y.shape)"
   ]
  },
  {
   "cell_type": "code",
   "execution_count": 67,
   "metadata": {},
   "outputs": [
    {
     "name": "stdout",
     "output_type": "stream",
     "text": [
      "torch.Size([4, 1, 3, 7, 7])\n"
     ]
    }
   ],
   "source": [
    "print(model.state_dict()['lay.weight'].shape)"
   ]
  },
  {
   "cell_type": "code",
   "execution_count": null,
   "metadata": {},
   "outputs": [],
   "source": []
  }
 ],
 "metadata": {
  "kernelspec": {
   "display_name": "Python 3",
   "language": "python",
   "name": "python3"
  },
  "language_info": {
   "codemirror_mode": {
    "name": "ipython",
    "version": 3
   },
   "file_extension": ".py",
   "mimetype": "text/x-python",
   "name": "python",
   "nbconvert_exporter": "python",
   "pygments_lexer": "ipython3",
   "version": "3.5.4"
  }
 },
 "nbformat": 4,
 "nbformat_minor": 2
}
