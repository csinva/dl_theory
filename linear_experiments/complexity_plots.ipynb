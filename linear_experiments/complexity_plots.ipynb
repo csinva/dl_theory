{
 "cells": [
  {
   "cell_type": "code",
   "execution_count": 19,
   "metadata": {},
   "outputs": [
    {
     "name": "stdout",
     "output_type": "stream",
     "text": [
      "The autoreload extension is already loaded. To reload it, use:\n",
      "  %reload_ext autoreload\n"
     ]
    }
   ],
   "source": [
    "import os\n",
    "from os.path import join as oj\n",
    "import sys, time\n",
    "sys.path.insert(1, oj(sys.path[0], '..'))  # insert parent path\n",
    "import seaborn as sns\n",
    "from sklearn.model_selection import train_test_split\n",
    "from regression_dsets_large_names import regression_dsets_large_names\n",
    "import numpy as np\n",
    "import matplotlib.pyplot as plt\n",
    "import pmlb\n",
    "from tqdm import tqdm\n",
    "from copy import deepcopy\n",
    "import pickle as pkl\n",
    "import pandas as pd\n",
    "import data\n",
    "import fit\n",
    "from process_results import process_results, aggregate_results, best_ridge\n",
    "import statsmodels.tsa.api as smt\n",
    "from statsmodels.tsa.tsatools import lagmat\n",
    "import numpy.linalg as npl\n",
    "\n",
    "%matplotlib inline\n",
    "%load_ext autoreload\n",
    "%autoreload 2"
   ]
  },
  {
   "cell_type": "markdown",
   "metadata": {},
   "source": [
    "# look at eigenvals"
   ]
  },
  {
   "cell_type": "code",
   "execution_count": 170,
   "metadata": {},
   "outputs": [],
   "source": [
    "def complexity(n, d, cov, thetastar, sigma=1):\n",
    "    (u, a, h) = npl.svd(cov)\n",
    "#     plt.plot(a, 'o-')\n",
    "#     plt.ylabel('s.v.')\n",
    "    w = u.T @ thetastar\n",
    "    comps = []\n",
    "    results = {}\n",
    "    ls = np.hstack((np.linspace(0, 1, 300), np.linspace(1, 100, 300)))\n",
    "    for l in ls:\n",
    "        comp = - min(n, d) / 2 \n",
    "        for i in range(min(n, d)):\n",
    "            comp += l**2 / 2 * (a[i] * w[i]**2 / sigma**2 + 1) / (l + a[i])**2\n",
    "        for i in range(min(n, d)):\n",
    "            comp += np.log(1 + a[i] / l)\n",
    "        comps.append(comp)\n",
    "    return {\n",
    "        'ls': ls,\n",
    "        'comps': comps,\n",
    "        'complexity': np.min(comps),\n",
    "        'svs': a\n",
    "    }\n",
    "    \n",
    "# r = complexity(n, d, X.T @ X, thetastar)"
   ]
  },
  {
   "cell_type": "code",
   "execution_count": 92,
   "metadata": {},
   "outputs": [
    {
     "name": "stderr",
     "output_type": "stream",
     "text": [
      "  0%|          | 0/14 [00:00<?, ?it/s]/accounts/projects/vision/.local/lib/python3.7/site-packages/ipykernel_launcher.py:15: RuntimeWarning: divide by zero encountered in double_scalars\n",
      "  from ipykernel import kernelapp as app\n",
      "100%|██████████| 14/14 [00:14<00:00,  1.53s/it]\n"
     ]
    }
   ],
   "source": [
    "ns = [5, 10, 25, 100, 150, 200, 400, 500, 1000, 1200, 1500, 1800, 2000, 3000]\n",
    "d = 500\n",
    "complexities = []\n",
    "\n",
    "for n in tqdm(ns):\n",
    "    thetastar = np.random.randn(d)\n",
    "    X = np.random.randn(n, d)\n",
    "    r = complexity(n, d, X.T @ X, thetastar)\n",
    "    complexities.append(r['complexity'])"
   ]
  },
  {
   "cell_type": "code",
   "execution_count": 94,
   "metadata": {},
   "outputs": [
    {
     "data": {
      "image/png": "[encoded data removed]",
      "text/plain": [
       "<Figure size 432x288 with 1 Axes>"
      ]
     },
     "metadata": {
      "needs_background": "light"
     },
     "output_type": "display_data"
    }
   ],
   "source": [
    "plt.plot([d/x for x in ns], complexities, 'o-')\n",
    "plt.xscale('log')\n",
    "plt.xlabel('d/n')\n",
    "plt.ylabel('complexity')\n",
    "plt.show()"
   ]
  },
  {
   "cell_type": "markdown",
   "metadata": {},
   "source": [
    "# ar models"
   ]
  },
  {
   "cell_type": "code",
   "execution_count": 161,
   "metadata": {},
   "outputs": [
    {
     "name": "stdout",
     "output_type": "stream",
     "text": [
      "-0.5384131204383905\n"
     ]
    },
    {
     "data": {
      "text/plain": [
       "[<matplotlib.lines.Line2D at 0x7f6482663190>]"
      ]
     },
     "execution_count": 161,
     "metadata": {},
     "output_type": "execute_result"
    },
    {
     "data": {
      "image/png": "[encoded data removed]",
      "text/plain": [
       "<Figure size 432x288 with 1 Axes>"
      ]
     },
     "metadata": {
      "needs_background": "light"
     },
     "output_type": "display_data"
    }
   ],
   "source": [
    "# np.random.seed(12345)\n",
    "d = 8\n",
    "thetastar = np.random.uniform(low=-0.5, high=0.5, size=d+1)\n",
    "thetastar[0] = 1\n",
    "s = np.sum(thetastar[1:])\n",
    "print(s)\n",
    "thetastar[1:] -= s\n",
    "\n",
    "# arparams = np.array([1, -1.5, 1.5])\n",
    "\n",
    "n = 250\n",
    "sample = smt.arma_generate_sample(ar=thetastar, ma=np.array([1]), nsample=n, sigma=1)\n",
    "plt.plot(sample)"
   ]
  },
  {
   "cell_type": "code",
   "execution_count": 172,
   "metadata": {},
   "outputs": [
    {
     "name": "stderr",
     "output_type": "stream",
     "text": [
      "  0%|          | 0/12 [00:00<?, ?it/s]/accounts/projects/vision/.local/lib/python3.7/site-packages/ipykernel_launcher.py:14: RuntimeWarning: divide by zero encountered in double_scalars\n",
      "  \n",
      " 17%|█▋        | 2/12 [00:03<00:15,  1.51s/it]/accounts/projects/vision/.local/lib/python3.7/site-packages/ipykernel_launcher.py:12: RuntimeWarning: overflow encountered in double_scalars\n",
      "  if sys.path[0] == '':\n",
      "100%|██████████| 12/12 [00:18<00:00,  1.55s/it]\n"
     ]
    }
   ],
   "source": [
    "ns = [505, 520, 550, 600, 650, 700, 1000, 1200, 1500, 1800, 2000, 3000]\n",
    "d = 500\n",
    "complexities = []\n",
    "\n",
    "for n in tqdm(ns):\n",
    "    thetastar = np.random.uniform(low=-0.5, high=0.5, size=d+1)\n",
    "    thetastar[0] = 1\n",
    "    s = np.sum(thetastar[1:])\n",
    "    thetastar[1:] -= s\n",
    "\n",
    "    sample = smt.arma_generate_sample(ar=thetastar[1:], ma=np.array([1]), nsample=n, sigma=1)\n",
    "    A = lagmat(sample, maxlag=d, trim='both')\n",
    "    r = complexity(n, d, A.T @ A, thetastar[1:])\n",
    "    complexities.append(r['complexity'])"
   ]
  },
  {
   "cell_type": "code",
   "execution_count": 175,
   "metadata": {},
   "outputs": [
    {
     "data": {
      "image/png": "[encoded data removed]",
      "text/plain": [
       "<Figure size 432x288 with 1 Axes>"
      ]
     },
     "metadata": {
      "needs_background": "light"
     },
     "output_type": "display_data"
    }
   ],
   "source": [
    "plt.plot([d/(x - d) for x in ns], complexities, 'o-')\n",
    "plt.xscale('log')\n",
    "plt.yscale('log')\n",
    "plt.xlabel('d/n')\n",
    "plt.ylabel('complexity')\n",
    "plt.show()"
   ]
  },
  {
   "cell_type": "markdown",
   "metadata": {},
   "source": [
    "# arma"
   ]
  },
  {
   "cell_type": "code",
   "execution_count": 34,
   "metadata": {},
   "outputs": [],
   "source": [
    "np.random.seed(12345)\n",
    "# arparams = np.array([1, -0.75, 0.25])\n",
    "arparams = np.array([1, -0.5, 0.5])\n",
    "maparams = np.array([1]) #, .65, .35])\n",
    "# ar = np.r_[1, -arparams] # add zero-lag and negate\n",
    "# ma = np.r_[1, maparams] # add zero-lag\n",
    "\n",
    "n = 250\n",
    "sample = smt.arma_generate_sample(ar=ar, ma=ma, nsample=n, sigma=1)\n",
    "plt.plot(sample)"
   ]
  },
  {
   "cell_type": "code",
   "execution_count": null,
   "metadata": {},
   "outputs": [],
   "source": []
  }
 ],
 "metadata": {
  "kernelspec": {
   "display_name": "Python 3",
   "language": "python",
   "name": "python3"
  },
  "language_info": {
   "codemirror_mode": {
    "name": "ipython",
    "version": 3
   },
   "file_extension": ".py",
   "mimetype": "text/x-python",
   "name": "python",
   "nbconvert_exporter": "python",
   "pygments_lexer": "ipython3",
   "version": "3.7.5"
  }
 },
 "nbformat": 4,
 "nbformat_minor": 4
}
