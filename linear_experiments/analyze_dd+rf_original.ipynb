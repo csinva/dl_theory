{
 "cells": [
  {
   "cell_type": "code",
   "execution_count": 15,
   "metadata": {},
   "outputs": [
    {
     "name": "stdout",
     "output_type": "stream",
     "text": [
      "The autoreload extension is already loaded. To reload it, use:\n",
      "  %reload_ext autoreload\n"
     ]
    }
   ],
   "source": [
    "import os\n",
    "from os.path import join as oj\n",
    "import sys, time\n",
    "sys.path.insert(1, oj(sys.path[0], '..'))  # insert parent path\n",
    "import seaborn as sns\n",
    "from sklearn.model_selection import train_test_split\n",
    "from regression_dsets_large_names import regression_dsets_large_names\n",
    "import numpy as np\n",
    "import matplotlib.pyplot as plt\n",
    "import pmlb\n",
    "from tqdm import tqdm\n",
    "from copy import deepcopy\n",
    "import pickle as pkl\n",
    "import pandas as pd\n",
    "import data\n",
    "import fit\n",
    "\n",
    "%matplotlib inline\n",
    "%load_ext autoreload\n",
    "%autoreload 2"
   ]
  },
  {
   "cell_type": "markdown",
   "metadata": {},
   "source": [
    "# load results from a directory"
   ]
  },
  {
   "cell_type": "code",
   "execution_count": 18,
   "metadata": {},
   "outputs": [
    {
     "name": "stderr",
     "output_type": "stream",
     "text": [
      "100%|██████████| 90/90 [00:00<00:00, 259.97it/s]\n"
     ]
    }
   ],
   "source": [
    "# depending on how much is saved, this may take a while\n",
    "# pmlb, gaussian\n",
    "# rf_gaussian, rf_pmlb (don't sweep rf params, only change n_train)\n",
    "# rf_gaussian_sweep (only sweep rf params, keep n_train constant)\n",
    "# rf_pmlb_sweep (sweep rf params, dset - keep n_train constant)\n",
    "# ridge_gaussian (gaussian dset, sweep ridge param)\n",
    "# linear_strange_gaussian (gaussian dset, 3 different linear estimators)\n",
    "# linear_sta (gaussian, pmlb, different noise)\n",
    "# cov_vary (gaussian, linear, non-iid)\n",
    "# shifted_test (add ones to the testing covariance matrix, but not the training)\n",
    "# shifted_test5 (add 5 * ones to the testing cov matrix, but not the training)\n",
    "out_dir = '/scratch/users/vision/yu_dl/raaz.rsk/double_descent/shifted_test5'\n",
    "save_dir = 'results'\n",
    "fnames = sorted([fname for fname in os.listdir(out_dir)])\n",
    "results_list = [pd.Series(pkl.load(open(oj(out_dir, fname), \"rb\"))) for fname in tqdm(fnames) \n",
    "                if not fname.startswith('weights') and not fname.startswith('idx')]\n",
    "results = pd.concat(results_list, axis=1).T.infer_objects()"
   ]
  },
  {
   "cell_type": "markdown",
   "metadata": {},
   "source": [
    "# linear plots"
   ]
  },
  {
   "cell_type": "code",
   "execution_count": 19,
   "metadata": {},
   "outputs": [
    {
     "name": "stderr",
     "output_type": "stream",
     "text": [
      "  0%|          | 0/15 [00:00<?, ?it/s]"
     ]
    },
    {
     "name": "stdout",
     "output_type": "stream",
     "text": [
      "name ('gaussian', 0.1, 1, 'linear', 0)\n"
     ]
    },
    {
     "name": "stderr",
     "output_type": "stream",
     "text": [
      "100%|██████████| 15/15 [01:25<00:00,  5.67s/it]\n"
     ]
    }
   ],
   "source": [
    "feats = ['dset', 'noise_mult', 'dset_num', 'model_type',\n",
    "         'n_test', 'test_mse', 'seed', 'preds_test',  'train_mse',\n",
    "         'n_train', 'n_train_over_num_features', 'num_features', 'ridge_param', 'iid']\n",
    "feats = feats + ['wnorm', 'H_trace'] # for linear\n",
    "# feats = feats + ['num_trees', 'max_depth'] # for rf\n",
    "# feats = feats + ['ridge_param']\n",
    "\n",
    "\n",
    "r = results\n",
    "if not 'dset_num' in r:\n",
    "    r['dset_num'] = r['dset']\n",
    "r = r[feats]\n",
    "\n",
    "r2 = r.groupby(['dset', 'noise_mult', 'dset_num', \n",
    "                'model_type', 'ridge_param'])\n",
    "# plt.plot(r.num_features / r.n_train, np.log(r.test_mse), 'o')\n",
    "\n",
    "# loop over multiple seeds / curves\n",
    "R, C = 3, 3\n",
    "\n",
    "for name, gr in r2:\n",
    "    print('name', name)\n",
    "    curve = gr.groupby(['n_train'])\n",
    "    dset = gr.dset.values[0]\n",
    "    dset_num = gr.dset_num.values[0]\n",
    "    num_features = gr.num_features.values[0] # assume this was held constant (for each dset)\n",
    "    model_type = gr.model_type.values[0]\n",
    "    ridge_param = gr.ridge_param.values[0]\n",
    "    noise_mult = gr.noise_mult.values[0]\n",
    "    \n",
    "    \n",
    "    # loop over seeds and average / calculate bias stuff\n",
    "    plt.figure(figsize=(C * 4, R * 4))\n",
    "    for curve_name, gr2 in tqdm(curve):\n",
    "        ratio = gr2.num_features.values[0] / gr2.n_train.values[0]        \n",
    "        preds = gr2.preds_test.values\n",
    "        preds = np.stack(preds) # num_seeds x n_test\n",
    "        preds_mean = preds.mean(axis=0).reshape(1, -1) # 1 x n_test\n",
    "        \n",
    "        \n",
    "#                 X_test, y_test, means, covs = data.get_data(p.n_test, p.num_features, \n",
    "#                                        noise_mult=p.noise_mult, \n",
    "#                                        iid=p.iid, seed=703858704, test=True)\n",
    "        \n",
    "        \n",
    "        if dset == 'gaussian':\n",
    "            dset_name = ''\n",
    "            _, y_true, _, _ = data.get_data(gr2.n_test.values[0], num_features, # this assumes that num_features was held constant\n",
    "                                            noise_mult=0, iid='rand',#gr2.iid.values[0], \n",
    "                                            seed=703858704, test=True)\n",
    "            y_true = y_true.reshape(1, -1) # 1 x n_test\n",
    "        elif dset == 'pmlb':\n",
    "            dset_name = regression_dsets_large_names[dset_num]\n",
    "            X, y = pmlb.fetch_data(dset_name, return_X_y=True)\n",
    "            fit.seed(703858704)\n",
    "            _, _, _, y_true = train_test_split(X, y) # get test set\n",
    "        \n",
    "        \n",
    "        bias = np.mean(preds_mean - y_true)\n",
    "        var = np.mean(np.square(preds - preds_mean))\n",
    "#         plt.plot(1 / gr2.n_train_over_num_features.mean(), \n",
    "#                  gr2.test_mse.mean(), 'o')\n",
    "        \n",
    "        if 'linear' in model_type:\n",
    "            plt.subplot(R, C, 1)\n",
    "            plt.plot(ratio, bias**2 + var, 'o')\n",
    "            plt.xlabel('p / n')\n",
    "            plt.ylabel('test mse')    \n",
    "\n",
    "            plt.subplot(R, C, 2)\n",
    "            plt.plot(ratio, bias, 'o')\n",
    "            plt.xlabel('p / n')\n",
    "            plt.ylabel('bias')\n",
    "\n",
    "            plt.subplot(R, C, 3)\n",
    "            plt.plot(ratio, var, 'o')\n",
    "            plt.xlabel('p / n')\n",
    "            plt.ylabel('var')\n",
    "\n",
    "\n",
    "            plt.subplot(R, C, 4)\n",
    "            plt.plot(gr2.wnorm.mean(), bias**2 + var, 'o')\n",
    "            plt.xlabel('$||\\hat{w}||_2$')\n",
    "            plt.ylabel('test mse')\n",
    "\n",
    "            plt.subplot(R, C, 5)\n",
    "            plt.plot(gr2.H_trace.mean(), bias**2 + var, 'o')\n",
    "            plt.xlabel('$tr(H)$')\n",
    "            plt.ylabel('test mse')     \n",
    "            \n",
    "            plt.subplot(R, C, 6)\n",
    "#             plt.plot(ratio, gr2.wnorm.mean(), 'o')\n",
    "            plt.plot(ratio, gr2.train_mse.mean(), 'o')\n",
    "            plt.xlabel('p / n')     \n",
    "            plt.ylabel('train mse')\n",
    "#             plt.ylabel('$||\\hat{w}||_2$')\n",
    "\n",
    "\n",
    "            plt.subplot(R, C, 7)\n",
    "#             plt.plot(ratio, gr2.wnorm.mean(), 'o')\n",
    "            plt.plot(gr2.train_mse.mean(), gr2.test_mse.mean(), 'o')\n",
    "            plt.xlabel('train mse')     \n",
    "            plt.ylabel('test mse')\n",
    "        else:\n",
    "            plt.subplot(R, C, 1)\n",
    "            plt.plot(ratio, bias**2 + var, 'o')\n",
    "            plt.xlabel('p / n')\n",
    "            plt.ylabel('test mse')    \n",
    "\n",
    "            plt.subplot(R, C, 2)\n",
    "            plt.plot(ratio, bias, 'o')\n",
    "            plt.xlabel('p / n')\n",
    "            plt.ylabel('bias')\n",
    "\n",
    "            plt.subplot(R, C, 3)\n",
    "            plt.plot(ratio, var, 'o')\n",
    "            plt.xlabel('p / n')\n",
    "            plt.ylabel('var')            \n",
    "    \n",
    "    for i in range(1, R * C):\n",
    "        plt.subplot(R, C, i)\n",
    "        plt.xscale('log')\n",
    "        plt.yscale('log')\n",
    "    \n",
    "    s = f'{model_type}_{dset}_{dset_name}+p={num_features}+ridge={ridge_param}+noise_mult={noise_mult}'\n",
    "    plt.suptitle(s)\n",
    "    plt.tight_layout()\n",
    "    plt.savefig(oj(save_dir, s + '.pdf'))\n",
    "    plt.close()"
   ]
  },
  {
   "cell_type": "markdown",
   "metadata": {},
   "source": [
    "# rf vary params plots\n",
    "**here n_train is fixed and we vary only the rf params**"
   ]
  },
  {
   "cell_type": "code",
   "execution_count": 28,
   "metadata": {},
   "outputs": [
    {
     "name": "stderr",
     "output_type": "stream",
     "text": [
      "100%|██████████| 56/56 [00:10<00:00,  4.77it/s]\n"
     ]
    }
   ],
   "source": [
    "feats = ['dset', 'noise_mult', 'dset_num', 'model_type',\n",
    "         'n_test', 'test_mse', 'seed', 'preds_test', \n",
    "         'n_train', 'n_train_over_num_features', 'num_features']\n",
    "# feats = feats + ['wnorm', 'H_trace'] # for linear\n",
    "feats = feats + ['num_trees', 'max_depth'] # for rf\n",
    "r = results[feats]\n",
    "\n",
    "r2 = r.groupby(['dset', 'noise_mult', 'dset_num', 'model_type'])\n",
    "# plt.plot(r.num_features / r.n_train, np.log(r.test_mse), 'o')\n",
    "\n",
    "# loop over multiple seeds / curves\n",
    "\n",
    "for name, gr in r2:\n",
    "    curve = gr.groupby(['num_trees', 'max_depth'])\n",
    "    dset = gr.dset.values[0]\n",
    "    dset_num = gr.dset_num.values[0]\n",
    "    num_features = gr.num_features.values[0] # assume this was held constant (for each dset)\n",
    "    model_type = gr.model_type.values[0]\n",
    "    \n",
    "    \n",
    "    # loop over seeds and average / calculate bias stuff\n",
    "    # plt.figure(figsize=(C * 4, R * 4))\n",
    "    mses, biases, variances = {}, {}, {}\n",
    "    for curve_name, gr2 in tqdm(curve):\n",
    "        ratio = gr2.num_features.values[0] / gr2.n_train.values[0]        \n",
    "        preds = gr2.preds_test.values\n",
    "        preds = np.stack(preds) # num_seeds x n_test\n",
    "        preds_mean = preds.mean(axis=0).reshape(1, -1) # 1 x n_test\n",
    "        \n",
    "        if dset == 'gaussian':\n",
    "            dset_name = ''\n",
    "            _, y_true = data.get_data(gr2.n_test.values[0], num_features, # this assumes that num_features was held constant\n",
    "                                      noise_mult=0, seed=703858704)\n",
    "            y_true = y_true.reshape(1, -1) # 1 x n_test\n",
    "        elif dset == 'pmlb':\n",
    "            dset_name = regression_dsets_large_names[dset_num]\n",
    "            X, y = pmlb.fetch_data(dset_name, return_X_y=True)\n",
    "            fit.seed(703858704)\n",
    "            _, _, _, y_true = train_test_split(X, y) # get test set\n",
    "        \n",
    "        \n",
    "        bias = np.mean(preds_mean - y_true)\n",
    "        var = np.mean(np.square(preds - preds_mean))\n",
    "        mse = bias**2 + var\n",
    "        \n",
    "        num_trees = gr2.num_trees.values[0]\n",
    "        max_depth = gr2.max_depth.values[0]\n",
    "        mses[(num_trees, max_depth)] = mse\n",
    "        biases[(num_trees, max_depth)] = bias\n",
    "        variances[(num_trees, max_depth)] = var\n",
    "\n",
    "    widths = sorted(list(set(results['num_trees'])))\n",
    "    depths = sorted(list(set(results['max_depth'])))\n",
    "    \n",
    "    mse_arr = np.zeros((len(widths), len(depths)))\n",
    "    for key in mses:\n",
    "        width, depth = key\n",
    "        w_idx = (width==widths).nonzero()[0][0]\n",
    "        d_idx = (depth==depths).nonzero()[0][0]\n",
    "        mse_arr[w_idx, d_idx] = mses[key]\n",
    "\n",
    "    plt.imshow(mse_arr)\n",
    "    plt.xlabel('max depth')\n",
    "    plt.ylabel('num trees')\n",
    "    plt.title('test mse')\n",
    "    plt.colorbar()\n",
    "    plt.xticks(range(len(depths)), depths)\n",
    "    plt.yticks(range(len(widths)), widths)\n",
    "    \n",
    "    s = f'heatmap_{model_type}_{dset}_{dset_name}+p={num_features}'\n",
    "    plt.suptitle(s)\n",
    "    plt.tight_layout()\n",
    "    plt.savefig(oj(save_dir, s + '.pdf'))\n",
    "    plt.close()"
   ]
  },
  {
   "cell_type": "code",
   "execution_count": 31,
   "metadata": {},
   "outputs": [
    {
     "data": {
      "image/png": "[encoded data removed]",
      "text/plain": [
       "<Figure size 864x288 with 4 Axes>"
      ]
     },
     "metadata": {
      "needs_background": "light"
     },
     "output_type": "display_data"
    }
   ],
   "source": [
    "widths = sorted(list(set(results['num_trees'])))\n",
    "depths = sorted(list(set(results['max_depth'])))\n",
    "mse_arr = np.zeros((len(widths), len(depths)))\n",
    "bias_arr = np.zeros((len(widths), len(depths)))\n",
    "var_arr = np.zeros((len(widths), len(depths)))\n",
    "\n",
    "for key in mses:\n",
    "    width, depth = key\n",
    "    w_idx = (width==widths).nonzero()[0][0]\n",
    "    d_idx = (depth==depths).nonzero()[0][0]\n",
    "    mse_arr[w_idx, d_idx] = mses[key]\n",
    "    bias_arr[w_idx, d_idx] = biases[key]\n",
    "    var_arr[w_idx, d_idx] = variances[key]\n",
    "    \n",
    "R, C = 1, 3 \n",
    "plt.figure(figsize=(C * 4, R * 4))\n",
    "plt.subplot(R, C, 1)\n",
    "plt.imshow(mse_arr)\n",
    "plt.xlabel('max depth')\n",
    "plt.ylabel('num trees')\n",
    "plt.title('test mse')\n",
    "\n",
    "plt.subplot(R, C, 2)\n",
    "plt.imshow(bias_arr)\n",
    "plt.xlabel('max depth')\n",
    "plt.ylabel('num trees')\n",
    "plt.title('bias')\n",
    "\n",
    "plt.subplot(R, C, 3)\n",
    "plt.imshow(var_arr)\n",
    "plt.xlabel('max depth')\n",
    "plt.ylabel('num trees')\n",
    "plt.title('var')\n",
    "\n",
    "plt.colorbar()\n",
    "plt.xticks(range(len(depths)), depths)\n",
    "plt.yticks(range(len(widths)), widths)\n",
    "plt.savefig(oj(save_dir, 'rf_gaussian_sweep.pdf'))\n",
    "# plt.show()\n",
    "    \n",
    "# mses"
   ]
  },
  {
   "cell_type": "code",
   "execution_count": null,
   "metadata": {},
   "outputs": [],
   "source": []
  }
 ],
 "metadata": {
  "anaconda-cloud": {},
  "kernelspec": {
   "display_name": "Python 3",
   "language": "python",
   "name": "python3"
  },
  "language_info": {
   "codemirror_mode": {
    "name": "ipython",
    "version": 3
   },
   "file_extension": ".py",
   "mimetype": "text/x-python",
   "name": "python",
   "nbconvert_exporter": "python",
   "pygments_lexer": "ipython3",
   "version": "3.7.0"
  }
 },
 "nbformat": 4,
 "nbformat_minor": 4
}
