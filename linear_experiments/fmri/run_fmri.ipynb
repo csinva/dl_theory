{
 "cells": [
  {
   "cell_type": "code",
   "execution_count": 1,
   "metadata": {},
   "outputs": [],
   "source": [
    "import requests\n",
    "from tqdm import tqdm\n",
    "from os.path import join as oj\n",
    "import tables, numpy\n",
    "import matplotlib.pyplot as plt\n",
    "import numpy as np\n",
    "from scipy import ndimage as ndi\n",
    "from skimage import data\n",
    "import pickle as pkl\n",
    "from skimage.util import img_as_float\n",
    "from sklearn import metrics\n",
    "import h5py\n",
    "from copy import deepcopy\n",
    "from skimage.filters import gabor_kernel\n",
    "import gabor_feats\n",
    "from sklearn.linear_model import RidgeCV\n",
    "import seaborn as sns\n",
    "import numpy.linalg as npl\n",
    "out_dir = '/scratch/users/vision/data/gallant/vim_2_crcns'\n",
    "from run import *"
   ]
  },
  {
   "cell_type": "markdown",
   "metadata": {},
   "source": [
    "# download data"
   ]
  },
  {
   "cell_type": "code",
   "execution_count": 48,
   "metadata": {},
   "outputs": [],
   "source": [
    "def download(datafile, username, password, out_dir):\n",
    "    '''\n",
    "    Params\n",
    "    ------\n",
    "    datafile\n",
    "    '''\n",
    "    \n",
    "    URL = 'https://portal.nersc.gov/project/crcns/download/index.php'\n",
    "    login_data = dict(\n",
    "        username=username,\n",
    "        password=password,\n",
    "        fn=datafile,\n",
    "        submit='Login' \n",
    "    )\n",
    "\n",
    "    with requests.Session() as s:\n",
    "        local_filename = oj(out_dir, login_data['fn'].split('/')[-1])\n",
    "        print(local_filename)\n",
    "        r = s.post(URL, data=login_data, stream=True)\n",
    "        with open(local_filename, 'wb') as f:\n",
    "            for chunk in tqdm(r.iter_content(chunk_size=1024)):\n",
    "                if chunk:\n",
    "                    f.write(chunk)\n",
    "                    \n",
    "uname = 'csinva'\n",
    "pwd = 'password'\n",
    "dset = 'vim-2'\n",
    "fnames = ['Stimuli.tar.gz', 'VoxelResponses_subject1.tar.gz', 'anatomy.zip', 'checksums.md5', 'filelist.txt', 'docs']\n",
    "for fname in fnames:\n",
    "    fname = oj(dset, fname)\n",
    "#     download(fname, uname, pwd, out_dir)"
   ]
  },
  {
   "cell_type": "code",
   "execution_count": 49,
   "metadata": {},
   "outputs": [
    {
     "name": "stdout",
     "output_type": "stream",
     "text": [
      "anatomy.zip    docs          Stimuli.mat     VoxelResponses_subject1.mat\n",
      "checksums.md5  filelist.txt  Stimuli.tar.gz  VoxelResponses_subject1.tar.gz\n"
     ]
    }
   ],
   "source": [
    "ls /scratch/users/vision/data/gallant/vim_2_crcns"
   ]
  },
  {
   "cell_type": "code",
   "execution_count": 23,
   "metadata": {},
   "outputs": [
    {
     "name": "stdout",
     "output_type": "stream",
     "text": [
      "6.9G\t/scratch/users/vision/data/gallant/vim_2_crcns\n"
     ]
    }
   ],
   "source": [
    "!du -sh /scratch/users/vision/data/gallant/vim_2_crcns\n",
    "# next extract the tars\n",
    "# next unzip the zips"
   ]
  },
  {
   "cell_type": "code",
   "execution_count": 27,
   "metadata": {},
   "outputs": [],
   "source": [
    "!ls /scratch/users/vision/data/gallant/vim_2_crcns/*.gz |xargs -n1 tar -xzf # extract the tar files"
   ]
  },
  {
   "cell_type": "markdown",
   "metadata": {},
   "source": [
    "# view responses"
   ]
  },
  {
   "cell_type": "code",
   "execution_count": null,
   "metadata": {},
   "outputs": [],
   "source": [
    "f = tables.open_file(oj(out_dir, 'VoxelResponses_subject1.mat'))\n",
    "# f.listNodes # Show all variables available\n",
    "data = f.get_node('/rt')[:] # training responses: 7200 (timepoints) x 73728\n",
    "# plt.imshow(np.isnan(data))\n",
    "roi = f.get_node('/roi/v1lh')[:].flatten() # structure containing volume matrices (64x64x18) with indices corresponding to each roi in each hemisphere\n",
    "v1lh_idx = numpy.nonzero(roi==1)[0]\n",
    "v1lh_resp = data[v1lh_idx]"
   ]
  },
  {
   "cell_type": "code",
   "execution_count": null,
   "metadata": {},
   "outputs": [],
   "source": [
    "f2 = tables.open_file(oj(out_dir, 'Stimuli.mat'))\n",
    "im = f2.get_node('/st')[100].transpose()\n",
    "plt.imshow(im)"
   ]
  },
  {
   "cell_type": "code",
   "execution_count": 134,
   "metadata": {},
   "outputs": [
    {
     "data": {
      "text/plain": [
       "['/roi/FFAlh', '(EArray(18,', '64,', '64),', 'zlib(3))', \"''\"]"
      ]
     },
     "execution_count": 134,
     "metadata": {},
     "output_type": "execute_result"
    }
   ],
   "source": [
    "str(xs[0]).split(' ')[0]"
   ]
  },
  {
   "cell_type": "code",
   "execution_count": 168,
   "metadata": {},
   "outputs": [
    {
     "name": "stdout",
     "output_type": "stream",
     "text": [
      "[\"/roi/FFAlh (EArray(18, 64, 64), zlib(3)) ''\", \"/roi/FFArh (EArray(18, 64, 64), zlib(3)) ''\", \"/roi/IPlh (EArray(18, 64, 64), zlib(3)) ''\", \"/roi/IPrh (EArray(18, 64, 64), zlib(3)) ''\", \"/roi/MTlh (EArray(18, 64, 64), zlib(3)) ''\", \"/roi/MTplh (EArray(18, 64, 64), zlib(3)) ''\", \"/roi/MTprh (EArray(18, 64, 64), zlib(3)) ''\", \"/roi/MTrh (EArray(18, 64, 64), zlib(3)) ''\", \"/roi/OBJlh (EArray(18, 64, 64), zlib(3)) ''\", \"/roi/OBJrh (EArray(18, 64, 64), zlib(3)) ''\", \"/roi/PPAlh (EArray(18, 64, 64), zlib(3)) ''\", \"/roi/PPArh (EArray(18, 64, 64), zlib(3)) ''\", \"/roi/RSCrh (EArray(18, 64, 64), zlib(3)) ''\", \"/roi/STSrh (EArray(18, 64, 64), zlib(3)) ''\", \"/roi/VOlh (EArray(18, 64, 64), zlib(3)) ''\", \"/roi/VOrh (EArray(18, 64, 64), zlib(3)) ''\", \"/roi/latocclh (EArray(18, 64, 64), zlib(3)) ''\", \"/roi/latoccrh (EArray(18, 64, 64), zlib(3)) ''\", \"/roi/v1lh (EArray(18, 64, 64), zlib(3)) ''\", \"/roi/v1rh (EArray(18, 64, 64), zlib(3)) ''\", \"/roi/v2lh (EArray(18, 64, 64), zlib(3)) ''\", \"/roi/v2rh (EArray(18, 64, 64), zlib(3)) ''\", \"/roi/v3alh (EArray(18, 64, 64), zlib(3)) ''\", \"/roi/v3arh (EArray(18, 64, 64), zlib(3)) ''\", \"/roi/v3blh (EArray(18, 64, 64), zlib(3)) ''\", \"/roi/v3brh (EArray(18, 64, 64), zlib(3)) ''\", \"/roi/v3lh (EArray(18, 64, 64), zlib(3)) ''\", \"/roi/v3rh (EArray(18, 64, 64), zlib(3)) ''\", \"/roi/v4lh (EArray(18, 64, 64), zlib(3)) ''\", \"/roi/v4rh (EArray(18, 64, 64), zlib(3)) ''\"]\n"
     ]
    }
   ],
   "source": [
    "f = tables.open_file(oj(out_dir, 'VoxelResponses_subject1.mat'))\n",
    "xs = []\n",
    "nums = []\n",
    "for x in f.get_node('/roi'):\n",
    "    xs.append(x)\n",
    "    nums.append(np.array(f.get_node(x)).nonzero()[0].sum())\n",
    "# sns.barplot(x=x, y=nums)\n",
    "print([str(x) for x in xs])"
   ]
  },
  {
   "cell_type": "code",
   "execution_count": 15,
   "metadata": {},
   "outputs": [
    {
     "name": "stderr",
     "output_type": "stream",
     "text": [
      "/accounts/projects/vision/.local/lib/python3.7/site-packages/numpy/lib/nanfunctions.py:1628: RuntimeWarning: Degrees of freedom <= 0 for slice.\n",
      "  keepdims=keepdims)\n",
      "/accounts/projects/vision/.local/lib/python3.7/site-packages/ipykernel_launcher.py:4: RuntimeWarning: Mean of empty slice\n",
      "  after removing the cwd from sys.path.\n"
     ]
    }
   ],
   "source": [
    "# calculate standard deviations\n",
    "f = tables.open_file(oj(out_dir, 'VoxelResponses_subject1.mat'))\n",
    "rva = np.array(f.get_node('/rva')[:]) # 73728 (voxels) x 10 (trials) x 540 (timepoints)\n",
    "sigmas = np.nanmean(np.nanstd(rva, axis=1), axis=-1)\n",
    "out_name = oj(out_dir, f'out_rva_sigmas.h5')\n",
    "save_h5(sigmas, out_name)"
   ]
  },
  {
   "cell_type": "markdown",
   "metadata": {},
   "source": [
    "# view images"
   ]
  },
  {
   "cell_type": "code",
   "execution_count": 160,
   "metadata": {},
   "outputs": [],
   "source": [
    "SAMPLING_FREQ = 15\n",
    "DOWNSAMPLE = 2\n",
    "N_TRAIN = 7200\n",
    "N_TEST = 540\n",
    "OFFSET = SAMPLING_FREQ // 2\n",
    "NUM_FEATS = 1280"
   ]
  },
  {
   "cell_type": "code",
   "execution_count": null,
   "metadata": {},
   "outputs": [],
   "source": [
    "# find the relevant stimuli\n",
    "for dset, N in zip(['sv'], [N_TEST]): # 'st', 'sv'\n",
    "    f2 = tables.open_file(oj(out_dir, 'Stimuli.mat'))\n",
    "    ims = np.zeros((N, 128 // DOWNSAMPLE, 128 // DOWNSAMPLE)).astype(np.int)\n",
    "    for i in tqdm(range(N)):\n",
    "        ims[i] = deepcopy(f2.get_node(f'/{dset}')[OFFSET + i * SAMPLING_FREQ].transpose())[::DOWNSAMPLE, ::DOWNSAMPLE].mean(axis=-1)\n",
    "\n",
    "    out_name = oj(out_dir, f'out_{dset}.h5')\n",
    "    save_h5(ims, out_name)"
   ]
  },
  {
   "cell_type": "code",
   "execution_count": null,
   "metadata": {},
   "outputs": [],
   "source": [
    "# convert stimuli to feature vectors\n",
    "for dset, N in zip(['sv'], [N_TEST]): # 'st', 'sv'\n",
    "    f = h5py.File(oj(out_dir, f'out_{dset}.h5'), 'r')\n",
    "    feats = np.zeros((N, NUM_FEATS))\n",
    "    for i in tqdm(range(N)):\n",
    "        feats[i] = gabor_feats.all_feats(deepcopy(f['data'][i]))\n",
    "\n",
    "    out_name = oj(out_dir, f'out_{dset}_feats.h5')\n",
    "    save_h5(feats, out_name)"
   ]
  },
  {
   "cell_type": "code",
   "execution_count": 10,
   "metadata": {},
   "outputs": [
    {
     "data": {
      "text/plain": [
       "\"\\nsuffix = '' # _feats\\nX = np.array(h5py.File(oj(out_dir, f'out_st{suffix}.h5'), 'r')['data'])\\nX = X.reshape(X.shape[0], -1)\\nU, s, Vh = npl.svd(X)\\nsave_pkl((U, s, Vh), oj(out_dir, f'decomp{suffix}.pkl'))\\n\""
      ]
     },
     "execution_count": 10,
     "metadata": {},
     "output_type": "execute_result"
    }
   ],
   "source": [
    "# decompose the training data\n",
    "'''\n",
    "suffix = '' # _feats\n",
    "X = np.array(h5py.File(oj(out_dir, f'out_st{suffix}.h5'), 'r')['data'])\n",
    "X = X.reshape(X.shape[0], -1)\n",
    "U, s, Vh = npl.svd(X)\n",
    "save_pkl((U, s, Vh), oj(out_dir, f'decomp{suffix}.pkl'))\n",
    "'''"
   ]
  },
  {
   "cell_type": "code",
   "execution_count": 10,
   "metadata": {},
   "outputs": [
    {
     "name": "stdout",
     "output_type": "stream",
     "text": [
      "loading data...\n"
     ]
    }
   ],
   "source": [
    "# fit linear models\n",
    "suffix = '_feats' # _feats, '' for pixels\n",
    "rois = ['v1lh', 'v1rh', 'v2lh', 'v2rh', 'v4lh', 'v4rh']\n",
    "NUM = 10\n",
    "save_dir = '/scratch/users/vision/data/gallant/vim_2_crcns/feats1'\n",
    "feats_name = oj(out_dir, f'out_st{suffix}.h5')\n",
    "feats_test_name = oj(out_dir, f'out_sv{suffix}.h5')\n",
    "resps_name = oj(out_dir, 'VoxelResponses_subject1.mat')\n",
    "\n",
    "\n",
    "print('loading data...')\n",
    "X = np.array(h5py.File(feats_name, 'r')['data'])\n",
    "X = X.reshape(X.shape[0], -1)\n",
    "Y = np.array(tables.open_file(resps_name).get_node('/rt')[:]) # training responses: 73728 (voxels) x 7200 (timepoints)\n",
    "X_test = np.array(h5py.File(feats_test_name, 'r')['data'])\n",
    "X_test = X_test.reshape(X_test.shape[0], -1)\n",
    "Y_test = np.array(tables.open_file(resps_name).get_node('/rv')[:]) # training responses: 73728 (voxels) x 7200 (timepoints)\n",
    "sigmas = load_h5(oj(out_dir, f'out_rva_sigmas.h5'))\n",
    "(U, s, Vh) = pkl.load(open(oj(out_dir, f'decomp{suffix}.pkl'), 'rb'))"
   ]
  },
  {
   "cell_type": "code",
   "execution_count": 11,
   "metadata": {},
   "outputs": [
    {
     "data": {
      "text/plain": [
       "0"
      ]
     },
     "execution_count": 11,
     "metadata": {},
     "output_type": "execute_result"
    }
   ],
   "source": [
    "np.isnan(U).sum()"
   ]
  },
  {
   "cell_type": "code",
   "execution_count": 12,
   "metadata": {},
   "outputs": [
    {
     "data": {
      "text/plain": [
       "1.0"
      ]
     },
     "execution_count": 12,
     "metadata": {},
     "output_type": "execute_result"
    }
   ],
   "source": [
    "np.max(U)"
   ]
  },
  {
   "cell_type": "code",
   "execution_count": 13,
   "metadata": {},
   "outputs": [
    {
     "data": {
      "text/plain": [
       "-0.23158069795429415"
      ]
     },
     "execution_count": 13,
     "metadata": {},
     "output_type": "execute_result"
    }
   ],
   "source": [
    "np.min(U)"
   ]
  },
  {
   "cell_type": "code",
   "execution_count": null,
   "metadata": {},
   "outputs": [],
   "source": [
    "# actually run\n",
    "os.makedirs(save_dir, exist_ok=True)\n",
    "f = tables.open_file(oj(out_dir, 'VoxelResponses_subject1.mat'), 'r')\n",
    "for roi in rois:\n",
    "    roi_idxs = f.get_node(f'/roi/{roi}')[:].flatten().nonzero()[0] # structure containing volume matrices (64x64x18) with indices corresponding to each roi in each hemisphere\n",
    "#         print(roi, roi_idxs.size)\n",
    "    roi_idxs = roi_idxs[:NUM]\n",
    "    results = {}\n",
    "\n",
    "    for i in tqdm(roi_idxs):\n",
    "        y = Y[i]\n",
    "        y_test = Y_test[i]\n",
    "        w = U.T @ y\n",
    "\n",
    "        sigma = sigmas[i]\n",
    "        var = sigma**2\n",
    "\n",
    "        n = np.sum(~np.isnan(y))\n",
    "        num_test = np.sum(~np.isnan(y_test))\n",
    "        d = X.shape[1]\n",
    "        d_n_min = min(n, d)\n",
    "        if n == y.size and num_test == y_test.size: # ignore voxels w/ missing vals\n",
    "            print('w has nan', np.isnan(w).sum())\n",
    "            m = RidgeCV(alphas=[6, 10, 25, 50, 100])\n",
    "            m.fit(X, y)\n",
    "            preds = m.predict(X_test)\n",
    "            mse = metrics.mean_squared_error(y_test, preds)\n",
    "            r2 = metrics.r2_score(y_test, preds)\n",
    "            corr = np.corrcoef(y_test, preds)[0, 1]\n",
    "            # print('w', w, npl.norm(w))\n",
    "            term1 = 0.5 * (npl.norm(y) ** 2 - npl.norm(w) ** 2) / var\n",
    "            term2 = 0.5 * np.sum([np.log(1 + w[i]**2 / var) for i in range(d_n_min)])\n",
    "            complexity1 = term1 + term2\n",
    "            print('term1', term1, 'term2', term2) #, 'alpha', m.alpha_)\n",
    "\n",
    "            idxs = np.abs(w) > sigma\n",
    "            term3 = 0.5 * np.sum([np.log(1 + w[i]**2 / var) for i in np.arange(n)[idxs]])\n",
    "            term4 = 0.5 * np.sum([w[i]**2 / var for i in np.arange(n)[~idxs]])\n",
    "            complexity2 = term1 + term3 + term4\n",
    "\n",
    "            results = {\n",
    "                'roi': roi,\n",
    "                'model': m,\n",
    "                'term1': term1,\n",
    "                'term2': term2,\n",
    "                'term3': term3,\n",
    "                'term4': term4,\n",
    "                'complexity1': complexity1,\n",
    "                'complexity2': complexity2,\n",
    "                'num_train': n,\n",
    "                'num_test': num_test,\n",
    "                'd': d,\n",
    "                'mse': mse,                \n",
    "                'r2': r2,\n",
    "                'corr': corr\n",
    "            }\n",
    "            pkl.dump(results, open(oj(save_dir, f'ridge_{i}.pkl'), 'wb'))"
   ]
  },
  {
   "cell_type": "code",
   "execution_count": 3,
   "metadata": {},
   "outputs": [
    {
     "data": {
      "text/plain": [
       "(7200, 7200)"
      ]
     },
     "execution_count": 3,
     "metadata": {},
     "output_type": "execute_result"
    }
   ],
   "source": [
    "U.shape"
   ]
  },
  {
   "cell_type": "code",
   "execution_count": null,
   "metadata": {},
   "outputs": [],
   "source": [
    "for i in range(U.shape[0]):\n",
    "    print(np.linalg.norm(U[i]))"
   ]
  },
  {
   "cell_type": "code",
   "execution_count": 7,
   "metadata": {},
   "outputs": [
    {
     "data": {
      "text/plain": [
       "0.02085533674759077"
      ]
     },
     "execution_count": 7,
     "metadata": {},
     "output_type": "execute_result"
    }
   ],
   "source": [
    "var"
   ]
  },
  {
   "cell_type": "code",
   "execution_count": 9,
   "metadata": {},
   "outputs": [
    {
     "name": "stdout",
     "output_type": "stream",
     "text": [
      "w [ 0.2929799   1.37100595 -1.57911986 ... -1.03751737  1.30191682\n",
      "  0.27016271] 84.83333079080593\n",
      "term1 -0.010347162671320824 term2 6051.0455633117635 term3 10484.672144762035 term4 133.0504771636347\n"
     ]
    }
   ],
   "source": [
    "print('w', w, npl.norm(w))\n",
    "term1 = 0.5 * (npl.norm(y) ** 2 - npl.norm(w) ** 2) / var\n",
    "term2 = 0.5 * np.sum([np.log(1 + w[i]**2 / var) for i in range(d_n_min)])\n",
    "complexity1 = term1 + term2\n",
    "\n",
    "idxs = np.abs(w) > sigma\n",
    "term3 = 0.5 * np.sum([np.log(1 + w[i]**2 / var) for i in np.arange(n)[idxs]])\n",
    "term4 = 0.5 * np.sum([w[i]**2 / var for i in np.arange(n)[~idxs]])\n",
    "print('term1', term1, 'term2', term2, 'term3', term3, 'term4', term4) #, 'alpha', m.alpha_)\n",
    "\n",
    "complexity2 = term1 + term3 + term4"
   ]
  },
  {
   "cell_type": "code",
   "execution_count": null,
   "metadata": {},
   "outputs": [],
   "source": [
    "np"
   ]
  }
 ],
 "metadata": {
  "kernelspec": {
   "display_name": "Python 3",
   "language": "python",
   "name": "python3"
  },
  "language_info": {
   "codemirror_mode": {
    "name": "ipython",
    "version": 3
   },
   "file_extension": ".py",
   "mimetype": "text/x-python",
   "name": "python",
   "nbconvert_exporter": "python",
   "pygments_lexer": "ipython3",
   "version": "3.7.5"
  }
 },
 "nbformat": 4,
 "nbformat_minor": 4
}
