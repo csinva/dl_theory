{
 "cells": [
  {
   "cell_type": "code",
   "execution_count": 27,
   "metadata": {},
   "outputs": [],
   "source": [
    "import requests\n",
    "from tqdm import tqdm\n",
    "from os.path import join as oj\n",
    "import tables, numpy\n",
    "import matplotlib.pyplot as plt\n",
    "import numpy as np\n",
    "from scipy import ndimage as ndi\n",
    "from skimage import data\n",
    "import pickle as pkl\n",
    "from skimage.util import img_as_float\n",
    "from sklearn import metrics\n",
    "import h5py\n",
    "from copy import deepcopy\n",
    "from skimage.filters import gabor_kernel\n",
    "import gabor_feats\n",
    "from sklearn.linear_model import RidgeCV\n",
    "import seaborn as sns\n",
    "import numpy.linalg as npl\n",
    "out_dir = '/scratch/users/vision/data/gallant/vim_2_crcns'\n",
    "\n",
    "def save_h5(data, fname):\n",
    "    if os.path.exists(fname):\n",
    "        os.remove(fname)\n",
    "    f = h5py.File(fname, 'w')\n",
    "    f['data'] = data\n",
    "    f.close()    \n",
    "\n",
    "def load_h5(fname):\n",
    "    f = h5py.File(fname, 'r')\n",
    "    return np.array(f['data'])\n",
    "\n",
    "def save_pkl(d, fname):\n",
    "    if os.path.exists(fname):\n",
    "        os.remove(fname)\n",
    "    pkl.dump(d, open(fname, 'wb'))"
   ]
  },
  {
   "cell_type": "markdown",
   "metadata": {},
   "source": [
    "# download data"
   ]
  },
  {
   "cell_type": "code",
   "execution_count": 48,
   "metadata": {},
   "outputs": [],
   "source": [
    "def download(datafile, username, password, out_dir):\n",
    "    '''\n",
    "    Params\n",
    "    ------\n",
    "    datafile\n",
    "    '''\n",
    "    \n",
    "    URL = 'https://portal.nersc.gov/project/crcns/download/index.php'\n",
    "    login_data = dict(\n",
    "        username=username,\n",
    "        password=password,\n",
    "        fn=datafile,\n",
    "        submit='Login' \n",
    "    )\n",
    "\n",
    "    with requests.Session() as s:\n",
    "        local_filename = oj(out_dir, login_data['fn'].split('/')[-1])\n",
    "        print(local_filename)\n",
    "        r = s.post(URL, data=login_data, stream=True)\n",
    "        with open(local_filename, 'wb') as f:\n",
    "            for chunk in tqdm(r.iter_content(chunk_size=1024)):\n",
    "                if chunk:\n",
    "                    f.write(chunk)\n",
    "                    \n",
    "uname = 'csinva'\n",
    "pwd = 'password'\n",
    "dset = 'vim-2'\n",
    "fnames = ['Stimuli.tar.gz', 'VoxelResponses_subject1.tar.gz', 'anatomy.zip', 'checksums.md5', 'filelist.txt', 'docs']\n",
    "for fname in fnames:\n",
    "    fname = oj(dset, fname)\n",
    "#     download(fname, uname, pwd, out_dir)"
   ]
  },
  {
   "cell_type": "code",
   "execution_count": 49,
   "metadata": {},
   "outputs": [
    {
     "name": "stdout",
     "output_type": "stream",
     "text": [
      "anatomy.zip    docs          Stimuli.mat     VoxelResponses_subject1.mat\n",
      "checksums.md5  filelist.txt  Stimuli.tar.gz  VoxelResponses_subject1.tar.gz\n"
     ]
    }
   ],
   "source": [
    "ls /scratch/users/vision/data/gallant/vim_2_crcns"
   ]
  },
  {
   "cell_type": "code",
   "execution_count": 23,
   "metadata": {},
   "outputs": [
    {
     "name": "stdout",
     "output_type": "stream",
     "text": [
      "6.9G\t/scratch/users/vision/data/gallant/vim_2_crcns\n"
     ]
    }
   ],
   "source": [
    "!du -sh /scratch/users/vision/data/gallant/vim_2_crcns\n",
    "# next extract the tars\n",
    "# next unzip the zips"
   ]
  },
  {
   "cell_type": "code",
   "execution_count": 27,
   "metadata": {},
   "outputs": [],
   "source": [
    "!ls /scratch/users/vision/data/gallant/vim_2_crcns/*.gz |xargs -n1 tar -xzf # extract the tar files"
   ]
  },
  {
   "cell_type": "markdown",
   "metadata": {},
   "source": [
    "# view responses"
   ]
  },
  {
   "cell_type": "code",
   "execution_count": null,
   "metadata": {},
   "outputs": [],
   "source": [
    "f = tables.open_file(oj(out_dir, 'VoxelResponses_subject1.mat'))\n",
    "# f.listNodes # Show all variables available\n",
    "data = f.get_node('/rt')[:] # training responses: 7200 (timepoints) x 73728\n",
    "roi = f.get_node('/roi/v1lh')[:].flatten() # structure containing volume matrices (64x64x18) with indices corresponding to each roi in each hemisphere\n",
    "v1lh_idx = numpy.nonzero(roi==1)[0]\n",
    "v1lh_resp = data[v1lh_idx]"
   ]
  },
  {
   "cell_type": "code",
   "execution_count": null,
   "metadata": {},
   "outputs": [],
   "source": [
    "f2 = tables.open_file(oj(out_dir, 'Stimuli.mat'))\n",
    "im = f2.get_node('/st')[100].transpose()\n",
    "plt.imshow(im)"
   ]
  },
  {
   "cell_type": "code",
   "execution_count": 134,
   "metadata": {},
   "outputs": [
    {
     "data": {
      "text/plain": [
       "['/roi/FFAlh', '(EArray(18,', '64,', '64),', 'zlib(3))', \"''\"]"
      ]
     },
     "execution_count": 134,
     "metadata": {},
     "output_type": "execute_result"
    }
   ],
   "source": [
    "str(xs[0]).split(' ')[0]"
   ]
  },
  {
   "cell_type": "code",
   "execution_count": 168,
   "metadata": {},
   "outputs": [
    {
     "name": "stdout",
     "output_type": "stream",
     "text": [
      "[\"/roi/FFAlh (EArray(18, 64, 64), zlib(3)) ''\", \"/roi/FFArh (EArray(18, 64, 64), zlib(3)) ''\", \"/roi/IPlh (EArray(18, 64, 64), zlib(3)) ''\", \"/roi/IPrh (EArray(18, 64, 64), zlib(3)) ''\", \"/roi/MTlh (EArray(18, 64, 64), zlib(3)) ''\", \"/roi/MTplh (EArray(18, 64, 64), zlib(3)) ''\", \"/roi/MTprh (EArray(18, 64, 64), zlib(3)) ''\", \"/roi/MTrh (EArray(18, 64, 64), zlib(3)) ''\", \"/roi/OBJlh (EArray(18, 64, 64), zlib(3)) ''\", \"/roi/OBJrh (EArray(18, 64, 64), zlib(3)) ''\", \"/roi/PPAlh (EArray(18, 64, 64), zlib(3)) ''\", \"/roi/PPArh (EArray(18, 64, 64), zlib(3)) ''\", \"/roi/RSCrh (EArray(18, 64, 64), zlib(3)) ''\", \"/roi/STSrh (EArray(18, 64, 64), zlib(3)) ''\", \"/roi/VOlh (EArray(18, 64, 64), zlib(3)) ''\", \"/roi/VOrh (EArray(18, 64, 64), zlib(3)) ''\", \"/roi/latocclh (EArray(18, 64, 64), zlib(3)) ''\", \"/roi/latoccrh (EArray(18, 64, 64), zlib(3)) ''\", \"/roi/v1lh (EArray(18, 64, 64), zlib(3)) ''\", \"/roi/v1rh (EArray(18, 64, 64), zlib(3)) ''\", \"/roi/v2lh (EArray(18, 64, 64), zlib(3)) ''\", \"/roi/v2rh (EArray(18, 64, 64), zlib(3)) ''\", \"/roi/v3alh (EArray(18, 64, 64), zlib(3)) ''\", \"/roi/v3arh (EArray(18, 64, 64), zlib(3)) ''\", \"/roi/v3blh (EArray(18, 64, 64), zlib(3)) ''\", \"/roi/v3brh (EArray(18, 64, 64), zlib(3)) ''\", \"/roi/v3lh (EArray(18, 64, 64), zlib(3)) ''\", \"/roi/v3rh (EArray(18, 64, 64), zlib(3)) ''\", \"/roi/v4lh (EArray(18, 64, 64), zlib(3)) ''\", \"/roi/v4rh (EArray(18, 64, 64), zlib(3)) ''\"]\n"
     ]
    }
   ],
   "source": [
    "f = tables.open_file(oj(out_dir, 'VoxelResponses_subject1.mat'))\n",
    "xs = []\n",
    "nums = []\n",
    "for x in f.get_node('/roi'):\n",
    "    xs.append(x)\n",
    "    nums.append(np.array(f.get_node(x)).nonzero()[0].sum())\n",
    "# sns.barplot(x=x, y=nums)\n",
    "print([str(x) for x in xs])"
   ]
  },
  {
   "cell_type": "code",
   "execution_count": 7,
   "metadata": {},
   "outputs": [],
   "source": [
    "# calculate sds\n",
    "f = tables.open_file(oj(out_dir, 'VoxelResponses_subject1.mat'))\n",
    "rva = np.array(f.get_node('/rva')[:]) # 73728 (voxels) x 10 (trials) x 540 (timepoints)\n",
    "sigmas = rva.std(axis=1).mean(axis=-1)\n",
    "out_name = oj(out_dir, f'out_rva_sigmas.h5')\n",
    "save_h5(sigmas, out_name)"
   ]
  },
  {
   "cell_type": "markdown",
   "metadata": {},
   "source": [
    "# view images"
   ]
  },
  {
   "cell_type": "code",
   "execution_count": 160,
   "metadata": {},
   "outputs": [],
   "source": [
    "SAMPLING_FREQ = 15\n",
    "DOWNSAMPLE = 2\n",
    "N_TRAIN = 7200\n",
    "N_TEST = 540\n",
    "OFFSET = SAMPLING_FREQ // 2\n",
    "NUM_FEATS = 1280"
   ]
  },
  {
   "cell_type": "code",
   "execution_count": null,
   "metadata": {},
   "outputs": [],
   "source": [
    "# find the relevant stimuli\n",
    "for dset, N in zip(['sv'], [N_TEST]): # 'st', 'sv'\n",
    "    f2 = tables.open_file(oj(out_dir, 'Stimuli.mat'))\n",
    "    ims = np.zeros((N, 128 // DOWNSAMPLE, 128 // DOWNSAMPLE)).astype(np.int)\n",
    "    for i in tqdm(range(N)):\n",
    "        ims[i] = deepcopy(f2.get_node(f'/{dset}')[OFFSET + i * SAMPLING_FREQ].transpose())[::DOWNSAMPLE, ::DOWNSAMPLE].mean(axis=-1)\n",
    "\n",
    "    out_name = oj(out_dir, f'out_{dset}.h5')\n",
    "    save_h5(ims, out_name)"
   ]
  },
  {
   "cell_type": "code",
   "execution_count": null,
   "metadata": {},
   "outputs": [],
   "source": [
    "# convert stimuli to feature vectors\n",
    "for dset, N in zip(['sv'], [N_TEST]): # 'st', 'sv'\n",
    "    f = h5py.File(oj(out_dir, f'out_{dset}.h5'), 'r')\n",
    "    feats = np.zeros((N, NUM_FEATS))\n",
    "    for i in tqdm(range(N)):\n",
    "        feats[i] = gabor_feats.all_feats(deepcopy(f['data'][i]))\n",
    "\n",
    "    out_name = oj(out_dir, f'out_{dset}_feats.h5')\n",
    "    save_h5(feats, out_name)"
   ]
  },
  {
   "cell_type": "code",
   "execution_count": null,
   "metadata": {},
   "outputs": [],
   "source": [
    "# decompose the training data\n",
    "X = np.array(h5py.File(oj(out_dir, 'out_st_feats.h5'), 'r')['data'])\n",
    "U, s, Vh = npl.svd(X)\n",
    "decomp = {\n",
    "    'U': U,\n",
    "    's': s,\n",
    "    'Vh': Vh\n",
    "}\n",
    "save_pkl((U, s, Vh), oj(out_dir, 'decomp.pkl'))"
   ]
  },
  {
   "cell_type": "code",
   "execution_count": 34,
   "metadata": {},
   "outputs": [
    {
     "data": {
      "text/plain": [
       "(7200, 7200)"
      ]
     },
     "execution_count": 34,
     "metadata": {},
     "output_type": "execute_result"
    }
   ],
   "source": [
    "U.shape"
   ]
  },
  {
   "cell_type": "code",
   "execution_count": 35,
   "metadata": {},
   "outputs": [
    {
     "data": {
      "text/plain": [
       "(1280, 1280)"
      ]
     },
     "execution_count": 35,
     "metadata": {},
     "output_type": "execute_result"
    }
   ],
   "source": [
    "Vh.shape"
   ]
  },
  {
   "cell_type": "code",
   "execution_count": null,
   "metadata": {},
   "outputs": [],
   "source": [
    "# fit linear models\n",
    "feats_name = oj(out_dir, 'out_st_feats.h5')\n",
    "feats_test_name = oj(out_dir, 'out_sv_feats.h5')\n",
    "resps_name = oj(out_dir, 'VoxelResponses_subject1.mat')\n",
    "X = np.array(h5py.File(feats_name, 'r')['data'])\n",
    "Y = np.array(tables.open_file(resps_name).get_node('/rt')[:]) # training responses: 73728 (voxels) x 7200 (timepoints)\n",
    "X_test = np.array(h5py.File(feats_test_name, 'r')['data'])\n",
    "Y_test = np.array(tables.open_file(resps_name).get_node('/rv')[:]) # training responses: 73728 (voxels) x 7200 (timepoints)\n",
    "sigmas = load_h5(oj(out_dir, f'out_rva_sigmas.h5'))\n",
    "(U, s, Vh) = pkl.load(open(oj(out_dir, 'decomp.pkl'), 'rb'))\n",
    "# plt.imshow(np.isnan(Y))"
   ]
  },
  {
   "cell_type": "code",
   "execution_count": null,
   "metadata": {},
   "outputs": [
    {
     "name": "stderr",
     "output_type": "stream",
     "text": [
      "\n",
      "  0%|          | 0/100 [00:00<?, ?it/s]\u001b[A"
     ]
    },
    {
     "name": "stdout",
     "output_type": "stream",
     "text": [
      "v1lh 494\n"
     ]
    },
    {
     "name": "stderr",
     "output_type": "stream",
     "text": [
      "\n",
      "  1%|          | 1/100 [00:00<00:19,  5.20it/s]\u001b[A\n",
      "  2%|▏         | 2/100 [00:00<00:16,  6.05it/s]\u001b[A"
     ]
    }
   ],
   "source": [
    "rois = ['v1lh', 'v1rh', 'v2lh', 'v2rh', 'v4lh', 'v4rh']\n",
    "NUM = 100\n",
    "save_dir = '/scratch/users/vision/data/gallant/vim_2_crcns/visual2'\n",
    "os.makedirs(save_dir, exist_ok=True)\n",
    "f = tables.open_file(oj(out_dir, 'VoxelResponses_subject1.mat'), 'r')\n",
    "for roi in rois:\n",
    "    roi_idxs = f.get_node(f'/roi/{roi}')[:].flatten().nonzero()[0] # structure containing volume matrices (64x64x18) with indices corresponding to each roi in each hemisphere\n",
    "    print(roi, roi_idxs.size)\n",
    "    roi_idxs = roi_idxs[:NUM]\n",
    "    results = {}\n",
    "    \n",
    "    for i in tqdm(roi_idxs):\n",
    "        y = Y[i]\n",
    "        sigma = sigmas[i]\n",
    "        var = sigma**2\n",
    "        w = U.T @ y\n",
    "        y_test = Y_test[i]\n",
    "        idxs_cv = ~np.isnan(y)\n",
    "        idxs_test = ~np.isnan(y_test)\n",
    "        n = np.sum(idxs_cv)\n",
    "        num_test = np.sum(idxs_test)\n",
    "        d = X.shape[1]\n",
    "        d_n_min = min(n, d)\n",
    "        if n == y.size and num_test == y_test.size: # ignore voxels w/ missing vals\n",
    "#             y = y[idxs_cv]\n",
    "#             x = X[idxs_cv]\n",
    "#             x_test = X_test[idxs_test]\n",
    "#             y_test = y_test[idxs_test]\n",
    "\n",
    "            m = RidgeCV()\n",
    "            m.fit(X, y)\n",
    "            preds = m.predict(X_test)\n",
    "            mse = metrics.mean_squared_error(y_test, preds)\n",
    "            r2 = metrics.r2_score(y_test, preds)\n",
    "            \n",
    "            \n",
    "            \n",
    "            term1 = 0.5 * (npl.norm(y_test) ** 2 - npl.norm(w) ** 2) / var\n",
    "            term2 = 0.5 * np.sum([np.log(1 + w[i]**2 / var) for i in range(d_n_min)])\n",
    "            complexity1 = term1 + term2\n",
    "            \n",
    "            idxs = np.abs(w) > sigma\n",
    "            term3 = 0.5 * np.sum([np.log(1 + w[i]**2 / var) for i in np.arange(n)[idxs]])\n",
    "            term4 = 0.5 * np.sum([w[i]**2 / var for i in np.arange(n)[~idxs]])\n",
    "            complexity2 = term1 + term3 + term4\n",
    "            \n",
    "            results = {\n",
    "                'roi': roi,\n",
    "                'mse': mse,\n",
    "                'model': m,\n",
    "                'complexity1': complexity1,\n",
    "                'complexity2': complexity2,\n",
    "                'num_train': n,\n",
    "                'num_test': num_test,\n",
    "                'd': d,\n",
    "                'r2': r2\n",
    "            }\n",
    "            pkl.dump(results, open(oj(save_dir, f'ridge_{i}.pkl'), 'wb'))"
   ]
  },
  {
   "cell_type": "code",
   "execution_count": null,
   "metadata": {},
   "outputs": [],
   "source": [
    "brick = h5py.File(out_name, 'r')['data'][0]\n",
    "grass = h5py.File(out_name, 'r')['data'][100]\n",
    "gravel = h5py.File(out_name, 'r')['data'][300]\n",
    "images = [brick, grass, gravel]\n",
    "\n",
    "\n",
    "# Plot a selection of the filter bank kernels and their responses.\n",
    "results = []\n",
    "kernel_params = []\n",
    "for theta in [0, 1]:\n",
    "    theta = theta / 4. * np.pi\n",
    "    for frequency in [0.1, 0.4]:\n",
    "        kernel = gabor_kernel(frequency, theta=theta)\n",
    "        params = 'theta=%d,\\nfrequency=%.2f' % (theta * 180 / np.pi, frequency)\n",
    "        kernel_params.append(params)\n",
    "        results.append((kernel, [gabor_feats.calc_feats(img, kernel) for img in images])) # Save kernel and the power image for each image\n",
    "\n",
    "fig, axes = plt.subplots(nrows=4, ncols=4, figsize=(5, 6), dpi=200)\n",
    "plt.gray()\n",
    "axes[0][0].axis('off')\n",
    "\n",
    "\n",
    "# Plot original images\n",
    "for img, ax in zip(images, axes[0][1:]):\n",
    "    ax.imshow(img)\n",
    "    ax.axis('off')\n",
    "\n",
    "# Plot Gabor kernel    \n",
    "for label, (kernel, _), ax_row in zip(kernel_params, results, axes[1:]):\n",
    "    ax = ax_row[0]\n",
    "    ax.imshow(np.real(kernel))\n",
    "    ax.set_ylabel(label, fontsize=7)\n",
    "    ax.set_xticks([])\n",
    "    ax.set_yticks([])\n",
    "\n",
    "# Plot Gabor responses with the contrast normalized for each filter    \n",
    "for label, (kernel, features), ax_row in zip(kernel_params, results, axes[1:]):\n",
    "    ax = ax_row[2]\n",
    "    ax.set_xticks([])\n",
    "    ax.set_yticks([])\n",
    "    vmin = np.min(features)\n",
    "    vmax = np.max(features)\n",
    "    for patch, ax in zip(features, ax_row[1:]):\n",
    "        ax.imshow(patch, vmin=vmin, vmax=vmax)\n",
    "        ax.axis('off')  \n",
    "\n",
    "plt.tight_layout()\n",
    "plt.show()"
   ]
  }
 ],
 "metadata": {
  "kernelspec": {
   "display_name": "Python 3",
   "language": "python",
   "name": "python3"
  },
  "language_info": {
   "codemirror_mode": {
    "name": "ipython",
    "version": 3
   },
   "file_extension": ".py",
   "mimetype": "text/x-python",
   "name": "python",
   "nbconvert_exporter": "python",
   "pygments_lexer": "ipython3",
   "version": "3.7.5"
  }
 },
 "nbformat": 4,
 "nbformat_minor": 4
}
