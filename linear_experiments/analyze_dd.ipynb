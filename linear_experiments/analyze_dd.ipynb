{
 "cells": [
  {
   "cell_type": "code",
   "execution_count": 63,
   "metadata": {},
   "outputs": [
    {
     "name": "stdout",
     "output_type": "stream",
     "text": [
      "The autoreload extension is already loaded. To reload it, use:\n",
      "  %reload_ext autoreload\n"
     ]
    }
   ],
   "source": [
    "import os\n",
    "from os.path import join as oj\n",
    "import sys, time\n",
    "sys.path.insert(1, oj(sys.path[0], '..'))  # insert parent path\n",
    "import seaborn as sns\n",
    "from sklearn.model_selection import train_test_split\n",
    "from regression_dsets_large_names import regression_dsets_large_names\n",
    "import numpy as np\n",
    "import matplotlib.pyplot as plt\n",
    "import pmlb\n",
    "from tqdm import tqdm\n",
    "from copy import deepcopy\n",
    "import pickle as pkl\n",
    "import pandas as pd\n",
    "import data\n",
    "import fit\n",
    "from process_results import process_results, aggregate_results\n",
    "\n",
    "%matplotlib inline\n",
    "%load_ext autoreload\n",
    "%autoreload 2"
   ]
  },
  {
   "cell_type": "markdown",
   "metadata": {},
   "source": [
    "# load results from a directory"
   ]
  },
  {
   "cell_type": "code",
   "execution_count": null,
   "metadata": {},
   "outputs": [],
   "source": [
    "!python process_results.py"
   ]
  },
  {
   "cell_type": "code",
   "execution_count": 69,
   "metadata": {},
   "outputs": [],
   "source": [
    "# these all have ols, ridge, sta, lasso with appropriate hyperparams\n",
    "# beta=gaussian_noise=1e-1\n",
    "# beta=gaussian_noise=0 \n",
    "# beta=onehot_noise=0  \n",
    "# beta=onehot_noise=1e-1 \n",
    "\n",
    "save_dir = 'results'\n",
    "# folders = ['beta=gaussian_noise=1e-1', 'beta=gaussian_noise=0',\n",
    "#            'beta=onehot_noise=0', 'beta=onehot_noise=1e-1']\n",
    "folders = os.listdir('/scratch/users/vision/yu_dl/raaz.rsk/double_descent/all_linear')"
   ]
  },
  {
   "cell_type": "markdown",
   "metadata": {},
   "source": [
    "# linear plots"
   ]
  },
  {
   "cell_type": "code",
   "execution_count": null,
   "metadata": {},
   "outputs": [],
   "source": [
    "for folder in folders:\n",
    "    out_dir = oj('/scratch/users/vision/yu_dl/raaz.rsk/double_descent/all_linear', folder)\n",
    "    df = pd.read_pickle(oj(out_dir, 'processed.pkl'))\n",
    "    \n",
    "    R, C = 2, 2\n",
    "    SIZE = 8\n",
    "    plt.figure(figsize=(C * SIZE, R * SIZE))\n",
    "    plt.subplot(R, C, 1)\n",
    "    plt.axhline(df.mse_zero.values[0], lw=4, color='gray', alpha=0.4, label='trivial')\n",
    "    for name, curve in tqdm(df.iterrows()):\n",
    "    #     print(name, curve)\n",
    "        model_type = name[3]\n",
    "        reg_param = name[4]\n",
    "        l = str(model_type) + ' ' + str(reg_param)\n",
    "        if model_type == 'ols':\n",
    "            ls = '--'\n",
    "        elif model_type == 'ridge':\n",
    "            ls = ':'\n",
    "        elif model_type == 'linear_sta':\n",
    "            ls = '-.'\n",
    "        elif model_type == 'lasso':\n",
    "            ls = '-'\n",
    "\n",
    "\n",
    "        kwargs = {'label': l, 'alpha': 0.5, 'lw': 2, 'linestyle': ls}\n",
    "\n",
    "        plt.subplot(R, C, 1)\n",
    "    #     plt.plot(curve.ratio, curve.mse_test, \n",
    "        plt.plot(curve.ratio, np.square(curve.bias) + curve['var'], **kwargs)\n",
    "        plt.xlabel('p / n')\n",
    "        plt.ylabel('test mse')\n",
    "\n",
    "\n",
    "        plt.subplot(R, C, 2)\n",
    "        plt.plot(curve.ratio, curve.mse_train, **kwargs)\n",
    "        plt.xlabel('p / n')\n",
    "        plt.ylabel('train mse')\n",
    "        \n",
    "        \n",
    "        plt.subplot(R, C, 3)\n",
    "        plt.plot(curve.ratio, np.square(curve.bias), **kwargs)\n",
    "        plt.xlabel('p / n')\n",
    "        plt.ylabel('bias')\n",
    "        \n",
    "        plt.subplot(R, C, 4)\n",
    "        plt.plot(curve.ratio, curve['var'], **kwargs)\n",
    "        plt.xlabel('p / n')\n",
    "        plt.ylabel('var')\n",
    "        \n",
    "        # wnorm also recorded\n",
    "\n",
    "    for i in range(1, R * C + 1):\n",
    "        plt.subplot(R, C, i)\n",
    "        plt.xscale('log')\n",
    "        plt.yscale('log')\n",
    "\n",
    "    #     s = f'{model_type}_{dset}_{dset_name}+p={num_features}+lambda={reg_param}+noise_mult={noise_mult}'\n",
    "    plt.subplot(R, C, 1)\n",
    "    plt.legend()\n",
    "    s = folder\n",
    "    plt.suptitle(s)\n",
    "    plt.tight_layout()\n",
    "    # plt.show()\n",
    "    plt.savefig(oj(save_dir, s + '.pdf'))\n",
    "#     plt.show()\n",
    "    plt.close()"
   ]
  },
  {
   "cell_type": "code",
   "execution_count": null,
   "metadata": {},
   "outputs": [],
   "source": []
  }
 ],
 "metadata": {
  "anaconda-cloud": {},
  "kernelspec": {
   "display_name": "Python 3",
   "language": "python",
   "name": "python3"
  },
  "language_info": {
   "codemirror_mode": {
    "name": "ipython",
    "version": 3
   },
   "file_extension": ".py",
   "mimetype": "text/x-python",
   "name": "python",
   "nbconvert_exporter": "python",
   "pygments_lexer": "ipython3",
   "version": "3.7.0"
  }
 },
 "nbformat": 4,
 "nbformat_minor": 4
}
