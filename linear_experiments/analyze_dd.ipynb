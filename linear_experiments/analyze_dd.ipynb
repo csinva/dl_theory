{
 "cells": [
  {
   "cell_type": "code",
   "execution_count": 71,
   "metadata": {},
   "outputs": [
    {
     "name": "stdout",
     "output_type": "stream",
     "text": [
      "The autoreload extension is already loaded. To reload it, use:\n",
      "  %reload_ext autoreload\n"
     ]
    }
   ],
   "source": [
    "import os\n",
    "from os.path import join as oj\n",
    "import sys, time\n",
    "sys.path.insert(1, oj(sys.path[0], '..'))  # insert parent path\n",
    "import seaborn as sns\n",
    "from sklearn.model_selection import train_test_split\n",
    "from regression_dsets_large_names import regression_dsets_large_names\n",
    "import numpy as np\n",
    "import matplotlib.pyplot as plt\n",
    "import pmlb\n",
    "from tqdm import tqdm\n",
    "from copy import deepcopy\n",
    "import pickle as pkl\n",
    "import pandas as pd\n",
    "import data\n",
    "import fit\n",
    "from process_results import process_results, aggregate_results, best_ridge\n",
    "\n",
    "%matplotlib inline\n",
    "%load_ext autoreload\n",
    "%autoreload 2"
   ]
  },
  {
   "cell_type": "markdown",
   "metadata": {},
   "source": [
    "# load results from a directory"
   ]
  },
  {
   "cell_type": "code",
   "execution_count": 58,
   "metadata": {},
   "outputs": [
    {
     "name": "stdout",
     "output_type": "stream",
     "text": [
      "  0%|                                                     | 0/1 [00:00<?, ?it/s]\n",
      "  0%|                                                   | 0/773 [00:00<?, ?it/s]\u001b[A\n",
      " 13%|█████▏                                 | 104/773 [00:00<00:00, 1030.37it/s]\u001b[A\n",
      " 27%|██████████▍                            | 207/773 [00:00<00:00, 1027.04it/s]\u001b[A\n",
      " 40%|███████████████▌                       | 308/773 [00:00<00:00, 1021.09it/s]\u001b[A\n",
      " 49%|███████████████████▍                    | 375/773 [00:00<00:00, 701.38it/s]\u001b[A\n",
      " 63%|█████████████████████████               | 485/773 [00:00<00:00, 782.32it/s]\u001b[A\n",
      " 72%|████████████████████████████▉           | 559/773 [00:00<00:00, 710.14it/s]\u001b[A\n",
      " 81%|████████████████████████████████▍       | 628/773 [00:00<00:00, 645.10it/s]\u001b[A\n",
      " 90%|████████████████████████████████████    | 698/773 [00:00<00:00, 659.82it/s]\u001b[A\n",
      " 99%|███████████████████████████████████████▋| 768/773 [00:01<00:00, 646.99it/s]\u001b[A\n",
      "100%|████████████████████████████████████████| 773/773 [00:01<00:00, 739.13it/s]\u001b[A\n",
      "  0%|                                                    | 0/10 [00:00<?, ?it/s]\u001b[A\n",
      " 10%|████▍                                       | 1/10 [00:01<00:14,  1.66s/it]\u001b[A\n",
      " 20%|████████▊                                   | 2/10 [00:03<00:13,  1.63s/it]\u001b[A\n",
      " 30%|█████████████▏                              | 3/10 [00:04<00:11,  1.61s/it]\u001b[A\n",
      " 40%|█████████████████▌                          | 4/10 [00:06<00:09,  1.59s/it]\u001b[A\n",
      " 50%|██████████████████████                      | 5/10 [00:07<00:07,  1.59s/it]\u001b[A\n",
      " 60%|██████████████████████████▍                 | 6/10 [00:09<00:06,  1.58s/it]\u001b[A\n",
      " 70%|██████████████████████████████▊             | 7/10 [00:10<00:04,  1.55s/it]\u001b[A\n",
      " 80%|███████████████████████████████████▏        | 8/10 [00:12<00:03,  1.53s/it]\u001b[A\n",
      " 90%|███████████████████████████████████████▌    | 9/10 [00:13<00:01,  1.50s/it]\u001b[A\n",
      "100%|█████████████████████████████████████████████| 1/1 [00:16<00:00, 16.47s/it]\u001b[A\n"
     ]
    }
   ],
   "source": [
    "!python process_results.py"
   ]
  },
  {
   "cell_type": "code",
   "execution_count": 67,
   "metadata": {},
   "outputs": [
    {
     "name": "stdout",
     "output_type": "stream",
     "text": [
      "['basic']\n"
     ]
    }
   ],
   "source": [
    "save_dir = 'results'\n",
    "parent_dir = '/scratch/users/vision/yu_dl/raaz.rsk/double_descent/df'\n",
    "folders = os.listdir(parent_dir)\n",
    "print(folders)"
   ]
  },
  {
   "cell_type": "markdown",
   "metadata": {},
   "source": [
    "# linear plots"
   ]
  },
  {
   "cell_type": "code",
   "execution_count": null,
   "metadata": {},
   "outputs": [],
   "source": [
    "for folder in folders:\n",
    "    out_dir = oj(parent_dir, folder)\n",
    "    df = pd.read_pickle(oj(out_dir, 'processed.pkl'))\n",
    "    row_best_ridge = best_ridge(df) # contains df1, df2, df3\n",
    "    len_ridge = row_best_ridge.df1.size\n",
    "    \n",
    "    \n",
    "    R, C = 2, 3\n",
    "    SIZE = 5\n",
    "    plt.figure(figsize=(C * SIZE, R * SIZE))\n",
    "    plt.subplot(R, C, 1)\n",
    "    plt.axhline(df.mse_zero.values[0], lw=4, color='gray', alpha=0.4, label='trivial')\n",
    "    for name, curve in tqdm(df.iterrows()):\n",
    "    #     print(name, curve)\n",
    "        model_type = name[3]\n",
    "        reg_param = name[4]\n",
    "        l = str(model_type) + ' ' + str(reg_param)\n",
    "        if model_type == 'ols':\n",
    "            ls = '--'\n",
    "        elif model_type == 'ridge':\n",
    "            ls = '-'\n",
    "        elif model_type == 'linear_sta':\n",
    "            ls = '-.'\n",
    "        elif model_type == 'lasso':\n",
    "            ls = ':'\n",
    "\n",
    "\n",
    "        kwargs = {'label': l, 'alpha': 0.5, 'lw': 2, 'linestyle': ls}\n",
    "\n",
    "        plt.subplot(R, C, 1)\n",
    "    #     plt.plot(curve.ratio, curve.mse_test, \n",
    "        plt.plot(curve.ratio, curve.mse_noiseless, **kwargs) #np.square(curve.bias) + curve['var'], **kwargs)\n",
    "        plt.ylabel('test mse')\n",
    "        plt.xlabel('p / n')\n",
    "\n",
    "\n",
    "        plt.subplot(R, C, 2)\n",
    "        plt.plot(curve.ratio, curve.mse_train, **kwargs)\n",
    "        plt.ylabel('train mse')\n",
    "        plt.xlabel('p / n')\n",
    "        \n",
    "        \n",
    "        \n",
    "        plt.subplot(R, C, 4)\n",
    "        plt.plot(row_best_ridge.df1, curve.mse_noiseless[:len_ridge], **kwargs)\n",
    "        plt.ylabel('test mse')\n",
    "        plt.xlabel('df1: $tr(S S^T)$')\n",
    "        \n",
    "        plt.subplot(R, C, 5)\n",
    "        plt.plot(row_best_ridge.df2, curve.mse_noiseless[:len_ridge], **kwargs)\n",
    "        plt.ylabel('test mse')\n",
    "        plt.xlabel('df2: $tr(2 * S - S^T S)$')\n",
    "        \n",
    "        plt.subplot(R, C, 6)\n",
    "        plt.plot(row_best_ridge.df3, curve.mse_noiseless[:len_ridge], **kwargs)\n",
    "        plt.ylabel('test mse')\n",
    "        plt.xlabel('df3: $tr(S)$')\n",
    "        \n",
    "        \n",
    "        '''\n",
    "        plt.subplot(R, C, 3)\n",
    "        plt.plot(curve.ratio, np.square(curve.bias), **kwargs)\n",
    "        plt.ylabel('bias')\n",
    "        \n",
    "        plt.subplot(R, C, 4)\n",
    "        plt.plot(curve.ratio, curve['var'], **kwargs)\n",
    "        plt.ylabel('var')\n",
    "        '''\n",
    "        \n",
    "        '''\n",
    "        # wnorm also recorded\n",
    "        plt.subplot(R, C, 3)\n",
    "        plt.plot(curve.ratio, curve['wnorm'], **kwargs)\n",
    "        plt.ylabel('wnorm')\n",
    "        plt.xlabel('p / n')\n",
    "        \n",
    "        plt.subplot(R, C, 4)\n",
    "        plt.plot(curve.ratio, curve['num_nonzero'], **kwargs)\n",
    "        plt.ylabel('num_nonzero')\n",
    "        plt.xlabel('p / n')\n",
    "        '''\n",
    "\n",
    "    for i in range(1, R * C + 1):\n",
    "        plt.subplot(R, C, i)\n",
    "        plt.xscale('log')\n",
    "        plt.yscale('log')\n",
    "\n",
    "    #     s = f'{model_type}_{dset}_{dset_name}+p={num_features}+lambda={reg_param}+noise_mult={noise_mult}'\n",
    "    plt.subplot(R, C, 1)\n",
    "    plt.legend()\n",
    "    \n",
    "    plt.subplot(R, C, 3)\n",
    "    ratios = row_best_ridge.ratio\n",
    "    n = 500 / ratios\n",
    "    p = 0 * ratios + 500\n",
    "    plt.plot(ratios, np.minimum(n, p), label='min(n, p)', alpha=0.5)\n",
    "    plt.plot(ratios, row_best_ridge.df1, label='df1')\n",
    "    plt.plot(ratios, row_best_ridge.df2, label='df2')\n",
    "    plt.plot(ratios, row_best_ridge.df3, label='df3')\n",
    "    plt.xlabel('p / n')\n",
    "    plt.legend()\n",
    "    \n",
    "    \n",
    "    s = folder\n",
    "    plt.suptitle(s)\n",
    "    plt.tight_layout()\n",
    "    # plt.show()\n",
    "    plt.savefig(oj(save_dir, s + '.pdf'))\n",
    "    plt.show()\n",
    "    plt.close()"
   ]
  }
 ],
 "metadata": {
  "anaconda-cloud": {},
  "kernelspec": {
   "display_name": "Python 3",
   "language": "python",
   "name": "python3"
  },
  "language_info": {
   "codemirror_mode": {
    "name": "ipython",
    "version": 3
   },
   "file_extension": ".py",
   "mimetype": "text/x-python",
   "name": "python",
   "nbconvert_exporter": "python",
   "pygments_lexer": "ipython3",
   "version": "3.7.0"
  }
 },
 "nbformat": 4,
 "nbformat_minor": 4
}
