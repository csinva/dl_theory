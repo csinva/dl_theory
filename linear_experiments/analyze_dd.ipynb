{
 "cells": [
  {
   "cell_type": "code",
   "execution_count": 221,
   "metadata": {},
   "outputs": [
    {
     "name": "stdout",
     "output_type": "stream",
     "text": [
      "The autoreload extension is already loaded. To reload it, use:\n",
      "  %reload_ext autoreload\n"
     ]
    }
   ],
   "source": [
    "import os\n",
    "from os.path import join as oj\n",
    "import sys, time\n",
    "sys.path.insert(1, oj(sys.path[0], '..'))  # insert parent path\n",
    "import seaborn as sns\n",
    "from sklearn.model_selection import train_test_split\n",
    "from regression_dsets_large_names import regression_dsets_large_names\n",
    "import numpy as np\n",
    "import matplotlib.pyplot as plt\n",
    "import pmlb\n",
    "from tqdm import tqdm\n",
    "from copy import deepcopy\n",
    "import pickle as pkl\n",
    "import pandas as pd\n",
    "import data\n",
    "import fit\n",
    "from process_results import process_results, aggregate_results, best_ridge\n",
    "\n",
    "%matplotlib inline\n",
    "%load_ext autoreload\n",
    "%autoreload 2"
   ]
  },
  {
   "cell_type": "markdown",
   "metadata": {},
   "source": [
    "# basic loading"
   ]
  },
  {
   "cell_type": "code",
   "execution_count": null,
   "metadata": {},
   "outputs": [],
   "source": [
    "parent_dir = '/scratch/users/vision/yu_dl/raaz.rsk/mdl_sim_full/'\n",
    "print(os.listdir(parent_dir))\n",
    "out_dir = oj(parent_dir, 'iid') # basic, pmlb_0, clustered, pmlb_1\n",
    "fnames = sorted([oj(out_dir, fname) for fname in os.listdir(out_dir)])\n",
    "results_list = [pd.Series(pkl.load(open(fname, \"rb\"))) for fname in tqdm(fnames) \n",
    "                if not 'processed' in fname]\n",
    "results = pd.concat(results_list, axis=1).T.infer_objects()"
   ]
  },
  {
   "cell_type": "code",
   "execution_count": null,
   "metadata": {},
   "outputs": [],
   "source": [
    "r = results\n",
    "r = r[r.model_type == 'mdl']\n",
    "rr = results[results.model_type == 'ridge']\n",
    "R, C = 1, 2\n",
    "plt.figure(dpi=200)\n",
    "\n",
    "plt.subplot(R, C, 1)\n",
    "plt.plot(1/r.n_train_over_num_features, r.test_mse, '.', label='mdl')\n",
    "plt.plot(1/rr.n_train_over_num_features, rr.test_mse, '.', label='ridge')\n",
    "plt.xscale('log')\n",
    "plt.xlabel('p/n')\n",
    "plt.ylabel('test mse')\n",
    "plt.yscale('log')\n",
    "\n",
    "plt.subplot(R, C, 2)\n",
    "plt.plot(1/r.n_train_over_num_features, r.train_mse, '.', label='mdl')\n",
    "plt.plot(1/rr.n_train_over_num_features, rr.train_mse, '.', label='ridge')\n",
    "plt.xscale('log')\n",
    "plt.xlabel('p/n')\n",
    "plt.yscale('log')\n",
    "plt.ylabel('train mse')\n",
    "plt.legend()\n",
    "plt.tight_layout()\n",
    "plt.show()"
   ]
  },
  {
   "cell_type": "markdown",
   "metadata": {},
   "source": [
    "# load results from a directory\n",
    "**note - this script aggregates results**"
   ]
  },
  {
   "cell_type": "code",
   "execution_count": 228,
   "metadata": {},
   "outputs": [
    {
     "name": "stdout",
     "output_type": "stream",
     "text": [
      "rm: cannot remove '/scratch/users/vision/yu_dl/raaz.rsk/mdl_sim_full/*/*processed*': No such file or directory\n",
      "  0%|                                                     | 0/3 [00:00<?, ?it/s]\n",
      "  0%|                                                   | 0/152 [00:00<?, ?it/s]\u001b[A\n",
      " 16%|██████▍                                  | 24/152 [00:00<00:00, 229.02it/s]\u001b[A\n",
      " 32%|████████████▉                            | 48/152 [00:00<00:00, 229.48it/s]\u001b[A\n",
      " 47%|███████████████████▍                     | 72/152 [00:00<00:00, 231.48it/s]\u001b[A\n",
      " 64%|██████████████████████████▏              | 97/152 [00:00<00:00, 236.39it/s]\u001b[A\n",
      " 82%|████████████████████████████████▋       | 124/152 [00:00<00:00, 243.43it/s]\u001b[A\n",
      " 97%|██████████████████████████████████████▉ | 148/152 [00:00<00:00, 242.17it/s]\u001b[A\n",
      "100%|████████████████████████████████████████| 152/152 [00:00<00:00, 239.80it/s]\u001b[Aprocess_results.py:162: FutureWarning: Sorting because non-concatenation axis is not aligned. A future version\n",
      "of pandas will change to not sort by default.\n",
      "\n",
      "To accept the future behavior, pass 'sort=False'.\n",
      "\n",
      "To retain the current behavior and silence the warning, pass 'sort=True'.\n",
      "\n",
      "  results = pd.concat(results_list, axis=1).T.infer_objects()\n",
      "\n",
      "  0%|                                                     | 0/5 [00:00<?, ?it/s]\u001b[A\n",
      " 20%|█████████                                    | 1/5 [00:21<01:26, 21.72s/it]\u001b[A\n",
      " 40%|██████████████████                           | 2/5 [00:39<01:01, 20.52s/it]\u001b[A\n",
      " 60%|███████████████████████████                  | 3/5 [00:57<00:39, 19.86s/it]\u001b[A\n",
      " 80%|████████████████████████████████████         | 4/5 [01:17<00:19, 19.80s/it]\u001b[A\n",
      " 33%|███████████████                              | 1/3 [01:36<03:12, 96.43s/it]\u001b[A\n",
      "  0%|                                                   | 0/149 [00:00<?, ?it/s]\u001b[A\n",
      " 23%|█████████▎                               | 34/149 [00:00<00:00, 338.88it/s]\u001b[A\n",
      " 44%|██████████████████▏                      | 66/149 [00:00<00:00, 331.91it/s]\u001b[A\n",
      " 66%|██████████████████████████▉              | 98/149 [00:00<00:00, 326.59it/s]\u001b[A\n",
      " 85%|██████████████████████████████████      | 127/149 [00:00<00:00, 312.20it/s]\u001b[A\n",
      "100%|████████████████████████████████████████| 149/149 [00:00<00:00, 301.43it/s]\u001b[Aprocess_results.py:162: FutureWarning: Sorting because non-concatenation axis is not aligned. A future version\n",
      "of pandas will change to not sort by default.\n",
      "\n",
      "To accept the future behavior, pass 'sort=False'.\n",
      "\n",
      "To retain the current behavior and silence the warning, pass 'sort=True'.\n",
      "\n",
      "  results = pd.concat(results_list, axis=1).T.infer_objects()\n",
      "\n",
      "  0%|                                                     | 0/5 [00:00<?, ?it/s]\u001b[A\n",
      " 20%|█████████                                    | 1/5 [00:02<00:08,  2.06s/it]\u001b[A\n",
      " 40%|██████████████████                           | 2/5 [00:04<00:06,  2.06s/it]\u001b[A\n",
      " 60%|███████████████████████████                  | 3/5 [00:05<00:03,  1.99s/it]\u001b[A\n",
      " 80%|████████████████████████████████████         | 4/5 [00:07<00:01,  1.87s/it]\u001b[A\n",
      " 67%|██████████████████████████████               | 2/3 [01:46<01:10, 70.51s/it]\u001b[A\n",
      "  0%|                                                   | 0/130 [00:00<?, ?it/s]\u001b[A\n",
      "  4%|█▋                                         | 5/130 [00:00<00:02, 44.67it/s]\u001b[A\n",
      "  8%|███▏                                      | 10/130 [00:00<00:02, 44.19it/s]\u001b[A\n",
      " 12%|████▊                                     | 15/130 [00:00<00:02, 43.50it/s]\u001b[A\n",
      " 15%|██████▏                                   | 19/130 [00:00<00:02, 41.69it/s]\u001b[A\n",
      " 18%|███████▊                                  | 24/130 [00:00<00:02, 41.84it/s]\u001b[A\n",
      " 22%|█████████▎                                | 29/130 [00:00<00:02, 42.06it/s]\u001b[A\n",
      " 26%|██████████▉                               | 34/130 [00:00<00:02, 42.42it/s]\u001b[A\n",
      " 30%|████████████▌                             | 39/130 [00:00<00:02, 42.71it/s]\u001b[A\n",
      " 34%|██████████████▏                           | 44/130 [00:01<00:02, 42.73it/s]\u001b[A\n",
      " 38%|███████████████▊                          | 49/130 [00:01<00:01, 42.77it/s]\u001b[A\n",
      " 42%|█████████████████▍                        | 54/130 [00:01<00:01, 41.92it/s]\u001b[A\n",
      " 45%|███████████████████                       | 59/130 [00:01<00:01, 41.29it/s]\u001b[A\n",
      " 49%|████████████████████▋                     | 64/130 [00:01<00:01, 41.17it/s]\u001b[A\n",
      " 53%|██████████████████████▎                   | 69/130 [00:01<00:01, 41.22it/s]\u001b[A\n",
      " 57%|███████████████████████▉                  | 74/130 [00:01<00:01, 41.43it/s]\u001b[A\n",
      " 61%|█████████████████████████▌                | 79/130 [00:01<00:01, 41.92it/s]\u001b[A\n",
      " 65%|███████████████████████████▏              | 84/130 [00:01<00:01, 42.42it/s]\u001b[A\n",
      " 68%|████████████████████████████▊             | 89/130 [00:02<00:00, 42.23it/s]\u001b[A\n",
      " 72%|██████████████████████████████▎           | 94/130 [00:02<00:00, 42.35it/s]\u001b[A\n",
      " 76%|███████████████████████████████▉          | 99/130 [00:02<00:00, 42.47it/s]\u001b[A\n",
      " 80%|████████████████████████████████▊        | 104/130 [00:02<00:00, 42.32it/s]\u001b[A\n",
      " 84%|██████████████████████████████████▍      | 109/130 [00:02<00:00, 42.50it/s]\u001b[A\n",
      " 88%|███████████████████████████████████▉     | 114/130 [00:02<00:00, 42.30it/s]\u001b[A\n",
      " 92%|█████████████████████████████████████▌   | 119/130 [00:02<00:00, 42.20it/s]\u001b[A\n",
      " 95%|███████████████████████████████████████  | 124/130 [00:02<00:00, 41.95it/s]\u001b[A\n",
      " 99%|████████████████████████████████████████▋| 129/130 [00:03<00:00, 42.34it/s]\u001b[A\n",
      "100%|█████████████████████████████████████████| 130/130 [00:03<00:00, 42.16it/s]\u001b[Aprocess_results.py:162: FutureWarning: Sorting because non-concatenation axis is not aligned. A future version\n",
      "of pandas will change to not sort by default.\n",
      "\n",
      "To accept the future behavior, pass 'sort=False'.\n",
      "\n",
      "To retain the current behavior and silence the warning, pass 'sort=True'.\n",
      "\n",
      "  results = pd.concat(results_list, axis=1).T.infer_objects()\n",
      "\n",
      "  0%|                                                     | 0/5 [00:00<?, ?it/s]\u001b[A\n",
      " 20%|████████▊                                   | 1/5 [01:56<07:46, 116.67s/it]\u001b[A\n",
      " 40%|█████████████████▌                          | 2/5 [03:50<05:47, 115.77s/it]\u001b[A\n",
      "100%|████████████████████████████████████████████| 3/3 [11:25<00:00, 223.18s/it]\u001b[A\n"
     ]
    }
   ],
   "source": [
    "!rm /scratch/users/vision/yu_dl/raaz.rsk/mdl_sim_full/*/*processed*\n",
    "!python process_results.py"
   ]
  },
  {
   "cell_type": "code",
   "execution_count": 229,
   "metadata": {},
   "outputs": [
    {
     "name": "stdout",
     "output_type": "stream",
     "text": [
      "['pmlb0', 'iid', 'clustered']\n"
     ]
    }
   ],
   "source": [
    "save_dir = 'results'\n",
    "os.makedirs(save_dir, exist_ok=True)\n",
    "# parent_dir = '/scratch/users/vision/yu_dl/raaz.rsk/double_descent/df' # basic, pmlb_0, clustered, pmlb_1\n",
    "parent_dir = '/scratch/users/vision/yu_dl/raaz.rsk/mdl_sim_full' # basic, pmlb_0, clustered, pmlb_1\n",
    "folders = os.listdir(parent_dir)\n",
    "print(folders)"
   ]
  },
  {
   "cell_type": "markdown",
   "metadata": {},
   "source": [
    "# double-descent plots"
   ]
  },
  {
   "cell_type": "code",
   "execution_count": null,
   "metadata": {},
   "outputs": [],
   "source": [
    "plot_all = False\n",
    "for folder in folders:\n",
    "    out_dir = oj(parent_dir, folder)\n",
    "    df = pd.read_pickle(oj(out_dir, 'processed.pkl'))\n",
    "        \n",
    "    if plot_all:\n",
    "        R, C = 2, 3\n",
    "    else:\n",
    "        R, C = 1, 2\n",
    "    SIZE = 5\n",
    "    plt.figure(figsize=(C * SIZE, R * SIZE))\n",
    "    plt.subplot(R, C, 1)\n",
    "    plt.axhline(df.mse_zero.values[0], lw=4, color='gray', alpha=0.4, label='trivial')\n",
    "    for name, curve in tqdm(df.iterrows()):\n",
    "    #     print(name, curve)\n",
    "        model_type = name[3]\n",
    "        reg_param = name[4]\n",
    "        l = str(model_type) + ' ' + str(reg_param)\n",
    "        if model_type == 'ols':\n",
    "            ls = '--'\n",
    "        elif model_type == 'ridge':\n",
    "            ls = '-'\n",
    "        elif model_type == 'linear_sta':\n",
    "            ls = '-.'\n",
    "        elif model_type == 'lasso':\n",
    "            ls = ':'\n",
    "        elif model_type == 'mdl':\n",
    "            ls = '-'\n",
    "            \n",
    "        if not model_type == 'linear_sta':\n",
    "\n",
    "\n",
    "            kwargs = {'label': l, 'alpha': 0.5, 'lw': 2, 'linestyle': ls}\n",
    "\n",
    "            plt.subplot(R, C, 1)\n",
    "        #     plt.plot(curve.ratio, curve.mse_test, \n",
    "            plt.plot(curve.ratio, curve.mse_test, **kwargs) #np.square(curve.bias) + curve['var'], **kwargs)\n",
    "            plt.ylabel('test mse')\n",
    "            plt.xlabel('p / n')\n",
    "\n",
    "            plt.subplot(R, C, 2)\n",
    "            plt.plot(curve.ratio, curve.mse_train, **kwargs)\n",
    "            plt.ylabel('train mse')\n",
    "            plt.xlabel('p / n')\n",
    "\n",
    "\n",
    "            if plot_all:\n",
    "                row_best_ridge = best_ridge(df) # contains df1, df2, df3\n",
    "                len_ridge = row_best_ridge.df1.size                \n",
    "                \n",
    "                plt.subplot(R, C, 4)\n",
    "                plt.plot(row_best_ridge.df1, curve.mse_noiseless[:len_ridge], **kwargs)\n",
    "                plt.ylabel('test mse')\n",
    "                plt.xlabel('df1: $tr(S S^T)$')\n",
    "\n",
    "                plt.subplot(R, C, 5)\n",
    "                plt.plot(row_best_ridge.df2, curve.mse_noiseless[:len_ridge], **kwargs)\n",
    "                plt.ylabel('test mse')\n",
    "                plt.xlabel('df2: $tr(2 * S - S^T S)$')\n",
    "\n",
    "                plt.subplot(R, C, 6)\n",
    "                plt.plot(row_best_ridge.df3, curve.mse_noiseless[:len_ridge], **kwargs)\n",
    "                plt.ylabel('test mse')\n",
    "                plt.xlabel('df3: $tr(S)$')\n",
    "\n",
    "\n",
    "            '''\n",
    "            plt.subplot(R, C, 3)\n",
    "            plt.plot(curve.ratio, np.square(curve.bias), **kwargs)\n",
    "            plt.ylabel('bias')\n",
    "\n",
    "            plt.subplot(R, C, 4)\n",
    "            plt.plot(curve.ratio, curve['var'], **kwargs)\n",
    "            plt.ylabel('var')\n",
    "            '''\n",
    "\n",
    "            '''\n",
    "            # wnorm also recorded\n",
    "            plt.subplot(R, C, 3)\n",
    "            plt.plot(curve.ratio, curve['wnorm'], **kwargs)\n",
    "            plt.ylabel('wnorm')\n",
    "            plt.xlabel('p / n')\n",
    "\n",
    "            plt.subplot(R, C, 4)\n",
    "            plt.plot(curve.ratio, curve['num_nonzero'], **kwargs)\n",
    "            plt.ylabel('num_nonzero')\n",
    "            plt.xlabel('p / n')\n",
    "            '''\n",
    "\n",
    "    for i in range(1, R * C + 1):\n",
    "        plt.subplot(R, C, i)\n",
    "        plt.xscale('log')\n",
    "        plt.yscale('log')\n",
    "\n",
    "    #     s = f'{model_type}_{dset}_{dset_name}+p={num_features}+lambda={reg_param}+noise_mult={noise_mult}'\n",
    "    plt.subplot(R, C, 1)\n",
    "    plt.legend()\n",
    "    \n",
    "    if plot_all:\n",
    "        plt.subplot(R, C, 3)\n",
    "        ratios = row_best_ridge.ratio\n",
    "        n = 500 / ratios\n",
    "        p = 0 * ratios + 500\n",
    "        plt.plot(ratios, np.minimum(n, p), label='min(n, p)', alpha=0.5)\n",
    "        plt.plot(ratios, row_best_ridge.df1, label='df1')\n",
    "        plt.plot(ratios, row_best_ridge.df2, label='df2')\n",
    "        plt.plot(ratios, row_best_ridge.df3, label='df3')\n",
    "        plt.xlabel('p / n')\n",
    "        plt.legend()\n",
    "    \n",
    "    \n",
    "    s = folder\n",
    "    plt.suptitle(s)\n",
    "    plt.tight_layout()\n",
    "    # plt.show()\n",
    "    plt.savefig(oj(save_dir, s + '.pdf'))\n",
    "    plt.show()\n",
    "    plt.close()"
   ]
  },
  {
   "cell_type": "markdown",
   "metadata": {},
   "source": [
    "# misc"
   ]
  },
  {
   "cell_type": "code",
   "execution_count": 176,
   "metadata": {},
   "outputs": [
    {
     "name": "stdout",
     "output_type": "stream",
     "text": [
      "u shape y shape (200, 200) (200,)\n",
      "(100,) 100 100\n"
     ]
    },
    {
     "data": {
      "image/png": "[encoded data removed]",
      "text/plain": [
       "<Figure size 432x288 with 1 Axes>"
      ]
     },
     "metadata": {
      "needs_background": "light"
     },
     "output_type": "display_data"
    }
   ],
   "source": [
    "np.random.seed(42)\n",
    "class p:\n",
    "    n_train = 200\n",
    "    num_features = 100\n",
    "    noise_mult = 0.2\n",
    "X_train = np.random.randn(p.n_train, p.num_features)\n",
    "y_train = X_train[:, 0] + X_train[:, 1] + np.random.randn(p.n_train) * p.noise_mult\n",
    "\n",
    "def lambda_loss(l):\n",
    "    return np.sum(np.square(a) / (1 + np.square(sv) / l) + np.log(1 + np.square(sv) / l))\n",
    "U, sv, Vh = npl.svd(X_train / np.sqrt(p.n_train))\n",
    "print('u shape', 'y shape', U.shape, y_train.shape)\n",
    "a = U.T @ y_train # / (np.sqrt(p.n_train)) #  np.sqrt(p.noise_mult)\n",
    "a = a[:sv.size]\n",
    "print(a.shape, a.size, sv.size)\n",
    "\n",
    "\n",
    "ls = np.logspace(-5, 5)\n",
    "plt.loglog(ls, [lambda_loss(l) for l in ls])\n",
    "plt.ylabel('lambda loss')\n",
    "plt.xlabel('lambda')\n",
    "plt.show()"
   ]
  },
  {
   "cell_type": "code",
   "execution_count": 138,
   "metadata": {},
   "outputs": [],
   "source": [
    "class s:\n",
    "    pass\n",
    "s.lambda_opt = minimize(lambda_loss, x0=1e-10).x\n",
    "inv = npl.pinv(X_train.T @ X_train / p.n_train + s.lambda_opt * np.eye(p.num_features))\n",
    "s.w = inv @ X_train.T @ y_train / p.n_train"
   ]
  },
  {
   "cell_type": "code",
   "execution_count": 139,
   "metadata": {},
   "outputs": [
    {
     "data": {
      "text/plain": [
       "array([3392.68313522])"
      ]
     },
     "execution_count": 139,
     "metadata": {},
     "output_type": "execute_result"
    }
   ],
   "source": [
    "s.lambda_opt"
   ]
  },
  {
   "cell_type": "code",
   "execution_count": null,
   "metadata": {},
   "outputs": [],
   "source": []
  }
 ],
 "metadata": {
  "anaconda-cloud": {},
  "kernelspec": {
   "display_name": "Python 3",
   "language": "python",
   "name": "python3"
  },
  "language_info": {
   "codemirror_mode": {
    "name": "ipython",
    "version": 3
   },
   "file_extension": ".py",
   "mimetype": "text/x-python",
   "name": "python",
   "nbconvert_exporter": "python",
   "pygments_lexer": "ipython3",
   "version": "3.7.5"
  }
 },
 "nbformat": 4,
 "nbformat_minor": 4
}
