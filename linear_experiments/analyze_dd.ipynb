{
 "cells": [
  {
   "cell_type": "code",
   "execution_count": 3,
   "metadata": {},
   "outputs": [],
   "source": [
    "import os\n",
    "from os.path import join as oj\n",
    "import sys, time\n",
    "sys.path.insert(1, oj(sys.path[0], '..'))  # insert parent path\n",
    "import seaborn as sns\n",
    "from sklearn.model_selection import train_test_split\n",
    "from regression_dsets_large_names import regression_dsets_large_names\n",
    "import numpy as np\n",
    "import matplotlib.pyplot as plt\n",
    "import pmlb\n",
    "from tqdm import tqdm\n",
    "from copy import deepcopy\n",
    "import pickle as pkl\n",
    "import pandas as pd\n",
    "import data\n",
    "import fit\n",
    "\n",
    "%matplotlib inline\n",
    "%load_ext autoreload\n",
    "%autoreload 2"
   ]
  },
  {
   "cell_type": "markdown",
   "metadata": {},
   "source": [
    "# load results from a directory"
   ]
  },
  {
   "cell_type": "code",
   "execution_count": 4,
   "metadata": {},
   "outputs": [
    {
     "name": "stderr",
     "output_type": "stream",
     "text": [
      "100%|██████████| 434/434 [00:00<00:00, 1082.07it/s]\n"
     ]
    }
   ],
   "source": [
    "# depending on how much is saved, this may take a while\n",
    "# pmlb, gaussian\n",
    "out_dir = '/scratch/users/vision/yu_dl/raaz.rsk/double_descent/pmlb'\n",
    "save_dir = 'results'\n",
    "fnames = sorted([fname for fname in os.listdir(out_dir)])\n",
    "results_list = [pd.Series(pkl.load(open(oj(out_dir, fname), \"rb\"))) for fname in tqdm(fnames) \n",
    "                if not fname.startswith('weights') and not fname.startswith('idx')]\n",
    "results = pd.concat(results_list, axis=1).T.infer_objects()"
   ]
  },
  {
   "cell_type": "code",
   "execution_count": 7,
   "metadata": {},
   "outputs": [
    {
     "name": "stderr",
     "output_type": "stream",
     "text": [
      "100%|██████████| 4/4 [00:02<00:00,  1.68it/s]\n",
      "100%|██████████| 7/7 [00:02<00:00,  2.86it/s]\n",
      "100%|██████████| 10/10 [00:04<00:00,  2.97it/s]\n",
      "100%|██████████| 4/4 [00:05<00:00,  1.31s/it]\n",
      "100%|██████████| 4/4 [00:01<00:00,  2.34it/s]\n",
      "100%|██████████| 5/5 [00:02<00:00,  2.41it/s]\n",
      "100%|██████████| 10/10 [00:05<00:00,  2.07it/s]\n",
      "100%|██████████| 9/9 [00:26<00:00,  2.61s/it]\n",
      "100%|██████████| 9/9 [00:02<00:00,  3.87it/s]\n",
      "/system/linux/anaconda3.7/lib/python3.7/site-packages/matplotlib/ticker.py:2241: UserWarning: Data has no positive values, and therefore cannot be log-scaled.\n",
      "  \"Data has no positive values, and therefore cannot be \"\n"
     ]
    }
   ],
   "source": [
    "r = results[['dset', 'noise_mult', 'dset_num',\n",
    "             'n_test', \n",
    "             'n_train', 'n_train_over_num_features', 'num_features', \n",
    "             'test_mse', 'seed', 'preds_test', 'wnorm', 'H_trace']]\n",
    "\n",
    "r2 = r.groupby(['dset', 'noise_mult', 'dset_num'])\n",
    "# plt.plot(r.num_features / r.n_train, np.log(r.test_mse), 'o')\n",
    "\n",
    "# loop over multiple seeds / curves\n",
    "R, C = 2, 3\n",
    "\n",
    "for name, gr in r2:\n",
    "    curve = gr.groupby(['n_train'])\n",
    "    dset = gr.dset.values[0]\n",
    "    dset_num = gr.dset_num.values[0]\n",
    "    num_features = gr.num_features.values[0] # assume this was held constant (for each dset)\n",
    "    \n",
    "    \n",
    "    # loop over seeds and average / calculate bias stuff\n",
    "    plt.figure(figsize=(C * 4, R * 4))\n",
    "    for curve_name, gr2 in tqdm(curve):\n",
    "        ratio = gr2.num_features.values[0] / gr2.n_train.values[0]        \n",
    "        preds = gr2.preds_test.values\n",
    "        preds = np.stack(preds) # num_seeds x n_test\n",
    "        \n",
    "        preds_mean = preds.mean(axis=0).reshape(1, -1) # 1 x n_test\n",
    "        \n",
    "        if dset == 'gaussian':\n",
    "            dset_name = ''\n",
    "            _, y_true = data.get_data(gr2.n_test.values[0], num_features, # this assumes that num_features was held constant\n",
    "                                      noise_mult=0, seed=703858704)\n",
    "            y_true = y_true.reshape(1, -1) # 1 x n_test\n",
    "        elif dset == 'pmlb':\n",
    "            dset_name = regression_dsets_large_names[dset_num]\n",
    "            X, y = pmlb.fetch_data(dset_name, return_X_y=True)\n",
    "            fit.seed(703858704)\n",
    "            _, _, _, y_true = train_test_split(X, y) # get test set\n",
    "        \n",
    "        \n",
    "        bias = np.mean(preds_mean - y_true)\n",
    "        \n",
    "        var = np.mean(np.square(preds - preds_mean))\n",
    "#         plt.plot(1 / gr2.n_train_over_num_features.mean(), \n",
    "#                  gr2.test_mse.mean(), 'o')\n",
    "        \n",
    "        plt.subplot(R, C, 1)\n",
    "        plt.plot(ratio, bias**2 + var, 'o')\n",
    "        plt.xlabel('p / n')\n",
    "        plt.ylabel('test mse')    \n",
    "        \n",
    "        plt.subplot(R, C, 2)\n",
    "        plt.plot(ratio, bias, 'o')\n",
    "        plt.xlabel('p / n')\n",
    "        plt.ylabel('bias')\n",
    "        \n",
    "        plt.subplot(R, C, 3)\n",
    "        plt.plot(ratio, var, 'o')\n",
    "        plt.xlabel('p / n')\n",
    "        plt.ylabel('var')\n",
    "        \n",
    "        \n",
    "        plt.subplot(R, C, 4)\n",
    "        plt.plot(gr2.wnorm.mean(), bias**2 + var, 'o')\n",
    "        plt.xlabel('$||\\hat{w}||_2$')\n",
    "        plt.ylabel('test mse')\n",
    "        \n",
    "        plt.subplot(R, C, 5)\n",
    "        plt.plot(gr2.H_trace.mean(), bias**2 + var, 'o')\n",
    "        plt.xlabel('$tr(H)$')\n",
    "        plt.ylabel('test mse')        \n",
    "    \n",
    "    for i in range(1, 6):\n",
    "        plt.subplot(R, C, i)\n",
    "        plt.xscale('log')\n",
    "        plt.yscale('log')\n",
    "    \n",
    "    s = f'dset={dset}_{dset_name}+p={num_features}'\n",
    "    plt.suptitle(s)\n",
    "    plt.tight_layout()\n",
    "    plt.savefig(oj(save_dir, s + '.pdf'))\n",
    "    plt.close()"
   ]
  },
  {
   "cell_type": "code",
   "execution_count": null,
   "metadata": {},
   "outputs": [],
   "source": []
  }
 ],
 "metadata": {
  "anaconda-cloud": {},
  "kernelspec": {
   "display_name": "Python 3",
   "language": "python",
   "name": "python3"
  },
  "language_info": {
   "codemirror_mode": {
    "name": "ipython",
    "version": 3
   },
   "file_extension": ".py",
   "mimetype": "text/x-python",
   "name": "python",
   "nbconvert_exporter": "python",
   "pygments_lexer": "ipython3",
   "version": "3.7.0"
  }
 },
 "nbformat": 4,
 "nbformat_minor": 4
}
