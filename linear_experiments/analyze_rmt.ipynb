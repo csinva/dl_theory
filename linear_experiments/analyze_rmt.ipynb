{
 "cells": [
  {
   "cell_type": "code",
   "execution_count": 30,
   "metadata": {},
   "outputs": [
    {
     "name": "stdout",
     "output_type": "stream",
     "text": [
      "The autoreload extension is already loaded. To reload it, use:\n",
      "  %reload_ext autoreload\n"
     ]
    }
   ],
   "source": [
    "import os\n",
    "from os.path import join as oj\n",
    "import sys, time\n",
    "sys.path.insert(1, oj(sys.path[0], '..'))  # insert parent path\n",
    "import seaborn as sns\n",
    "from sklearn.model_selection import train_test_split\n",
    "from regression_dsets_large_names import regression_dsets_large_names\n",
    "import numpy as np\n",
    "import matplotlib.pyplot as plt\n",
    "import pmlb\n",
    "from tqdm import tqdm\n",
    "from copy import deepcopy\n",
    "import pickle as pkl\n",
    "import pandas as pd\n",
    "import data\n",
    "import fit\n",
    "from process_results import process_results, aggregate_results, best_ridge\n",
    "\n",
    "%matplotlib inline\n",
    "%load_ext autoreload\n",
    "%autoreload 2"
   ]
  },
  {
   "cell_type": "code",
   "execution_count": null,
   "metadata": {},
   "outputs": [],
   "source": [
    "!python process_results.py"
   ]
  },
  {
   "cell_type": "code",
   "execution_count": 31,
   "metadata": {},
   "outputs": [
    {
     "name": "stdout",
     "output_type": "stream",
     "text": [
      "['pmlb_1', 'decay', 'pmlb_0', 'decay2', 'spike', 'clustered', 'basic']\n"
     ]
    }
   ],
   "source": [
    "save_dir = 'results'\n",
    "os.makedirs(save_dir, exist_ok=True)\n",
    "parent_dir = '/scratch/users/vision/yu_dl/raaz.rsk/double_descent/df' # basic, pmlb_0, clustered, pmlb_1\n",
    "folders = os.listdir(parent_dir)\n",
    "print(folders)"
   ]
  },
  {
   "cell_type": "markdown",
   "metadata": {},
   "source": [
    "# linear plots"
   ]
  },
  {
   "cell_type": "code",
   "execution_count": 32,
   "metadata": {},
   "outputs": [],
   "source": [
    "# for folder in folders:\n",
    "folder = 'decay2'\n",
    "out_dir = oj(parent_dir, folder)\n",
    "df = pd.read_pickle(oj(out_dir, 'processed.pkl'))\n"
   ]
  },
  {
   "cell_type": "code",
   "execution_count": 33,
   "metadata": {},
   "outputs": [
    {
     "data": {
      "text/plain": [
       "Index(['ratio', 'bias', 'var', 'wnorm', 'mse_train', 'mse_test', 'num_nonzero',\n",
       "       'mse_noiseless', 'df1', 'df2', 'df3', 'mse_zero'],\n",
       "      dtype='object')"
      ]
     },
     "execution_count": 33,
     "metadata": {},
     "output_type": "execute_result"
    }
   ],
   "source": [
    "df.keys()"
   ]
  },
  {
   "cell_type": "code",
   "execution_count": 38,
   "metadata": {},
   "outputs": [
    {
     "data": {
      "text/plain": [
       "MultiIndex(levels=[['gaussian'], [0], ['gaussian'], ['ols', 'ridge'], [0.0, 0.01, 0.1, 1.0, 10.0], [1], [0.1], ['gaussian'], ['decay'], [0.0, 1.0, 2.0, 4.0]],\n",
       "           codes=[[0, 0, 0, 0, 0, 0, 0, 0, 0, 0, 0, 0, 0, 0, 0, 0, 0, 0, 0, 0], [0, 0, 0, 0, 0, 0, 0, 0, 0, 0, 0, 0, 0, 0, 0, 0, 0, 0, 0, 0], [0, 0, 0, 0, 0, 0, 0, 0, 0, 0, 0, 0, 0, 0, 0, 0, 0, 0, 0, 0], [0, 0, 0, 0, 1, 1, 1, 1, 1, 1, 1, 1, 1, 1, 1, 1, 1, 1, 1, 1], [0, 0, 0, 0, 1, 1, 1, 1, 2, 2, 2, 2, 3, 3, 3, 3, 4, 4, 4, 4], [0, 0, 0, 0, 0, 0, 0, 0, 0, 0, 0, 0, 0, 0, 0, 0, 0, 0, 0, 0], [0, 0, 0, 0, 0, 0, 0, 0, 0, 0, 0, 0, 0, 0, 0, 0, 0, 0, 0, 0], [0, 0, 0, 0, 0, 0, 0, 0, 0, 0, 0, 0, 0, 0, 0, 0, 0, 0, 0, 0], [0, 0, 0, 0, 0, 0, 0, 0, 0, 0, 0, 0, 0, 0, 0, 0, 0, 0, 0, 0], [0, 1, 2, 3, 0, 1, 2, 3, 0, 1, 2, 3, 0, 1, 2, 3, 0, 1, 2, 3]],\n",
       "           names=['dset', 'dset_num', 'beta_type', 'model_type', 'reg_param', 'beta_norm', 'noise_mult', 'noise_distr', 'iid', 'cov_param'])"
      ]
     },
     "execution_count": 38,
     "metadata": {},
     "output_type": "execute_result"
    }
   ],
   "source": [
    "df.index"
   ]
  },
  {
   "cell_type": "code",
   "execution_count": 41,
   "metadata": {},
   "outputs": [
    {
     "data": {
      "text/plain": [
       "Float64Index([0.0, 1.0, 2.0, 4.0], dtype='float64', name='cov_param')"
      ]
     },
     "execution_count": 41,
     "metadata": {},
     "output_type": "execute_result"
    }
   ],
   "source": []
  },
  {
   "cell_type": "code",
   "execution_count": null,
   "metadata": {},
   "outputs": [],
   "source": [
    "row_best_ridge = best_ridge(df) # contains df1, df2, df3\n",
    "len_ridge = row_best_ridge.df1.size\n",
    "\n",
    "for param_num in [0, 1, 2, 4]:\n",
    "\n",
    "    R, C = 1, 2\n",
    "    SIZE = 5\n",
    "    plt.figure(figsize=(C * SIZE, R * SIZE))\n",
    "    plt.subplot(R, C, 1)\n",
    "    plt.axhline(df.mse_zero.values[0], lw=4, color='gray', alpha=0.4, label='trivial')\n",
    "\n",
    "    for name, curve in tqdm(df.iterrows()):\n",
    "        ind = df.index.names.index('cov_param')\n",
    "        cov_param = name[ind]\n",
    "\n",
    "        if cov_param == param_num:\n",
    "        #     print(name, curve)\n",
    "            model_type = name[3]\n",
    "            reg_param = name[4]\n",
    "            l = str(model_type) + ' ' + str(reg_param) + ' ' + str(name[-1])\n",
    "            if model_type == 'ols':\n",
    "                ls = '--'\n",
    "            elif model_type == 'ridge':\n",
    "                ls = '-'\n",
    "            elif model_type == 'linear_sta':\n",
    "                ls = '-.'\n",
    "            elif model_type == 'lasso':\n",
    "                ls = ':'\n",
    "\n",
    "            if not model_type == 'linear_sta':\n",
    "\n",
    "\n",
    "                kwargs = {'label': l, 'alpha': 0.5, 'lw': 2, 'linestyle': ls}\n",
    "\n",
    "                plt.subplot(R, C, 1)\n",
    "            #     plt.plot(curve.ratio, curve.mse_test, \n",
    "                plt.plot(curve.ratio, curve.mse_noiseless, **kwargs) #np.square(curve.bias) + curve['var'], **kwargs)\n",
    "                plt.ylabel('test mse')\n",
    "                plt.xlabel('p / n')\n",
    "\n",
    "                plt.subplot(R, C, 2)\n",
    "                plt.plot(curve.ratio, curve.mse_train, **kwargs)\n",
    "                plt.ylabel('train mse')\n",
    "                plt.xlabel('p / n')\n",
    "\n",
    "                '''\n",
    "                plt.subplot(R, C, 4)\n",
    "                plt.plot(row_best_ridge.df1, curve.mse_noiseless[:len_ridge], **kwargs)\n",
    "                plt.ylabel('test mse')\n",
    "                plt.xlabel('df1: $tr(S S^T)$')\n",
    "\n",
    "                plt.subplot(R, C, 5)\n",
    "                plt.plot(row_best_ridge.df2, curve.mse_noiseless[:len_ridge], **kwargs)\n",
    "                plt.ylabel('test mse')\n",
    "                plt.xlabel('df2: $tr(2 * S - S^T S)$')\n",
    "\n",
    "                plt.subplot(R, C, 6)\n",
    "                plt.plot(row_best_ridge.df3, curve.mse_noiseless[:len_ridge], **kwargs)\n",
    "                plt.ylabel('test mse')\n",
    "                plt.xlabel('df3: $tr(S)$')\n",
    "                '''\n",
    "\n",
    "\n",
    "                '''\n",
    "                plt.subplot(R, C, 3)\n",
    "                plt.plot(curve.ratio, np.square(curve.bias), **kwargs)\n",
    "                plt.ylabel('bias')\n",
    "\n",
    "                plt.subplot(R, C, 4)\n",
    "                plt.plot(curve.ratio, curve['var'], **kwargs)\n",
    "                plt.ylabel('var')\n",
    "                '''\n",
    "\n",
    "                '''\n",
    "                # wnorm also recorded\n",
    "                plt.subplot(R, C, 3)\n",
    "                plt.plot(curve.ratio, curve['wnorm'], **kwargs)\n",
    "                plt.ylabel('wnorm')\n",
    "                plt.xlabel('p / n')\n",
    "\n",
    "                plt.subplot(R, C, 4)\n",
    "                plt.plot(curve.ratio, curve['num_nonzero'], **kwargs)\n",
    "                plt.ylabel('num_nonzero')\n",
    "                plt.xlabel('p / n')\n",
    "                '''\n",
    "\n",
    "    for i in range(1, R * C + 1):\n",
    "        plt.subplot(R, C, i)\n",
    "        plt.xscale('log')\n",
    "        plt.yscale('log')\n",
    "\n",
    "    #     s = f'{model_type}_{dset}_{dset_name}+p={num_features}+lambda={reg_param}+noise_mult={noise_mult}'\n",
    "    plt.subplot(R, C, 1)\n",
    "    plt.legend()\n",
    "\n",
    "    '''\n",
    "    plt.subplot(R, C, 3)\n",
    "    ratios = row_best_ridge.ratio\n",
    "    n = 500 / ratios\n",
    "    p = 0 * ratios + 500\n",
    "    plt.plot(ratios, np.minimum(n, p), label='min(n, p)', alpha=0.5)\n",
    "    plt.plot(ratios, row_best_ridge.df1, label='df1')\n",
    "    plt.plot(ratios, row_best_ridge.df2, label='df2')\n",
    "    plt.plot(ratios, row_best_ridge.df3, label='df3')\n",
    "    plt.xlabel('p / n')\n",
    "    plt.legend()\n",
    "    '''\n",
    "\n",
    "\n",
    "    s = folder\n",
    "    # plt.suptitle(s)\n",
    "    plt.tight_layout()\n",
    "    # plt.show()\n",
    "    plt.savefig(oj(save_dir, s + f'_{param_num}.pdf'))\n",
    "    plt.show()\n",
    "    plt.close()"
   ]
  },
  {
   "cell_type": "code",
   "execution_count": null,
   "metadata": {},
   "outputs": [],
   "source": []
  }
 ],
 "metadata": {
  "anaconda-cloud": {},
  "kernelspec": {
   "display_name": "Python 3",
   "language": "python",
   "name": "python3"
  },
  "language_info": {
   "codemirror_mode": {
    "name": "ipython",
    "version": 3
   },
   "file_extension": ".py",
   "mimetype": "text/x-python",
   "name": "python",
   "nbconvert_exporter": "python",
   "pygments_lexer": "ipython3",
   "version": "3.7.5"
  }
 },
 "nbformat": 4,
 "nbformat_minor": 4
}
