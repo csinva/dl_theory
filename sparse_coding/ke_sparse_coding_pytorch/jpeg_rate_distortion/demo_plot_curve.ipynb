{
 "cells": [
  {
   "cell_type": "code",
   "execution_count": 1,
   "metadata": {},
   "outputs": [],
   "source": [
    "import utils\n",
    "import matplotlib.pyplot as plt\n",
    "%matplotlib notebook"
   ]
  },
  {
   "cell_type": "code",
   "execution_count": 15,
   "metadata": {},
   "outputs": [],
   "source": [
    "lamda = [0.2,0.5,1,2,3,4,5,8,10,15,20,30,40,50]"
   ]
  },
  {
   "cell_type": "code",
   "execution_count": 16,
   "metadata": {},
   "outputs": [
    {
     "name": "stdout",
     "output_type": "stream",
     "text": [
      "0.2\n",
      "0.5\n",
      "1\n",
      "2\n",
      "3\n",
      "4\n",
      "5\n",
      "8\n",
      "10\n",
      "15\n",
      "20\n",
      "30\n",
      "40\n",
      "50\n"
     ]
    }
   ],
   "source": [
    "bit_rate = []\n",
    "re_rate = []\n",
    "for lam in lamda:\n",
    "    print(lam)\n",
    "    _,_,bit,re = utils.jpeg_rate_distortion(\"data/vgt.jpg\",lam)\n",
    "    bit_rate.append(bit)\n",
    "    re_rate.append(re)"
   ]
  },
  {
   "cell_type": "code",
   "execution_count": 17,
   "metadata": {},
   "outputs": [
    {
     "data": {
      "text/plain": [
       "[3.9934190538194443,\n",
       " 3.77482421875,\n",
       " 2.77736328125,\n",
       " 2.0763248697916667,\n",
       " 1.6154286024305555,\n",
       " 1.3505034722222222,\n",
       " 1.2086078559027778,\n",
       " 0.9059168836805556,\n",
       " 0.8063986545138889,\n",
       " 0.6571690538194445,\n",
       " 0.5662196180555555,\n",
       " 0.4802593315972222,\n",
       " 0.4345193142361111,\n",
       " 0.4122634548611111]"
      ]
     },
     "execution_count": 17,
     "metadata": {},
     "output_type": "execute_result"
    }
   ],
   "source": [
    "bit_rate"
   ]
  },
  {
   "cell_type": "code",
   "execution_count": 20,
   "metadata": {},
   "outputs": [
    {
     "data": {
      "image/png": "[encoded data removed]",
      "text/plain": [
       "<Figure size 432x288 with 1 Axes>"
      ]
     },
     "metadata": {},
     "output_type": "display_data"
    }
   ],
   "source": [
    "plt.plot(re_rate,bit_rate);plt.title(\"Rate Distortion Performance\")\n",
    "plt.xlabel(\"Distortion\")\n",
    "plt.ylabel(\"Rate\")\n",
    "plt.show()"
   ]
  }
 ],
 "metadata": {
  "kernelspec": {
   "display_name": "Python 3",
   "language": "python",
   "name": "python3"
  },
  "language_info": {
   "codemirror_mode": {
    "name": "ipython",
    "version": 3
   },
   "file_extension": ".py",
   "mimetype": "text/x-python",
   "name": "python",
   "nbconvert_exporter": "python",
   "pygments_lexer": "ipython3",
   "version": "3.6.5"
  }
 },
 "nbformat": 4,
 "nbformat_minor": 2
}
