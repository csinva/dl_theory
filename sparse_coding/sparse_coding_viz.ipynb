{
 "cells": [
  {
   "cell_type": "code",
   "execution_count": null,
   "metadata": {},
   "outputs": [],
   "source": [
    "import os\n",
    "import torch\n",
    "import torch.nn as nn\n",
    "from torch.autograd import Variable\n",
    "import torchvision.datasets as dset\n",
    "import torchvision.transforms as transforms\n",
    "import torch.nn.functional as F\n",
    "import torch.optim as optim\n",
    "import torchvision\n",
    "from os.path import join as oj\n",
    "import sys\n",
    "sys.path.append('..')\n",
    "import numpy as np\n",
    "from copy import deepcopy\n",
    "import pickle as pkl\n",
    "from torch.optim.lr_scheduler import StepLR\n",
    "from sklearn.decomposition import PCA\n",
    "from sklearn.metrics import pairwise\n",
    "from vision_analyze import viz_weights\n",
    "import matplotlib.pyplot as plt\n",
    "from tqdm import tqdm\n",
    "%matplotlib inline\n",
    "%load_ext autoreload\n",
    "%autoreload 2"
   ]
  },
  {
   "cell_type": "markdown",
   "metadata": {},
   "source": [
    "# cifar"
   ]
  },
  {
   "cell_type": "code",
   "execution_count": null,
   "metadata": {},
   "outputs": [],
   "source": [
    "def plot_all_weights():\n",
    "    for fname in tqdm(os.listdir('sparse_bases')):\n",
    "        if '.npy' in fname and '60000' in fname:\n",
    "            print(fname)\n",
    "            bases = np.load(oj('sparse_bases', fname))\n",
    "            viz_weights.plot_weights(bases)\n",
    "            plt.savefig(oj('sparse_bases', fname[:-4] + '.png'), dpi=600, bbox_inches = 'tight', pad_inches = 0)\n",
    "# plot_all_weights()"
   ]
  },
  {
   "cell_type": "code",
   "execution_count": null,
   "metadata": {},
   "outputs": [],
   "source": [
    "# fname = 'bases_iters=4400_alpha=0.1_ncomps=256.npy'\n",
    "fname = 'bases_iters=300_alpha=1.0_ncomps=256.npy'\n",
    "bases = np.load(oj('sparse_cifar', fname))\n",
    "# viz_weights.plot_weights(bases, dset='rgb')"
   ]
  },
  {
   "cell_type": "markdown",
   "metadata": {},
   "source": [
    "# for mnist"
   ]
  },
  {
   "cell_type": "code",
   "execution_count": null,
   "metadata": {},
   "outputs": [],
   "source": [
    "from matplotlib.ticker import NullLocator\n",
    "params_to_vary = {\n",
    "    'alpha': [0.001, 0.05, 1, 10],\n",
    "    'num_bases': [25, 100, 400],\n",
    "    'class_num': [0, 1],\n",
    "    'batch_size': [100]\n",
    "}\n",
    "def plot_all_weights():\n",
    "    for fname in tqdm(os.listdir('bases/mnist_full')):\n",
    "        if '.npy' in fname and '60000' in fname:\n",
    "            print(fname)\n",
    "            bases = np.load(oj('bases/mnist_full', fname))\n",
    "            viz_weights.plot_weights(bases, dset='mnist')\n",
    "            \n",
    "            plt.gca().set_axis_off()\n",
    "            plt.gca().xaxis.set_major_locator(NullLocator())\n",
    "            plt.gca().yaxis.set_major_locator(NullLocator())\n",
    "            plt.margins(0,0)\n",
    "            plt.savefig(oj('bases/mnist_full', fname[:-4] + '.pdf'), bbox_inches = 'tight', pad_inches = 0)\n",
    "plot_all_weights()"
   ]
  },
  {
   "cell_type": "code",
   "execution_count": null,
   "metadata": {},
   "outputs": [],
   "source": []
  }
 ],
 "metadata": {
  "kernelspec": {
   "display_name": "Python 3",
   "language": "python",
   "name": "python3"
  },
  "language_info": {
   "codemirror_mode": {
    "name": "ipython",
    "version": 3
   },
   "file_extension": ".py",
   "mimetype": "text/x-python",
   "name": "python",
   "nbconvert_exporter": "python",
   "pygments_lexer": "ipython3",
   "version": "3.5.4"
  }
 },
 "nbformat": 4,
 "nbformat_minor": 2
}
