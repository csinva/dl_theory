{
 "cells": [
  {
   "cell_type": "code",
   "execution_count": 47,
   "metadata": {},
   "outputs": [],
   "source": [
    "from torch.autograd import Variable\n",
    "import torch\n",
    "import torch.autograd\n",
    "import torch.nn.functional as F\n",
    "import random\n",
    "import numpy as np\n",
    "from params_poly import p\n",
    "import matplotlib.pyplot as plt\n",
    "from torch import nn\n",
    "import torch.optim as optim\n"
   ]
  },
  {
   "cell_type": "code",
   "execution_count": 52,
   "metadata": {},
   "outputs": [
    {
     "name": "stdout",
     "output_type": "stream",
     "text": [
      "Loss: 0.000273 after 249 batches\n",
      "==> Learned function:\ty = +3.29 x^4 +1.35 x^3 +0.33 x^2 +3.10 x^1 -2.27\n",
      "==> Actual function:\ty = +3.88 x^4 +0.13 x^3 -3.47 x^2 +1.14 x^1 -4.66\n"
     ]
    },
    {
     "data": {
      "image/png": "[encoded data removed]",
      "text/plain": [
       "<Figure size 432x288 with 1 Axes>"
      ]
     },
     "metadata": {},
     "output_type": "display_data"
    }
   ],
   "source": [
    "POLY_DEGREE = 4\n",
    "W_target = Variable(torch.randn(POLY_DEGREE, 1) * 5)\n",
    "b_target = Variable(torch.randn(1) * 5)\n",
    "\n",
    "\n",
    "def poly(x):\n",
    "    return x * x\n",
    "\n",
    "def make_data():\n",
    "    X = np.linspace(0, 1, 100)\n",
    "    Y = np.apply_along_axis(poly, 0, X)\n",
    "    return X, Y\n",
    "\n",
    "\n",
    "def seed(p):\n",
    "    # set random seed        \n",
    "    np.random.seed(p.seed) \n",
    "    torch.manual_seed(p.seed)    \n",
    "    random.seed(p.seed)\n",
    "    \n",
    "    \n",
    "## network\n",
    "class PolyNet(nn.Module):\n",
    "    def __init__(self):\n",
    "        super(PolyNet, self).__init__()\n",
    "        self.fc1 = nn.Linear(1, 512)\n",
    "        self.fc2 = nn.Linear(512, 512)\n",
    "        self.fc3 = nn.Linear(512, 1)\n",
    "        \n",
    "    def forward(self, x):\n",
    "        x = x.view(-1, 1)\n",
    "        x = F.relu(self.fc1(x))\n",
    "        x = F.relu(self.fc2(x))\n",
    "        x = self.fc3(x)\n",
    "        return x\n",
    "    \n",
    "seed(p)\n",
    "X, Y = make_data()\n",
    "plt.plot(X, Y)\n",
    "\n",
    "X_t, Y_t = Variable(torch.Tensor(X)), Variable(torch.Tensor(Y))\n",
    "model = PolyNet()\n",
    "optimizer = optim.SGD(filter(lambda p: p.requires_grad, model.parameters()), lr=0.1)\n",
    "\n",
    "def train():\n",
    "\n",
    "#     fc = torch.nn.Linear(W_target.size(0), 1)\n",
    "\n",
    "    for batch_idx in range(1000):\n",
    "        # Reset gradients\n",
    "#         model.zero_grad()\n",
    "        optimizer.zero_grad()\n",
    "\n",
    "        # Forward pass\n",
    "        output = F.smooth_l1_loss(model(X_t), Y_t)\n",
    "        loss = output.data[0]\n",
    "\n",
    "        # Backward pass\n",
    "        output.backward()\n",
    "\n",
    "        # Apply gradients\n",
    "        optimizer.step()\n",
    "\n",
    "        # Stop criterion\n",
    "        if loss < 1e-3:\n",
    "            break\n",
    "            \n",
    "train()\n",
    "\n",
    "yhat = model(X_t).data.numpy()\n",
    "plt.plot(X, yhat)\n",
    "print('Loss: {:.6f} after {} batches'.format(loss, batch_idx))\n",
    "print('==> Learned function:\\t' + poly_desc(fc.weight.data.view(-1), fc.bias.data))\n",
    "print('==> Actual function:\\t' + poly_desc(W_target.data.view(-1), b_target.data))"
   ]
  },
  {
   "cell_type": "code",
   "execution_count": null,
   "metadata": {},
   "outputs": [],
   "source": []
  }
 ],
 "metadata": {
  "kernelspec": {
   "display_name": "Python 3",
   "language": "python",
   "name": "python3"
  },
  "language_info": {
   "codemirror_mode": {
    "name": "ipython",
    "version": 3
   },
   "file_extension": ".py",
   "mimetype": "text/x-python",
   "name": "python",
   "nbconvert_exporter": "python",
   "pygments_lexer": "ipython3",
   "version": "3.5.4"
  }
 },
 "nbformat": 4,
 "nbformat_minor": 2
}
