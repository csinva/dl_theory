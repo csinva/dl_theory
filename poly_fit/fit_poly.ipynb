{
 "cells": [
  {
   "cell_type": "code",
   "execution_count": 74,
   "metadata": {},
   "outputs": [],
   "source": [
    "from torch.autograd import Variable\n",
    "import torch\n",
    "import torch.autograd\n",
    "import torch.nn.functional as F\n",
    "import random\n",
    "import numpy as np\n",
    "from params_poly import p\n",
    "import matplotlib.pyplot as plt\n",
    "from torch import nn\n",
    "import torch.optim as optim\n",
    "from tqdm import tqdm"
   ]
  },
  {
   "cell_type": "code",
   "execution_count": 124,
   "metadata": {},
   "outputs": [
    {
     "name": "stderr",
     "output_type": "stream",
     "text": [
      "100%|██████████| 100/100 [00:00<00:00, 106.68it/s]\n"
     ]
    },
    {
     "data": {
      "image/png": "[encoded data removed]",
      "text/plain": [
       "<Figure size 432x288 with 1 Axes>"
      ]
     },
     "metadata": {},
     "output_type": "display_data"
    },
    {
     "name": "stdout",
     "output_type": "stream",
     "text": [
      "Loss: 1935.075562 after 99 batches\n"
     ]
    }
   ],
   "source": [
    "def poly(x):\n",
    "    return x * x\n",
    "\n",
    "def make_data():\n",
    "    X = np.linspace(0, 100, 4)\n",
    "    Y = np.apply_along_axis(poly, 0, X)\n",
    "    return X, Y\n",
    "\n",
    "\n",
    "def seed(p):\n",
    "    # set random seed        \n",
    "    np.random.seed(p.seed) \n",
    "    torch.manual_seed(p.seed)    \n",
    "    random.seed(p.seed)\n",
    "    \n",
    "## network\n",
    "class LinearNet(nn.Module):\n",
    "    def __init__(self, num_layers, input_size, hidden_size, output_size):\n",
    "        # num_layers is number of weight matrices\n",
    "        super(LinearNet, self).__init__()\n",
    "        self.input_size = input_size\n",
    "        self.output_size = output_size\n",
    "        \n",
    "        # for one layer nets\n",
    "        if num_layers == 1:\n",
    "            self.fc = nn.ModuleList([nn.Linear(input_size, output_size)])\n",
    "        else:\n",
    "            self.fc = nn.ModuleList([nn.Linear(input_size, hidden_size)])\n",
    "            self.fc.extend([nn.Linear(hidden_size, hidden_size) for i in range(num_layers - 2)])\n",
    "            self.fc.append(nn.Linear(hidden_size, output_size))\n",
    "\n",
    "    def forward(self, x):\n",
    "        y = x.view(-1, self.input_size)\n",
    "        for i in range(len(self.fc) - 1):\n",
    "            y = F.relu(self.fc[i](y))\n",
    "        return self.fc[-1](y)\n",
    "    \n",
    "seed(p)\n",
    "X, Y = make_data()\n",
    "X_t, Y_t = Variable(torch.Tensor(X)), Variable(torch.Tensor(Y))\n",
    "model = LinearNet(4, input_size=1, hidden_size=512, output_size=1)\n",
    "# optimizer = optim.SGD(filter(lambda p: p.requires_grad, model.parameters()), lr=1e-6)\n",
    "optimizer = optim.Adam(filter(lambda p: p.requires_grad, model.parameters()), \n",
    "                      lr=1e-1) # wow Adam does way better\n",
    "criterion =  torch.nn.MSELoss()\n",
    "for batch_idx in tqdm(range(100)):\n",
    "    # Reset gradients\n",
    "    optimizer.zero_grad()\n",
    "\n",
    "    # Forward pass\n",
    "    loss = criterion(model(X_t), Y_t)\n",
    "\n",
    "    # Backward pass\n",
    "    loss.backward()\n",
    "\n",
    "    # Apply gradients\n",
    "    optimizer.step()\n",
    "\n",
    "    \n",
    "def plot_model(X, Y, model):\n",
    "    Xgrid = Variable(torch.Tensor(np.linspace(np.min(X), np.max(X), 100)))\n",
    "    yhat = model(Xgrid).data.numpy()\n",
    "    plt.plot(X, Y, 'o', label='orig data', color='orange')\n",
    "    plt.plot(Xgrid.data.numpy(), yhat, label='fit', color='cyan')\n",
    "    plt.legend()\n",
    "\n",
    "    \n",
    "plot_model(X, Y, model)\n",
    "plt.show()\n",
    "print('Loss: {:.6f} after {} batches'.format(loss.data[0], batch_idx))"
   ]
  },
  {
   "cell_type": "code",
   "execution_count": null,
   "metadata": {},
   "outputs": [],
   "source": []
  }
 ],
 "metadata": {
  "kernelspec": {
   "display_name": "Python 3",
   "language": "python",
   "name": "python3"
  },
  "language_info": {
   "codemirror_mode": {
    "name": "ipython",
    "version": 3
   },
   "file_extension": ".py",
   "mimetype": "text/x-python",
   "name": "python",
   "nbconvert_exporter": "python",
   "pygments_lexer": "ipython3",
   "version": "3.5.4"
  }
 },
 "nbformat": 4,
 "nbformat_minor": 2
}
