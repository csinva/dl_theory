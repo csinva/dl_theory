{
 "cells": [
  {
   "cell_type": "code",
   "execution_count": 33,
   "metadata": {},
   "outputs": [],
   "source": [
    "from torch.autograd import Variable\n",
    "import torch\n",
    "import torch.autograd\n",
    "import torch.nn.functional as F\n",
    "import random\n",
    "import numpy as np\n",
    "from params_poly import p\n",
    "import matplotlib.pyplot as plt\n",
    "from torch import nn\n",
    "import torch.optim as optim\n",
    "from tqdm import tqdm\n",
    "import pickle as pkl\n",
    "from os.path import join as oj\n",
    "import numpy.random as npr"
   ]
  },
  {
   "cell_type": "code",
   "execution_count": 34,
   "metadata": {},
   "outputs": [],
   "source": [
    "import matplotlib.pyplot as plt\n",
    "import matplotlib as mpl\n",
    "import matplotlib.pylab as pylab\n",
    "\n",
    "\n",
    "\n",
    "\n",
    "def set_style():\n",
    "    plt.style.use('fivethirtyeight')\n",
    "    label_size = 12\n",
    "    mpl.rcParams['xtick.labelsize'] = label_size \n",
    "    mpl.rcParams['ytick.labelsize'] = label_size \n",
    "    mpl.rcParams['axes.labelsize'] = label_size\n",
    "    mpl.rcParams['axes.titlesize'] = label_size\n",
    "    mpl.rcParams['figure.titlesize'] = label_size\n",
    "    mpl.rcParams['lines.markersize'] = 20\n",
    "    mpl.rcParams['lines.linewidth'] = 3.\n",
    "    mpl.rcParams['grid.linewidth'] = 1.\n",
    "    mpl.rcParams['legend.fontsize'] = label_size\n",
    "    pylab.rcParams['xtick.major.pad']=3\n",
    "    pylab.rcParams['ytick.major.pad']=3\n",
    "\n",
    "    pylab.rcParams['figure.facecolor']='white'\n",
    "    pylab.rcParams['axes.facecolor']='white'\n",
    "    # mpl.rcParams['figure.figsize'] = [12, 10]\n",
    "    # mpl.rcParams.keys()\n",
    "    # Say, \"the default sans-serif font is COMIC SANS\"\n",
    "    # mpl.rcParams['font.serif'] = 'Times New Roman'\n",
    "    # # Then, \"ALWAYS use sans-serif fonts\"\n",
    "    # mpl.rcParams['font.family'] = \"Serif\"\n",
    "\n",
    "import pandas as pd\n",
    "from copy import deepcopy"
   ]
  },
  {
   "cell_type": "code",
   "execution_count": 35,
   "metadata": {},
   "outputs": [],
   "source": [
    "set_style()"
   ]
  },
  {
   "cell_type": "code",
   "execution_count": 64,
   "metadata": {},
   "outputs": [],
   "source": [
    "def square_el(x):\n",
    "    return x * x\n",
    "\n",
    "def cube_el(x):\n",
    "    return x * x * x\n",
    "\n",
    "def sin_el(x):\n",
    "    return np.sin(x * 2 * np.pi / 100)\n",
    "\n",
    "def make_data(func, N=4):\n",
    "    X = np.linspace(0, 100, N)\n",
    "    X_grid = np.linspace(-80, 120, 1000)\n",
    "    Y = np.apply_along_axis(func, 0, X)\n",
    "    Y_grid = np.apply_along_axis(func, 0, X_grid)            \n",
    "    return X, Y, X_grid, Y_grid\n",
    "\n",
    "\n",
    "def seed(p, repeat):\n",
    "    s = p.seed + repeat * 13913\n",
    "    # set random seed        \n",
    "    np.random.seed(s) \n",
    "    torch.manual_seed(s)    \n",
    "    random.seed(s)\n",
    "    \n",
    "## network\n",
    "class LinearNet(nn.Module):\n",
    "    def __init__(self, num_layers, input_size, hidden_size, output_size):\n",
    "        # num_layers is number of weight matrices\n",
    "        super(LinearNet, self).__init__()\n",
    "        self.input_size = input_size\n",
    "        self.output_size = output_size\n",
    "        \n",
    "        # for one layer nets\n",
    "        if num_layers == 1:\n",
    "            self.fc = nn.ModuleList([nn.Linear(input_size, output_size, bias=False)])\n",
    "        else:\n",
    "            self.fc = nn.ModuleList([nn.Linear(input_size, hidden_size)])\n",
    "            self.fc.extend([nn.Linear(hidden_size, hidden_size) for i in range(num_layers - 2)])\n",
    "            self.fc.append(nn.Linear(hidden_size, output_size))\n",
    "\n",
    "    def forward(self, x):\n",
    "        y = x.view(-1, self.input_size)\n",
    "        for i in range(len(self.fc) - 1):\n",
    "            y = F.relu(self.fc[i](y))\n",
    "        return self.fc[-1](y)\n",
    "    \n",
    "class LinearRegressionModel(torch.nn.Module): \n",
    "  \n",
    "    def __init__(self): \n",
    "        super(LinearRegressionModel, self).__init__() \n",
    "        self.linear = torch.nn.Linear(1, 1)  # One in and one out \n",
    "  \n",
    "    def forward(self, x): \n",
    "        y_pred = self.linear(x) \n",
    "        return y_pred \n",
    "    \n",
    "def closure():\n",
    "    "
   ]
  },
  {
   "cell_type": "markdown",
   "metadata": {},
   "source": [
    "# run"
   ]
  },
  {
   "cell_type": "code",
   "execution_count": 92,
   "metadata": {},
   "outputs": [
    {
     "name": "stderr",
     "output_type": "stream",
     "text": [
      "  5%|▍         | 138/3000 [00:00<00:02, 1374.06it/s]"
     ]
    },
    {
     "name": "stdout",
     "output_type": "stream",
     "text": [
      "shapes (10, 1) (10,)\n"
     ]
    },
    {
     "name": "stderr",
     "output_type": "stream",
     "text": [
      "100%|██████████| 3000/3000 [00:02<00:00, 1073.12it/s]"
     ]
    },
    {
     "name": "stdout",
     "output_type": "stream",
     "text": [
      "done!\n"
     ]
    },
    {
     "name": "stderr",
     "output_type": "stream",
     "text": [
      "\n"
     ]
    }
   ],
   "source": [
    "def simple_data(d, N):\n",
    "    X = npr.rand(N, d) # * 1e5\n",
    "    Y = X[:, 0] # + npr.rand(N) * 0.001\n",
    "    return X, Y\n",
    "\n",
    "hidden_size = 4\n",
    "repeats = 1\n",
    "opt = 'sgd'\n",
    "lr = 1e-2\n",
    "N = 10\n",
    "d = 1 # number of input features\n",
    "num_iters = int(3e3)\n",
    "num_layers = [1] #, 2, 6]\n",
    "\n",
    "\n",
    "X, Y = simple_data(d, N)\n",
    "print('shapes', X.shape, Y.shape)\n",
    "# func = cube_el # square\n",
    "# X, Y, X_grid, Y_grid = make_data(func, N)\n",
    "# plt.plot(X[:, 0], Y, 'o')\n",
    "# plt.plot(X_grid, Y_grid, '--')\n",
    "\n",
    "device = 'cuda'\n",
    "X_t, Y_t = torch.Tensor(X).to(device), torch.Tensor(Y).to(device)\n",
    "# X_t = torch.Tensor([[1.0], [2.0], [3.0], [4.0]]).to(device)\n",
    "# Y_t = torch.Tensor([[2.0], [4.0], [6.0], [8.0]]).to(device)\n",
    "r = {'model': [], 'num_lays': [], \n",
    "     'loss': [], 'seed': [], 'opt': [], 'lr': [], 'ws': []}\n",
    "\n",
    "\n",
    "for i, num_lays in enumerate(num_layers):\n",
    "    for repeat in range(repeats):\n",
    "        seed(p, repeat)\n",
    "        model = LinearNet(num_layers=num_lays, input_size=d, hidden_size=hidden_size, output_size=1).to(device)\n",
    "#         model = LinearRegressionModel().to(device)\n",
    "\n",
    "        if opt == 'adam':\n",
    "            optimizer = optim.Adam(model.parameters(), lr=lr) # wow Adam does way better\n",
    "        else:\n",
    "            optimizer = optim.SGD(model.parameters(), lr=lr) # 1e6 worked \n",
    "        \n",
    "        criterion =  torch.nn.MSELoss()\n",
    "        losses = []\n",
    "        ws = []\n",
    "        for it in tqdm(range(num_iters)):\n",
    "#             optimizer.zero_grad()\n",
    "            loss = criterion(model(X_t), Y_t)\n",
    "            \n",
    "            optimizer.zero_grad()            \n",
    "            loss.backward()\n",
    "            optimizer.step()\n",
    "            losses.append(loss.detach().item())\n",
    "            ws.append(model.state_dict()['fc.0.weight'].item())\n",
    "#         print('loss: {:.6f} after {} batches'.format(loss.data[0], batch_idx))\n",
    "\n",
    "        \n",
    "        # saving\n",
    "        r['model'].append(deepcopy(model))\n",
    "        r['num_lays'].append(num_lays)\n",
    "        r['loss'].append(losses)\n",
    "        r['seed'].append(repeat)\n",
    "        r['opt'].append(opt)\n",
    "        r['lr'].append(lr)\n",
    "        r['ws'].append(ws)\n",
    "\n",
    "\n",
    "print('done!')"
   ]
  },
  {
   "cell_type": "code",
   "execution_count": 93,
   "metadata": {},
   "outputs": [
    {
     "name": "stderr",
     "output_type": "stream",
     "text": [
      "No handles with labels found to put in legend.\n"
     ]
    },
    {
     "data": {
      "image/png": "[encoded data removed]",
      "text/plain": [
       "<Figure size 432x288 with 3 Axes>"
      ]
     },
     "metadata": {},
     "output_type": "display_data"
    }
   ],
   "source": [
    "# d = {'model': models, 'num_hidden': num_hiddens, \n",
    "# results.to_pickle('poly_runs_sin.pkl')\n",
    "# pkl.dump(d, open('poly_runs_sin' + '.pkl', 'wb'))\n",
    "\n",
    "results = pd.DataFrame.from_dict(r)       \n",
    "# results = pd.read_pickle('poly_runs.pkl')\n",
    "\n",
    "X_test, Y_test = simple_data(d, N)\n",
    "\n",
    "R, C = 1, 3\n",
    "for i, row in results.iterrows():\n",
    "    plt.subplot(R, C, 1)\n",
    "    plt.plot(row.loss, label=str(i))\n",
    "#     plt.yscale('log')\n",
    "    plt.ylabel('train mse')\n",
    "    plt.xlabel('epoch')\n",
    "    m = row.model    \n",
    "    \n",
    "    plt.subplot(R, C, 2)\n",
    "    pred = m(torch.Tensor(X).to(device)).cpu().detach().numpy()\n",
    "    plt.plot(X, pred, '.', label='pred', alpha=0.1)\n",
    "    plt.plot(X, Y, '.', label='lab', alpha=0.1)\n",
    "    plt.xlabel('x')\n",
    "    plt.legend()    \n",
    "    \n",
    "    plt.subplot(R, C, 3)\n",
    "    plt.plot(row['ws'])\n",
    "    plt.ylabel('w')\n",
    "    plt.xlabel('epoch')\n",
    "plt.legend()\n",
    "\n",
    "\n",
    "# ws = [mod.state_dict()['fc.0.weight'].item() for mod in results['model']]\n",
    "# print('ws', ws)\n",
    "\n",
    "\n",
    "\n",
    "\n",
    "plt.subplot(R, C, 1)    \n",
    "\n",
    "plt.tight_layout()\n",
    "\n",
    "\n",
    "\n",
    "# print('w', m.state_dict()['fc.0.weight'].item(), 'b', m.state_dict()['fc.0.bias'].item())\n",
    "# print(model.linear.weight)\n",
    "\n",
    "plt.show()"
   ]
  },
  {
   "cell_type": "code",
   "execution_count": 284,
   "metadata": {},
   "outputs": [],
   "source": [
    "import numpy.linalg as npl"
   ]
  },
  {
   "cell_type": "code",
   "execution_count": 285,
   "metadata": {},
   "outputs": [],
   "source": [
    "w = npl.pinv(X.T @ X) @ X.T @ Y"
   ]
  },
  {
   "cell_type": "code",
   "execution_count": null,
   "metadata": {},
   "outputs": [],
   "source": [
    "y "
   ]
  }
 ],
 "metadata": {
  "kernelspec": {
   "display_name": "Python 3",
   "language": "python",
   "name": "python3"
  },
  "language_info": {
   "codemirror_mode": {
    "name": "ipython",
    "version": 3
   },
   "file_extension": ".py",
   "mimetype": "text/x-python",
   "name": "python",
   "nbconvert_exporter": "python",
   "pygments_lexer": "ipython3",
   "version": "3.7.0"
  }
 },
 "nbformat": 4,
 "nbformat_minor": 2
}
