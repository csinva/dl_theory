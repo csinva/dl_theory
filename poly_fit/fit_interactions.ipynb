{
 "cells": [
  {
   "cell_type": "code",
   "execution_count": 15,
   "metadata": {},
   "outputs": [],
   "source": [
    "from torch.autograd import Variable\n",
    "import torch\n",
    "import torch.autograd\n",
    "import torch.nn.functional as F\n",
    "import random\n",
    "import numpy as np\n",
    "from params_poly import p\n",
    "import matplotlib.pyplot as plt\n",
    "from torch import nn\n",
    "import torch.optim as optim\n",
    "from tqdm import tqdm\n",
    "import pickle as pkl\n",
    "from os.path import join as oj\n",
    "import numpy.random as npr"
   ]
  },
  {
   "cell_type": "code",
   "execution_count": 2,
   "metadata": {},
   "outputs": [],
   "source": [
    "import matplotlib.pyplot as plt\n",
    "import matplotlib as mpl\n",
    "import matplotlib.pylab as pylab\n",
    "\n",
    "\n",
    "\n",
    "\n",
    "def set_style():\n",
    "    plt.style.use('fivethirtyeight')\n",
    "    label_size = 12\n",
    "    mpl.rcParams['xtick.labelsize'] = label_size \n",
    "    mpl.rcParams['ytick.labelsize'] = label_size \n",
    "    mpl.rcParams['axes.labelsize'] = label_size\n",
    "    mpl.rcParams['axes.titlesize'] = label_size\n",
    "    mpl.rcParams['figure.titlesize'] = label_size\n",
    "    mpl.rcParams['lines.markersize'] = 20\n",
    "    mpl.rcParams['lines.linewidth'] = 3.\n",
    "    mpl.rcParams['grid.linewidth'] = 1.\n",
    "    mpl.rcParams['legend.fontsize'] = label_size\n",
    "    pylab.rcParams['xtick.major.pad']=3\n",
    "    pylab.rcParams['ytick.major.pad']=3\n",
    "\n",
    "    pylab.rcParams['figure.facecolor']='white'\n",
    "    pylab.rcParams['axes.facecolor']='white'\n",
    "    # mpl.rcParams['figure.figsize'] = [12, 10]\n",
    "    # mpl.rcParams.keys()\n",
    "    # Say, \"the default sans-serif font is COMIC SANS\"\n",
    "    # mpl.rcParams['font.serif'] = 'Times New Roman'\n",
    "    # # Then, \"ALWAYS use sans-serif fonts\"\n",
    "    # mpl.rcParams['font.family'] = \"Serif\"\n",
    "\n",
    "import pandas as pd\n",
    "from copy import deepcopy"
   ]
  },
  {
   "cell_type": "code",
   "execution_count": 3,
   "metadata": {},
   "outputs": [],
   "source": [
    "set_style()"
   ]
  },
  {
   "cell_type": "code",
   "execution_count": 7,
   "metadata": {},
   "outputs": [],
   "source": [
    "def square_el(x):\n",
    "    return x * x\n",
    "\n",
    "def cube_el(x):\n",
    "    return x * x * x\n",
    "\n",
    "def sin_el(x):\n",
    "    return np.sin(x * 2 * np.pi / 100)\n",
    "\n",
    "def make_data(func, N=4):\n",
    "    X = np.linspace(0, 100, N)\n",
    "    X_grid = np.linspace(-80, 120, 1000)\n",
    "    Y = np.apply_along_axis(func, 0, X)\n",
    "    Y_grid = np.apply_along_axis(func, 0, X_grid)            \n",
    "    return X, Y, X_grid, Y_grid\n",
    "\n",
    "\n",
    "def seed(p, repeat):\n",
    "    s = p.seed + repeat * 13913\n",
    "    # set random seed        \n",
    "    np.random.seed(s) \n",
    "    torch.manual_seed(s)    \n",
    "    random.seed(s)\n",
    "    \n",
    "## network\n",
    "class LinearNet(nn.Module):\n",
    "    def __init__(self, num_layers, input_size, hidden_size, output_size):\n",
    "        # num_layers is number of weight matrices\n",
    "        super(LinearNet, self).__init__()\n",
    "        self.input_size = input_size\n",
    "        self.output_size = output_size\n",
    "        \n",
    "        # for one layer nets\n",
    "        if num_layers == 1:\n",
    "            self.fc = nn.ModuleList([nn.Linear(input_size, output_size)])\n",
    "        else:\n",
    "            self.fc = nn.ModuleList([nn.Linear(input_size, hidden_size)])\n",
    "            self.fc.extend([nn.Linear(hidden_size, hidden_size) for i in range(num_layers - 2)])\n",
    "            self.fc.append(nn.Linear(hidden_size, output_size))\n",
    "\n",
    "    def forward(self, x):\n",
    "        y = x.view(-1, self.input_size)\n",
    "        for i in range(len(self.fc) - 1):\n",
    "            y = F.relu(self.fc[i](y))\n",
    "        return self.fc[-1](y)"
   ]
  },
  {
   "cell_type": "markdown",
   "metadata": {},
   "source": [
    "# run"
   ]
  },
  {
   "cell_type": "code",
   "execution_count": 115,
   "metadata": {},
   "outputs": [
    {
     "name": "stderr",
     "output_type": "stream",
     "text": [
      "3it [00:06,  2.17s/it]"
     ]
    },
    {
     "name": "stdout",
     "output_type": "stream",
     "text": [
      "done!\n"
     ]
    },
    {
     "name": "stderr",
     "output_type": "stream",
     "text": [
      "\n"
     ]
    }
   ],
   "source": [
    "def simple_data(d, N):\n",
    "    X = npr.randn(N, d)\n",
    "    Y = X[:, 0]\n",
    "    return X, Y\n",
    "\n",
    "hidden_size = 4\n",
    "repeats = 1\n",
    "opt = 'sgd'\n",
    "lr = 1e-2\n",
    "N = 1\n",
    "d = 2 # number of input features\n",
    "num_iters = 1000\n",
    "\n",
    "\n",
    "\n",
    "X, Y = simple_data(d, N)\n",
    "# func = cube_el # square\n",
    "# X, Y, X_grid, Y_grid = make_data(func, N)\n",
    "# plt.plot(X[:, 0], Y, 'o')\n",
    "# plt.plot(X_grid, Y_grid, '--')\n",
    "\n",
    "device = 'cuda'\n",
    "X_t, Y_t = torch.Tensor(X).to(device), torch.Tensor(Y).to(device)\n",
    "r = {'model': [], 'num_hidden': [], \n",
    "     'loss': [], 'seed': [], 'opt': [], 'lr': []}\n",
    "\n",
    "\n",
    "for i, nh in tqdm(enumerate([1, 2, 6])):\n",
    "    for repeat in range(repeats):\n",
    "        seed(p, repeat)\n",
    "        model = LinearNet(num_layers=nh, input_size=d, hidden_size=hidden_size, output_size=1).to(device)\n",
    "\n",
    "        if opt == 'adam':\n",
    "            optimizer = optim.Adam(filter(lambda p: p.requires_grad, model.parameters()), \n",
    "                              lr=lr) # wow Adam does way better\n",
    "        else:\n",
    "            optimizer = optim.SGD(filter(lambda p: p.requires_grad, model.parameters()), lr=lr) # 1e6 worked \n",
    "        criterion =  torch.nn.MSELoss()\n",
    "        losses = []\n",
    "        for batch_idx in range(num_iters):\n",
    "            optimizer.zero_grad()\n",
    "            loss = criterion(model(X_t), Y_t)\n",
    "            loss.backward()\n",
    "            optimizer.step()\n",
    "            losses.append(loss.item())\n",
    "#         print('loss: {:.6f} after {} batches'.format(loss.data[0], batch_idx))\n",
    "\n",
    "        \n",
    "        # saving\n",
    "        r['model'].append(deepcopy(model))\n",
    "        r['num_hidden'].append(nh)\n",
    "        r['loss'].append(losses)\n",
    "        r['seed'].append(repeat)\n",
    "        r['opt'].append(opt)\n",
    "        r['lr'].append(lr)\n",
    "\n",
    "\n",
    "print('done!')"
   ]
  },
  {
   "cell_type": "code",
   "execution_count": 116,
   "metadata": {},
   "outputs": [
    {
     "data": {
      "image/png": "[encoded data removed]",
      "text/plain": [
       "<Figure size 432x288 with 2 Axes>"
      ]
     },
     "metadata": {},
     "output_type": "display_data"
    }
   ],
   "source": [
    "# d = {'model': models, 'num_hidden': num_hiddens, \n",
    "# results.to_pickle('poly_runs_sin.pkl')\n",
    "# pkl.dump(d, open('poly_runs_sin' + '.pkl', 'wb'))\n",
    "\n",
    "results = pd.DataFrame.from_dict(r)       \n",
    "# results = pd.read_pickle('poly_runs.pkl')\n",
    "results\n",
    "\n",
    "X, Y = simple_data(d, N)\n",
    "\n",
    "R, C = 1, 2\n",
    "for i, row in results.iterrows():\n",
    "    plt.subplot(R, C, 1)\n",
    "    plt.plot(row.loss)\n",
    "    plt.ylabel('train mse')\n",
    "    m = row.model    \n",
    "    plt.subplot(R, C, 2)\n",
    "    pred = m(torch.Tensor(X).to(device)).cpu().detach().numpy()\n",
    "    plt.plot(Y, pred, '.')\n",
    "    plt.ylabel('pred')\n",
    "    plt.xlabel('label')\n",
    "    \n",
    "plt.tight_layout()\n",
    "plt.show()"
   ]
  },
  {
   "cell_type": "code",
   "execution_count": null,
   "metadata": {},
   "outputs": [],
   "source": []
  }
 ],
 "metadata": {
  "kernelspec": {
   "display_name": "Python 3",
   "language": "python",
   "name": "python3"
  },
  "language_info": {
   "codemirror_mode": {
    "name": "ipython",
    "version": 3
   },
   "file_extension": ".py",
   "mimetype": "text/x-python",
   "name": "python",
   "nbconvert_exporter": "python",
   "pygments_lexer": "ipython3",
   "version": "3.7.0"
  }
 },
 "nbformat": 4,
 "nbformat_minor": 2
}
