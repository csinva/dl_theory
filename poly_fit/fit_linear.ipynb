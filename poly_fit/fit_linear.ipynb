{
 "cells": [
  {
   "cell_type": "code",
   "execution_count": 38,
   "metadata": {},
   "outputs": [],
   "source": [
    "import numpy as np\n",
    "import numpy.random as npr\n",
    "import numpy.linalg as npl\n",
    "import matplotlib.pyplot as plt"
   ]
  },
  {
   "cell_type": "code",
   "execution_count": 50,
   "metadata": {},
   "outputs": [
    {
     "name": "stdout",
     "output_type": "stream",
     "text": [
      "all x1:\t\t\t 1.00e+00 -3.65e-17\n",
      "\n",
      "x1 twice\n",
      "eps=0:\t\t\t 5.00e-01 5.00e-01\n",
      "eps=1e-5:\t\t 1.00e+00 -5.76e-06\n",
      "eps=0.1:\t\t 1.00e+00 -2.91e-14\n",
      "eps=1e-5 yeps=0.1:\t 5.80e+02 -5.79e+02\n",
      "eps=0.1 yeps=0.1:\t 9.54e-01 4.31e-02\n",
      "\n",
      "x1 * x2\n",
      "eps=0:\t\t\t -4.25e-02 1.40e-01\n",
      "eps=1e-5:\t\t 1.56e-02 -1.49e-01\n",
      "eps=0.1:\t\t 4.50e-02 -9.32e-02\n",
      "eps=1e-5 yeps=0.1:\t 2.70e-02 1.65e-01\n",
      "eps=0.1 yeps=0.1:\t 9.07e-02 -6.58e-03\n"
     ]
    }
   ],
   "source": [
    "def get_data(n=1000, func_num=1, eps1=0.1, yeps=0):\n",
    "    x1 = npr.randn(n)\n",
    "    x2 = npr.randn(n)    \n",
    "    noise = npr.randn(n) * eps1\n",
    "    \n",
    "    if func_num == 1:\n",
    "        X = [x1, x2]\n",
    "        y = x1\n",
    "    if func_num == 2:\n",
    "        X = [x1, x1 + noise]\n",
    "        y = x1\n",
    "    elif func_num == 3:\n",
    "        X = [x1, x2]\n",
    "        y = x2 * x2\n",
    "        \n",
    "    y_noise = npr.randn(n) * yeps\n",
    "    y = y + y_noise\n",
    "\n",
    "    X = np.vstack(X).T\n",
    "    wols = npl.pinv(X.T @ X) @ X.T @ y\n",
    "    return X, y, wols\n",
    "\n",
    "X, y, w = get_data(n=int(1e5), func_num=1)\n",
    "print(f'all x1:\\t\\t\\t {w[0]:0.2e} {w[1]:0.2e}')\n",
    "\n",
    "print('\\nx1 twice')\n",
    "X, y, w = get_data(n=1000, func_num=2, eps1=0)\n",
    "print(f'eps=0:\\t\\t\\t {w[0]:0.2e} {w[1]:0.2e}')\n",
    "X, y, w = get_data(n=1000, func_num=2, eps1=1e-5)\n",
    "print(f'eps=1e-5:\\t\\t {w[0]:0.2e} {w[1]:0.2e}')\n",
    "X, y, w = get_data(n=1000, func_num=2, eps1=0.1)\n",
    "print(f'eps=0.1:\\t\\t {w[0]:0.2e} {w[1]:0.2e}')\n",
    "X, y, w = get_data(n=1000, func_num=2, eps1=1e-5, yeps=0.1)\n",
    "print(f'eps=1e-5 yeps=0.1:\\t {w[0]:0.2e} {w[1]:0.2e}')\n",
    "X, y, w = get_data(n=1000, func_num=2, eps1=0.1, yeps=0.1)\n",
    "print(f'eps=0.1 yeps=0.1:\\t {w[0]:0.2e} {w[1]:0.2e}')\n",
    "\n",
    "print('\\nx1 * x2')\n",
    "X, y, w = get_data(n=1000, func_num=3, eps1=0)\n",
    "print(f'eps=0:\\t\\t\\t {w[0]:0.2e} {w[1]:0.2e}')\n",
    "X, y, w = get_data(n=1000, func_num=3, eps1=1e-5)\n",
    "print(f'eps=1e-5:\\t\\t {w[0]:0.2e} {w[1]:0.2e}')\n",
    "X, y, w = get_data(n=1000, func_num=3, eps1=0.1)\n",
    "print(f'eps=0.1:\\t\\t {w[0]:0.2e} {w[1]:0.2e}')\n",
    "X, y, w = get_data(n=1000, func_num=3, eps1=1e-5)\n",
    "print(f'eps=1e-5 yeps=0.1:\\t {w[0]:0.2e} {w[1]:0.2e}')\n",
    "X, y, w = get_data(n=1000, func_num=3, eps1=0.1)\n",
    "print(f'eps=0.1 yeps=0.1:\\t {w[0]:0.2e} {w[1]:0.2e}')"
   ]
  },
  {
   "cell_type": "code",
   "execution_count": 17,
   "metadata": {},
   "outputs": [
    {
     "data": {
      "text/plain": [
       "array([ 1.00000000e+00, -5.20417043e-18])"
      ]
     },
     "execution_count": 17,
     "metadata": {},
     "output_type": "execute_result"
    }
   ],
   "source": [
    "wols"
   ]
  },
  {
   "cell_type": "code",
   "execution_count": null,
   "metadata": {},
   "outputs": [],
   "source": []
  }
 ],
 "metadata": {
  "kernelspec": {
   "display_name": "Python 3",
   "language": "python",
   "name": "python3"
  },
  "language_info": {
   "codemirror_mode": {
    "name": "ipython",
    "version": 3
   },
   "file_extension": ".py",
   "mimetype": "text/x-python",
   "name": "python",
   "nbconvert_exporter": "python",
   "pygments_lexer": "ipython3",
   "version": "3.7.0"
  }
 },
 "nbformat": 4,
 "nbformat_minor": 2
}
