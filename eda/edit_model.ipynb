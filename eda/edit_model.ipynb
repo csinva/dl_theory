{
 "cells": [
  {
   "cell_type": "code",
   "execution_count": 53,
   "metadata": {},
   "outputs": [
    {
     "name": "stdout",
     "output_type": "stream",
     "text": [
      "The autoreload extension is already loaded. To reload it, use:\n",
      "  %reload_ext autoreload\n"
     ]
    }
   ],
   "source": [
    "import os\n",
    "import torch\n",
    "import torch.nn as nn\n",
    "from torch.autograd import Variable\n",
    "import torchvision.datasets as dset\n",
    "import torchvision.transforms as transforms\n",
    "import torch.nn.functional as F\n",
    "import torch.optim as optim\n",
    "import torchvision\n",
    "from os.path import join as oj\n",
    "import sys\n",
    "sys.path.append('../vision_fit')\n",
    "import data\n",
    "import numpy as np\n",
    "from copy import deepcopy\n",
    "import pickle as pkl\n",
    "from torch.optim.lr_scheduler import StepLR\n",
    "from sklearn.decomposition import PCA\n",
    "from sklearn.metrics import pairwise\n",
    "import matplotlib.pyplot as plt\n",
    "import models\n",
    "from dim_reduction import *\n",
    "%load_ext autoreload\n",
    "%autoreload 2\n",
    "\n",
    "# load some models             \n",
    "modelm = models.MnistNet()        \n",
    "convnet = models.LeNet()\n",
    "linnet = models.LinearNet(4, 28*28, 256, 10)\n",
    "model = linnet\n",
    "model = model.cuda()\n",
    "\n",
    "# load mnist\n",
    "from params_vision import p\n",
    "p.dset = 'mnist'\n",
    "p.shuffle_labels = False\n",
    "train_loader, test_loader = data.get_data_loaders(p)"
   ]
  },
  {
   "cell_type": "markdown",
   "metadata": {},
   "source": [
    "# get the full dsets"
   ]
  },
  {
   "cell_type": "code",
   "execution_count": 9,
   "metadata": {},
   "outputs": [],
   "source": [
    "X_train, Y_train, X_test, Y_test = data.process_loaders(train_loader, test_loader)"
   ]
  },
  {
   "cell_type": "code",
   "execution_count": 10,
   "metadata": {},
   "outputs": [
    {
     "name": "stdout",
     "output_type": "stream",
     "text": [
      "torch.Size([60000, 1, 28, 28])\n"
     ]
    }
   ],
   "source": [
    "print(X_train.shape)"
   ]
  },
  {
   "cell_type": "code",
   "execution_count": 17,
   "metadata": {},
   "outputs": [
    {
     "data": {
      "text/plain": [
       "tensor([[-0.0864, -0.0388,  0.0690, -0.0502,  0.0824,  0.0463, -0.0271,  0.0062,\n",
       "          0.0332, -0.0827]], device='cuda:0', grad_fn=<AddmmBackward>)"
      ]
     },
     "execution_count": 17,
     "metadata": {},
     "output_type": "execute_result"
    },
    {
     "data": {
      "image/png": "[encoded data removed]",
      "text/plain": [
       "<Figure size 432x288 with 1 Axes>"
      ]
     },
     "metadata": {},
     "output_type": "display_data"
    }
   ],
   "source": [
    "plt.imshow(X_train[1, 0].cpu().detach().numpy())\n",
    "linnet(X_train[0])"
   ]
  },
  {
   "cell_type": "code",
   "execution_count": null,
   "metadata": {},
   "outputs": [],
   "source": [
    "ex_nums = {}\n",
    "i = 0\n",
    "while(len(ex_nums) < 10):\n",
    "    ex_nums[train_set.train_labels[i]] = i\n",
    "    i += 1\n",
    "exs = np.zeros((10, 28, 28))\n",
    "for i in range(10):\n",
    "    exs[i] = train_set.train_data[i]\n",
    "train_set.train_data = torch.Tensor(exs)\n",
    "train_set.train_labels = torch.Tensor(np.arange(0, 10)).long()"
   ]
  },
  {
   "cell_type": "code",
   "execution_count": 40,
   "metadata": {},
   "outputs": [],
   "source": [
    "X_train, Y_train_onehot = data.get_XY(train_loader)"
   ]
  },
  {
   "cell_type": "code",
   "execution_count": 62,
   "metadata": {},
   "outputs": [],
   "source": [
    "# get prototype images for each label (eventually support multiple reps)\n",
    "# returns images (X) and labels (Y)\n",
    "def get_ims_per_lab(X_train, Y_train_onehot):\n",
    "    exs = np.zeros((10, 784))\n",
    "    for i in range(10):\n",
    "        idxs = Y_train_onehot[:, i] == 1\n",
    "        exs[i] = X_train[idxs][0]\n",
    "    return torch.Tensor(exs), range(10)\n",
    "exs, labs = get_ims_per_lab(X_train, Y_train_onehot)"
   ]
  },
  {
   "cell_type": "code",
   "execution_count": 64,
   "metadata": {},
   "outputs": [],
   "source": [
    "# set the final layer of the dnn to the activations of the exs\n",
    "def set_final_lay_lin(linnet, exs):\n",
    "    acts = linnet.features(exs)\n",
    "    linnet.fc[-1].weight = torch.nn.Parameter(acts)\n",
    "# exs = exs.cuda()\n",
    "set_final_lay_lin(linnet, exs)    "
   ]
  },
  {
   "cell_type": "code",
   "execution_count": 65,
   "metadata": {},
   "outputs": [
    {
     "data": {
      "text/plain": [
       "(60000, 784)"
      ]
     },
     "execution_count": 65,
     "metadata": {},
     "output_type": "execute_result"
    }
   ],
   "source": [
    "X_train.shape"
   ]
  },
  {
   "cell_type": "code",
   "execution_count": null,
   "metadata": {},
   "outputs": [],
   "source": []
  }
 ],
 "metadata": {
  "kernelspec": {
   "display_name": "Python 3",
   "language": "python",
   "name": "python3"
  },
  "language_info": {
   "codemirror_mode": {
    "name": "ipython",
    "version": 3
   },
   "file_extension": ".py",
   "mimetype": "text/x-python",
   "name": "python",
   "nbconvert_exporter": "python",
   "pygments_lexer": "ipython3",
   "version": "3.5.4"
  }
 },
 "nbformat": 4,
 "nbformat_minor": 2
}
