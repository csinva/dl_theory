{
 "cells": [
  {
   "cell_type": "code",
   "execution_count": 66,
   "metadata": {},
   "outputs": [
    {
     "name": "stdout",
     "output_type": "stream",
     "text": [
      "The autoreload extension is already loaded. To reload it, use:\n",
      "  %reload_ext autoreload\n"
     ]
    }
   ],
   "source": [
    "import os\n",
    "import torch\n",
    "import torch.nn as nn\n",
    "from torch.autograd import Variable\n",
    "import torchvision.datasets as dset\n",
    "import torchvision.transforms as transforms\n",
    "import torch.nn.functional as F\n",
    "import torch.optim as optim\n",
    "import torchvision\n",
    "from os.path import join as oj\n",
    "import sys\n",
    "sys.path.append('../vision_fit')\n",
    "sys.path.append('../vision_analyze')\n",
    "import data\n",
    "import numpy as np\n",
    "from copy import deepcopy\n",
    "import pickle as pkl\n",
    "from torch.optim.lr_scheduler import StepLR\n",
    "from sklearn.decomposition import PCA\n",
    "from sklearn.metrics import pairwise\n",
    "import matplotlib.pyplot as plt\n",
    "import models\n",
    "from dim_reduction import *\n",
    "import viz_weights\n",
    "import siamese\n",
    "\n",
    "%load_ext autoreload\n",
    "%autoreload 2\n",
    "%matplotlib inline\n",
    "\n",
    "# load some models             \n",
    "convnet = models.LeNet()\n",
    "linnet = models.LinearNet(4, 28*28, 256, 10)\n",
    "model = linnet\n",
    "model = model.cuda()\n",
    "\n",
    "# load mnist\n",
    "from params_vision import p\n",
    "p.dset = 'mnist'\n",
    "p.shuffle_labels = False\n",
    "train_loader, test_loader = data.get_data_loaders(p)"
   ]
  },
  {
   "cell_type": "code",
   "execution_count": 64,
   "metadata": {},
   "outputs": [],
   "source": [
    "# deal with reps\n",
    "linnet = models.LinearNet(4, 28*28, 256, 10).cuda()\n",
    "lenet = models.LeNet().cuda()"
   ]
  },
  {
   "cell_type": "code",
   "execution_count": 41,
   "metadata": {},
   "outputs": [],
   "source": [
    "root = oj('/scratch/users/vision/yu_dl/raaz.rsk/data/mnist')\n",
    "trans = transforms.Compose([transforms.ToTensor(), transforms.Normalize((0.5,), (1.0,))])\n",
    "train_set = dset.MNIST(root=root, train=True, transform=trans, download=True)\n",
    "test_set = dset.MNIST(root=root, train=False, transform=trans, download=True)"
   ]
  },
  {
   "cell_type": "markdown",
   "metadata": {},
   "source": [
    "# get the full dsets"
   ]
  },
  {
   "cell_type": "code",
   "execution_count": 42,
   "metadata": {},
   "outputs": [],
   "source": [
    "# X_train, Y_train, X_test, Y_test = data.process_loaders(train_loader, test_loader)\n",
    "X_train, Y_train_onehot = data.get_XY(train_loader)"
   ]
  },
  {
   "cell_type": "markdown",
   "metadata": {},
   "source": [
    "# siamese net"
   ]
  },
  {
   "cell_type": "code",
   "execution_count": 97,
   "metadata": {},
   "outputs": [],
   "source": [
    "model = siamese.SiameseNet(lenet, X_train, Y_train_onehot, \n",
    "                           reps=2, similarity='dot', siamese_init='unif', \n",
    "                           train_prototypes=True, prototype_dim=14).cuda()\n",
    "x = torch.Tensor(X_train[0:2]).cuda()\n",
    "y = model(x)"
   ]
  },
  {
   "cell_type": "markdown",
   "metadata": {},
   "source": [
    "# data-driven init"
   ]
  },
  {
   "cell_type": "code",
   "execution_count": 8,
   "metadata": {},
   "outputs": [
    {
     "name": "stdout",
     "output_type": "stream",
     "text": [
      "init final lay ws\n"
     ]
    }
   ],
   "source": [
    "from vision_fit.init import *\n",
    "\n",
    "# final layer only\n",
    "# initializes final ws = xs (with appropriate class)\n",
    "# intializes bs = 0 \n",
    "# X should have atleast as many examples as there are weights in any layer\n",
    "def initialize_ws_and_zero_bias_lay_final(X, Y_train_onehot, model):\n",
    "    print('init final lay ws')\n",
    "    \n",
    "    # pick the examples on the first iteration\n",
    "    # get prototype images for each label (reps is how many repeats)\n",
    "    # returns images (X) and labels (Y)\n",
    "    def get_ims_per_lab(X_train, Y_train_onehot, reps=1):\n",
    "        exs = np.zeros((10 * reps, X_train.shape[1]))\n",
    "        labs = np.zeros(10 * reps)\n",
    "        for i in range(10):\n",
    "            idxs = Y_train_onehot[:, i] == 1\n",
    "            exs[reps * i: reps * (i + 1)] = X_train[idxs][:reps]\n",
    "            labs[reps * i: reps * (i + 1)] = i\n",
    "        return exs, labs\n",
    "\n",
    "    exs, _ = get_ims_per_lab(X_train, Y_train_onehot, p.reps)\n",
    "    \n",
    "    if torch.cuda.is_available():\n",
    "        exs = torch.Tensor(exs).cuda()\n",
    "    else:\n",
    "        exs = torch.Tensor(exs)\n",
    "    \n",
    "        \n",
    "    acts = model.features(exs)\n",
    "    # preserve model layer norm\n",
    "    model.last_lay().weight.data = acts / acts.norm() * model.last_lay().weight.data.norm()\n",
    "\n",
    "\n",
    "initialize_ws_and_zero_bias_lay_final(X_train, Y_train_onehot, model)"
   ]
  },
  {
   "cell_type": "code",
   "execution_count": 9,
   "metadata": {},
   "outputs": [],
   "source": [
    "exs, _ = get_ims_per_lab(X_train, Y_train_onehot, p.reps)"
   ]
  },
  {
   "cell_type": "code",
   "execution_count": 10,
   "metadata": {},
   "outputs": [
    {
     "name": "stdout",
     "output_type": "stream",
     "text": [
      "(1, 784)\n"
     ]
    }
   ],
   "source": [
    "exs2 = np.mean(exs, axis=0).reshape(1, -1)\n",
    "print(exs2.shape)"
   ]
  },
  {
   "cell_type": "code",
   "execution_count": 11,
   "metadata": {},
   "outputs": [
    {
     "data": {
      "image/png": "[encoded data removed]",
      "text/plain": [
       "<Figure size 480x480 with 1 Axes>"
      ]
     },
     "metadata": {},
     "output_type": "display_data"
    }
   ],
   "source": [
    "viz_weights.plot_weights(exs2)"
   ]
  },
  {
   "cell_type": "code",
   "execution_count": null,
   "metadata": {},
   "outputs": [],
   "source": []
  }
 ],
 "metadata": {
  "kernelspec": {
   "display_name": "Python 3",
   "language": "python",
   "name": "python3"
  },
  "language_info": {
   "codemirror_mode": {
    "name": "ipython",
    "version": 3
   },
   "file_extension": ".py",
   "mimetype": "text/x-python",
   "name": "python",
   "nbconvert_exporter": "python",
   "pygments_lexer": "ipython3",
   "version": "3.5.4"
  }
 },
 "nbformat": 4,
 "nbformat_minor": 2
}
