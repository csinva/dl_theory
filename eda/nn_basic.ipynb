{
 "cells": [
  {
   "cell_type": "code",
   "execution_count": 27,
   "metadata": {},
   "outputs": [
    {
     "name": "stdout",
     "output_type": "stream",
     "text": [
      "The autoreload extension is already loaded. To reload it, use:\n",
      "  %reload_ext autoreload\n"
     ]
    }
   ],
   "source": [
    "import os\n",
    "from os.path import join as oj\n",
    "import sys\n",
    "sys.path.insert(1, oj(sys.path[0], '..'))  # insert parent path\n",
    "from data_load_preprocess import data\n",
    "\n",
    "\n",
    "import torch\n",
    "from torch.autograd import Variable\n",
    "import numpy as np\n",
    "import matplotlib.pyplot as plt\n",
    "from tqdm import tqdm\n",
    "from torch.optim.lr_scheduler import StepLR\n",
    "from torch.utils.data import DataLoader\n",
    "from copy import deepcopy\n",
    "import pickle as pkl\n",
    "import pandas as pd\n",
    "\n",
    "%load_ext autoreload\n",
    "%autoreload 2"
   ]
  },
  {
   "cell_type": "markdown",
   "metadata": {},
   "source": [
    "## parameters"
   ]
  },
  {
   "cell_type": "code",
   "execution_count": 28,
   "metadata": {},
   "outputs": [],
   "source": [
    "# saving\n",
    "out_dir = '/scratch/users/vision/chandan/dl_theory/sweep_seed_and_hidden1' # differs for chandan/raaz\n",
    "\n",
    "class p:\n",
    "    # data parameters\n",
    "    N = 2000 # N is batch size\n",
    "\n",
    "    means = [0, 20, 40] # means of gaussian data\n",
    "    sds = [1, 1, 1] # sds of data\n",
    "    labs = [0, 1, 0] # labels of these gaussians\n",
    "    batch_size = N\n",
    "    \n",
    "    # model parameters\n",
    "    d_in = 1 # input dim (should be 1)\n",
    "    hidden1 = 10\n",
    "    d_out = 2 # number of classes (should be 2)\n",
    "    num_layers = 2\n",
    "    \n",
    "    # fitting paramters\n",
    "    lr = 1e-6\n",
    "    num_iters = 200\n",
    "    step_size_optimizer = 1000\n",
    "    gamma_optimizer = 0.9\n",
    "    \n",
    "    # random seed\n",
    "    seed = 2\n",
    "    \n",
    "    \n",
    "    def _str(self):\n",
    "        s = '___'.join(\"%s=%s\" % (attr, val) for (attr, val) in vars(p).items()\n",
    "                       if not attr.startswith('_'))\n",
    "        return s.replace('/', '')[:251] # filenames must fit in byte \n",
    "    \n",
    "    def _dict(self):\n",
    "        return {attr: val for (attr, val) in vars(p).items()\n",
    "                 if not attr.startswith('_')}\n",
    "    \n",
    "# set params\n",
    "use_cuda = torch.cuda.is_available()\n",
    "if not use_cuda: # running on cluster\n",
    "    for i in range(1, len(sys.argv), 2):\n",
    "        t = type(getattr(p, sys.argv[i]))\n",
    "        setattr(p, sys.argv[i], t(sys.argv[i+1]))\n",
    "        \n",
    "# set random seed        \n",
    "np.random.seed(p.seed) \n",
    "torch.manual_seed(p.seed)\n",
    "\n",
    "# generate data\n",
    "X, y, y_plot = data.generate_gaussian_data(p.N, means=p.means, sds=p.sds, labs=p.labs)\n",
    "dset = data.dset(X, y)\n",
    "'''\n",
    "plt.scatter(X, y_plot)\n",
    "plt.xlabel('x')\n",
    "plt.ylabel('y')\n",
    "plt.show()\n",
    "'''\n",
    "\n",
    "# make model\n",
    "model = torch.nn.Sequential(\n",
    "    torch.nn.Linear(p.d_in, p.hidden1),\n",
    "    torch.nn.ReLU(),\n",
    "    torch.nn.Linear(p.hidden1, p.d_out),\n",
    "    torch.nn.Softmax()\n",
    ")\n",
    "\n",
    "\n",
    "# freeze\n",
    "# model.2.weight = 2\n",
    "# instead of model.parameters(), only pass what you wanna optimize\n",
    "\n",
    "# set up optimization\n",
    "optimizer = torch.optim.SGD(model.parameters(), lr=p.lr) # only optimize ridge (otherwise use model.parameters())\n",
    "scheduler = StepLR(optimizer, step_size=p.step_size_optimizer, gamma=p.gamma_optimizer)\n",
    "loss_fn = torch.nn.MSELoss(size_average=False)\n",
    "dataloader = DataLoader(dset, batch_size=p.batch_size, shuffle=True)\n",
    "\n",
    "\n",
    "# to record\n",
    "weights = {}\n",
    "losses = np.zeros(p.num_iters)\n",
    "norms = np.zeros((p.num_iters, p.num_layers))\n",
    "accs = np.zeros(p.num_iters)\n",
    "\n",
    "\n",
    "# fit\n",
    "for it in tqdm(range(p.num_iters)):\n",
    "    for batch in dataloader:\n",
    "        y_pred = model(Variable(batch['x'], requires_grad=True)) # predict\n",
    "        loss = loss_fn(y_pred, Variable(batch['y'])) # calculate loss\n",
    "        optimizer.zero_grad() # zero the gradients\n",
    "        loss.backward() # backward pass\n",
    "        optimizer.step() # update weights\n",
    "        scheduler.step() # step for incrementing optimizer\n",
    "\n",
    "        # output\n",
    "        weight_dict = deepcopy({x[0]:x[1].data.numpy() for x in model.named_parameters()})\n",
    "        if it % 100 == 0:\n",
    "            weights[it] = weight_dict\n",
    "        losses[it] = loss.data[0] \n",
    "        accs[it] = np.mean(np.argmax(y_pred.data.numpy(), axis=1) == y_plot) * 100\n",
    "        norms[it, 0] = np.linalg.norm(weight_dict['0.weight'])**2 + np.sum(weight_dict['0.bias']**2)\n",
    "        norms[it, 1] = np.linalg.norm(weight_dict['2.weight'])**2 + np.sum(weight_dict['2.bias']**2)\n",
    "    \n",
    "# save\n",
    "if not os.path.exists(out_dir):  # delete the features if they already exist\n",
    "    os.makedirs(out_dir)\n",
    "params = p._dict(p)\n",
    "results = {'weights': weights, 'losses': losses, 'norms': norms, 'accs': accs, 'min_loss': np.min(losses), 'max_acc': np.max(accs)}\n",
    "pkl.dump({**params, **results}, open(oj(out_dir, p._str(p) + '.pkl'), 'wb'))"
   ]
  },
  {
   "cell_type": "markdown",
   "metadata": {},
   "source": [
    "# analyze results"
   ]
  },
  {
   "cell_type": "code",
   "execution_count": 30,
   "metadata": {},
   "outputs": [
    {
     "data": {
      "image/png": "[encoded data removed]",
      "text/plain": [
       "<Figure size 1008x216 with 3 Axes>"
      ]
     },
     "metadata": {},
     "output_type": "display_data"
    },
    {
     "name": "stdout",
     "output_type": "stream",
     "text": [
      "869.08154296875\n"
     ]
    }
   ],
   "source": [
    "# plot loss and norms\n",
    "plt.figure(figsize=(14, 3))\n",
    "plt.subplot(131)\n",
    "plt.plot(losses)\n",
    "plt.title('loss')\n",
    "\n",
    "plt.subplot(132)\n",
    "plt.plot(accs)\n",
    "plt.title('acc')\n",
    "\n",
    "plt.subplot(133)\n",
    "plt.plot(norms[:, 0] - norms[:, 1])\n",
    "plt.title('w2 norm - w1 norm (should be constant)')\n",
    "plt.show()\n",
    "\n",
    "print(losses[-1])"
   ]
  },
  {
   "cell_type": "markdown",
   "metadata": {},
   "source": [
    "# plotting preds"
   ]
  },
  {
   "cell_type": "code",
   "execution_count": 32,
   "metadata": {},
   "outputs": [
    {
     "name": "stderr",
     "output_type": "stream",
     "text": [
      "/accounts/projects/vision/.local/lib/python3.5/site-packages/torch/nn/modules/container.py:67: UserWarning: Implicit dimension choice for softmax has been deprecated. Change the call to include dim=X as an argument.\n",
      "  input = module(input)\n"
     ]
    },
    {
     "data": {
      "image/png": "[encoded data removed]",
      "text/plain": [
       "<Figure size 1008x216 with 2 Axes>"
      ]
     },
     "metadata": {},
     "output_type": "display_data"
    }
   ],
   "source": [
    "# plot predictions\n",
    "plt.figure(figsize=(14, 3))\n",
    "plt.subplot(121)\n",
    "preds = model(Variable(torch.from_numpy(X), requires_grad=True)).data.numpy() # predict\n",
    "plt.scatter(X, np.argmax(preds, axis=1), label='pred top class')\n",
    "plt.scatter(X, np.argmax(y, axis=-1), label='labels', alpha=0.5, marker='x')\n",
    "plt.legend()\n",
    "\n",
    "plt.subplot(122)\n",
    "X_grid = np.linspace(np.min(X), np.max(X), 1000, dtype=np.float32)\n",
    "X_grid = X_grid.reshape(X_grid.shape[0], 1)\n",
    "preds_grid = model(Variable(torch.from_numpy(X_grid), requires_grad=True)).data.numpy() # predict\n",
    "plt.scatter(X_grid, preds_grid[:, 1], label='pred probability of class 1', color='black') # note other class is 1 - this\n",
    "plt.scatter(X_grid, preds_grid[:, 0], label='pred probability of class 0', color='green') # note other class is 1 - this\n",
    "plt.plot([-1000, 1000], [.5, .5], '--', color='gray')\n",
    "plt.xlim([np.min(X), np.max(X)])\n",
    "plt.legend()\n",
    "plt.show()"
   ]
  },
  {
   "cell_type": "code",
   "execution_count": null,
   "metadata": {},
   "outputs": [],
   "source": []
  }
 ],
 "metadata": {
  "kernelspec": {
   "display_name": "Python 3",
   "language": "python",
   "name": "python3"
  },
  "language_info": {
   "codemirror_mode": {
    "name": "ipython",
    "version": 3
   },
   "file_extension": ".py",
   "mimetype": "text/x-python",
   "name": "python",
   "nbconvert_exporter": "python",
   "pygments_lexer": "ipython3",
   "version": "3.5.4"
  }
 },
 "nbformat": 4,
 "nbformat_minor": 2
}
