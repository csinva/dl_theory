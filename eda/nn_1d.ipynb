{
 "cells": [
  {
   "cell_type": "code",
   "execution_count": 256,
   "metadata": {},
   "outputs": [],
   "source": [
    "import torch\n",
    "from torch.autograd import Variable\n",
    "import numpy as np\n",
    "import matplotlib.pyplot as plt\n",
    "from tqdm import tqdm\n",
    "from torch.optim.lr_scheduler import StepLR"
   ]
  },
  {
   "cell_type": "markdown",
   "metadata": {},
   "source": [
    "## parameters"
   ]
  },
  {
   "cell_type": "code",
   "execution_count": 444,
   "metadata": {},
   "outputs": [],
   "source": [
    "class p:\n",
    "    # data parameters\n",
    "    N = 2000 # N is batch size\n",
    "    layer_sizes = [1, 5, 2] # input, hidden1, hidden..., output\n",
    "    means = [[0], [20], [40]] # means of gaussian data\n",
    "    sds = [[1], [1], [1]] # sds of data\n",
    "#     means = [[0], [20]]\n",
    "#     sds = [[1], [1]]\n",
    "    labs = [0, 1, 0] # labels of these gaussians\n",
    "#     labs = [0, 1]\n",
    "    \n",
    "    # model parameters\n",
    "    num_layers = len(layer_sizes) - 1\n",
    "    \n",
    "    # fitting paramters\n",
    "    lr = 1e-6\n",
    "    num_iters = int(1e3)\n",
    "    step_size_optimizer = 1000\n",
    "    gamma_optimizer = 0.9"
   ]
  },
  {
   "cell_type": "markdown",
   "metadata": {},
   "source": [
    "# generate data"
   ]
  },
  {
   "cell_type": "code",
   "execution_count": 445,
   "metadata": {},
   "outputs": [
    {
     "data": {
      "image/png": "[encoded data removed]",
      "text/plain": [
       "<Figure size 432x288 with 1 Axes>"
      ]
     },
     "metadata": {},
     "output_type": "display_data"
    }
   ],
   "source": [
    "# generate mixture model\n",
    "# means and sds should be lists of lists (sds just scale variances)\n",
    "def generate_gaussian_data(N, means=[[0], [1]], sds=[1, 1], labs=[0, 1]):\n",
    "    num_means = len(means)\n",
    "    P = len(means[0])\n",
    "    X = np.zeros((N, P), dtype=np.float32)\n",
    "    y_plot = np.zeros((N, 1), dtype=np.float32)\n",
    "    y_one_hot = np.zeros((N, 2), dtype=np.float32)\n",
    "    for i in range(N):\n",
    "        z = np.random.randint(num_means) # select gaussian\n",
    "        X[i] = np.random.multivariate_normal(means[z], np.eye(P) * sds[z])\n",
    "        y_plot[i] = labs[z]\n",
    "        y_one_hot[i, labs[z]] = 1\n",
    "    return X, y_one_hot, y_plot\n",
    "\n",
    "\n",
    "# data to torch\n",
    "class dset:\n",
    "    def __init__(self, X, y):\n",
    "        self.X = X\n",
    "        self.y = y\n",
    "    def __getitem__(self, idx):\n",
    "        return X[idx], y[idx]\n",
    "    def __len__(self):\n",
    "        return y.size\n",
    "\n",
    "X, y, y_plot = generate_gaussian_data(p.N, means=p.means, sds=p.sds, labs=p.labs)\n",
    "dset = dset(X, y)\n",
    "plt.scatter(X, y_plot)\n",
    "plt.xlabel('x')\n",
    "plt.ylabel('y')\n",
    "plt.show()"
   ]
  },
  {
   "cell_type": "markdown",
   "metadata": {},
   "source": [
    "## run + fit"
   ]
  },
  {
   "cell_type": "code",
   "execution_count": 446,
   "metadata": {},
   "outputs": [
    {
     "name": "stderr",
     "output_type": "stream",
     "text": [
      "  0%|          | 0/1000 [00:00<?, ?it/s]/accounts/projects/vision/.local/lib/python3.5/site-packages/torch/nn/modules/container.py:67: UserWarning: Implicit dimension choice for softmax has been deprecated. Change the call to include dim=X as an argument.\n",
      "  input = module(input)\n",
      "100%|██████████| 1000/1000 [00:10<00:00, 98.54it/s]\n"
     ]
    }
   ],
   "source": [
    "# data to torch\n",
    "X_torch = torch.from_numpy(X)\n",
    "y_torch = torch.from_numpy(y)\n",
    "\n",
    "\n",
    "# make model\n",
    "model = torch.nn.Sequential(\n",
    "    torch.nn.Linear(p.layer_sizes[0], p.layer_sizes[1]),\n",
    "    torch.nn.ReLU(),\n",
    "#     torch.nn.Linear(p.layer_sizes[1], p.layer_sizes[2]),\n",
    "#     torch.nn.ReLU(),\n",
    "    torch.nn.Linear(p.layer_sizes[-2], p.layer_sizes[-1]),\n",
    "    torch.nn.Softmax()\n",
    ")\n",
    "\n",
    "# freeze\n",
    "# model.2.weight = 2\n",
    "# instead of model.parameters(), only pass what you wanna optimize\n",
    "\n",
    "# set up optimization\n",
    "optimizer = torch.optim.SGD(model.parameters(), lr=p.lr) # only optimize ridge (otherwise use model.parameters())\n",
    "scheduler = StepLR(optimizer, step_size=p.step_size_optimizer, gamma=p.gamma_optimizer)\n",
    "loss_fn = torch.nn.MSELoss(size_average=False)\n",
    "\n",
    "\n",
    "# to record\n",
    "weights = {}\n",
    "losses = np.zeros(p.num_iters)\n",
    "norms = np.zeros((p.num_iters, p.num_layers))\n",
    "accs = np.zeros(p.num_iters)\n",
    "\n",
    "\n",
    "# fit\n",
    "for it in tqdm(range(p.num_iters)):\n",
    "    y_pred = model(Variable(X_torch, requires_grad=True)) # predict\n",
    "    loss = loss_fn(y_pred, Variable(y_torch)) # calculate loss\n",
    "    optimizer.zero_grad() # zero the gradients\n",
    "    loss.backward() # backward pass\n",
    "    optimizer.step() # update weights\n",
    "    scheduler.step() # step for incrementing optimizer\n",
    "    \n",
    "    # output\n",
    "    weight_dict = {x[0]:x[1].data.numpy() for x in model.named_parameters()}\n",
    "    if it % 100 == 0:\n",
    "        weights[it] = weight_dict\n",
    "    losses[it] = loss.data[0] \n",
    "    accs[it] = np.mean(np.argmax(y_pred.data.numpy(), axis=1) == y_plot) * 100\n",
    "    norms[it, 0] = np.linalg.norm(weight_dict['0.weight'])**2 + np.sum(weight_dict['0.bias']**2)\n",
    "    norms[it, 1] = np.linalg.norm(weight_dict['2.weight'])**2 + np.sum(weight_dict['2.bias']**2)"
   ]
  },
  {
   "cell_type": "markdown",
   "metadata": {},
   "source": [
    "# analyze results"
   ]
  },
  {
   "cell_type": "code",
   "execution_count": 447,
   "metadata": {},
   "outputs": [
    {
     "data": {
      "image/png": "[encoded data removed]",
      "text/plain": [
       "<Figure size 1008x216 with 3 Axes>"
      ]
     },
     "metadata": {},
     "output_type": "display_data"
    },
    {
     "name": "stdout",
     "output_type": "stream",
     "text": [
      "781.9403686523438\n"
     ]
    }
   ],
   "source": [
    "# plot loss and norms\n",
    "plt.figure(figsize=(14, 3))\n",
    "plt.subplot(131)\n",
    "plt.plot(losses)\n",
    "plt.title('loss')\n",
    "\n",
    "\n",
    "plt.subplot(132)\n",
    "plt.plot(accs)\n",
    "plt.title('acc')\n",
    "\n",
    "plt.subplot(133)\n",
    "plt.plot(norms[:, 0] - norms[:, 1])\n",
    "plt.title('w2 norm - w1 norm')\n",
    "plt.show()\n",
    "\n",
    "print(losses[-1])"
   ]
  },
  {
   "cell_type": "code",
   "execution_count": 448,
   "metadata": {},
   "outputs": [
    {
     "data": {
      "image/png": "[encoded data removed]",
      "text/plain": [
       "<Figure size 432x288 with 1 Axes>"
      ]
     },
     "metadata": {},
     "output_type": "display_data"
    },
    {
     "data": {
      "image/png": "[encoded data removed]",
      "text/plain": [
       "<Figure size 432x288 with 1 Axes>"
      ]
     },
     "metadata": {},
     "output_type": "display_data"
    }
   ],
   "source": [
    "# plot predictions\n",
    "preds = y_pred.data.numpy()\n",
    "plt.scatter(X, np.argmax(preds, axis=1), label='pred top class')\n",
    "plt.scatter(X, np.argmax(y, axis=-1), label='labels', alpha=0.5, marker='x')\n",
    "plt.legend()\n",
    "plt.show()\n",
    "\n",
    "plt.scatter(X, np.max(preds, axis=1), label='pred probability of tpo class')\n",
    "plt.scatter(X, np.argmax(y, axis=-1), label='labels', alpha=0.5, marker='x')\n",
    "plt.plot([-1000, 1000], [.5, .5], '--', color='gray')\n",
    "plt.xlim([np.min(X), np.max(X)])\n",
    "plt.legend()\n",
    "plt.show()"
   ]
  },
  {
   "cell_type": "code",
   "execution_count": null,
   "metadata": {},
   "outputs": [],
   "source": []
  }
 ],
 "metadata": {
  "kernelspec": {
   "display_name": "Python 3",
   "language": "python",
   "name": "python3"
  },
  "language_info": {
   "codemirror_mode": {
    "name": "ipython",
    "version": 3
   },
   "file_extension": ".py",
   "mimetype": "text/x-python",
   "name": "python",
   "nbconvert_exporter": "python",
   "pygments_lexer": "ipython3",
   "version": "3.5.4"
  }
 },
 "nbformat": 4,
 "nbformat_minor": 2
}
