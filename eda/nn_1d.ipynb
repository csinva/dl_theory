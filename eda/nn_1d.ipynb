{
 "cells": [
  {
   "cell_type": "code",
   "execution_count": 469,
   "metadata": {},
   "outputs": [],
   "source": [
    "import torch\n",
    "from torch.autograd import Variable\n",
    "import numpy as np\n",
    "import matplotlib.pyplot as plt\n",
    "from tqdm import tqdm\n",
    "from torch.optim.lr_scheduler import StepLR\n",
    "from torch.utils.data import DataLoader"
   ]
  },
  {
   "cell_type": "markdown",
   "metadata": {},
   "source": [
    "## parameters"
   ]
  },
  {
   "cell_type": "code",
   "execution_count": 487,
   "metadata": {},
   "outputs": [],
   "source": [
    "class p:\n",
    "    # data parameters\n",
    "    N = 2000 # N is batch size\n",
    "    layer_sizes = [1, 10, 2] # input, hidden1, hidden..., output\n",
    "    means = [[0], [20], [40]] # means of gaussian data\n",
    "    sds = [[1], [1], [1]] # sds of data\n",
    "#     means = [[0], [20]]\n",
    "#     sds = [[1], [1]]\n",
    "    labs = [0, 1, 0] # labels of these gaussians\n",
    "#     labs = [0, 1]\n",
    "    batch_size = 200\n",
    "    \n",
    "    # model parameters\n",
    "    num_layers = len(layer_sizes) - 1\n",
    "    \n",
    "    # fitting paramters\n",
    "    lr = 1e-6\n",
    "    num_iters = int(1e3)\n",
    "    step_size_optimizer = 1000\n",
    "    gamma_optimizer = 0.9"
   ]
  },
  {
   "cell_type": "markdown",
   "metadata": {},
   "source": [
    "# generate data"
   ]
  },
  {
   "cell_type": "code",
   "execution_count": 488,
   "metadata": {},
   "outputs": [
    {
     "data": {
      "image/png": "[encoded data removed]",
      "text/plain": [
       "<Figure size 432x288 with 1 Axes>"
      ]
     },
     "metadata": {},
     "output_type": "display_data"
    }
   ],
   "source": [
    "# generate mixture model\n",
    "# means and sds should be lists of lists (sds just scale variances)\n",
    "def generate_gaussian_data(N, means=[[0], [1]], sds=[1, 1], labs=[0, 1]):\n",
    "    num_means = len(means)\n",
    "    P = len(means[0])\n",
    "    X = np.zeros((N, P), dtype=np.float32)\n",
    "    y_plot = np.zeros((N, 1), dtype=np.float32)\n",
    "    y_one_hot = np.zeros((N, 2), dtype=np.float32)\n",
    "    for i in range(N):\n",
    "        z = np.random.randint(num_means) # select gaussian\n",
    "        X[i] = np.random.multivariate_normal(means[z], np.eye(P) * sds[z])\n",
    "        y_plot[i] = labs[z]\n",
    "        y_one_hot[i, labs[z]] = 1\n",
    "    return X, y_one_hot, y_plot\n",
    "\n",
    "\n",
    "# data to torch\n",
    "class dset:\n",
    "    def __init__(self, X, y):\n",
    "        self.X = X\n",
    "        self.y = y\n",
    "    def __getitem__(self, idx):\n",
    "        return {'x': torch.from_numpy(X[idx, :]), 'y': torch.from_numpy(y[idx])}\n",
    "    def __len__(self):\n",
    "        return X.shape[0]\n",
    "\n",
    "X, y, y_plot = generate_gaussian_data(p.N, means=p.means, sds=p.sds, labs=p.labs)\n",
    "dset = dset(X, y)\n",
    "plt.scatter(X, y_plot)\n",
    "plt.xlabel('x')\n",
    "plt.ylabel('y')\n",
    "plt.show()"
   ]
  },
  {
   "cell_type": "markdown",
   "metadata": {},
   "source": [
    "## run + fit"
   ]
  },
  {
   "cell_type": "code",
   "execution_count": 489,
   "metadata": {},
   "outputs": [
    {
     "name": "stderr",
     "output_type": "stream",
     "text": [
      "\n",
      "  0%|          | 0/1000 [00:00<?, ?it/s]\u001b[A/accounts/projects/vision/.local/lib/python3.5/site-packages/torch/nn/modules/container.py:67: UserWarning: Implicit dimension choice for softmax has been deprecated. Change the call to include dim=X as an argument.\n",
      "  input = module(input)\n",
      "\n",
      "  0%|          | 4/1000 [00:00<00:28, 34.59it/s]\u001b[A\n",
      "  1%|          | 8/1000 [00:00<00:28, 34.58it/s]\u001b[A\n",
      "  1%|          | 12/1000 [00:00<00:28, 34.63it/s]\u001b[A\n",
      "  2%|▏         | 16/1000 [00:00<00:28, 34.62it/s]\u001b[A\n",
      "  2%|▏         | 20/1000 [00:00<00:28, 34.59it/s]\u001b[A\n",
      "  2%|▏         | 24/1000 [00:00<00:28, 34.56it/s]\u001b[A\n",
      "  3%|▎         | 28/1000 [00:00<00:28, 34.66it/s]\u001b[A\n",
      "  3%|▎         | 32/1000 [00:00<00:27, 34.61it/s]\u001b[A\n",
      "  4%|▎         | 36/1000 [00:01<00:27, 34.56it/s]\u001b[A\n",
      "  4%|▍         | 40/1000 [00:01<00:27, 34.54it/s]\u001b[A\n",
      "  4%|▍         | 44/1000 [00:01<00:33, 28.75it/s]\u001b[A\n",
      "  5%|▍         | 48/1000 [00:01<00:31, 30.07it/s]\u001b[A\n",
      "  5%|▌         | 52/1000 [00:01<00:30, 31.16it/s]\u001b[A\n",
      "  6%|▌         | 56/1000 [00:01<00:29, 31.93it/s]\u001b[A\n",
      "  6%|▌         | 60/1000 [00:01<00:28, 32.47it/s]\u001b[A\n",
      "  6%|▋         | 64/1000 [00:01<00:28, 32.85it/s]\u001b[A\n",
      "  7%|▋         | 68/1000 [00:02<00:28, 33.11it/s]\u001b[A\n",
      "  7%|▋         | 72/1000 [00:02<00:27, 33.30it/s]\u001b[A\n",
      "  8%|▊         | 76/1000 [00:02<00:27, 33.45it/s]\u001b[A\n",
      "  8%|▊         | 80/1000 [00:02<00:27, 33.55it/s]\u001b[A\n",
      "  8%|▊         | 84/1000 [00:02<00:27, 33.61it/s]\u001b[A\n",
      "  9%|▉         | 88/1000 [00:02<00:27, 33.67it/s]\u001b[A\n",
      "  9%|▉         | 92/1000 [00:02<00:26, 33.79it/s]\u001b[A\n",
      " 10%|▉         | 96/1000 [00:02<00:26, 33.87it/s]\u001b[A\n",
      " 10%|█         | 100/1000 [00:03<00:26, 33.92it/s]\u001b[A\n",
      " 10%|█         | 104/1000 [00:03<00:26, 34.01it/s]\u001b[A\n",
      " 11%|█         | 108/1000 [00:03<00:25, 34.56it/s]\u001b[A\n",
      " 11%|█         | 112/1000 [00:03<00:25, 34.98it/s]\u001b[A\n",
      " 12%|█▏        | 116/1000 [00:03<00:25, 35.27it/s]\u001b[A\n",
      " 12%|█▏        | 120/1000 [00:03<00:24, 35.48it/s]\u001b[A\n",
      " 12%|█▏        | 124/1000 [00:03<00:28, 30.60it/s]\u001b[A\n",
      " 13%|█▎        | 128/1000 [00:03<00:27, 32.02it/s]\u001b[A\n",
      " 13%|█▎        | 132/1000 [00:03<00:26, 33.11it/s]\u001b[A\n",
      " 14%|█▎        | 136/1000 [00:04<00:25, 33.92it/s]\u001b[A\n",
      " 14%|█▍        | 140/1000 [00:04<00:24, 34.51it/s]\u001b[A\n",
      " 14%|█▍        | 144/1000 [00:04<00:24, 34.93it/s]\u001b[A\n",
      " 15%|█▍        | 148/1000 [00:04<00:24, 35.23it/s]\u001b[A\n",
      " 15%|█▌        | 152/1000 [00:04<00:23, 35.44it/s]\u001b[A\n",
      " 16%|█▌        | 156/1000 [00:04<00:23, 35.60it/s]\u001b[A\n",
      " 16%|█▌        | 160/1000 [00:04<00:23, 35.71it/s]\u001b[A\n",
      " 16%|█▋        | 164/1000 [00:04<00:23, 35.78it/s]\u001b[A\n",
      " 17%|█▋        | 168/1000 [00:04<00:23, 35.83it/s]\u001b[A\n",
      " 17%|█▋        | 172/1000 [00:05<00:23, 35.87it/s]\u001b[A\n",
      " 18%|█▊        | 176/1000 [00:05<00:22, 35.90it/s]\u001b[A\n",
      " 18%|█▊        | 180/1000 [00:05<00:22, 35.91it/s]\u001b[A\n",
      " 18%|█▊        | 184/1000 [00:05<00:22, 35.92it/s]\u001b[A\n",
      " 19%|█▉        | 188/1000 [00:05<00:22, 35.93it/s]\u001b[A\n",
      " 19%|█▉        | 192/1000 [00:05<00:22, 35.95it/s]\u001b[A\n",
      " 20%|█▉        | 196/1000 [00:05<00:22, 35.95it/s]\u001b[A\n",
      " 20%|██        | 200/1000 [00:05<00:25, 30.89it/s]\u001b[A\n",
      " 20%|██        | 204/1000 [00:06<00:24, 32.22it/s]\u001b[A\n",
      " 21%|██        | 208/1000 [00:06<00:23, 33.26it/s]\u001b[A\n",
      " 21%|██        | 212/1000 [00:06<00:23, 34.02it/s]\u001b[A\n",
      " 22%|██▏       | 216/1000 [00:06<00:22, 34.58it/s]\u001b[A\n",
      " 22%|██▏       | 220/1000 [00:06<00:22, 34.99it/s]\u001b[A\n",
      " 22%|██▏       | 224/1000 [00:06<00:21, 35.29it/s]\u001b[A\n",
      " 23%|██▎       | 228/1000 [00:06<00:21, 35.50it/s]\u001b[A\n",
      " 23%|██▎       | 232/1000 [00:06<00:21, 35.64it/s]\u001b[A\n",
      " 24%|██▎       | 236/1000 [00:06<00:21, 35.75it/s]\u001b[A\n",
      " 24%|██▍       | 240/1000 [00:07<00:21, 35.82it/s]\u001b[A\n",
      " 24%|██▍       | 244/1000 [00:07<00:21, 35.87it/s]\u001b[A\n",
      " 25%|██▍       | 248/1000 [00:07<00:20, 35.90it/s]\u001b[A\n",
      " 25%|██▌       | 252/1000 [00:07<00:20, 35.93it/s]\u001b[A\n",
      " 26%|██▌       | 256/1000 [00:07<00:20, 35.95it/s]\u001b[A\n",
      " 26%|██▌       | 260/1000 [00:07<00:20, 35.96it/s]\u001b[A\n",
      " 26%|██▋       | 264/1000 [00:07<00:20, 35.97it/s]\u001b[A\n",
      " 27%|██▋       | 268/1000 [00:07<00:20, 35.97it/s]\u001b[A\n",
      " 27%|██▋       | 272/1000 [00:07<00:20, 35.98it/s]\u001b[A\n",
      " 28%|██▊       | 276/1000 [00:08<00:20, 35.98it/s]\u001b[A\n",
      " 28%|██▊       | 280/1000 [00:08<00:23, 30.84it/s]\u001b[A\n",
      " 28%|██▊       | 284/1000 [00:08<00:22, 32.29it/s]\u001b[A\n",
      " 29%|██▉       | 288/1000 [00:08<00:21, 33.32it/s]\u001b[A\n",
      " 29%|██▉       | 292/1000 [00:08<00:20, 34.05it/s]\u001b[A\n",
      " 30%|██▉       | 296/1000 [00:08<00:20, 34.60it/s]\u001b[A\n",
      " 30%|███       | 300/1000 [00:08<00:19, 35.04it/s]\u001b[A\n",
      " 30%|███       | 304/1000 [00:08<00:19, 35.44it/s]\u001b[A\n",
      " 31%|███       | 308/1000 [00:08<00:19, 35.71it/s]\u001b[A\n",
      " 31%|███       | 312/1000 [00:09<00:19, 35.89it/s]\u001b[A\n",
      " 32%|███▏      | 316/1000 [00:09<00:18, 36.02it/s]\u001b[A\n",
      " 32%|███▏      | 320/1000 [00:09<00:18, 36.12it/s]\u001b[A\n",
      " 32%|███▏      | 324/1000 [00:09<00:18, 36.19it/s]\u001b[A\n",
      " 33%|███▎      | 328/1000 [00:09<00:18, 36.21it/s]\u001b[A\n",
      " 33%|███▎      | 332/1000 [00:09<00:18, 36.13it/s]\u001b[A\n",
      " 56%|█████▌    | 558/1000 [00:50<00:39, 11.15it/s]\n",
      "100%|██████████| 1000/1000 [00:28<00:00, 32.39it/s]\n"
     ]
    }
   ],
   "source": [
    "# make model\n",
    "model = torch.nn.Sequential(\n",
    "    torch.nn.Linear(p.layer_sizes[0], p.layer_sizes[1]),\n",
    "    torch.nn.ReLU(),\n",
    "#     torch.nn.Linear(p.layer_sizes[1], p.layer_sizes[2]),\n",
    "#     torch.nn.ReLU(),\n",
    "    torch.nn.Linear(p.layer_sizes[-2], p.layer_sizes[-1]),\n",
    "    torch.nn.Softmax()\n",
    ")\n",
    "\n",
    "# freeze\n",
    "# model.2.weight = 2\n",
    "# instead of model.parameters(), only pass what you wanna optimize\n",
    "\n",
    "# set up optimization\n",
    "optimizer = torch.optim.SGD(model.parameters(), lr=p.lr) # only optimize ridge (otherwise use model.parameters())\n",
    "scheduler = StepLR(optimizer, step_size=p.step_size_optimizer, gamma=p.gamma_optimizer)\n",
    "loss_fn = torch.nn.MSELoss(size_average=False)\n",
    "dataloader = DataLoader(dset, batch_size=p.batch_size, shuffle=True)\n",
    "\n",
    "\n",
    "# to record\n",
    "weights = {}\n",
    "losses = np.zeros(p.num_iters)\n",
    "norms = np.zeros((p.num_iters, p.num_layers))\n",
    "accs = np.zeros(p.num_iters)\n",
    "\n",
    "\n",
    "# fit\n",
    "for it in tqdm(range(p.num_iters)):\n",
    "    for batch in dataloader:\n",
    "        y_pred = model(Variable(batch['x'], requires_grad=True)) # predict\n",
    "        loss = loss_fn(y_pred, Variable(batch['y'])) # calculate loss\n",
    "        optimizer.zero_grad() # zero the gradients\n",
    "        loss.backward() # backward pass\n",
    "        optimizer.step() # update weights\n",
    "        scheduler.step() # step for incrementing optimizer\n",
    "\n",
    "        # output\n",
    "        weight_dict = {x[0]:x[1].data.numpy() for x in model.named_parameters()}\n",
    "        if it % 100 == 0:\n",
    "            weights[it] = weight_dict\n",
    "        losses[it] = loss.data[0] \n",
    "        accs[it] = np.mean(np.argmax(y_pred.data.numpy(), axis=1) == y_plot) * 100\n",
    "        norms[it, 0] = np.linalg.norm(weight_dict['0.weight'])**2 + np.sum(weight_dict['0.bias']**2)\n",
    "        norms[it, 1] = np.linalg.norm(weight_dict['2.weight'])**2 + np.sum(weight_dict['2.bias']**2)"
   ]
  },
  {
   "cell_type": "markdown",
   "metadata": {},
   "source": [
    "# analyze results"
   ]
  },
  {
   "cell_type": "code",
   "execution_count": 490,
   "metadata": {},
   "outputs": [
    {
     "data": {
      "image/png": "[encoded data removed]",
      "text/plain": [
       "<Figure size 1008x216 with 3 Axes>"
      ]
     },
     "metadata": {},
     "output_type": "display_data"
    },
    {
     "name": "stdout",
     "output_type": "stream",
     "text": [
      "77.48560333251953\n"
     ]
    }
   ],
   "source": [
    "# plot loss and norms\n",
    "plt.figure(figsize=(14, 3))\n",
    "plt.subplot(131)\n",
    "plt.plot(losses)\n",
    "plt.title('loss')\n",
    "\n",
    "\n",
    "plt.subplot(132)\n",
    "plt.plot(accs)\n",
    "plt.title('acc')\n",
    "\n",
    "plt.subplot(133)\n",
    "plt.plot(norms[:, 0] - norms[:, 1])\n",
    "plt.title('w2 norm - w1 norm (should be constant)')\n",
    "plt.show()\n",
    "\n",
    "print(losses[-1])"
   ]
  },
  {
   "cell_type": "markdown",
   "metadata": {},
   "source": [
    "# plotting preds"
   ]
  },
  {
   "cell_type": "code",
   "execution_count": 509,
   "metadata": {},
   "outputs": [
    {
     "name": "stderr",
     "output_type": "stream",
     "text": [
      "/accounts/projects/vision/.local/lib/python3.5/site-packages/torch/nn/modules/container.py:67: UserWarning: Implicit dimension choice for softmax has been deprecated. Change the call to include dim=X as an argument.\n",
      "  input = module(input)\n"
     ]
    },
    {
     "data": {
      "image/png": "[encoded data removed]",
      "text/plain": [
       "<Figure size 1008x216 with 2 Axes>"
      ]
     },
     "metadata": {},
     "output_type": "display_data"
    }
   ],
   "source": [
    "# plot predictions\n",
    "plt.figure(figsize=(14, 3))\n",
    "plt.subplot(121)\n",
    "preds = model(Variable(torch.from_numpy(X), requires_grad=True)).data.numpy() # predict\n",
    "plt.scatter(X, np.argmax(preds, axis=1), label='pred top class')\n",
    "plt.scatter(X, np.argmax(y, axis=-1), label='labels', alpha=0.5, marker='x')\n",
    "plt.legend()\n",
    "\n",
    "plt.subplot(122)\n",
    "X_grid = np.linspace(np.min(X), np.max(X), 1000, dtype=np.float32).reshape(X_grid.shape[0], 1)\n",
    "preds_grid = model(Variable(torch.from_numpy(X_grid), requires_grad=True)).data.numpy() # predict\n",
    "plt.scatter(X_grid, preds_grid[:, 1], label='pred probability of class 1', color='black') # note other class is 1 - this\n",
    "plt.scatter(X_grid, preds_grid[:, 0], label='pred probability of class 0', color='green') # note other class is 1 - this\n",
    "plt.plot([-1000, 1000], [.5, .5], '--', color='gray')\n",
    "plt.xlim([np.min(X), np.max(X)])\n",
    "plt.legend()\n",
    "plt.show()"
   ]
  },
  {
   "cell_type": "code",
   "execution_count": null,
   "metadata": {},
   "outputs": [],
   "source": []
  }
 ],
 "metadata": {
  "kernelspec": {
   "display_name": "Python 3",
   "language": "python",
   "name": "python3"
  },
  "language_info": {
   "codemirror_mode": {
    "name": "ipython",
    "version": 3
   },
   "file_extension": ".py",
   "mimetype": "text/x-python",
   "name": "python",
   "nbconvert_exporter": "python",
   "pygments_lexer": "ipython3",
   "version": "3.5.4"
  }
 },
 "nbformat": 4,
 "nbformat_minor": 2
}
