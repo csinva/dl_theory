{
 "cells": [
  {
   "cell_type": "code",
   "execution_count": 124,
   "metadata": {},
   "outputs": [],
   "source": [
    "import torch\n",
    "from torch.autograd import Variable\n",
    "import numpy as np\n",
    "import matplotlib.pyplot as plt\n",
    "from tqdm import tqdm\n",
    "from torch.optim.lr_scheduler import StepLR"
   ]
  },
  {
   "cell_type": "markdown",
   "metadata": {},
   "source": [
    "## parameters"
   ]
  },
  {
   "cell_type": "code",
   "execution_count": 187,
   "metadata": {},
   "outputs": [],
   "source": [
    "class p:\n",
    "    # data parameters\n",
    "    N = 200 # N is batch size\n",
    "    D_in = 1 # D_in is input dimension\n",
    "    D_out = 2 # D_out is output dimension\n",
    "    means = [[0], [20], [40]] # means of gaussian data\n",
    "    sds = [[1], [1], [1]] # sds of data\n",
    "    labs = [0, 1, 0] # labels of these gaussians\n",
    "    \n",
    "    # model parameters\n",
    "    H = 1 # H is hidden dimension\n",
    "    \n",
    "    # fitting paramters\n",
    "    lr = 0.00001\n",
    "    num_iters = int(1e4)\n",
    "    step_size_optimizer = 1000\n",
    "    gamma_optimizer = 0.9"
   ]
  },
  {
   "cell_type": "markdown",
   "metadata": {},
   "source": [
    "# generate data"
   ]
  },
  {
   "cell_type": "code",
   "execution_count": 188,
   "metadata": {},
   "outputs": [
    {
     "data": {
      "image/png": "[encoded data removed]",
      "text/plain": [
       "<Figure size 432x288 with 1 Axes>"
      ]
     },
     "metadata": {},
     "output_type": "display_data"
    }
   ],
   "source": [
    "# generate mixture model\n",
    "# means and sds should be lists of lists (sds just scale variances)\n",
    "def generate_gaussian_data(N, means=[[0], [1]], sds=[1, 1], labs=[0, 1]):\n",
    "    num_means = len(means)\n",
    "    P = len(means[0])\n",
    "    X = np.zeros((N, P), dtype=np.float32)\n",
    "    y_plot = np.zeros((N, 1), dtype=np.float32)\n",
    "    y_one_hot = np.zeros((N, 2), dtype=np.float32)\n",
    "    for i in range(N):\n",
    "        z = np.random.randint(num_means) # select gaussian\n",
    "        X[i] = np.random.multivariate_normal(means[z], np.eye(P) * sds[z])\n",
    "        y_plot[i] = labs[z]\n",
    "        y_one_hot[i, labs[z]] = 1\n",
    "    return X, y_one_hot, y_plot\n",
    "\n",
    "\n",
    "# data to torch\n",
    "class dset:\n",
    "    def __init__(self, X, y):\n",
    "        self.X = X\n",
    "        self.y = y\n",
    "    def __getitem__(self, idx):\n",
    "        return X[idx], y[idx]\n",
    "    def __len__(self):\n",
    "        return y.size\n",
    "\n",
    "X, y, y_plot = generate_gaussian_data(p.N, means=p.means, sds=p.sds, labs=p.labs)\n",
    "dset = dset(X, y)\n",
    "plt.scatter(X, y_plot)\n",
    "plt.xlabel('x')\n",
    "plt.ylabel('y')\n",
    "plt.show()"
   ]
  },
  {
   "cell_type": "markdown",
   "metadata": {},
   "source": [
    "## run + fit"
   ]
  },
  {
   "cell_type": "code",
   "execution_count": 189,
   "metadata": {},
   "outputs": [
    {
     "name": "stderr",
     "output_type": "stream",
     "text": [
      "\n",
      "  0%|          | 0/10000 [00:00<?, ?it/s]\u001b[A\n",
      "  5%|▍         | 479/10000 [00:00<00:01, 4782.00it/s]\u001b[A\n",
      "100%|██████████| 10000/10000 [00:02<00:00, 4695.76it/s]\n"
     ]
    }
   ],
   "source": [
    "# data to torch\n",
    "X_torch = torch.from_numpy(X)\n",
    "y_torch = torch.from_numpy(y)\n",
    "\n",
    "# make model\n",
    "model = torch.nn.Sequential(\n",
    "    torch.nn.Linear(p.D_in, p.H),\n",
    "    torch.nn.ReLU(),\n",
    "    torch.nn.Linear(p.H, p.D_out),\n",
    ")\n",
    "\n",
    "# set up optimization\n",
    "optimizer = torch.optim.SGD(model.parameters(), lr=p.lr) # only optimize ridge (otherwise use model.parameters())\n",
    "scheduler = StepLR(optimizer, step_size=p.step_size_optimizer, gamma=p.gamma_optimizer)\n",
    "loss_fn = torch.nn.MSELoss(size_average=False)\n",
    "\n",
    "\n",
    "# to record\n",
    "weights = {}\n",
    "losses = np.zeros(p.num_iters)\n",
    "\n",
    "\n",
    "# fit\n",
    "for it in tqdm(range(p.num_iters)):\n",
    "    y_pred = model(Variable(X_torch, requires_grad=True)) # predict\n",
    "    loss = loss_fn(y_pred, Variable(y_torch)) # calculate loss\n",
    "    optimizer.zero_grad() # zero the gradients\n",
    "    loss.backward() # backward pass\n",
    "    optimizer.step() # update weights\n",
    "    scheduler.step() # step for incrementing optimizer\n",
    "\n",
    "    # output\n",
    "    losses[it] = loss.data[0]        \n",
    "    if it % 100 == 0:\n",
    "        weights[it] = model.named_parameters()\n"
   ]
  },
  {
   "cell_type": "markdown",
   "metadata": {},
   "source": [
    "# analyze results"
   ]
  },
  {
   "cell_type": "code",
   "execution_count": 190,
   "metadata": {},
   "outputs": [
    {
     "data": {
      "image/png": "[encoded data removed]",
      "text/plain": [
       "<Figure size 432x288 with 1 Axes>"
      ]
     },
     "metadata": {},
     "output_type": "display_data"
    }
   ],
   "source": [
    "plt.plot(losses)\n",
    "plt.show()"
   ]
  },
  {
   "cell_type": "code",
   "execution_count": 191,
   "metadata": {},
   "outputs": [
    {
     "name": "stdout",
     "output_type": "stream",
     "text": [
      "0.weight \n",
      "1.00000e-02 *\n",
      " -5.3803\n",
      "[torch.FloatTensor of size 1x1]\n",
      "\n",
      "0.bias \n",
      " 0.9543\n",
      "[torch.FloatTensor of size 1]\n",
      "\n",
      "2.weight \n",
      " 0.4615\n",
      "-0.4638\n",
      "[torch.FloatTensor of size 2x1]\n",
      "\n",
      "2.bias \n",
      " 0.5555\n",
      " 0.4454\n",
      "[torch.FloatTensor of size 2]\n",
      "\n"
     ]
    }
   ],
   "source": [
    "# print output weights\n",
    "for name, param in weights[max(weights.keys())]:\n",
    "    print(name, param.data)"
   ]
  },
  {
   "cell_type": "code",
   "execution_count": null,
   "metadata": {},
   "outputs": [],
   "source": []
  },
  {
   "cell_type": "code",
   "execution_count": null,
   "metadata": {},
   "outputs": [],
   "source": []
  },
  {
   "cell_type": "code",
   "execution_count": null,
   "metadata": {},
   "outputs": [],
   "source": []
  }
 ],
 "metadata": {
  "kernelspec": {
   "display_name": "Python 3",
   "language": "python",
   "name": "python3"
  },
  "language_info": {
   "codemirror_mode": {
    "name": "ipython",
    "version": 3
   },
   "file_extension": ".py",
   "mimetype": "text/x-python",
   "name": "python",
   "nbconvert_exporter": "python",
   "pygments_lexer": "ipython3",
   "version": "3.5.4"
  }
 },
 "nbformat": 4,
 "nbformat_minor": 2
}
