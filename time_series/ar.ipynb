{
 "cells": [
  {
   "cell_type": "code",
   "execution_count": 22,
   "metadata": {},
   "outputs": [
    {
     "name": "stdout",
     "output_type": "stream",
     "text": [
      "The autoreload extension is already loaded. To reload it, use:\n",
      "  %reload_ext autoreload\n"
     ]
    }
   ],
   "source": [
    "import os\n",
    "from os.path import join as oj\n",
    "import sys, time\n",
    "import seaborn as sns\n",
    "import numpy as np\n",
    "import matplotlib.pyplot as plt\n",
    "\n",
    "from tqdm import tqdm\n",
    "from copy import deepcopy\n",
    "import pickle as pkl\n",
    "import pandas as pd\n",
    "import math\n",
    "from sklearn import metrics\n",
    "from sklearn.linear_model import LinearRegression\n",
    "import warnings\n",
    "import skits\n",
    "warnings.filterwarnings(\"ignore\")\n",
    "\n",
    "%matplotlib inline\n",
    "%load_ext autoreload\n",
    "%autoreload 2\n",
    "\n",
    "import statsmodels.tsa.api as smt\n",
    "import traceback\n",
    "\n",
    "font = {'size'   : 12}\n",
    "plt.rc('font', **font)\n",
    "cb = '#008fd5'\n",
    "cr = '#fc4f30'"
   ]
  },
  {
   "cell_type": "code",
   "execution_count": 23,
   "metadata": {},
   "outputs": [],
   "source": [
    "x = np.arange(100)"
   ]
  },
  {
   "cell_type": "code",
   "execution_count": 32,
   "metadata": {},
   "outputs": [],
   "source": [
    "p = 50\n"
   ]
  },
  {
   "cell_type": "code",
   "execution_count": 33,
   "metadata": {},
   "outputs": [],
   "source": [
    "yhat = m.predict(xs)"
   ]
  },
  {
   "cell_type": "markdown",
   "metadata": {},
   "source": [
    "*generate some arma data*"
   ]
  },
  {
   "cell_type": "code",
   "execution_count": 11,
   "metadata": {},
   "outputs": [
    {
     "name": "stdout",
     "output_type": "stream",
     "text": [
      "ar [ 0.79044204 -0.23140646] ma [0.70072895 0.40608016]\n"
     ]
    },
    {
     "data": {
      "image/png": "[encoded data removed]",
      "text/plain": [
       "<Figure size 432x288 with 1 Axes>"
      ]
     },
     "metadata": {
      "needs_background": "light"
     },
     "output_type": "display_data"
    }
   ],
   "source": [
    "np.random.seed(12345)\n",
    "arparams = np.array([.75, -.25])\n",
    "maparams = np.array([.65, .35])\n",
    "ar = np.r_[1, -arparams] # add zero-lag and negate\n",
    "ma = np.r_[1, maparams] # add zero-lag\n",
    "\n",
    "n = 250\n",
    "sample = smt.arma_generate_sample(ar=ar, ma=ma, nsample=n, sigma=1)\n",
    "p = 2\n",
    "q = 2\n",
    "mod = smt.ARMA(sample, order=(p, q)).fit(trend='nc', disp=0) #$=False) #, start_params=start_params, trend='nc')\n",
    "print('ar', mod.params[:p], 'ma', mod.params[p:])\n",
    "plt.plot(sample, color=cb)\n",
    "plt.xlabel('t')\n",
    "plt.ylabel('data')\n",
    "plt.show()"
   ]
  },
  {
   "cell_type": "code",
   "execution_count": null,
   "metadata": {},
   "outputs": [],
   "source": [
    "mod.summary()"
   ]
  },
  {
   "cell_type": "markdown",
   "metadata": {},
   "source": [
    "*fit and inspect an individual model*"
   ]
  },
  {
   "cell_type": "code",
   "execution_count": 112,
   "metadata": {},
   "outputs": [
    {
     "name": "stderr",
     "output_type": "stream",
     "text": [
      "100%|██████████| 165/165 [00:05<00:00, 20.10it/s]\n"
     ]
    }
   ],
   "source": [
    "def pred_all(s, mod):\n",
    "    '''Doesn't return first time-step, so preds are one shorter than sample size.\n",
    "    Note - this updates mod.fittedvalues\n",
    "    '''\n",
    "    return mod.predict(exog=s) # this predicts in sample\n",
    "\n",
    "def pred_next(s, mod):\n",
    "    '''Predicts next value\n",
    "    '''\n",
    "    return mod.predict(start=0, end=s.size)[-1] # this predicts in sample\n",
    "\n",
    "def fit(n=100, p=3, sigma=1, seed=1):    \n",
    "    np.random.seed(seed)\n",
    "    \n",
    "    n = n + p\n",
    "    \n",
    "    \n",
    "#     arparams = np.array([.75, -.25])\n",
    "    arparams = np.array([0.75, -.25, 0.75, -.25, 0, 0, 0])    \n",
    "    maparams = np.array([.65, .35])\n",
    "    \n",
    "    \n",
    "#     arparams = np.random.randn(2)\n",
    "#     maparams = np.random.randn(2)\n",
    "    ar = np.r_[1, -arparams] # add zero-lag and negate\n",
    "    ma = np.r_[1, maparams] # add zero-lag\n",
    "\n",
    "\n",
    "    # start_params = [0] * (len(ar) + len(ma) + 3) # this is very strange\n",
    "    sample = smt.arma_generate_sample(ar=ar, ma=ma, nsample=n * 2 + 1, sigma=sigma)\n",
    "    sample = smt.detrend(sample, order=1)\n",
    "    sample_train = sample[:n]\n",
    "    xs = np.vstack([sample_train[i: i + p] for i in range(0, sample_train.size - p)])\n",
    "    ys = np.vstack([sample_train[i + p] for i in range(0, sample_train.size - p)])\n",
    "    mod = LinearRegression().fit(xs, ys)\n",
    "    preds_train = mod.predict(xs)\n",
    "#     mod = smt.AR(sample_train).fit(maxlag=p) #, start_params=start_params, trend='nc')\n",
    "#     mod = smt.AR(sample_train).fit(transparams=False, start_params=start_params, trend='nc')\n",
    "#     mod = smt.ARMA(sample_train, order=(p, q)).fit(transparams=False, start_params=start_params, trend='nc')\n",
    "    \n",
    "    sample_test = sample[n:]\n",
    "    xs = np.vstack([sample_test[i: i + p] for i in range(0, sample_test.size - p)])\n",
    "    ys = np.vstack([sample_test[i + p] for i in range(0, sample_test.size - p)])\n",
    "    mod = LinearRegression().fit(xs, ys)\n",
    "    preds_test = mod.predict(xs)\n",
    "    \n",
    "    \n",
    "#     print(n, xs.shape[0])\n",
    "    '''\n",
    "    plt.plot(sample_train[:preds_train.size])\n",
    "    plt.plot(preds_train)\n",
    "    plt.show()\n",
    "#     preds_test = pred_next(sample_test, mod).reshape(1, 1)\n",
    "    '''\n",
    "\n",
    "    results = {\n",
    "        'train_mse': metrics.mean_squared_error(sample_train[p:], preds_train), \n",
    "        'test_mse': metrics.mean_squared_error(sample_test[p:], preds_test), \n",
    "#         'aic': mod.aic,\n",
    "#         'bic': mod.bic,\n",
    "#         'llf': mod.llf,\n",
    "#         'hqic': mod.hqic,\n",
    "        'n': preds_train.size,\n",
    "        'p': p,\n",
    "        'sigma': sigma,\n",
    "        'seed': seed\n",
    "    }\n",
    "    \n",
    "    return results\n",
    "\n",
    "# this n is before adding by p\n",
    "ns = np.arange(5, 500, 3)\n",
    "ps = [100]\n",
    "sigma = 100\n",
    "seeds = range(2)\n",
    "\n",
    "results_list = []\n",
    "for p in ps:\n",
    "    for n in tqdm(ns):\n",
    "        for seed in seeds:\n",
    "            results_list.append(fit(n, p, sigma, seed))\n",
    "df = pd.DataFrame(results_list, index=range(len(results_list)))\n",
    "pkl.dump(df, open('df.pkl', 'wb'))"
   ]
  },
  {
   "cell_type": "code",
   "execution_count": 113,
   "metadata": {},
   "outputs": [
    {
     "data": {
      "text/html": [
       "<div>\n",
       "<style scoped>\n",
       "    .dataframe tbody tr th:only-of-type {\n",
       "        vertical-align: middle;\n",
       "    }\n",
       "\n",
       "    .dataframe tbody tr th {\n",
       "        vertical-align: top;\n",
       "    }\n",
       "\n",
       "    .dataframe thead th {\n",
       "        text-align: right;\n",
       "    }\n",
       "</style>\n",
       "<table border=\"1\" class=\"dataframe\">\n",
       "  <thead>\n",
       "    <tr style=\"text-align: right;\">\n",
       "      <th></th>\n",
       "      <th>n</th>\n",
       "      <th>p</th>\n",
       "      <th>seed</th>\n",
       "      <th>sigma</th>\n",
       "      <th>test_mse</th>\n",
       "      <th>train_mse</th>\n",
       "    </tr>\n",
       "  </thead>\n",
       "  <tbody>\n",
       "    <tr>\n",
       "      <th>count</th>\n",
       "      <td>330.000000</td>\n",
       "      <td>330.0</td>\n",
       "      <td>330.000000</td>\n",
       "      <td>330.0</td>\n",
       "      <td>3.300000e+02</td>\n",
       "      <td>3.300000e+02</td>\n",
       "    </tr>\n",
       "    <tr>\n",
       "      <th>mean</th>\n",
       "      <td>251.000000</td>\n",
       "      <td>100.0</td>\n",
       "      <td>0.500000</td>\n",
       "      <td>100.0</td>\n",
       "      <td>5.003398e+03</td>\n",
       "      <td>5.211577e+03</td>\n",
       "    </tr>\n",
       "    <tr>\n",
       "      <th>std</th>\n",
       "      <td>143.108563</td>\n",
       "      <td>0.0</td>\n",
       "      <td>0.500759</td>\n",
       "      <td>0.0</td>\n",
       "      <td>2.925102e+03</td>\n",
       "      <td>3.131519e+03</td>\n",
       "    </tr>\n",
       "    <tr>\n",
       "      <th>min</th>\n",
       "      <td>5.000000</td>\n",
       "      <td>100.0</td>\n",
       "      <td>0.000000</td>\n",
       "      <td>100.0</td>\n",
       "      <td>2.961910e-27</td>\n",
       "      <td>3.554292e-27</td>\n",
       "    </tr>\n",
       "    <tr>\n",
       "      <th>25%</th>\n",
       "      <td>128.000000</td>\n",
       "      <td>100.0</td>\n",
       "      <td>0.000000</td>\n",
       "      <td>100.0</td>\n",
       "      <td>2.862274e+03</td>\n",
       "      <td>2.766895e+03</td>\n",
       "    </tr>\n",
       "    <tr>\n",
       "      <th>50%</th>\n",
       "      <td>251.000000</td>\n",
       "      <td>100.0</td>\n",
       "      <td>0.500000</td>\n",
       "      <td>100.0</td>\n",
       "      <td>6.341331e+03</td>\n",
       "      <td>6.547090e+03</td>\n",
       "    </tr>\n",
       "    <tr>\n",
       "      <th>75%</th>\n",
       "      <td>374.000000</td>\n",
       "      <td>100.0</td>\n",
       "      <td>1.000000</td>\n",
       "      <td>100.0</td>\n",
       "      <td>7.399804e+03</td>\n",
       "      <td>7.814443e+03</td>\n",
       "    </tr>\n",
       "    <tr>\n",
       "      <th>max</th>\n",
       "      <td>497.000000</td>\n",
       "      <td>100.0</td>\n",
       "      <td>1.000000</td>\n",
       "      <td>100.0</td>\n",
       "      <td>7.993662e+03</td>\n",
       "      <td>8.714206e+03</td>\n",
       "    </tr>\n",
       "  </tbody>\n",
       "</table>\n",
       "</div>"
      ],
      "text/plain": [
       "                n      p        seed  sigma      test_mse     train_mse\n",
       "count  330.000000  330.0  330.000000  330.0  3.300000e+02  3.300000e+02\n",
       "mean   251.000000  100.0    0.500000  100.0  5.003398e+03  5.211577e+03\n",
       "std    143.108563    0.0    0.500759    0.0  2.925102e+03  3.131519e+03\n",
       "min      5.000000  100.0    0.000000  100.0  2.961910e-27  3.554292e-27\n",
       "25%    128.000000  100.0    0.000000  100.0  2.862274e+03  2.766895e+03\n",
       "50%    251.000000  100.0    0.500000  100.0  6.341331e+03  6.547090e+03\n",
       "75%    374.000000  100.0    1.000000  100.0  7.399804e+03  7.814443e+03\n",
       "max    497.000000  100.0    1.000000  100.0  7.993662e+03  8.714206e+03"
      ]
     },
     "execution_count": 113,
     "metadata": {},
     "output_type": "execute_result"
    }
   ],
   "source": [
    "df.describe()"
   ]
  },
  {
   "cell_type": "code",
   "execution_count": 114,
   "metadata": {},
   "outputs": [
    {
     "data": {
      "image/png": "[encoded data removed]",
      "text/plain": [
       "<Figure size 432x288 with 2 Axes>"
      ]
     },
     "metadata": {
      "needs_background": "light"
     },
     "output_type": "display_data"
    }
   ],
   "source": [
    "df = pkl.load(open('df.pkl', 'rb'))\n",
    "df['num_train'] = df.n\n",
    "# df['num_params'] = df.p + df.q\n",
    "df['gamma'] = df.p / df.n\n",
    "df = df.groupby(['n', 'p', 'sigma'])\n",
    "\n",
    "# things that vary: n, p, q\n",
    "r = df.mean()\n",
    "# print(r.shape)\n",
    "# plt.figure(dpi=200)\n",
    "R, C = 1, 2\n",
    "plt.subplot(R, C, 1)\n",
    "plt.plot(r.gamma, r.train_mse.values, 'o')\n",
    "plt.yscale('log')\n",
    "plt.xscale('log')\n",
    "plt.xlabel('d / n')\n",
    "plt.ylabel('Train MSE')\n",
    "\n",
    "plt.subplot(R, C, 2)\n",
    "plt.plot(r.gamma, r.test_mse.values, 'o')\n",
    "plt.yscale('log')\n",
    "plt.xscale('log')\n",
    "plt.xlabel('d / n')\n",
    "plt.ylabel('Test MSE')\n",
    "plt.tight_layout()\n",
    "\n",
    "plt.show()"
   ]
  },
  {
   "cell_type": "code",
   "execution_count": 6,
   "metadata": {},
   "outputs": [
    {
     "data": {
      "image/png": "[encoded data removed]",
      "text/plain": [
       "<Figure size 360x360 with 1 Axes>"
      ]
     },
     "metadata": {
      "needs_background": "light"
     },
     "output_type": "display_data"
    },
    {
     "data": {
      "image/png": "[encoded data removed]",
      "text/plain": [
       "<Figure size 360x360 with 1 Axes>"
      ]
     },
     "metadata": {
      "needs_background": "light"
     },
     "output_type": "display_data"
    },
    {
     "data": {
      "image/png": "[encoded data removed]",
      "text/plain": [
       "<Figure size 360x360 with 1 Axes>"
      ]
     },
     "metadata": {
      "needs_background": "light"
     },
     "output_type": "display_data"
    }
   ],
   "source": [
    "sns.lmplot('aic', 'test_mse', r)\n",
    "plt.xscale('log')\n",
    "plt.yscale('log')\n",
    "\n",
    "sns.lmplot('llf', 'test_mse', r)\n",
    "plt.xscale('log')\n",
    "plt.yscale('log')\n",
    "\n",
    "sns.lmplot('train_mse', 'test_mse', r)\n",
    "plt.xscale('log')\n",
    "plt.yscale('log')"
   ]
  },
  {
   "cell_type": "code",
   "execution_count": null,
   "metadata": {},
   "outputs": [],
   "source": [
    "sns.pairplot(r[['train_mse', 'test_mse', 'bic', 'hqic', 'aic', 'llf']])"
   ]
  },
  {
   "cell_type": "markdown",
   "metadata": {},
   "source": [
    "# analyze model selection"
   ]
  },
  {
   "cell_type": "code",
   "execution_count": null,
   "metadata": {},
   "outputs": [],
   "source": [
    "# df_correct = pd.DataFrame.from_dict(correct_arr)\n",
    "# results_all = {'df_correct': df_correct,\n",
    "#                'sample_list': sample_list,\n",
    "#                'results_list': results_list}\n",
    "# pkl.dump(results_all, open('results_all.pkl', 'wb'))"
   ]
  },
  {
   "cell_type": "code",
   "execution_count": 5,
   "metadata": {},
   "outputs": [],
   "source": [
    "results_all = pkl.load(open('results_all.pkl', 'rb'))"
   ]
  },
  {
   "cell_type": "code",
   "execution_count": null,
   "metadata": {},
   "outputs": [],
   "source": [
    "results_all.keys()"
   ]
  },
  {
   "cell_type": "code",
   "execution_count": null,
   "metadata": {},
   "outputs": [],
   "source": [
    "for i, r in enumerate(results_all['results_list']):\n",
    "    print(i)\n",
    "    for key in r:\n",
    "        if 'min_order' in key:\n",
    "            print('\\t', key, r[key])"
   ]
  },
  {
   "cell_type": "code",
   "execution_count": null,
   "metadata": {},
   "outputs": [],
   "source": [
    "# ar is row, max is col\n",
    "results['bic']"
   ]
  }
 ],
 "metadata": {
  "anaconda-cloud": {},
  "kernelspec": {
   "display_name": "Python 3",
   "language": "python",
   "name": "python3"
  },
  "language_info": {
   "codemirror_mode": {
    "name": "ipython",
    "version": 3
   },
   "file_extension": ".py",
   "mimetype": "text/x-python",
   "name": "python",
   "nbconvert_exporter": "python",
   "pygments_lexer": "ipython3",
   "version": "3.7.5"
  }
 },
 "nbformat": 4,
 "nbformat_minor": 4
}
