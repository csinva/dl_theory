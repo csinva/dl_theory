{
 "cells": [
  {
   "cell_type": "code",
   "execution_count": 1,
   "metadata": {},
   "outputs": [],
   "source": [
    "import os\n",
    "from os.path import join as oj\n",
    "import sys, time\n",
    "sys.path.insert(1, oj(sys.path[0], '..'))  # insert parent path\n",
    "sys.path.insert(1, oj(sys.path[0], '..', 'vision_fit'))  # insert parent path\n",
    "sys.path.insert(1, oj(sys.path[0], '..', 'vision_analyze'))  # insert parent path\n",
    "\n",
    "import seaborn as sns\n",
    "import numpy as np\n",
    "import matplotlib.pyplot as plt\n",
    "\n",
    "from tqdm import tqdm\n",
    "from copy import deepcopy\n",
    "import pickle as pkl\n",
    "import pandas as pd\n",
    "import math\n",
    "# plt.style.use('dark_background')\n",
    "from collections import OrderedDict\n",
    "from sklearn import preprocessing\n",
    "\n",
    "import torch\n",
    "from torch.autograd import Variable\n",
    "# from mog_analyze import viz\n",
    "from sklearn.decomposition import PCA\n",
    "\n",
    "import warnings\n",
    "warnings.filterwarnings(\"ignore\")\n",
    "\n",
    "from vision_fit import data\n",
    "import viz_weights\n",
    "from process_results import process_results\n",
    "\n",
    "%matplotlib inline\n",
    "%load_ext autoreload\n",
    "%autoreload 2\n",
    "\n",
    "import style\n",
    "cb = '#008fd5'\n",
    "cr = '#fc4f30'"
   ]
  },
  {
   "cell_type": "code",
   "execution_count": 2,
   "metadata": {},
   "outputs": [],
   "source": [
    "style.set_style()"
   ]
  },
  {
   "cell_type": "markdown",
   "metadata": {},
   "source": [
    "# load results from a directory"
   ]
  },
  {
   "cell_type": "code",
   "execution_count": 3,
   "metadata": {},
   "outputs": [
    {
     "name": "stderr",
     "output_type": "stream",
     "text": [
      "100%|██████████| 35/35 [00:02<00:00, 14.13it/s]"
     ]
    },
    {
     "name": "stdout",
     "output_type": "stream",
     "text": [
      "(35, 54)\n"
     ]
    },
    {
     "name": "stderr",
     "output_type": "stream",
     "text": [
      "\n"
     ]
    }
   ],
   "source": [
    "# depending on how much is saved, this may take a while\n",
    "out_dir = '/scratch/users/vision/yu_dl/raaz.rsk/track_acts/resweep_full_new'\n",
    "# out_dir2 = '/scratch/users/vision/yu_dl/raaz.rsk/track_acts/resweep_full_new2'\n",
    "fnames = sorted([oj(out_dir, fname) for fname in os.listdir(out_dir)[:100] \\\n",
    "                 if not fname.startswith('weights') \\\n",
    "                 and not fname.startswith('idx')]) #+ \\\n",
    "#          sorted([oj(out_dir2, fname) for fname in os.listdir(out_dir2) \\\n",
    "#                  if not fname.startswith('weights') \\\n",
    "#                  and not fname.startswith('idx')])    \n",
    "results_list = [pd.Series(pkl.load(open(fname, \"rb\"))) for fname in tqdm(fnames) \n",
    "                if not fname.startswith('weights') and not fname.startswith('idx')]\n",
    "results = pd.concat(results_list, axis=1).T.infer_objects()\n",
    "print(results.shape)"
   ]
  },
  {
   "cell_type": "markdown",
   "metadata": {},
   "source": [
    "**add cols**"
   ]
  },
  {
   "cell_type": "code",
   "execution_count": 4,
   "metadata": {},
   "outputs": [
    {
     "name": "stdout",
     "output_type": "stream",
     "text": [
      "after (32, 86)\n"
     ]
    }
   ],
   "source": [
    "# adds these vec keys: fc0_fro, fc1_fro, fc0_stab_rank, fc1_stab_rank, act0_stab_rank, act1_stab_rank, corr0, corr1\n",
    "# adds these scalar keys: max_train_acc, max_test_acc, _final of all the above\n",
    "# print('before', results.shape)\n",
    "its, ts, results = process_results(results)\n",
    "print('after', results.shape)"
   ]
  },
  {
   "cell_type": "markdown",
   "metadata": {},
   "source": [
    "# pick examples"
   ]
  },
  {
   "cell_type": "code",
   "execution_count": 76,
   "metadata": {},
   "outputs": [],
   "source": [
    "results = results.sort_values('max_test_acc', ascending=False)\n",
    "pid = results.pid.iloc[0]"
   ]
  },
  {
   "cell_type": "code",
   "execution_count": 77,
   "metadata": {},
   "outputs": [],
   "source": [
    "out_dir = '/scratch/users/vision/yu_dl/raaz.rsk/track_acts/resweep_full_new'\n",
    "out_dir2 = '/scratch/users/vision/yu_dl/raaz.rsk/track_acts/resweep_full_new2'\n",
    "fnames = sorted([oj(out_dir, fname) for fname in os.listdir(out_dir) \\\n",
    "                 if pid in fname])\n",
    "\n",
    "# weights\n",
    "fnames_w = [fname for fname in fnames if 'weights' in fname]\n",
    "results_list = [pd.Series(pkl.load(open(fname, \"rb\"))) for fname in fnames_w]\n",
    "rw = pd.concat(results_list, axis=1).T.infer_objects()\n",
    "\n",
    "# normal results\n",
    "fnames_acc = [fname for fname in fnames if '/pid' in fname] # normal results\n",
    "results_list = [pd.Series(pkl.load(open(fname, \"rb\"))) for fname in fnames_acc]\n",
    "r = pd.concat(results_list, axis=1).T.infer_objects()\n",
    "its, ts, r = process_results(r)\n",
    "\n",
    "# get individual weights\n",
    "row_w = rw[rw.optimizer == 'sgd'].reset_index().iloc[0]\n",
    "\n",
    "# get accs\n",
    "row_accs = r[r.optimizer == 'sgd'].reset_index().iloc[0]\n",
    "\n",
    "row = pd.concat([row_w, row_accs])"
   ]
  },
  {
   "cell_type": "markdown",
   "metadata": {},
   "source": [
    "# analyze the row"
   ]
  },
  {
   "cell_type": "code",
   "execution_count": 78,
   "metadata": {},
   "outputs": [
    {
     "data": {
      "text/plain": [
       "['index',\n",
       " 'freeze',\n",
       " 'shuffle_labels',\n",
       " 'dset',\n",
       " 'num_layers',\n",
       " 'optimizer',\n",
       " 'batch_size',\n",
       " 'seed',\n",
       " 'lr',\n",
       " 'weights',\n",
       " 'save_acts_and_reduce',\n",
       " 'pid',\n",
       " 'lr_step',\n",
       " 'weights_first10',\n",
       " 'saves_per_iter_end',\n",
       " 'use_conv_special',\n",
       " 'save_all_weights_freq',\n",
       " 'calc_activations',\n",
       " 'its',\n",
       " 'out_dir',\n",
       " 'lr_ticks',\n",
       " 'hidden_size',\n",
       " 'num_iters_small',\n",
       " 'saves_per_iter',\n",
       " 'use_conv',\n",
       " 'num_iters',\n",
       " 'index',\n",
       " 'freeze',\n",
       " 'shuffle_labels',\n",
       " 'num_layers',\n",
       " 'optimizer',\n",
       " 'lr',\n",
       " 'mean_margin_test',\n",
       " 'mean_margin_train_unnormalized',\n",
       " 'lr_ticks',\n",
       " 'lr_step',\n",
       " 'singular_val_dicts_rbf',\n",
       " 'singular_val_dicts_cosine',\n",
       " 'accs_test',\n",
       " 'mean_max_corrs',\n",
       " 'its',\n",
       " 'act_singular_val_dicts_test_rbf',\n",
       " 'mean_margin_test_unnormalized',\n",
       " 'accs_train',\n",
       " 'weight_names',\n",
       " 'num_iters_small',\n",
       " 'saves_per_iter',\n",
       " 'use_conv',\n",
       " 'num_iters',\n",
       " 'singular_val_dicts_lap',\n",
       " 'act_singular_val_dicts_train_rbf',\n",
       " 'dset',\n",
       " 'batch_size',\n",
       " 'seed',\n",
       " 'act_singular_val_dicts_train_pca',\n",
       " 'accs_train_r',\n",
       " 'save_acts_and_reduce',\n",
       " 'pid',\n",
       " 'saves_per_iter_end',\n",
       " 'save_all_weights_freq',\n",
       " 'mean_margin_train',\n",
       " 'calc_activations',\n",
       " 'losses_test',\n",
       " 'use_conv_special',\n",
       " 'weight_norms',\n",
       " 'losses_train_r',\n",
       " 'hidden_size',\n",
       " 'losses_train',\n",
       " 'accs_test_r',\n",
       " 'act_singular_val_dicts_test_pca',\n",
       " 'singular_val_dicts_pca',\n",
       " 'out_dir',\n",
       " 'losses_test_r',\n",
       " 'fc0_fro',\n",
       " 'fc1_fro',\n",
       " 'fc2_fro',\n",
       " 'fc3_fro',\n",
       " 'fc0_stab_rank',\n",
       " 'fc1_stab_rank',\n",
       " 'act0_stab_rank',\n",
       " 'act1_stab_rank',\n",
       " 'corr0',\n",
       " 'corr1',\n",
       " 'corr0_adj',\n",
       " 'corr1_adj',\n",
       " 'corr2',\n",
       " 'corr3',\n",
       " 'max_train_acc',\n",
       " 'max_test_acc',\n",
       " 'corr0_final',\n",
       " 'corr1_final',\n",
       " 'corr0_adj_final',\n",
       " 'corr1_adj_final',\n",
       " 'corr2_final',\n",
       " 'corr3_final',\n",
       " 'fc0_fro_final',\n",
       " 'fc1_fro_final',\n",
       " 'fc2_fro_final',\n",
       " 'fc3_fro_final',\n",
       " 'fc0_stab_rank_final',\n",
       " 'fc1_stab_rank_final',\n",
       " 'act0_stab_rank_final',\n",
       " 'act1_stab_rank_final',\n",
       " 'losses_train_final',\n",
       " 'losses_test_final']"
      ]
     },
     "execution_count": 78,
     "metadata": {},
     "output_type": "execute_result"
    }
   ],
   "source": [
    "list(row.keys())"
   ]
  },
  {
   "cell_type": "code",
   "execution_count": 79,
   "metadata": {},
   "outputs": [],
   "source": [
    "lay = 'fc.0.weight'\n",
    "epoch = 0\n",
    "\n",
    "# keys are epochs, vals are dicts of all weights\n",
    "weights_dict_dict = row['weights']"
   ]
  },
  {
   "cell_type": "code",
   "execution_count": 80,
   "metadata": {},
   "outputs": [],
   "source": [
    "epochs = sorted(weights_dict_dict.keys())\n",
    "\n",
    "# keys are layers, vals are weight values\n",
    "#     print(weights_dict_dict.keys())\n",
    "weights_dict = weights_dict_dict[epoch]\n",
    "#     print(weights_dict.keys())\n",
    "\n",
    "w = weights_dict[lay]"
   ]
  },
  {
   "cell_type": "code",
   "execution_count": 81,
   "metadata": {},
   "outputs": [
    {
     "data": {
      "text/plain": [
       "[<matplotlib.lines.Line2D at 0x7fadc9743d50>]"
      ]
     },
     "execution_count": 81,
     "metadata": {},
     "output_type": "execute_result"
    },
    {
     "data": {
      "image/png": "[encoded data removed]",
      "text/plain": [
       "<Figure size 432x288 with 1 Axes>"
      ]
     },
     "metadata": {},
     "output_type": "display_data"
    }
   ],
   "source": [
    "plt.plot(row.accs_test)\n"
   ]
  },
  {
   "cell_type": "code",
   "execution_count": 104,
   "metadata": {},
   "outputs": [],
   "source": [
    "def calc_dim(svals, percent_to_explain = 0.9):\n",
    "    svals_squared = np.square(svals)\n",
    "    denom = np.sum(svals_squared)\n",
    "    perc_explained = 0\n",
    "    dim = 0\n",
    "    while perc_explained <= percent_to_explain:\n",
    "        perc_explained += svals_squared[dim] / denom\n",
    "        dim += 1\n",
    "    return dim\n",
    "svals_list = [d[lay] for d in row['singular_val_dicts_pca']]\n",
    "dims = [calc_dim(svals) for svals in svals_list]\n",
    "svals_list2 = [d['fc.1.weight'] for d in row['singular_val_dicts_pca']]\n",
    "dims2 = [calc_dim(svals) for svals in svals_list2]"
   ]
  },
  {
   "cell_type": "code",
   "execution_count": 109,
   "metadata": {},
   "outputs": [
    {
     "data": {
      "image/png": "[encoded data removed]",
      "text/plain": [
       "<Figure size 864x288 with 3 Axes>"
      ]
     },
     "metadata": {},
     "output_type": "display_data"
    }
   ],
   "source": [
    "plt.figure(figsize=(12, 4))\n",
    "R, C = 1, 3\n",
    "plt.subplot(R, C, 1)\n",
    "plt.ylabel('Test accuracy')\n",
    "plt.plot(its, row.accs_test_r)\n",
    "plt.xlim((-1, 12))\n",
    "plt.xlabel('Epochs')\n",
    "\n",
    "\n",
    "plt.subplot(R, C, 2)\n",
    "plt.plot(its, dims)\n",
    "plt.ylabel('Number of PCs of layer 1\\nwhich explain 90% of variance')\n",
    "plt.xlim((-1, 12))\n",
    "plt.xlabel('Epochs')\n",
    "\n",
    "plt.subplot(R, C, 3)\n",
    "plt.plot(its, dims2)\n",
    "plt.ylabel('Number of PCs of layer 2\\nwhich explain 90% of variance')\n",
    "plt.xlim((-1, 12))\n",
    "plt.xlabel('Epochs')\n",
    "\n",
    "plt.tight_layout()\n",
    "plt.savefig('pcs.pdf')\n"
   ]
  },
  {
   "cell_type": "code",
   "execution_count": null,
   "metadata": {},
   "outputs": [],
   "source": []
  }
 ],
 "metadata": {
  "anaconda-cloud": {},
  "kernelspec": {
   "display_name": "Python 3",
   "language": "python",
   "name": "python3"
  },
  "language_info": {
   "codemirror_mode": {
    "name": "ipython",
    "version": 3
   },
   "file_extension": ".py",
   "mimetype": "text/x-python",
   "name": "python",
   "nbconvert_exporter": "python",
   "pygments_lexer": "ipython3",
   "version": "3.7.5"
  }
 },
 "nbformat": 4,
 "nbformat_minor": 4
}
