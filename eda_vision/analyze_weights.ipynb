{
 "cells": [
  {
   "cell_type": "code",
   "execution_count": 1,
   "metadata": {},
   "outputs": [],
   "source": [
    "import os\n",
    "from os.path import join as oj\n",
    "import sys, time\n",
    "sys.path.insert(1, oj(sys.path[0], '..'))  # insert parent path\n",
    "import seaborn as sns\n",
    "import numpy as np\n",
    "import matplotlib.pyplot as plt\n",
    "from tqdm import tqdm\n",
    "from copy import deepcopy\n",
    "import pickle as pkl\n",
    "import pandas as pd\n",
    "plt.style.use('dark_background')\n",
    "from data_load_preprocess import data\n",
    "\n",
    "import torch\n",
    "from torch.autograd import Variable\n",
    "from viz import viz"
   ]
  },
  {
   "cell_type": "markdown",
   "metadata": {},
   "source": [
    "# load results from a directory"
   ]
  },
  {
   "cell_type": "code",
   "execution_count": 2,
   "metadata": {},
   "outputs": [
    {
     "name": "stdout",
     "output_type": "stream",
     "text": [
      "['simple_setup']\n"
     ]
    }
   ],
   "source": [
    "out_dir_main = '/scratch/users/vision/yu_dl/raaz.rsk/adam_vs_sgd'\n",
    "print(os.listdir(out_dir_main))\n",
    "folder = 'simple_setup'"
   ]
  },
  {
   "cell_type": "code",
   "execution_count": 6,
   "metadata": {},
   "outputs": [
    {
     "data": {
      "text/html": [
       "<div>\n",
       "<style scoped>\n",
       "    .dataframe tbody tr th:only-of-type {\n",
       "        vertical-align: middle;\n",
       "    }\n",
       "\n",
       "    .dataframe tbody tr th {\n",
       "        vertical-align: top;\n",
       "    }\n",
       "\n",
       "    .dataframe thead th {\n",
       "        text-align: right;\n",
       "    }\n",
       "</style>\n",
       "<table border=\"1\" class=\"dataframe\">\n",
       "  <thead>\n",
       "    <tr style=\"text-align: right;\">\n",
       "      <th></th>\n",
       "      <th>accs_test</th>\n",
       "      <th>beta1</th>\n",
       "      <th>beta2</th>\n",
       "      <th>eps</th>\n",
       "      <th>gamma_optimizer</th>\n",
       "      <th>losses_test</th>\n",
       "      <th>losses_train</th>\n",
       "      <th>lr</th>\n",
       "      <th>num_iters</th>\n",
       "      <th>optimizer</th>\n",
       "      <th>out_dir</th>\n",
       "      <th>seed</th>\n",
       "      <th>step_size_optimizer</th>\n",
       "      <th>weights</th>\n",
       "    </tr>\n",
       "  </thead>\n",
       "  <tbody>\n",
       "    <tr>\n",
       "      <th>0</th>\n",
       "      <td>[0.9319, 0.943, 0.9526, 0.9553, 0.9518, 0.9514...</td>\n",
       "      <td>0.9</td>\n",
       "      <td>0.999</td>\n",
       "      <td>1.000000e-08</td>\n",
       "      <td>0.9</td>\n",
       "      <td>[0.0021733370068483054, 0.001786488260293845, ...</td>\n",
       "      <td>[0.004079032121847073, 0.0021774831453338266, ...</td>\n",
       "      <td>0.01</td>\n",
       "      <td>10</td>\n",
       "      <td>adam</td>\n",
       "      <td>/scratch/users/vision/yu_dl/raaz.rsk/adam_vs_s...</td>\n",
       "      <td>2</td>\n",
       "      <td>1</td>\n",
       "      <td>{0: {'fc2.weight': [[-0.05662809 -0.06961276 -...</td>\n",
       "    </tr>\n",
       "  </tbody>\n",
       "</table>\n",
       "</div>"
      ],
      "text/plain": [
       "                                           accs_test  beta1  beta2  \\\n",
       "0  [0.9319, 0.943, 0.9526, 0.9553, 0.9518, 0.9514...    0.9  0.999   \n",
       "\n",
       "            eps  gamma_optimizer  \\\n",
       "0  1.000000e-08              0.9   \n",
       "\n",
       "                                         losses_test  \\\n",
       "0  [0.0021733370068483054, 0.001786488260293845, ...   \n",
       "\n",
       "                                        losses_train    lr  num_iters  \\\n",
       "0  [0.004079032121847073, 0.0021774831453338266, ...  0.01         10   \n",
       "\n",
       "  optimizer                                            out_dir  seed  \\\n",
       "0      adam  /scratch/users/vision/yu_dl/raaz.rsk/adam_vs_s...     2   \n",
       "\n",
       "   step_size_optimizer                                            weights  \n",
       "0                    1  {0: {'fc2.weight': [[-0.05662809 -0.06961276 -...  "
      ]
     },
     "execution_count": 6,
     "metadata": {},
     "output_type": "execute_result"
    }
   ],
   "source": [
    "out_dir = oj(out_dir_main, folder)\n",
    "fnames = os.listdir(out_dir)\n",
    "results_list = [pd.Series(pkl.load(open(oj(out_dir, fname), \"rb\"))) for fname in fnames]\n",
    "results = pd.concat(results_list, axis=1).T.infer_objects()\n",
    "# results.describe()\n",
    "results.head()"
   ]
  },
  {
   "cell_type": "markdown",
   "metadata": {},
   "source": [
    "# plot basic things"
   ]
  },
  {
   "cell_type": "code",
   "execution_count": null,
   "metadata": {},
   "outputs": [],
   "source": []
  }
 ],
 "metadata": {
  "kernelspec": {
   "display_name": "Python 3",
   "language": "python",
   "name": "python3"
  },
  "language_info": {
   "codemirror_mode": {
    "name": "ipython",
    "version": 3
   },
   "file_extension": ".py",
   "mimetype": "text/x-python",
   "name": "python",
   "nbconvert_exporter": "python",
   "pygments_lexer": "ipython3",
   "version": "3.5.4"
  }
 },
 "nbformat": 4,
 "nbformat_minor": 2
}
