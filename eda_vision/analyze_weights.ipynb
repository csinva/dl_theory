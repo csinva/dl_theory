{
 "cells": [
  {
   "cell_type": "code",
   "execution_count": 22,
   "metadata": {},
   "outputs": [],
   "source": [
    "import os\n",
    "from os.path import join as oj\n",
    "import sys, time\n",
    "sys.path.insert(1, oj(sys.path[0], '..'))  # insert parent path\n",
    "import seaborn as sns\n",
    "import numpy as np\n",
    "import matplotlib.pyplot as plt\n",
    "from tqdm import tqdm\n",
    "from copy import deepcopy\n",
    "import pickle as pkl\n",
    "import pandas as pd\n",
    "import math\n",
    "# plt.style.use('dark_background')\n",
    "plt.style.use('seaborn-notebook')\n",
    "from data_load_preprocess import data\n",
    "from collections import OrderedDict\n",
    "from sklearn import preprocessing\n",
    "\n",
    "import torch\n",
    "from torch.autograd import Variable\n",
    "from viz import viz\n",
    "from sklearn.decomposition import PCA\n",
    "\n",
    "import warnings\n",
    "warnings.filterwarnings(\"ignore\")\n",
    "import viz_weights"
   ]
  },
  {
   "cell_type": "markdown",
   "metadata": {},
   "source": [
    "# load results from a directory"
   ]
  },
  {
   "cell_type": "code",
   "execution_count": null,
   "metadata": {},
   "outputs": [],
   "source": [
    "out_dir_main = '/scratch/users/vision/yu_dl/raaz.rsk/adam_vs_sgd'\n",
    "print(os.listdir(out_dir_main))\n",
    "folder = 'mnist_long'"
   ]
  },
  {
   "cell_type": "code",
   "execution_count": null,
   "metadata": {},
   "outputs": [],
   "source": [
    "# depending on how much is saved, this may take a while\n",
    "out_dir = oj(out_dir_main, folder)\n",
    "fnames = os.listdir(out_dir)\n",
    "results_list = [pd.Series(pkl.load(open(oj(out_dir, fname), \"rb\"))) for fname in fnames]\n",
    "results = pd.concat(results_list, axis=1).T.infer_objects()\n",
    "# results.describe()\n",
    "# results.head()"
   ]
  },
  {
   "cell_type": "code",
   "execution_count": null,
   "metadata": {},
   "outputs": [],
   "source": [
    "results.head()"
   ]
  },
  {
   "cell_type": "markdown",
   "metadata": {},
   "source": [
    "# plot basic things for entire dataframe"
   ]
  },
  {
   "cell_type": "code",
   "execution_count": null,
   "metadata": {},
   "outputs": [],
   "source": [
    "viz_weights.plot_dims(results)"
   ]
  },
  {
   "cell_type": "markdown",
   "metadata": {},
   "source": [
    "# look at the lay 1 weights"
   ]
  },
  {
   "cell_type": "markdown",
   "metadata": {},
   "source": [
    "just plot them all (this takes ~2 mins)"
   ]
  },
  {
   "cell_type": "code",
   "execution_count": null,
   "metadata": {},
   "outputs": [],
   "source": [
    "# plot all the weights\n",
    "def plot_weights(W, dset='mnist'): # W is num_filters x im_size\n",
    "    num_filters = W.shape[0]\n",
    "    if dset == 'mnist' or dset is np.nan:\n",
    "        filts = W.reshape((num_filters, 28, 28))\n",
    "    elif dset =='cifar10':\n",
    "        W = (W - np.min(W)) / (np.max(W) - np.min(W))\n",
    "        filts = W.reshape((num_filters, 3, 32, 32))\n",
    "        filts = filts.transpose((0, 2, 3, 1))\n",
    "\n",
    "    R = math.floor(np.sqrt(num_filters))\n",
    "    C = math.ceil(num_filters / R)\n",
    "    ratio = 1.0 * R/C\n",
    "    plt.figure(figsize=(6, 6*R/C))\n",
    "    for i in range(num_filters):\n",
    "        plt.subplot(R, C, i+1)\n",
    "        plt.imshow(filts[i], cmap='gray')\n",
    "        plt.axis('off')\n",
    "    plt.subplots_adjust(hspace=0, wspace=0)"
   ]
  },
  {
   "cell_type": "code",
   "execution_count": null,
   "metadata": {},
   "outputs": [],
   "source": [
    "# optimizer = 'adam'\n",
    "# lr = 0.1\n",
    "for optimizer in ['sgd', 'adam']:\n",
    "    for lr in [0.1, 0.01, 0.001]:\n",
    "        runs = results[results.lr==lr]\n",
    "        runs = runs[runs.optimizer==optimizer]\n",
    "        run = runs.iloc[0]\n",
    "        weight_dict = run.weights\n",
    "        min_key, max_key = min(weight_dict.keys()), max(weight_dict.keys())\n",
    "        #     print('init', optimizer, 'lr=' + str(lr))\n",
    "        #     w = ws[min_key]['fc1.weight']\n",
    "        #     plot_weights(w)\n",
    "\n",
    "        print('final', optimizer, 'lr=' + str(lr))\n",
    "        w = weight_dict[max_key]['fc1.weight']\n",
    "        plot_weights(w, run.dset)\n",
    "        plt.savefig('figs/' + optimizer + '_' + 'lr=' + str(lr) + '.pdf', dpi=300)\n",
    "        # plt.show()"
   ]
  },
  {
   "cell_type": "markdown",
   "metadata": {},
   "source": [
    "# visualize pcs"
   ]
  },
  {
   "cell_type": "code",
   "execution_count": null,
   "metadata": {},
   "outputs": [],
   "source": [
    "# pca\n",
    "optimizer, lr = 'adam', 0.01\n",
    "\n",
    "# get w\n",
    "runs = results[results.lr==lr]\n",
    "runs = runs[runs.optimizer==optimizer]\n",
    "run = runs.iloc[0]\n",
    "weight_dict = run.weights\n",
    "w = weight_dict[max(weight_dict.keys())]['fc1.weight']\n",
    "\n",
    "# look at pcs\n",
    "pca = PCA(n_components=w.shape[1])\n",
    "pca.fit(w)\n",
    "cum = deepcopy(pca.explained_variance_ratio_)\n",
    "for i in range(1, len(cum)):\n",
    "    cum[i] += cum[i-1]\n",
    "plt.plot(cum, 'o')\n",
    "plt.ylabel('cumulative explained var')\n",
    "plt.xlabel('num pcs')\n",
    "plt.show()\n",
    "\n",
    "print('first pcs..')\n",
    "plot_weights(pca.components_[:200], run.dset)\n",
    "plt.show()"
   ]
  },
  {
   "cell_type": "markdown",
   "metadata": {},
   "source": [
    "# norm distrs"
   ]
  },
  {
   "cell_type": "code",
   "execution_count": null,
   "metadata": {},
   "outputs": [],
   "source": [
    "# pca\n",
    "plt.figure(figsize=(9, 5))\n",
    "R, C = 2, 3\n",
    "for j, optimizer in enumerate(['sgd', 'adam']):\n",
    "    for lr in [0.1, 0.01, 0.001]:\n",
    "        if not (optimizer == 'adam' and lr == 0.1):\n",
    "            # get ws\n",
    "            runs = results[results.lr==lr]\n",
    "            runs = runs[runs.optimizer==optimizer]\n",
    "            run = runs.iloc[0]\n",
    "            weight_dict_list = run.weights\n",
    "            weight_dict = weight_dict_list[max(weight_dict_list.keys())]\n",
    "            ws = [weight_dict['fc1.weight'], weight_dict['fc2.weight'], weight_dict['fc3.weight']]\n",
    "            w_norms = [np.sum(np.abs(w)**2, axis=1)**(1./2) for w in ws]\n",
    "    #         w_norms = [np.sum(np.abs(w)**1, axis=1)**(1./1) for w in ws]        \n",
    "\n",
    "            plt.subplot(R, C, 1 + j * C)\n",
    "            plt.hist(w_norms[0], label=str(lr))\n",
    "            if j == 0:\n",
    "                plt.title('lay1 norms')\n",
    "            plt.ylabel(optimizer)\n",
    "\n",
    "            plt.subplot(R, C, 2 + j * C)    \n",
    "            plt.hist(w_norms[1], label=str(lr))\n",
    "            if j == 0:\n",
    "                plt.title('lay2 norms')    \n",
    "\n",
    "            plt.subplot(R, C, 3 + j * C)    \n",
    "            plt.hist(w_norms[2], label=str(lr))\n",
    "            if j == 0:\n",
    "                plt.title('lay3 norms')              \n",
    "plt.legend()\n",
    "plt.show()"
   ]
  },
  {
   "cell_type": "code",
   "execution_count": null,
   "metadata": {},
   "outputs": [],
   "source": []
  }
 ],
 "metadata": {
  "kernelspec": {
   "display_name": "Python 3",
   "language": "python",
   "name": "python3"
  },
  "language_info": {
   "codemirror_mode": {
    "name": "ipython",
    "version": 3
   },
   "file_extension": ".py",
   "mimetype": "text/x-python",
   "name": "python",
   "nbconvert_exporter": "python",
   "pygments_lexer": "ipython3",
   "version": "3.5.4"
  }
 },
 "nbformat": 4,
 "nbformat_minor": 2
}
