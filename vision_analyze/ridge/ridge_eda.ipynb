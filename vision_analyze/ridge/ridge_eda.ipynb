{
 "cells": [
  {
   "cell_type": "code",
   "execution_count": 86,
   "metadata": {},
   "outputs": [],
   "source": [
    "import torch\n",
    "import torch.nn as nn\n",
    "import torchvision\n",
    "import torchvision.transforms as transforms\n",
    "import numpy as np\n",
    "from tqdm import tqdm\n",
    "import matplotlib.pyplot as plt\n",
    "np.set_printoptions(formatter={'float': lambda x: \"{0:0.3f}\".format(x)})\n",
    "device = 'cpu'"
   ]
  },
  {
   "cell_type": "code",
   "execution_count": 87,
   "metadata": {},
   "outputs": [
    {
     "name": "stdout",
     "output_type": "stream",
     "text": [
      "torch.Size([4, 5]) torch.Size([4, 1])\n"
     ]
    }
   ],
   "source": [
    "n = 4 # n = 100 had probs\n",
    "p = 5\n",
    "\n",
    "# data\n",
    "X = np.random.randn(n, p)\n",
    "# X_test = np.random.randn(n, p)\n",
    "\n",
    "Y = 2 * X[:, 0] + 3 * X[:, 1] # + 0.5 * np.random.randn(n)\n",
    "# Y_test = 2 * X_test[:, 0] + 3 * X_test[:, 1] # + 0.5 * np.random.randn(n)\n",
    "\n",
    "X = torch.Tensor(X).to(device)\n",
    "Y = torch.Tensor(Y).reshape(-1, 1).to(device)\n",
    "print(X.shape, Y.shape)"
   ]
  },
  {
   "cell_type": "code",
   "execution_count": 88,
   "metadata": {},
   "outputs": [],
   "source": [
    "# plt.plot(X[:, 0], Y, 'o')\n",
    "# plt.show()"
   ]
  },
  {
   "cell_type": "code",
   "execution_count": null,
   "metadata": {},
   "outputs": [],
   "source": [
    "# Hyper-parameters \n",
    "input_size = X.shape[1]\n",
    "num_epochs = int(1e5)\n",
    "lr = 1e-2\n",
    "# lr = 1e-4\n",
    "lambda_ridge = 0 #1e3\n",
    "\n",
    "# linear model\n",
    "model = nn.Linear(input_size, 1).to(device)\n",
    "model.weight.data = 0 * model.weight.data\n",
    "\n",
    "# Loss and optimizer\n",
    "criterion = nn.MSELoss() # nn.CrossEntropyLoss()  \n",
    "optimizer = torch.optim.SGD(model.parameters(), lr=lr)  \n",
    "# optimizer = torch.optim.Adam(model.parameters(), lr=lr)  \n",
    "\n",
    "# Train the model\n",
    "for epoch in range(num_epochs):\n",
    "    # Forward pass\n",
    "    outputs = model(X)\n",
    "    loss = criterion(outputs, Y) #+ lambda_ridge * model.weight.norm()\n",
    "\n",
    "    # Backward and optimize\n",
    "    optimizer.zero_grad()\n",
    "    loss.backward()\n",
    "    optimizer.step()\n",
    "    \n",
    "\n",
    "    if epoch % 1000 == 0:\n",
    "        print (f'Epoch: {epoch}, Loss: {loss.item():.4f}, \\\n",
    "                norm: {model.weight.norm()}')    "
   ]
  },
  {
   "cell_type": "code",
   "execution_count": 47,
   "metadata": {},
   "outputs": [
    {
     "name": "stdout",
     "output_type": "stream",
     "text": [
      "[1.000] [0.000]\n"
     ]
    }
   ],
   "source": [
    "w = model.weight.detach().numpy()[0]\n",
    "wnorm = np.linalg.norm(w)\n",
    "wunit = w / wnorm\n",
    "print(wunit, w)"
   ]
  },
  {
   "cell_type": "code",
   "execution_count": 48,
   "metadata": {},
   "outputs": [
    {
     "data": {
      "image/png": "[encoded data removed]",
      "text/plain": [
       "<Figure size 432x288 with 1 Axes>"
      ]
     },
     "metadata": {
      "needs_background": "light"
     },
     "output_type": "display_data"
    }
   ],
   "source": [
    "plt.plot(outputs.detach().numpy(), Y.detach().numpy(), 'o')\n",
    "plt.xlabel('pred')\n",
    "plt.ylabel('lab')\n",
    "plt.show()"
   ]
  },
  {
   "cell_type": "code",
   "execution_count": null,
   "metadata": {},
   "outputs": [],
   "source": []
  }
 ],
 "metadata": {
  "kernelspec": {
   "display_name": "Python 3",
   "language": "python",
   "name": "python3"
  },
  "language_info": {
   "codemirror_mode": {
    "name": "ipython",
    "version": 3
   },
   "file_extension": ".py",
   "mimetype": "text/x-python",
   "name": "python",
   "nbconvert_exporter": "python",
   "pygments_lexer": "ipython3",
   "version": "3.7.0"
  }
 },
 "nbformat": 4,
 "nbformat_minor": 2
}
