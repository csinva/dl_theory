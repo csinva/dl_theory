{
 "cells": [
  {
   "cell_type": "code",
   "execution_count": 1,
   "metadata": {},
   "outputs": [],
   "source": [
    "import os\n",
    "from os.path import join as oj\n",
    "import sys, time\n",
    "sys.path.insert(1, oj(sys.path[0], '..'))  # insert parent path\n",
    "sys.path.insert(1, oj(sys.path[0], '..', 'vision_fit'))  # insert parent path\n",
    "import seaborn as sns\n",
    "import numpy as np\n",
    "import matplotlib.pyplot as plt\n",
    "\n",
    "from tqdm import tqdm\n",
    "from copy import deepcopy\n",
    "import pickle as pkl\n",
    "import pandas as pd\n",
    "import math\n",
    "# plt.style.use('dark_background')\n",
    "from mog_fit import data\n",
    "from collections import OrderedDict\n",
    "from sklearn import preprocessing\n",
    "\n",
    "import torch\n",
    "from torch.autograd import Variable\n",
    "from mog_analyze import viz\n",
    "from sklearn.decomposition import PCA\n",
    "\n",
    "import warnings\n",
    "warnings.filterwarnings(\"ignore\")\n",
    "\n",
    "from vision_fit import data\n",
    "\n",
    "import viz_weights\n",
    "%matplotlib inline\n",
    "%load_ext autoreload\n",
    "%autoreload 2\n",
    "\n",
    "import style\n",
    "style.set_style()"
   ]
  },
  {
   "cell_type": "markdown",
   "metadata": {},
   "source": [
    "# load results from a directory"
   ]
  },
  {
   "cell_type": "code",
   "execution_count": 2,
   "metadata": {},
   "outputs": [
    {
     "name": "stderr",
     "output_type": "stream",
     "text": [
      "100%|██████████| 668/668 [04:39<00:00,  1.05s/it]\n",
      "100%|██████████| 668/668 [00:47<00:00, 14.11it/s]"
     ]
    },
    {
     "name": "stdout",
     "output_type": "stream",
     "text": [
      "loaded 334 runs\n"
     ]
    },
    {
     "name": "stderr",
     "output_type": "stream",
     "text": [
      "\n"
     ]
    }
   ],
   "source": [
    "# depending on how much is saved, this may take a while\n",
    "out_dir = '/scratch/users/vision/yu_dl/raaz.rsk/track_acts/sweep_full_real'\n",
    "fnames = sorted([fname for fname in os.listdir(out_dir)\n",
    "                 if not 'mnist' in fname]) # and \n",
    "#                  'numlays=4' in fname and \n",
    "#                  'batchsize=100' in fname and \n",
    "#                  not 'batchsize=1000' in fname])\n",
    "weights_list = [pd.Series(pkl.load(open(oj(out_dir, fname), \"rb\"))) for fname in tqdm(fnames) \n",
    "                if fname.startswith('weights')]\n",
    "results_weights = pd.concat(weights_list, axis=1).T.infer_objects()\n",
    "\n",
    "results_list = [pd.Series(pkl.load(open(oj(out_dir, fname), \"rb\"))) for fname in tqdm(fnames) \n",
    "                if not fname.startswith('weights')]\n",
    "results = pd.concat(results_list, axis=1).T.infer_objects()\n",
    "\n",
    "save_dir = 'results_weights'\n",
    "if not os.path.exists(save_dir):\n",
    "    os.makedirs(save_dir)\n",
    "    \n",
    "print('loaded', results_weights.shape[0], 'runs')"
   ]
  },
  {
   "cell_type": "markdown",
   "metadata": {},
   "source": [
    "# run all max corrs"
   ]
  },
  {
   "cell_type": "code",
   "execution_count": null,
   "metadata": {},
   "outputs": [
    {
     "name": "stderr",
     "output_type": "stream",
     "text": [
      " 10%|▉         | 5/52 [00:56<08:57, 11.43s/it]"
     ]
    }
   ],
   "source": [
    "# preprocess data\n",
    "def process_loaders(train_loader, test_loader):\n",
    "    # need to load like this to ensure transformation applied\n",
    "    data_list_train = [batch for batch in train_loader]\n",
    "    train_data_list = [batch[0] for batch in data_list_train]\n",
    "    train_data = np.vstack(train_data_list)\n",
    "    X_train = torch.Tensor(train_data).float().cuda()\n",
    "    Y_train = np.hstack([batch[1] for batch in data_list_train])\n",
    "\n",
    "    data_list_test = [batch for batch in test_loader]\n",
    "    test_data_list = [batch[0] for batch in data_list_test]\n",
    "    test_data = np.vstack(test_data_list)\n",
    "    X_test = torch.Tensor(test_data).float().cuda()\n",
    "    Y_test = np.hstack([batch[1] for batch in test_data_list])\n",
    "    \n",
    "    return X_train, Y_train, X_test, Y_test\n",
    "\n",
    "# gives max corr between nearest neighbor and any point\n",
    "# works clearly for 1st layer, for 2nd layers have to generate a \"filter\" by doing max activation\n",
    "# X is N x num_pixels\n",
    "# W is num_filters x num_pixels\n",
    "# returns max_corr for each filter\n",
    "def max_corr_input(X, W):\n",
    "#     print(X.shape, W.shape)\n",
    "    X = X / (np.sum(np.abs(X)**2, axis=1)**(1./2))[:, np.newaxis]\n",
    "    W = W / (np.sum(np.abs(W)**2, axis=1)**(1./2))[:, np.newaxis]\n",
    "    Z = np.abs(W @ X.T)\n",
    "    max_corr = np.max(Z, axis=1)\n",
    "    return max_corr\n",
    "\n",
    "# calc corr score from run\n",
    "def calc_max_corr_input(run, X_train, Y_train):\n",
    "    \n",
    "    # keys are epochs, vals are dicts of all weights\n",
    "    weights_dict_dict = run['weights']\n",
    "\n",
    "    # keys are layers, vals are weight values\n",
    "    weights_dict = weights_dict_dict[epoch]\n",
    "    \n",
    "    # load model\n",
    "    model = data.get_model(run)\n",
    "\n",
    "    # load in weights\n",
    "    weights_dict_tensors = {k: torch.Tensor(v) for k, v in weights_dict.items()}\n",
    "    model.load_state_dict(weights_dict_tensors)\n",
    "    model = model.cuda()\n",
    "    \n",
    "    preds = model(Variable(X_train)).data.cpu().numpy().argmax(axis=1)\n",
    "    accs = preds==Y_train\n",
    "    \n",
    "    X = X_train.cpu().numpy().reshape(X_train.shape[0], -1)\n",
    "    W = model.state_dict()['fc.0.weight'].cpu().numpy()\n",
    "    max_corr = max_corr_input(X, W)\n",
    "    \n",
    "    return np.mean(max_corr), np.mean(accs)\n",
    "\n",
    "results_weights = results_weights[results_weights['shuffle_labels'] == False]\n",
    "results_weights = results_weights[results_weights['seed'] == 0]\n",
    "                                  \n",
    "N = results_weights.shape[0]\n",
    "epoch = 151\n",
    "mean_max_corrs, train_accs = np.zeros(N), np.zeros(N)\n",
    "train_loader, test_loader = data.get_data_loaders(results_weights.iloc[0])\n",
    "X_train, Y_train, X_test, Y_test = process_loaders(train_loader, test_loader)\n",
    "for i in tqdm(range(N)):\n",
    "    run = results_weights.iloc[i]\n",
    "    run['num_layer'] = int(run['num_layers'])\n",
    "    run['hidden_size'] = int(run['hidden_size'])\n",
    "    mean_max_corrs[i], train_accs[i] = calc_max_corr_input(run, X_train, Y_train)"
   ]
  },
  {
   "cell_type": "code",
   "execution_count": 85,
   "metadata": {},
   "outputs": [],
   "source": [
    "pd_max = pd.DataFrame({'max_corr': mean_max_corrs, 'train_acc_final': train_accs})\n",
    "pd_max.to_pickle('max_corr.pkl')\n",
    "# pkl.dump(pd_max, 'max_corr_small.pkl')"
   ]
  },
  {
   "cell_type": "code",
   "execution_count": null,
   "metadata": {},
   "outputs": [],
   "source": [
    "plt.plot(train_accs, mean_max_corrs, 'o')"
   ]
  },
  {
   "cell_type": "markdown",
   "metadata": {},
   "source": [
    "# set the params"
   ]
  },
  {
   "cell_type": "code",
   "execution_count": 54,
   "metadata": {},
   "outputs": [],
   "source": [
    "row = 7\n",
    "epoch = 151\n",
    "lay = 'fc.0.weight'\n",
    "num_to_plot = 225\n",
    "# vs = {'lr': 0.01, 'seed': 0, 'optimizer': 'adam'}\n",
    "vs = {'lr': 0.01, 'seed': 0, 'optimizer': 'sgd'}\n",
    "\n",
    "# filter out certain things\n",
    "results_weights = results_weights[results_weights['shuffle_labels'] == False]\n",
    "\n",
    "# filter appropriate run\n",
    "run = results_weights[(results_weights['lr'] == vs['lr'])]\n",
    "run = run[(run['optimizer'] == vs['optimizer'])]\n",
    "run = run[(run['seed'] == vs['seed'])]\n",
    "\n",
    "# load corresponding accs\n",
    "run_accs = results[(results['lr'] == vs['lr'])]\n",
    "run_accs = run_accs[(run_accs['optimizer'] == vs['optimizer'])]\n",
    "run_accs = run_accs[(run_accs['seed'] == vs['seed'])]\n",
    "# plt.plot(run_accs['its'], run_accs['accs_train'])\n",
    "# print(run_accs['accs_train'][:30])\n",
    "\n",
    "\n",
    "# cast variables to correct types\n",
    "run = run.iloc[0]\n",
    "run['num_layer'] = int(run['num_layers'])\n",
    "run['hidden_size'] = int(run['hidden_size'])"
   ]
  },
  {
   "cell_type": "markdown",
   "metadata": {},
   "source": [
    "### plot weights"
   ]
  },
  {
   "cell_type": "code",
   "execution_count": 62,
   "metadata": {},
   "outputs": [],
   "source": [
    "# keys are epochs, vals are dicts of all weights\n",
    "weights_dict_dict = run['weights']\n",
    "\n",
    "# keys are layers, vals are weight values\n",
    "weights_dict = weights_dict_dict[epoch]\n",
    "\n",
    "# matrix of weights (output x input\n",
    "w = weights_dict[lay]\n",
    "\n",
    "# viz_weights.plot_weights(w[:num_to_plot])\n",
    "# plt.show()"
   ]
  },
  {
   "cell_type": "markdown",
   "metadata": {},
   "source": [
    "### reload the model"
   ]
  },
  {
   "cell_type": "code",
   "execution_count": 56,
   "metadata": {},
   "outputs": [],
   "source": [
    "# load model\n",
    "train_loader, test_loader, model, trans = data.get_data_and_model(run)\n",
    "\n",
    "# load in weights\n",
    "weights_dict_tensors = {k: torch.Tensor(v) for k, v in weights_dict.items()}\n",
    "model.load_state_dict(weights_dict_tensors)\n",
    "model = model.cuda()"
   ]
  },
  {
   "cell_type": "markdown",
   "metadata": {},
   "source": [
    "### reload the data"
   ]
  },
  {
   "cell_type": "code",
   "execution_count": 64,
   "metadata": {},
   "outputs": [],
   "source": [
    "\n",
    "X_train, Y_train, X_test, Y_test = process_loaders(train_loader, test_loader)"
   ]
  },
  {
   "cell_type": "markdown",
   "metadata": {},
   "source": [
    "### check the acc"
   ]
  },
  {
   "cell_type": "code",
   "execution_count": 58,
   "metadata": {},
   "outputs": [
    {
     "name": "stdout",
     "output_type": "stream",
     "text": [
      "mean acc 0.98355\n"
     ]
    }
   ],
   "source": [
    "preds = model(Variable(X_train)).data.cpu().numpy().argmax(axis=1)\n",
    "accs = preds==Y_train\n",
    "print('mean acc', np.mean(accs))"
   ]
  },
  {
   "cell_type": "code",
   "execution_count": 59,
   "metadata": {},
   "outputs": [
    {
     "data": {
      "text/plain": [
       "\"\\nmean_accs = np.zeros(10)\\nfor c in range(10):\\n    idxs_c = Y_train == c\\n    mean_accs[c] = np.mean(accs[idxs_c])\\nplt.plot(range(10), mean_accs, 'o')\\nplt.xlabel('class')\\nplt.ylabel('acc')\\n\""
      ]
     },
     "execution_count": 59,
     "metadata": {},
     "output_type": "execute_result"
    }
   ],
   "source": [
    "'''\n",
    "mean_accs = np.zeros(10)\n",
    "for c in range(10):\n",
    "    idxs_c = Y_train == c\n",
    "    mean_accs[c] = np.mean(accs[idxs_c])\n",
    "plt.plot(range(10), mean_accs, 'o')\n",
    "plt.xlabel('class')\n",
    "plt.ylabel('acc')\n",
    "'''"
   ]
  },
  {
   "cell_type": "code",
   "execution_count": 61,
   "metadata": {},
   "outputs": [
    {
     "name": "stdout",
     "output_type": "stream",
     "text": [
      "mean max corr 0.1759335\n"
     ]
    },
    {
     "data": {
      "image/png": "[encoded data removed]",
      "text/plain": [
       "<Figure size 432x288 with 1 Axes>"
      ]
     },
     "metadata": {},
     "output_type": "display_data"
    }
   ],
   "source": [
    "X = X_train.cpu().numpy().reshape(X_train.shape[0], -1)\n",
    "W = model.state_dict()['fc.0.weight'].cpu().numpy()\n",
    "max_corr = max_corr_input(X, W)\n",
    "print('mean max corr', np.mean(max_corr))\n",
    "plt.hist(max_corr)\n",
    "plt.axvline(np.mean(max_corr), color='red')\n",
    "plt.show()"
   ]
  },
  {
   "cell_type": "code",
   "execution_count": null,
   "metadata": {},
   "outputs": [],
   "source": []
  }
 ],
 "metadata": {
  "anaconda-cloud": {},
  "kernelspec": {
   "display_name": "Python 3",
   "language": "python",
   "name": "python3"
  },
  "language_info": {
   "codemirror_mode": {
    "name": "ipython",
    "version": 3
   },
   "file_extension": ".py",
   "mimetype": "text/x-python",
   "name": "python",
   "nbconvert_exporter": "python",
   "pygments_lexer": "ipython3",
   "version": "3.5.4"
  }
 },
 "nbformat": 4,
 "nbformat_minor": 2
}
