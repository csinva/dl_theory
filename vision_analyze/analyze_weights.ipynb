{
 "cells": [
  {
   "cell_type": "code",
   "execution_count": 7,
   "metadata": {},
   "outputs": [
    {
     "name": "stdout",
     "output_type": "stream",
     "text": [
      "The autoreload extension is already loaded. To reload it, use:\n",
      "  %reload_ext autoreload\n"
     ]
    }
   ],
   "source": [
    "import os\n",
    "from os.path import join as oj\n",
    "import sys, time\n",
    "sys.path.insert(1, oj(sys.path[0], '..'))  # insert parent path\n",
    "import seaborn as sns\n",
    "import numpy as np\n",
    "import matplotlib.pyplot as plt\n",
    "from tqdm import tqdm\n",
    "from copy import deepcopy\n",
    "import pickle as pkl\n",
    "import pandas as pd\n",
    "import math\n",
    "# plt.style.use('dark_background')\n",
    "plt.style.use('seaborn-notebook')\n",
    "from data_load_preprocess import data\n",
    "from collections import OrderedDict\n",
    "from sklearn import preprocessing\n",
    "\n",
    "import torch\n",
    "from torch.autograd import Variable\n",
    "from viz import viz\n",
    "from sklearn.decomposition import PCA\n",
    "\n",
    "import warnings\n",
    "warnings.filterwarnings(\"ignore\")\n",
    "import viz_losses, viz_weights\n",
    "\n",
    "%load_ext autoreload\n",
    "%autoreload 2"
   ]
  },
  {
   "cell_type": "markdown",
   "metadata": {},
   "source": [
    "# load results from a directory"
   ]
  },
  {
   "cell_type": "code",
   "execution_count": null,
   "metadata": {},
   "outputs": [],
   "source": [
    "out_dir_main = '/scratch/users/vision/yu_dl/raaz.rsk/adam_vs_sgd'\n",
    "print(os.listdir(out_dir_main))\n",
    "folder = 'cifar10'"
   ]
  },
  {
   "cell_type": "code",
   "execution_count": null,
   "metadata": {},
   "outputs": [],
   "source": [
    "# depending on how much is saved, this may take a while\n",
    "out_dir = oj(out_dir_main, folder)\n",
    "fnames = sorted(os.listdir(out_dir))\n",
    "results_list = [pd.Series(pkl.load(open(oj(out_dir, fname), \"rb\"))) for fname in fnames if not fname.startswith('weights')]\n",
    "results = pd.concat(results_list, axis=1).T.infer_objects()\n",
    "# results.describe()\n",
    "# results.head()\n",
    "# results.dtypes\n",
    "\n",
    "save_dir = 'figs_' + folder\n",
    "if not os.path.exists(save_dir):\n",
    "    os.makedirs(save_dir)"
   ]
  },
  {
   "cell_type": "markdown",
   "metadata": {},
   "source": [
    "# plot basic things for entire dataframe"
   ]
  },
  {
   "cell_type": "code",
   "execution_count": null,
   "metadata": {},
   "outputs": [],
   "source": [
    "viz_losses.plot_losses(results, out_dir=save_dir)"
   ]
  },
  {
   "cell_type": "code",
   "execution_count": null,
   "metadata": {},
   "outputs": [],
   "source": [
    "all_w = ['explained_var_dicts_pca', 'explained_var_dicts_rbf', 'explained_var_dicts_lap', 'explained_var_dicts_cosine']\n",
    "acts = ['act_var_dicts_train_pca', 'act_var_dicts_test_pca', 'act_var_dicts_train_rbf', 'act_var_dicts_test_rbf']\n",
    "viz_losses.plot_dims(results, out_dir=save_dir, xlim=None, dim_types=acts, figname='explained')\n",
    "# viz_losses.plot_dims(results, out_dir=save_dir, xlim=None, dim_types=all_w, figname='acts')"
   ]
  },
  {
   "cell_type": "code",
   "execution_count": null,
   "metadata": {},
   "outputs": [],
   "source": [
    "# note these norms were squared\n",
    "# calculated via np.linalg.norm(weight_dict[lay_name])**2\n",
    "viz_losses.plot_weight_norms_and_margin(results, out_dir=save_dir)    "
   ]
  },
  {
   "cell_type": "markdown",
   "metadata": {},
   "source": [
    "# look at the weights"
   ]
  },
  {
   "cell_type": "code",
   "execution_count": null,
   "metadata": {},
   "outputs": [],
   "source": [
    "# depending on how much is saved, this may take a while\n",
    "weights_list = [pd.Series(pkl.load(open(oj(out_dir, fname), \"rb\"))) for fname in fnames if fname.startswith('weights')]\n",
    "results_weights = pd.concat(weights_list, axis=1).T.infer_objects()\n",
    "# results.head()\n",
    "results_weights.dtypes"
   ]
  },
  {
   "cell_type": "markdown",
   "metadata": {},
   "source": [
    "just plot them all (this takes ~2 mins)"
   ]
  },
  {
   "cell_type": "code",
   "execution_count": null,
   "metadata": {},
   "outputs": [],
   "source": [
    "viz_weights.save_final_weights(results_weights, out_dir=save_dir)"
   ]
  },
  {
   "cell_type": "code",
   "execution_count": 9,
   "metadata": {},
   "outputs": [
    {
     "name": "stdout",
     "output_type": "stream",
     "text": [
      "save weight evol....\n",
      "ts: [0, 0.5, 1.0, 1.5, 2.0, 3.0, 4.0, 5.0, 6.0, 7.0, 10, 20, 30, 40]\n",
      "ws_t.shape (20, 3072)\n"
     ]
    },
    {
     "ename": "ValueError",
     "evalue": "cannot reshape array of size 3072 into shape (55,55)",
     "output_type": "error",
     "traceback": [
      "\u001b[0;31m---------------------------------------------------------------------------\u001b[0m",
      "\u001b[0;31mValueError\u001b[0m                                Traceback (most recent call last)",
      "\u001b[0;32m<ipython-input-9-63313aa00747>\u001b[0m in \u001b[0;36m<module>\u001b[0;34m()\u001b[0m\n\u001b[0;32m----> 1\u001b[0;31m \u001b[0mviz_weights\u001b[0m\u001b[0;34m.\u001b[0m\u001b[0msave_weight_evol\u001b[0m\u001b[0;34m(\u001b[0m\u001b[0mresults_weights\u001b[0m\u001b[0;34m,\u001b[0m \u001b[0mout_dir\u001b[0m\u001b[0;34m=\u001b[0m\u001b[0msave_dir\u001b[0m\u001b[0;34m)\u001b[0m\u001b[0;34m\u001b[0m\u001b[0m\n\u001b[0m",
      "\u001b[0;32m~/chandan/dl_theory/vision_analyze/viz_weights.py\u001b[0m in \u001b[0;36msave_weight_evol\u001b[0;34m(results_weights, out_dir)\u001b[0m\n\u001b[1;32m     95\u001b[0m                     \u001b[0mplt\u001b[0m\u001b[0;34m.\u001b[0m\u001b[0msubplot\u001b[0m\u001b[0;34m(\u001b[0m\u001b[0mR\u001b[0m\u001b[0;34m,\u001b[0m \u001b[0mC\u001b[0m\u001b[0;34m,\u001b[0m \u001b[0mr\u001b[0m \u001b[0;34m*\u001b[0m \u001b[0mC\u001b[0m \u001b[0;34m+\u001b[0m \u001b[0mc\u001b[0m \u001b[0;34m+\u001b[0m \u001b[0;36m1\u001b[0m\u001b[0;34m)\u001b[0m\u001b[0;34m\u001b[0m\u001b[0m\n\u001b[1;32m     96\u001b[0m                     \u001b[0mdim\u001b[0m \u001b[0;34m=\u001b[0m \u001b[0mint\u001b[0m\u001b[0;34m(\u001b[0m\u001b[0mnp\u001b[0m\u001b[0;34m.\u001b[0m\u001b[0msqrt\u001b[0m\u001b[0;34m(\u001b[0m\u001b[0mws_t\u001b[0m\u001b[0;34m[\u001b[0m\u001b[0mc\u001b[0m\u001b[0;34m]\u001b[0m\u001b[0;34m.\u001b[0m\u001b[0msize\u001b[0m\u001b[0;34m)\u001b[0m\u001b[0;34m)\u001b[0m\u001b[0;34m\u001b[0m\u001b[0m\n\u001b[0;32m---> 97\u001b[0;31m                     \u001b[0mim\u001b[0m \u001b[0;34m=\u001b[0m \u001b[0mws_t\u001b[0m\u001b[0;34m[\u001b[0m\u001b[0mc\u001b[0m\u001b[0;34m]\u001b[0m\u001b[0;34m.\u001b[0m\u001b[0mreshape\u001b[0m\u001b[0;34m(\u001b[0m\u001b[0mdim\u001b[0m\u001b[0;34m,\u001b[0m \u001b[0mdim\u001b[0m\u001b[0;34m)\u001b[0m\u001b[0;34m\u001b[0m\u001b[0m\n\u001b[0m\u001b[1;32m     98\u001b[0m                     \u001b[0mplt\u001b[0m\u001b[0;34m.\u001b[0m\u001b[0mimshow\u001b[0m\u001b[0;34m(\u001b[0m\u001b[0mim\u001b[0m\u001b[0;34m)\u001b[0m\u001b[0;34m\u001b[0m\u001b[0m\n\u001b[1;32m     99\u001b[0m \u001b[0;34m\u001b[0m\u001b[0m\n",
      "\u001b[0;31mValueError\u001b[0m: cannot reshape array of size 3072 into shape (55,55)"
     ]
    },
    {
     "data": {
      "image/png": "[encoded data removed]",
      "text/plain": [
       "<Figure size 1440x1008 with 1 Axes>"
      ]
     },
     "metadata": {},
     "output_type": "display_data"
    }
   ],
   "source": [
    "viz_weights.save_weight_evol(results_weights, out_dir=save_dir)"
   ]
  },
  {
   "cell_type": "markdown",
   "metadata": {},
   "source": [
    "# other stuff not really used..."
   ]
  },
  {
   "cell_type": "markdown",
   "metadata": {},
   "source": [
    "*visualize pcs*"
   ]
  },
  {
   "cell_type": "code",
   "execution_count": null,
   "metadata": {},
   "outputs": [],
   "source": [
    "# pca\n",
    "optimizer, lr = 'adam', 0.01\n",
    "\n",
    "# get w\n",
    "runs = results_weights[results_weights.lr==lr]\n",
    "runs = runs[runs.optimizer==optimizer]\n",
    "run = runs.iloc[0]\n",
    "weight_dict = run.weights\n",
    "w = weight_dict[max(weight_dict.keys())]['fc1.weight']\n",
    "\n",
    "# look at pcs\n",
    "pca = PCA(n_components=w.shape[1])\n",
    "pca.fit(w)\n",
    "cum = deepcopy(pca.explained_variance_ratio_)\n",
    "for i in range(1, len(cum)):\n",
    "    cum[i] += cum[i-1]\n",
    "plt.plot(cum, 'o')\n",
    "plt.ylabel('cumulative explained var')\n",
    "plt.xlabel('num pcs')\n",
    "plt.show()\n",
    "\n",
    "print('first pcs..')\n",
    "plot_weights(pca.components_[:200], run.dset)\n",
    "plt.show()"
   ]
  },
  {
   "cell_type": "markdown",
   "metadata": {},
   "source": [
    "*norm distributions*"
   ]
  },
  {
   "cell_type": "code",
   "execution_count": null,
   "metadata": {},
   "outputs": [],
   "source": [
    "# pca\n",
    "plt.figure(figsize=(9, 5))\n",
    "R, C = 2, 3\n",
    "for j, optimizer in enumerate(['sgd', 'adam']):\n",
    "    for lr in [0.1, 0.01, 0.001]:\n",
    "        if not (optimizer == 'adam' and lr == 0.1):\n",
    "            # get ws\n",
    "            runs = results_weights[results_weights.lr==lr]\n",
    "            runs = runs[runs.optimizer==optimizer]\n",
    "            run = runs.iloc[0]\n",
    "            weight_dict_list = run.weights\n",
    "            weight_dict = weight_dict_list[max(weight_dict_list.keys())]\n",
    "            ws = [weight_dict['fc1.weight'], weight_dict['fc2.weight'], weight_dict['fc3.weight']]\n",
    "            w_norms = [np.sum(np.abs(w)**2, axis=1)**(1./2) for w in ws]\n",
    "    #         w_norms = [np.sum(np.abs(w)**1, axis=1)**(1./1) for w in ws]        \n",
    "\n",
    "            plt.subplot(R, C, 1 + j * C)\n",
    "            plt.hist(w_norms[0], label=str(lr))\n",
    "            if j == 0:\n",
    "                plt.title('lay1 norms')\n",
    "            plt.ylabel(optimizer)\n",
    "\n",
    "            plt.subplot(R, C, 2 + j * C)    \n",
    "            plt.hist(w_norms[1], label=str(lr))\n",
    "            if j == 0:\n",
    "                plt.title('lay2 norms')    \n",
    "\n",
    "            plt.subplot(R, C, 3 + j * C)    \n",
    "            plt.hist(w_norms[2], label=str(lr))\n",
    "            if j == 0:\n",
    "                plt.title('lay3 norms')              \n",
    "plt.legend()\n",
    "plt.show()"
   ]
  },
  {
   "cell_type": "code",
   "execution_count": null,
   "metadata": {},
   "outputs": [],
   "source": []
  }
 ],
 "metadata": {
  "kernelspec": {
   "display_name": "Python 3",
   "language": "python",
   "name": "python3"
  },
  "language_info": {
   "codemirror_mode": {
    "name": "ipython",
    "version": 3
   },
   "file_extension": ".py",
   "mimetype": "text/x-python",
   "name": "python",
   "nbconvert_exporter": "python",
   "pygments_lexer": "ipython3",
   "version": "3.5.4"
  }
 },
 "nbformat": 4,
 "nbformat_minor": 2
}
