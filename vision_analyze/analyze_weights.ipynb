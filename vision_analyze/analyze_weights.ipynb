{
 "cells": [
  {
   "cell_type": "code",
   "execution_count": 1,
   "metadata": {},
   "outputs": [],
   "source": [
    "import os\n",
    "from os.path import join as oj\n",
    "import sys, time\n",
    "sys.path.insert(1, oj(sys.path[0], '..'))  # insert parent path\n",
    "import seaborn as sns\n",
    "import numpy as np\n",
    "import matplotlib.pyplot as plt\n",
    "from tqdm import tqdm\n",
    "from copy import deepcopy\n",
    "import pickle as pkl\n",
    "import pandas as pd\n",
    "import math\n",
    "# plt.style.use('dark_background')\n",
    "plt.style.use('seaborn-notebook')\n",
    "from data_load_preprocess import data\n",
    "from collections import OrderedDict\n",
    "from sklearn import preprocessing\n",
    "\n",
    "import torch\n",
    "from torch.autograd import Variable\n",
    "from viz import viz\n",
    "from sklearn.decomposition import PCA\n",
    "\n",
    "import warnings\n",
    "warnings.filterwarnings(\"ignore\")\n",
    "import viz_losses, viz_weights\n",
    "\n",
    "%load_ext autoreload\n",
    "%autoreload 2"
   ]
  },
  {
   "cell_type": "markdown",
   "metadata": {},
   "source": [
    "# load results from a directory"
   ]
  },
  {
   "cell_type": "code",
   "execution_count": 4,
   "metadata": {},
   "outputs": [
    {
     "name": "stdout",
     "output_type": "stream",
     "text": [
      "['mnist_full_normal', 'noise', 'mnist_with_margin', 'mnist_shuff', 'mnist_full_shuff', 'test', 'mnist_full', 'cifar10_full', 'mnist_short', 'mnist_with_act', 'cifar10_long', 'bars']\n"
     ]
    }
   ],
   "source": [
    "out_dir_main = '/scratch/users/vision/yu_dl/raaz.rsk/adam_vs_sgd'\n",
    "print(os.listdir(out_dir_main))\n",
    "folder = 'bars'"
   ]
  },
  {
   "cell_type": "code",
   "execution_count": 5,
   "metadata": {},
   "outputs": [],
   "source": [
    "# depending on how much is saved, this may take a while\n",
    "out_dir = oj(out_dir_main, folder)\n",
    "fnames = sorted(os.listdir(out_dir))\n",
    "results_list = [pd.Series(pkl.load(open(oj(out_dir, fname), \"rb\"))) for fname in fnames if not fname.startswith('weights')]\n",
    "results = pd.concat(results_list, axis=1).T.infer_objects()\n",
    "# results.describe()\n",
    "# results.head()\n",
    "# results.dtypes"
   ]
  },
  {
   "cell_type": "markdown",
   "metadata": {},
   "source": [
    "# plot basic things for entire dataframe"
   ]
  },
  {
   "cell_type": "code",
   "execution_count": null,
   "metadata": {},
   "outputs": [],
   "source": [
    "viz_losses.plot_losses(results)"
   ]
  },
  {
   "cell_type": "code",
   "execution_count": null,
   "metadata": {},
   "outputs": [],
   "source": [
    "# ['explained_var_dicts_pca', 'explained_var_dicts_rbf', 'explained_var_dicts_lap', 'explained_var_dicts_cosine']\n",
    "# act_var_dicts_test_pca (might not have pca), act_var_dicts_test_rbf\n",
    "all_w = ['explained_var_dicts_pca', 'explained_var_dicts_rbf', 'explained_var_dicts_lap', 'explained_var_dicts_cosine']\n",
    "acts = ['act_var_dicts_train_pca', 'act_var_dicts_test_pca', 'act_var_dicts_train_rbf', 'act_var_dicts_test_rbf']\n",
    "viz_losses.plot_dims(results, xlim=None, dim_types=acts)"
   ]
  },
  {
   "cell_type": "code",
   "execution_count": null,
   "metadata": {},
   "outputs": [],
   "source": [
    "# note these norms were squared\n",
    "# calculated via np.linalg.norm(weight_dict[lay_name])**2\n",
    "viz_losses.plot_weight_norms_and_margin(results)    "
   ]
  },
  {
   "cell_type": "markdown",
   "metadata": {},
   "source": [
    "# look at the weights"
   ]
  },
  {
   "cell_type": "code",
   "execution_count": 10,
   "metadata": {},
   "outputs": [
    {
     "data": {
      "text/plain": [
       "beta1                    float64\n",
       "beta2                    float64\n",
       "calc_activations           int64\n",
       "dset                      object\n",
       "eps                      float64\n",
       "gamma_optimizer          float64\n",
       "gamma_optimizer2           int64\n",
       "its                       object\n",
       "lr                       float64\n",
       "num_iters                  int64\n",
       "num_iters_small            int64\n",
       "optimizer                 object\n",
       "out_dir                   object\n",
       "save_all_weights_freq      int64\n",
       "save_all_weights_mod       int64\n",
       "saves_per_iter             int64\n",
       "saves_per_iter_end         int64\n",
       "seed                       int64\n",
       "shuffle_labels              bool\n",
       "step_size_optimizer        int64\n",
       "step_size_optimizer_2      int64\n",
       "weights                   object\n",
       "weights_first10           object\n",
       "dtype: object"
      ]
     },
     "execution_count": 10,
     "metadata": {},
     "output_type": "execute_result"
    }
   ],
   "source": [
    "# depending on how much is saved, this may take a while\n",
    "weights_list = [pd.Series(pkl.load(open(oj(out_dir, fname), \"rb\"))) for fname in fnames if fname.startswith('weights')]\n",
    "results_weights = pd.concat(weights_list, axis=1).T.infer_objects()\n",
    "# results.head()\n",
    "results_weights.dtypes"
   ]
  },
  {
   "cell_type": "markdown",
   "metadata": {},
   "source": [
    "just plot them all (this takes ~2 mins)"
   ]
  },
  {
   "cell_type": "code",
   "execution_count": null,
   "metadata": {},
   "outputs": [],
   "source": [
    "viz_weights.save_final_weights(results_weights, out_dir='figs')"
   ]
  },
  {
   "cell_type": "code",
   "execution_count": 13,
   "metadata": {},
   "outputs": [
    {
     "name": "stdout",
     "output_type": "stream",
     "text": [
      "ts: [0, 0.5, 1.0, 1.5, 2.0, 2.5, 3.0, 3.5, 4.0, 4.5, 10, 20, 30, 40]\n"
     ]
    }
   ],
   "source": [
    "\n",
    "viz_weights.save_weight_evol(results_weights, out_dir='figs')"
   ]
  },
  {
   "cell_type": "markdown",
   "metadata": {},
   "source": [
    "# other stuff not really used..."
   ]
  },
  {
   "cell_type": "markdown",
   "metadata": {},
   "source": [
    "*visualize pcs*"
   ]
  },
  {
   "cell_type": "code",
   "execution_count": null,
   "metadata": {},
   "outputs": [],
   "source": [
    "# pca\n",
    "optimizer, lr = 'adam', 0.01\n",
    "\n",
    "# get w\n",
    "runs = results_weights[results_weights.lr==lr]\n",
    "runs = runs[runs.optimizer==optimizer]\n",
    "run = runs.iloc[0]\n",
    "weight_dict = run.weights\n",
    "w = weight_dict[max(weight_dict.keys())]['fc1.weight']\n",
    "\n",
    "# look at pcs\n",
    "pca = PCA(n_components=w.shape[1])\n",
    "pca.fit(w)\n",
    "cum = deepcopy(pca.explained_variance_ratio_)\n",
    "for i in range(1, len(cum)):\n",
    "    cum[i] += cum[i-1]\n",
    "plt.plot(cum, 'o')\n",
    "plt.ylabel('cumulative explained var')\n",
    "plt.xlabel('num pcs')\n",
    "plt.show()\n",
    "\n",
    "print('first pcs..')\n",
    "plot_weights(pca.components_[:200], run.dset)\n",
    "plt.show()"
   ]
  },
  {
   "cell_type": "markdown",
   "metadata": {},
   "source": [
    "*norm distributions*"
   ]
  },
  {
   "cell_type": "code",
   "execution_count": null,
   "metadata": {},
   "outputs": [],
   "source": [
    "# pca\n",
    "plt.figure(figsize=(9, 5))\n",
    "R, C = 2, 3\n",
    "for j, optimizer in enumerate(['sgd', 'adam']):\n",
    "    for lr in [0.1, 0.01, 0.001]:\n",
    "        if not (optimizer == 'adam' and lr == 0.1):\n",
    "            # get ws\n",
    "            runs = results_weights[results_weights.lr==lr]\n",
    "            runs = runs[runs.optimizer==optimizer]\n",
    "            run = runs.iloc[0]\n",
    "            weight_dict_list = run.weights\n",
    "            weight_dict = weight_dict_list[max(weight_dict_list.keys())]\n",
    "            ws = [weight_dict['fc1.weight'], weight_dict['fc2.weight'], weight_dict['fc3.weight']]\n",
    "            w_norms = [np.sum(np.abs(w)**2, axis=1)**(1./2) for w in ws]\n",
    "    #         w_norms = [np.sum(np.abs(w)**1, axis=1)**(1./1) for w in ws]        \n",
    "\n",
    "            plt.subplot(R, C, 1 + j * C)\n",
    "            plt.hist(w_norms[0], label=str(lr))\n",
    "            if j == 0:\n",
    "                plt.title('lay1 norms')\n",
    "            plt.ylabel(optimizer)\n",
    "\n",
    "            plt.subplot(R, C, 2 + j * C)    \n",
    "            plt.hist(w_norms[1], label=str(lr))\n",
    "            if j == 0:\n",
    "                plt.title('lay2 norms')    \n",
    "\n",
    "            plt.subplot(R, C, 3 + j * C)    \n",
    "            plt.hist(w_norms[2], label=str(lr))\n",
    "            if j == 0:\n",
    "                plt.title('lay3 norms')              \n",
    "plt.legend()\n",
    "plt.show()"
   ]
  },
  {
   "cell_type": "code",
   "execution_count": null,
   "metadata": {},
   "outputs": [],
   "source": []
  }
 ],
 "metadata": {
  "kernelspec": {
   "display_name": "Python 3",
   "language": "python",
   "name": "python3"
  },
  "language_info": {
   "codemirror_mode": {
    "name": "ipython",
    "version": 3
   },
   "file_extension": ".py",
   "mimetype": "text/x-python",
   "name": "python",
   "nbconvert_exporter": "python",
   "pygments_lexer": "ipython3",
   "version": "3.5.4"
  }
 },
 "nbformat": 4,
 "nbformat_minor": 2
}
