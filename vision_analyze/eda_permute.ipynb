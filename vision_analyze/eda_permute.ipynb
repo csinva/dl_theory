{
 "cells": [
  {
   "cell_type": "code",
   "execution_count": 1,
   "metadata": {},
   "outputs": [],
   "source": [
    "import os\n",
    "from os.path import join as oj\n",
    "import sys, time\n",
    "sys.path.insert(1, oj(sys.path[0], '..'))  # insert parent path\n",
    "sys.path.insert(1, oj(sys.path[0], '..', 'vision_fit'))  # insert parent path\n",
    "import seaborn as sns\n",
    "import numpy as np\n",
    "import matplotlib.pyplot as plt\n",
    "\n",
    "from tqdm import tqdm\n",
    "from copy import deepcopy\n",
    "import pickle as pkl\n",
    "import pandas as pd\n",
    "import math\n",
    "# plt.style.use('dark_background')\n",
    "from mog_fit import data\n",
    "from collections import OrderedDict\n",
    "from sklearn import preprocessing\n",
    "\n",
    "import torch\n",
    "from torch.autograd import Variable\n",
    "from mog_analyze import viz\n",
    "from sklearn.decomposition import PCA\n",
    "\n",
    "import warnings\n",
    "warnings.filterwarnings(\"ignore\")\n",
    "\n",
    "from vision_fit import data\n",
    "import viz_weights\n",
    "from process_results import process_results\n",
    "\n",
    "%matplotlib inline\n",
    "%load_ext autoreload\n",
    "%autoreload 2\n",
    "\n",
    "import style\n",
    "cb = '#008fd5'\n",
    "cr = '#fc4f30'"
   ]
  },
  {
   "cell_type": "code",
   "execution_count": 2,
   "metadata": {},
   "outputs": [],
   "source": [
    "style.set_style()"
   ]
  },
  {
   "cell_type": "markdown",
   "metadata": {},
   "source": [
    "# load results from a directory"
   ]
  },
  {
   "cell_type": "code",
   "execution_count": 3,
   "metadata": {},
   "outputs": [
    {
     "name": "stderr",
     "output_type": "stream",
     "text": [
      "100%|██████████| 60/60 [00:00<00:00, 72.75it/s]\n"
     ]
    }
   ],
   "source": [
    "# depending on how much is saved, this may take a while\n",
    "# out_dir = '/scratch/users/vision/yu_dl/raaz.rsk/transfer/mnist_permute'\n",
    "out_dir = '/scratch/users/vision/yu_dl/raaz.rsk/transfer/mnist_permute'\n",
    "\n",
    "fnames = sorted([fname for fname in os.listdir(out_dir) \\\n",
    "                 if not fname.startswith('weights') \\\n",
    "                 and not fname.startswith('idx')])\n",
    "#                  if not 'mnist' in fname and \n",
    "#                  'numlays=4' in fname and \n",
    "#                  'batchsize=100' in fname and not 'batchsize=1000' in fname])\n",
    "#                   and \n",
    "#                  'numlays=4' in fname]) # and \n",
    "#                  'batchsize=100' in fname and \n",
    "#                  not 'batchsize=1000' in fname])\n",
    "# weights_list = [pd.Series(pkl.load(open(oj(out_dir, fname), \"rb\"))) for fname in tqdm(fnames) \n",
    "#                 if fname.startswith('weights')]\n",
    "# results_weights = pd.concat(weights_list, axis=1).T.infer_objects()\n",
    "\n",
    "results_list = [pd.Series(pkl.load(open(oj(out_dir, fname), \"rb\"))) for fname in tqdm(fnames) \n",
    "                if not fname.startswith('weights') and not fname.startswith('idx')]\n",
    "results = pd.concat(results_list, axis=1).T.infer_objects()"
   ]
  },
  {
   "cell_type": "markdown",
   "metadata": {},
   "source": [
    "**add cols**"
   ]
  },
  {
   "cell_type": "code",
   "execution_count": 20,
   "metadata": {},
   "outputs": [
    {
     "name": "stdout",
     "output_type": "stream",
     "text": [
      "no reduce\n",
      "    max_train_acc optimizer\n",
      "0        0.112367      adam\n",
      "1        0.182800       sgd\n",
      "2        0.138300      adam\n",
      "3        0.215533       sgd\n",
      "4        0.954417      adam\n",
      "5        0.953600      adam\n",
      "6        0.311167      adam\n",
      "7        0.138300      adam\n",
      "8        0.911483       sgd\n",
      "9        0.138300       sgd\n",
      "10       0.916783       sgd\n",
      "11       0.112367       sgd\n",
      "12       0.893717       sgd\n",
      "13       0.913317       sgd\n",
      "14       0.123283      adam\n",
      "15       0.114417       sgd\n",
      "16       0.114850      adam\n",
      "17       0.954450      adam\n",
      "18       0.911117       sgd\n",
      "19       0.112367      adam\n",
      "20       0.112367      adam\n",
      "21       0.958000      adam\n",
      "22       0.364133       sgd\n",
      "23       0.347700       sgd\n",
      "24       0.112367       sgd\n",
      "25       0.220667       sgd\n",
      "26       0.112367      adam\n",
      "27       0.915283      adam\n",
      "28       0.381500       sgd\n",
      "29       0.912283       sgd\n",
      "30       0.112367      adam\n",
      "31       0.112367       sgd\n",
      "32       0.123283       sgd\n",
      "33       0.913967      adam\n",
      "34       0.904383       sgd\n",
      "35       0.112367       sgd\n",
      "36       0.900150      adam\n",
      "37       0.902017       sgd\n",
      "38       0.112383      adam\n",
      "39       0.229650       sgd\n",
      "40       0.631350      adam\n",
      "41       0.153867       sgd\n",
      "42       0.112367       sgd\n",
      "43       0.112367      adam\n",
      "44       0.184250       sgd\n",
      "45       0.112367      adam\n",
      "46       0.908933      adam\n",
      "47       0.920583       sgd\n",
      "48       0.112367      adam\n",
      "49       0.218333      adam\n",
      "50       0.920200       sgd\n",
      "51       0.112367      adam\n",
      "52       0.910667      adam\n",
      "53       0.123283      adam\n",
      "54       0.224950       sgd\n",
      "55       0.112383      adam\n",
      "56       0.191583       sgd\n",
      "57       0.112367       sgd\n",
      "58       0.927533      adam\n",
      "59       0.114850      adam\n"
     ]
    }
   ],
   "source": [
    "# adds these vec keys: fc0_fro, fc1_fro, fc0_stab_rank, fc1_stab_rank, act0_stab_rank, act1_stab_rank, corr0, corr1\n",
    "# adds these scalar keys: max_train_acc, max_test_acc, _final of all the above\n",
    "its, ts, results = process_results(results)\n",
    "print(results[['max_train_acc', 'optimizer']])"
   ]
  },
  {
   "cell_type": "markdown",
   "metadata": {},
   "source": [
    "# track things over time"
   ]
  },
  {
   "cell_type": "code",
   "execution_count": 15,
   "metadata": {},
   "outputs": [],
   "source": [
    "from random import randint\n",
    "cs = []\n",
    "\n",
    "for i in range(25):\n",
    "    cs.append('#%06X' % randint(0, 0xFFFFFF))\n",
    "cs = sorted(cs)\n",
    "cs = {False: 'red', True: 'blue'}"
   ]
  },
  {
   "cell_type": "code",
   "execution_count": 23,
   "metadata": {},
   "outputs": [
    {
     "data": {
      "image/png": "[encoded data removed]",
      "text/plain": [
       "<Figure size 1080x576 with 2 Axes>"
      ]
     },
     "metadata": {},
     "output_type": "display_data"
    }
   ],
   "source": [
    "rm = results\n",
    "# rm = rm[rm.dset == 'mnist']\n",
    "# rm = rm[rm.dset == 'cifar10']\n",
    "# rm = rm[rm.reset_final_weights_freq > 0]\n",
    "# rm = rm[rm.reset_final_weights_freq == 10]\n",
    "\n",
    "R, C = 2, 5\n",
    "plt.figure(figsize=(15, 8))\n",
    "xlim = 40\n",
    "\n",
    "vals = ['accs_train', 'accs_test'] #, 'corr0', 'corr1', 'fc0_fro', 'fc1_fro', 'fc0_stab_rank', 'fc1_stab_rank', 'act0_stab_rank', 'act1_stab_rank']\n",
    "\n",
    "# hue = 'normalize_features'\n",
    "hue = 'optimizer'\n",
    "# cs = {0: cb, 1: cr, 2: 'black', 3: 'green'}\n",
    "# well-behaved\n",
    "for _, row in rm.iterrows():\n",
    "\n",
    "    for i, val in enumerate(vals):\n",
    "        plt.subplot(R, C, i+1)\n",
    "        plt.plot(row[val], color=cs[row[hue]=='sgd'], alpha=0.5, label=str(row[hue])) \n",
    "#         try:\n",
    "#             plt.plot(ts, row[val], color=cs[row[hue]=='sgd'], alpha=0.5)\n",
    "#         except Exception as e:\n",
    "#             print(e)\n",
    "#             plt.plot(row.its[:row[val].size], row[val], color=cs[row[hue]], alpha=0.5, label=str(row[hue]))\n",
    "#             try:\n",
    "#       plt.plot(row[val], color=cs[row[hue]=='sgd'], alpha=0.5, label=str(row[hue])) \n",
    "#             except Exception as e:\n",
    "#                 pass\n",
    "        plt.xlabel('epochs')\n",
    "        plt.ylabel(val)\n",
    "        plt.xlim((0, xlim))\n",
    "        \n",
    "        if i == 0:\n",
    "            plt.legend()"
   ]
  },
  {
   "cell_type": "markdown",
   "metadata": {},
   "source": [
    "## plot these things against one another\n",
    "**overmemorization in the beginning can still maintain high train acc but suffers on test acc**"
   ]
  },
  {
   "cell_type": "code",
   "execution_count": 11,
   "metadata": {},
   "outputs": [
    {
     "data": {
      "text/plain": [
       "<Figure size 864x288 with 0 Axes>"
      ]
     },
     "metadata": {},
     "output_type": "display_data"
    }
   ],
   "source": [
    "rm = results[(results.seed == 0) * (results.dset == 'mnist')]\n",
    "# rm = results[(results.dset == 'mnist') * (results.max_test_acc >= 0.8)]\n",
    "plt.figure(figsize=(12, 4))\n",
    "R, C = 1, 1\n",
    "for _, row in rm.iterrows():\n",
    "\n",
    "    plt.subplot(R, C, 1)\n",
    "    idxs = [True if v in ts else False for v in row.its[:row.accs_train.size]]\n",
    "    accs_train = row.accs_train[idxs]\n",
    "    plt.plot(accs_train, row.corr0, color='red' if row.optimizer=='adam' else cb, alpha=0.1)\n",
    "#     plt.scatter(accs_train, row.corr0, c=accs_train) #color='red' if row.optimizer=='adam' else cb, alpha=0.1)    \n",
    "#     plt.plot([accs_train[0], accs_train[1], accs_train[-1]], [row.corr0[0], row.corr0[1], row.corr0[-1]]) #, color='red' if row.optimizer=='adam' else cb, alpha=0.1)    \n",
    "#     plt.plot([accs_train[3], accs_train[-1]], [row.corr0[3], row.corr0[-1]], alpha=0.5) #, color='red' if row.optimizer=='adam' else cb, alpha=0.1)        \n",
    "    plt.xlabel('train acc')\n",
    "    plt.ylabel('max_corr')\n",
    "    \n",
    "    '''\n",
    "    \n",
    "    plt.plot(row.its[:row.accs_train.size], row.accs_train, \n",
    "    plt.xlabel('epochs')\n",
    "    plt.ylabel('max_corr')\n",
    "    plt.xlim((0, 20))\n",
    "    \n",
    "    plt.subplot(R, C, 2)\n",
    "    plt.title('max')\n",
    "    \n",
    "    plt.plot(ts, row.corr0, color='red' if row.optimizer=='adam' else cb, alpha=0.5)\n",
    "    plt.xlabel('epochs')\n",
    "    plt.ylabel('max_corr')\n",
    "    plt.xlim((0, 20))\n",
    "    '''\n",
    "    "
   ]
  },
  {
   "cell_type": "code",
   "execution_count": null,
   "metadata": {},
   "outputs": [],
   "source": [
    "np.unique(results.num_layers)\n",
    "np.unique(results.optimizer, return_counts=True)"
   ]
  },
  {
   "cell_type": "markdown",
   "metadata": {},
   "source": [
    "# stability over random init\n",
    "**note there are some nans/infs here which are being ignored**"
   ]
  },
  {
   "cell_type": "code",
   "execution_count": null,
   "metadata": {},
   "outputs": [],
   "source": [
    "sweep_params = ['lr', 'optimizer', 'num_layers', 'dset', 'batch_size', 'shuffle_labels', 'hidden_size']# wanna group by everything but seed\n",
    "r = results[results.shuffle_labels == False]\n",
    "r_mu = r.groupby(sweep_params).mean()\n",
    "r_std = r.groupby(sweep_params).std()\n",
    "r_snr = r_mu / r_std\n",
    "r_mu = r_mu.reset_index()\n",
    "r_std = r_std.reset_index()\n",
    "# print(r_mu.describe())\n",
    "\n",
    "R, C = 2, 5\n",
    "vals = ['max_train_acc', 'max_test_acc', 'corr0_final', 'corr1_final', \n",
    "        'fc0_fro_final', 'fc1_fro_final', 'fc0_stab_rank_final', 'fc1_stab_rank_final', 'act0_stab_rank_final', 'act1_stab_rank_final']\n",
    "val_labs = ['Train Acc', 'Test Acc', '$\\\\rho_{mem}(W_1)$', '$\\\\rho_{mem}(W_2)$', \n",
    "        '$||W_1||_F$', '$||W_2||_F$', 'Stable rank($||W_1||$)', 'Stable rank($||W_2||$)', 'Stable rank($||A_1||$)', 'Stable rank($||A_2||$)']\n",
    "\n",
    "plt.figure(figsize=(20, 9.5))\n",
    "for i, val in enumerate(vals):\n",
    "    plt.subplot(R, C, i + 1)\n",
    "    plt.title(val_labs[i])\n",
    "#     plt.title(chr(ord('A') + i), loc='left', fontweight='bold')\n",
    "    sns.scatterplot(r_mu[val], r_std[val], legend=None, alpha=0.5) # hue=r_mu['optimizer'], \n",
    "\n",
    "    # print diag line\n",
    "    left, right = plt.xlim()  # return the current xlim\n",
    "    xspace = np.linspace(0, right, 100)\n",
    "    plt.plot(xspace, xspace, '--', alpha=0.5, color='black')\n",
    "    ymax = np.max(r_std[val])\n",
    "    dy = ymax / 20\n",
    "    plt.ylim(-dy, ymax + dy)\n",
    "    plt.xlabel('Mean')\n",
    "    plt.ylabel('S.D.')\n",
    "plt.tight_layout()\n",
    "plt.savefig('stability_full.pdf')\n",
    "plt.show()"
   ]
  },
  {
   "cell_type": "markdown",
   "metadata": {},
   "source": [
    "*bar graphs*"
   ]
  },
  {
   "cell_type": "code",
   "execution_count": null,
   "metadata": {},
   "outputs": [],
   "source": [
    "means = [] \n",
    "medians = []\n",
    "# plt.figure(figsize=(4, 2), dpi=100)\n",
    "for i, val in enumerate(vals):\n",
    "    snr = r_snr[val].values\n",
    "    snr = snr[np.isfinite(snr)]\n",
    "    means.append(np.mean(snr))\n",
    "    medians.append(np.median(snr))\n",
    "# r_snr['max_train_acc']\n",
    "# sns.barplot(x = means, y = vals, orient='h')\n",
    "\n",
    "sns.barplot(x = medians, y = val_labs, orient='h', color=cb, alpha=0.5)\n",
    "plt.xlabel(\"Median signal to noise ratio\\n(Mean / S.D. across random initializations)\")\n",
    "plt.tight_layout()\n",
    "plt.savefig('stability_bars.pdf')\n",
    "plt.show()"
   ]
  },
  {
   "cell_type": "markdown",
   "metadata": {},
   "source": [
    "*snr hists*"
   ]
  },
  {
   "cell_type": "code",
   "execution_count": null,
   "metadata": {},
   "outputs": [],
   "source": [
    "sweep_params = ['lr', 'optimizer', 'num_layers', 'dset', 'batch_size', 'shuffle_labels', 'hidden_size']# wanna group by everything but seed\n",
    "r = results[results.shuffle_labels == False]\n",
    "r_mu = r.groupby(sweep_params).mean()\n",
    "r_std = r.groupby(sweep_params).std()\n",
    "r_snr = r_mu / r_std\n",
    "r_mu = r_mu.reset_index()\n",
    "r_std = r_std.reset_index()\n",
    "# print(r_mu.describe())\n",
    "\n",
    "R, C = 4, 4\n",
    "vals = ['max_train_acc', 'max_test_acc', 'corr0_final', 'corr1_final', \n",
    "        'fc0_fro_final', 'fc1_fro_final', 'fc0_stab_rank_final', 'fc1_stab_rank_final', 'act0_stab_rank_final', 'act1_stab_rank_final']\n",
    "plt.figure(figsize=(12, 18), dpi=100)\n",
    "for i, val in enumerate(vals):\n",
    "    plt.subplot(R, C, i + 1)\n",
    "    plt.title(val)\n",
    "    snr = r_snr[val].values\n",
    "    snr = snr[np.isfinite(snr)]\n",
    "    plt.hist(snr)\n",
    "plt.show()"
   ]
  },
  {
   "cell_type": "markdown",
   "metadata": {},
   "source": [
    "# pick individual examples to plot"
   ]
  },
  {
   "cell_type": "code",
   "execution_count": null,
   "metadata": {},
   "outputs": [],
   "source": [
    "r = results\n",
    "sweep_params = ['lr', 'optimizer', 'num_layers', 'dset', 'batch_size', 'shuffle_labels', 'hidden_size']# wanna group by everything but seed\n",
    "\n",
    "r = r[(r.dset == 'mnist')] # good mnist\n",
    "r = r[r.shuffle_labels == False]\n",
    "r = r[r.max_train_acc >= 0.99]\n",
    "r = r[r.hidden_size == 512]\n",
    "# r = r[r.max_train_acc < 0.9]\n",
    "r = r.groupby(sweep_params)\n",
    "r = r.filter(lambda x: len(x) > 5) # groups must contain at least 6 runs\n",
    "r = r.groupby(sweep_params)"
   ]
  },
  {
   "cell_type": "code",
   "execution_count": null,
   "metadata": {},
   "outputs": [],
   "source": [
    "print(r.groups)"
   ]
  },
  {
   "cell_type": "code",
   "execution_count": null,
   "metadata": {},
   "outputs": [],
   "source": [
    "# print(r.groups)\n",
    "g1 = (0.05, 'sgd', 4, 'mnist', 10, False, 512) #(1, 'sgd', 2, 'mnist', 100, False, 512)\n",
    "g2 = (0.001, 'adam', 4, 'mnist', 10, False, 512) #(0.001, 'adam', 2, 'mnist', 100, False, 512)\n",
    "gs = [g1, g2]\n",
    "labs = ['SGD', 'ADAM']\n",
    "print(r.get_group(g1).shape, r.get_group(g2).shape)"
   ]
  },
  {
   "cell_type": "code",
   "execution_count": null,
   "metadata": {},
   "outputs": [],
   "source": [
    "# take vector x of length epochs\n",
    "# np array num_rows x epochs\n",
    "# errbars with std\n",
    "def plot_with_std(x, ymat, label=None):\n",
    "    y = ymat.mean(axis=0)\n",
    "    yerr = ymat.std(axis=0)\n",
    "    ymin = y - yerr\n",
    "    ymax = y + yerr\n",
    "    plt.plot(x, y, label=label)\n",
    "    plt.fill_between(x, ymin, ymax, alpha=0.3)\n",
    "\n",
    "R, C = 2, 5\n",
    "plt.figure(figsize=(16, 6))\n",
    "xlim = 100\n",
    "\n",
    "vals = ['accs_train', 'accs_test', 'corr0', 'corr1', 'fc0_fro', 'fc1_fro', 'fc0_stab_rank', 'fc1_stab_rank', 'act0_stab_rank', 'act1_stab_rank']\n",
    "val_labs = ['Train Acc', 'Test Acc', '$\\\\rho_{mem}(W_1)$', '$\\\\rho_{mem}(W_2)$', \n",
    "        '$||W_1||_F$', '$||W_2||_F$', 'Stable rank($||W_1||$)', 'Stable rank($||W_2||$)', 'Stable rank($||A_1||$)', 'Stable rank($||A_2||$)']\n",
    "\n",
    "for j, g_idx in enumerate([g1, g2]):\n",
    "    g = r.get_group(g_idx)\n",
    "    \n",
    "    for i, val in enumerate(vals):\n",
    "        ymat = np.array([np.array(x) for x in g[val]])\n",
    "        \n",
    "        plt.subplot(R, C, i + 1)\n",
    "#         plt.title(chr(ord('A') + i), loc='left', fontweight='bold')\n",
    "        \n",
    "        if ymat.shape[1] == len(ts):\n",
    "            x = ts\n",
    "        else:\n",
    "            x = its\n",
    "        plot_with_std(x, ymat, label=labs[j])\n",
    "        \n",
    "        plt.xlim((-1, xlim))\n",
    "        plt.xlabel('Epochs')\n",
    "        plt.ylabel(val_labs[i])\n",
    "        if i <= 4: \n",
    "            plt.xlabel(\"\")\n",
    "#         plt.axes().xaxis('off')\n",
    "            \n",
    "        if i == 0:\n",
    "            plt.legend()\n",
    "plt.tight_layout()\n",
    "plt.savefig('metrics.pdf')\n",
    "# plt.subplots_adjust(hspace=0)"
   ]
  },
  {
   "cell_type": "markdown",
   "metadata": {},
   "source": [
    "# inspect individual vars"
   ]
  },
  {
   "cell_type": "code",
   "execution_count": null,
   "metadata": {},
   "outputs": [],
   "source": [
    "sweep_params = ['lr', 'optimizer', 'num_layers', 'dset', 'batch_size', 'shuffle_labels', 'hidden_size']# wanna group by everything but seed"
   ]
  },
  {
   "cell_type": "markdown",
   "metadata": {},
   "source": [
    "### plot test acc vs corr0"
   ]
  },
  {
   "cell_type": "code",
   "execution_count": null,
   "metadata": {},
   "outputs": [],
   "source": [
    "r = results\n",
    "sweep_params = ['lr', 'optimizer', 'num_layers', 'dset', 'batch_size', 'shuffle_labels', 'hidden_size']# wanna group by everything but seed\n",
    "r = r.groupby(sweep_params).mean().reset_index()\n",
    "r = r[r.shuffle_labels == False]\n",
    "\n",
    "hue = 'optimizer'\n",
    "\n",
    "plt.figure(figsize=(10, 10))\n",
    "R, C = 2, 2\n",
    "rm = r[r.dset == 'mnist']\n",
    "plt.subplot(R, C, 1)\n",
    "plt.title('mnist')\n",
    "\n",
    "import matplotlib.patches as mpatches\n",
    "\n",
    "cs = {'sgd': '008fd5', 'adam': 'fc4f30'}\n",
    "red_patch = mpatches.Patch(color='red', label='The red data')\n",
    "plt.legend(handles=[red_patch])\n",
    "\n",
    "\n",
    "sns.scatterplot(rm.max_test_acc, rm.corr0_final, hue=[cs[key] for key in rm.optimizer])\n",
    "plt.ylim(0, 1)\n",
    "\n",
    "plt.subplot(R, C, 2)\n",
    "plt.title('mnist')\n",
    "sns.scatterplot(rm.max_test_acc, rm.corr1_final, hue=rm[hue])\n",
    "plt.ylim(0, 1)\n",
    "\n",
    "\n",
    "rm = r[r.dset == 'cifar10']\n",
    "plt.subplot(R, C, 3)\n",
    "plt.title('cifar')\n",
    "sns.scatterplot(rm.max_test_acc, rm.corr0_final, hue=rm[hue])\n",
    "plt.ylim(0, 1)\n",
    "\n",
    "plt.subplot(R, C, 4)\n",
    "plt.title('cifar')\n",
    "sns.scatterplot(rm.max_test_acc, rm.corr1_final, hue=rm[hue])\n",
    "plt.ylim(0, 1)\n",
    "plt.show()"
   ]
  },
  {
   "cell_type": "markdown",
   "metadata": {},
   "source": [
    "### corr0 vs hidden_size"
   ]
  },
  {
   "cell_type": "code",
   "execution_count": null,
   "metadata": {},
   "outputs": [],
   "source": [
    "from matplotlib.patches import Patch\n",
    "from matplotlib.lines import Line2D\n",
    "\n",
    "r = results\n",
    "r = r[r.shuffle_labels == False]\n",
    "r = r[r.max_train_acc >= 0.9]\n",
    "sweep_params = ['lr', 'optimizer', 'num_layers', 'dset', 'batch_size', 'shuffle_labels', 'hidden_size']# wanna group by everything but seed\n",
    "r = r.groupby(sweep_params).mean().reset_index()\n",
    "\n",
    "\n",
    "plt.figure(figsize=(10, 10), facecolor='white')\n",
    "R, C = 2, 2\n",
    "\n",
    "\n",
    "legend_elements = [Line2D([0], [0], marker='o', linestyle='None', color=cb, lw=4, label='128', alpha=0.5),\n",
    "                   Line2D([0], [0], marker='o', linestyle='None', color=cr, lw=4, label='512', alpha=0.5)]\n",
    "cs = {128: cb, 512: cr}\n",
    "rm = r[r.dset == 'mnist']\n",
    "plt.subplot(R, C, 1)\n",
    "plt.title('mnist')\n",
    "# print(rm.keys())\n",
    "plt.scatter(rm.max_test_acc, rm.corr0_adj_final, \n",
    "            color=[cs[key] for key in rm.hidden_size], alpha=0.5)\n",
    "plt.legend(handles=legend_elements)\n",
    "plt.ylim(0, 1)\n",
    "\n",
    "\n",
    "print(r.groupby('hidden_size').mean())\n",
    "'''\n",
    "plt.subplot(R, C, 2)\n",
    "plt.title('mnist')\n",
    "sns.scatterplot(rm.max_test_acc, rm.corr1_final, hue=rm[hue])\n",
    "plt.ylim(0, 1)\n",
    "\n",
    "\n",
    "rm = r[r.dset == 'cifar10']\n",
    "plt.subplot(R, C, 3)\n",
    "plt.title('cifar')\n",
    "sns.scatterplot(rm.max_test_acc, rm.corr0_final, hue=rm[hue])\n",
    "plt.ylim(0, 1)\n",
    "\n",
    "plt.subplot(R, C, 4)\n",
    "plt.title('cifar')\n",
    "sns.scatterplot(rm.max_test_acc, rm.corr1_final, hue=rm[hue])\n",
    "plt.ylim(0, 1)\n",
    "plt.show()\n",
    "'''"
   ]
  },
  {
   "cell_type": "code",
   "execution_count": null,
   "metadata": {},
   "outputs": [],
   "source": []
  }
 ],
 "metadata": {
  "anaconda-cloud": {},
  "kernelspec": {
   "display_name": "Python 3",
   "language": "python",
   "name": "python3"
  },
  "language_info": {
   "codemirror_mode": {
    "name": "ipython",
    "version": 3
   },
   "file_extension": ".py",
   "mimetype": "text/x-python",
   "name": "python",
   "nbconvert_exporter": "python",
   "pygments_lexer": "ipython3",
   "version": "3.5.4"
  }
 },
 "nbformat": 4,
 "nbformat_minor": 2
}
