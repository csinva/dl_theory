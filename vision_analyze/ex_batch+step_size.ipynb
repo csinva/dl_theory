{
 "cells": [
  {
   "cell_type": "code",
   "execution_count": 1,
   "metadata": {},
   "outputs": [],
   "source": [
    "import os\n",
    "from os.path import join as oj\n",
    "import sys, time\n",
    "sys.path.insert(1, oj(sys.path[0], '..'))  # insert parent path\n",
    "sys.path.insert(1, oj(sys.path[0], '..', 'vision_fit'))  # insert parent path\n",
    "import seaborn as sns\n",
    "import numpy as np\n",
    "import matplotlib.pyplot as plt\n",
    "\n",
    "from tqdm import tqdm\n",
    "from copy import deepcopy\n",
    "import pickle as pkl\n",
    "import pandas as pd\n",
    "import math\n",
    "# plt.style.use('dark_background')\n",
    "from mog_fit import data\n",
    "from collections import OrderedDict\n",
    "from sklearn import preprocessing\n",
    "\n",
    "import torch\n",
    "from torch.autograd import Variable\n",
    "from mog_analyze import viz\n",
    "from sklearn.decomposition import PCA\n",
    "\n",
    "import warnings\n",
    "warnings.filterwarnings(\"ignore\")\n",
    "\n",
    "from vision_fit import data\n",
    "import viz_weights\n",
    "from process_results import process_results\n",
    "\n",
    "%matplotlib inline\n",
    "%load_ext autoreload\n",
    "%autoreload 2\n",
    "\n",
    "import style\n",
    "cb = '#008fd5'\n",
    "cr = '#fc4f30'"
   ]
  },
  {
   "cell_type": "code",
   "execution_count": 2,
   "metadata": {},
   "outputs": [],
   "source": [
    "style.set_style()"
   ]
  },
  {
   "cell_type": "markdown",
   "metadata": {},
   "source": [
    "# load results from a directory"
   ]
  },
  {
   "cell_type": "code",
   "execution_count": 3,
   "metadata": {},
   "outputs": [
    {
     "name": "stderr",
     "output_type": "stream",
     "text": [
      "100%|██████████| 1306/1306 [00:25<00:00, 51.93it/s]\n"
     ]
    }
   ],
   "source": [
    "# depending on how much is saved, this may take a while\n",
    "out_dir = '/scratch/users/vision/yu_dl/raaz.rsk/track_acts/resweep_full_new'\n",
    "fnames = sorted([fname for fname in os.listdir(out_dir) \\\n",
    "                 if not fname.startswith('weights') \\\n",
    "                 and not fname.startswith('idx')])\n",
    "\n",
    "results_list = [pd.Series(pkl.load(open(oj(out_dir, fname), \"rb\"))) for fname in tqdm(fnames) \n",
    "                if not fname.startswith('weights') and not fname.startswith('idx')]\n",
    "results1 = pd.concat(results_list, axis=1).T.infer_objects()"
   ]
  },
  {
   "cell_type": "code",
   "execution_count": null,
   "metadata": {},
   "outputs": [],
   "source": [
    "# depending on how much is saved, this may take a while\n",
    "out_dir = '/scratch/users/vision/yu_dl/raaz.rsk/track_acts/resweep_full_new2'\n",
    "fnames = sorted([fname for fname in os.listdir(out_dir) \\\n",
    "                 if not fname.startswith('weights') \\\n",
    "                 and not fname.startswith('idx')])\n",
    "\n",
    "results_list = [pd.Series(pkl.load(open(oj(out_dir, fname), \"rb\"))) for fname in tqdm(fnames) \n",
    "                if not fname.startswith('weights') and not fname.startswith('idx')]\n",
    "results2 = pd.concat(results_list, axis=1).T.infer_objects()"
   ]
  },
  {
   "cell_type": "code",
   "execution_count": 34,
   "metadata": {},
   "outputs": [
    {
     "name": "stdout",
     "output_type": "stream",
     "text": [
      "(1306, 54) (1728, 49) (3034, 55)\n"
     ]
    }
   ],
   "source": [
    "results = pd.concat([results1, results2]).reset_index()\n",
    "print(results1.shape, results2.shape, results.shape)"
   ]
  },
  {
   "cell_type": "code",
   "execution_count": 35,
   "metadata": {},
   "outputs": [
    {
     "name": "stdout",
     "output_type": "stream",
     "text": [
      "{0.05, 1.0, 0.1, 0.01, 0.001} {0.05, 1.0, 0.001} {0.1, 0.01}\n"
     ]
    }
   ],
   "source": [
    "print(set(results.lr), set(results1.lr), set(results2.lr))"
   ]
  },
  {
   "cell_type": "markdown",
   "metadata": {},
   "source": [
    "**add cols**"
   ]
  },
  {
   "cell_type": "code",
   "execution_count": 36,
   "metadata": {},
   "outputs": [
    {
     "name": "stdout",
     "output_type": "stream",
     "text": [
      "(3034, 55)\n",
      "(2856, 85)\n"
     ]
    }
   ],
   "source": [
    "# adds these vec keys: fc0_fro, fc1_fro, fc0_stab_rank, fc1_stab_rank, act0_stab_rank, act1_stab_rank, corr0, corr1\n",
    "# adds these scalar keys: max_train_acc, max_test_acc, _final of all the above\n",
    "print('before', results.shape)\n",
    "its, ts, results = process_results(results)\n",
    "print('after', results.shape)"
   ]
  },
  {
   "cell_type": "markdown",
   "metadata": {},
   "source": [
    "# plot max corrs\n",
    "*note some things disappear in below plot as a result of nans*"
   ]
  },
  {
   "cell_type": "code",
   "execution_count": 119,
   "metadata": {},
   "outputs": [
    {
     "data": {
      "image/png": "[encoded data removed]",
      "text/plain": [
       "<Figure size 504x216 with 2 Axes>"
      ]
     },
     "metadata": {},
     "output_type": "display_data"
    }
   ],
   "source": [
    "sweep_params = ['lr', 'optimizer', 'num_layers', 'dset', 'batch_size', 'shuffle_labels', 'hidden_size']# wanna group by everything but seed\n",
    "\n",
    "r = results.groupby(sweep_params).mean().reset_index()\n",
    "rstd = results.groupby(sweep_params).sem().reset_index()\n",
    "idxs = (r.shuffle_labels == False) * (r.num_layers == 4)\n",
    "idxs *= (r.optimizer == 'sgd') * (r.hidden_size == 512)\n",
    "r = r[idxs]\n",
    "r['ratio'] = r.batch_size * r.lr\n",
    "rs = rstd[idxs]\n",
    "\n",
    "cb = '#008fd5'\n",
    "cr = '#fc4f30'\n",
    "\n",
    "rm = r[r.dset == 'mnist']\n",
    "rc = r[r.dset == 'cifar10']\n",
    "rms = rs[rs.dset == 'mnist']\n",
    "rcs = rs[rs.dset == 'cifar10']\n",
    "\n",
    "plt.figure(figsize=(7, 3))\n",
    "R, C = 1, 2\n",
    "\n",
    "# first plot\n",
    "\n",
    "## select data \n",
    "# rm_10 = rm[rm.batch_size == 10]\n",
    "rm_100 = rm[rm.batch_size == 100]\n",
    "# rc_10 = rc[rc.batch_size == 10]\n",
    "rc_100 = rc[rc.batch_size == 100]\n",
    "# rms_10 = rms[rms.batch_size == 10]\n",
    "rms_100 = rms[rms.batch_size == 100]\n",
    "# rcs_10 = rcs[rcs.batch_size == 10]\n",
    "rcs_100 = rcs[rcs.batch_size == 100]\n",
    "\n",
    "## plotting\n",
    "plt.subplot(R, C, 1)\n",
    "plt.xlabel('Learning rate')\n",
    "plt.ylabel('$\\\\rho_{mem}$ Final Layer 1')\n",
    "plt.errorbar(rm_100.lr, rm_100.corr0_final, yerr=rms_100.corr0_final, label='MNIST')\n",
    "plt.errorbar(rc_100.lr, rc_100.corr0_final, yerr=rcs_100.corr0_final, label='CIFAR')\n",
    "plt.xscale(\"log\")\n",
    "plt.xticks([1e-3, 1e-2, 1e-1, 1e0])\n",
    "plt.legend()\n",
    "\n",
    "\n",
    "# 2nd plot\n",
    "## select data\n",
    "rm_1 = rm[rm.lr == 0.1]\n",
    "rc_1 = rc[rc.lr == 0.1]\n",
    "rms_1 = rms[rms.lr == 0.1]\n",
    "rcs_1 = rcs[rcs.lr == 0.1]\n",
    "\n",
    "## plotting\n",
    "plt.subplot(R, C, 2)\n",
    "plt.errorbar(rm_1.batch_size, rm_1.corr0_final, yerr=rms_1.corr0_final, label='MNIST')\n",
    "plt.errorbar(rc_1.batch_size, rc_1.corr0_final, yerr=rcs_1.corr0_final, label='CIFAR')\n",
    "\n",
    "# sns.scatterplot(np.log10(rm.batch_size), rm.corr0_final, alpha=0.5)\n",
    "plt.xscale(\"log\")\n",
    "plt.xticks([1e1, 1e2, 1e3])\n",
    "plt.xlabel('Batch size')\n",
    "plt.ylabel('$\\\\rho_{mem}$ Final Layer 1')\n",
    "\n",
    "\n",
    "# rm = r[r.dset == 'mnist']\n",
    "# plt.subplot(R, C, 3)\n",
    "# plt.title('MNIST')\n",
    "# sns.scatterplot(np.log10(rm.ratio), rm.corr0_final, alpha=0.5)\n",
    "# # plt.ylim(0, 1)\n",
    "# plt.xlabel('Ratio (log-scale)')\n",
    "# plt.ylabel('$\\\\rho_{mem}$ Final Layer 1')\n",
    "\n",
    "plt.tight_layout()\n",
    "plt.savefig('lr_batch_size.pdf')\n",
    "plt.show()"
   ]
  },
  {
   "cell_type": "code",
   "execution_count": 107,
   "metadata": {},
   "outputs": [
    {
     "data": {
      "text/plain": [
       "95     0.000015\n",
       "237    0.000196\n",
       "376    0.000010\n",
       "518    0.000396\n",
       "Name: corr0_final, dtype: float64"
      ]
     },
     "execution_count": 107,
     "metadata": {},
     "output_type": "execute_result"
    }
   ],
   "source": [
    "rms_100.corr0_final\n",
    "rcs_100.corr0_final"
   ]
  }
 ],
 "metadata": {
  "anaconda-cloud": {},
  "kernelspec": {
   "display_name": "Python 3",
   "language": "python",
   "name": "python3"
  },
  "language_info": {
   "codemirror_mode": {
    "name": "ipython",
    "version": 3
   },
   "file_extension": ".py",
   "mimetype": "text/x-python",
   "name": "python",
   "nbconvert_exporter": "python",
   "pygments_lexer": "ipython3",
   "version": "3.5.4"
  }
 },
 "nbformat": 4,
 "nbformat_minor": 2
}
