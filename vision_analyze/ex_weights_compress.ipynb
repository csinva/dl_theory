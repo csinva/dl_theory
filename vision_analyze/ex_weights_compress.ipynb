{
 "cells": [
  {
   "cell_type": "code",
   "execution_count": 1,
   "metadata": {},
   "outputs": [],
   "source": [
    "import os\n",
    "from os.path import join as oj\n",
    "import sys, time\n",
    "sys.path.insert(1, oj(sys.path[0], '..'))  # insert parent path\n",
    "sys.path.insert(1, oj(sys.path[0], '..', 'vision_fit'))  # insert parent path\n",
    "import seaborn as sns\n",
    "import numpy as np\n",
    "import matplotlib.pyplot as plt\n",
    "\n",
    "from tqdm import tqdm\n",
    "from copy import deepcopy\n",
    "import pickle as pkl\n",
    "import pandas as pd\n",
    "import math\n",
    "# plt.style.use('dark_background')\n",
    "from mog_fit import data\n",
    "from collections import OrderedDict\n",
    "from sklearn import preprocessing\n",
    "import torch\n",
    "from torch.autograd import Variable\n",
    "from mog_analyze import viz\n",
    "from sklearn.decomposition import PCA\n",
    "\n",
    "import warnings\n",
    "warnings.filterwarnings(\"ignore\")\n",
    "\n",
    "from vision_fit import data\n",
    "import viz_weights\n",
    "from process_results import process_results\n",
    "\n",
    "%matplotlib inline\n",
    "%load_ext autoreload\n",
    "%autoreload 2\n",
    "\n",
    "import style\n",
    "cb = '#008fd5'\n",
    "cr = '#fc4f30'"
   ]
  },
  {
   "cell_type": "code",
   "execution_count": 2,
   "metadata": {},
   "outputs": [],
   "source": [
    "style.set_style()"
   ]
  },
  {
   "cell_type": "markdown",
   "metadata": {},
   "source": [
    "# load results from a directory"
   ]
  },
  {
   "cell_type": "code",
   "execution_count": 3,
   "metadata": {},
   "outputs": [
    {
     "name": "stderr",
     "output_type": "stream",
     "text": [
      "100%|██████████| 2/2 [00:00<00:00,  8.21it/s]"
     ]
    },
    {
     "name": "stdout",
     "output_type": "stream",
     "text": [
      "(2, 54)\n"
     ]
    },
    {
     "name": "stderr",
     "output_type": "stream",
     "text": [
      "\n"
     ]
    }
   ],
   "source": [
    "pid_a = '07665771801545027002'\n",
    "pid_s = '24656068102223723425'\n",
    "\n",
    "# depending on how much is saved, this may take a while\n",
    "out_dir = '/scratch/users/vision/yu_dl/raaz.rsk/track_acts/resweep_full_new'\n",
    "out_dir2 = '/scratch/users/vision/yu_dl/raaz.rsk/track_acts/resweep_full_new2'\n",
    "fnames = sorted([oj(out_dir, fname) for fname in os.listdir(out_dir) \\\n",
    "                 if not fname.startswith('weights') \\\n",
    "                 and not fname.startswith('idx')\n",
    "                 and (pid_a in fname or pid_s in fname)]) + \\\n",
    "         sorted([oj(out_dir2, fname) for fname in os.listdir(out_dir2) \\\n",
    "                 if not fname.startswith('weights') \\\n",
    "                 and not fname.startswith('idx')\n",
    "                 and (pid_a in fname or pid_s in fname)])    \n",
    "results_list = [pd.Series(pkl.load(open(fname, \"rb\"))) for fname in tqdm(fnames) \n",
    "                if not fname.startswith('weights') and not fname.startswith('idx') and (pid_a in fname or pid_s in fname)]\n",
    "results = pd.concat(results_list, axis=1).T.infer_objects()\n",
    "print(results.shape)"
   ]
  },
  {
   "cell_type": "markdown",
   "metadata": {},
   "source": [
    "**add cols**"
   ]
  },
  {
   "cell_type": "code",
   "execution_count": 4,
   "metadata": {},
   "outputs": [
    {
     "name": "stdout",
     "output_type": "stream",
     "text": [
      "after (2, 84)\n"
     ]
    }
   ],
   "source": [
    "# adds these vec keys: fc0_fro, fc1_fro, fc0_stab_rank, fc1_stab_rank, act0_stab_rank, act1_stab_rank, corr0, corr1\n",
    "# adds these scalar keys: max_train_acc, max_test_acc, _final of all the above\n",
    "# print('before', results.shape)\n",
    "its, ts, results = process_results(results)\n",
    "print('after', results.shape)"
   ]
  },
  {
   "cell_type": "markdown",
   "metadata": {},
   "source": [
    "# pick examples"
   ]
  },
  {
   "cell_type": "code",
   "execution_count": 5,
   "metadata": {},
   "outputs": [],
   "source": [
    "pre_a = '24421'\n",
    "pre_s = '40043'\n",
    "\n",
    "r = results\n",
    "for pid in r.pid:\n",
    "    if pid.startswith(pre_a):\n",
    "        print('a', pid)\n",
    "    if pid.startswith(pre_s):\n",
    "        print('s', pid)\n",
    "\n",
    "# good for 128\n",
    "# pid_a = '24421020350011741116'\n",
    "# pid_s = '40043048138378577087'\n",
    "\n",
    "# good for 512\n",
    "pid_a = '07665771801545027002'\n",
    "pid_s = '24656068102223723425'"
   ]
  },
  {
   "cell_type": "code",
   "execution_count": 6,
   "metadata": {},
   "outputs": [],
   "source": [
    "# depending on how much is saved, this may take a while\n",
    "out_dir = '/scratch/users/vision/yu_dl/raaz.rsk/track_acts/resweep_full_new'\n",
    "out_dir2 = '/scratch/users/vision/yu_dl/raaz.rsk/track_acts/resweep_full_new2'\n",
    "fnames = sorted([oj(out_dir, fname) for fname in os.listdir(out_dir) \\\n",
    "                 if (pid_a in fname or pid_s in fname)]) + \\\n",
    "         sorted([oj(out_dir2, fname) for fname in os.listdir(out_dir2) \\\n",
    "                 if (pid_a in fname or pid_s in fname)])\n",
    "\n",
    "# weights\n",
    "fnames_w = [fname for fname in fnames if 'weights' in fname]\n",
    "results_list = [pd.Series(pkl.load(open(fname, \"rb\"))) for fname in fnames_w]\n",
    "rw = pd.concat(results_list, axis=1).T.infer_objects()\n",
    "\n",
    "# normal results\n",
    "fnames_acc = [fname for fname in fnames if '/pid' in fname] # normal results\n",
    "results_list = [pd.Series(pkl.load(open(fname, \"rb\"))) for fname in fnames_acc]\n",
    "r = pd.concat(results_list, axis=1).T.infer_objects()\n",
    "its, ts, r = process_results(r)\n",
    "\n",
    "# get individual weights\n",
    "rw_sgd = rw[rw.optimizer == 'sgd'].reset_index().iloc[0]\n",
    "rw_adam = rw[rw.optimizer == 'adam'].reset_index().iloc[0]\n",
    "\n",
    "# get accs\n",
    "r_sgd = r[r.optimizer == 'sgd'].reset_index().iloc[0]\n",
    "r_adam = r[r.optimizer == 'adam'].reset_index().iloc[0]"
   ]
  },
  {
   "cell_type": "code",
   "execution_count": 16,
   "metadata": {},
   "outputs": [
    {
     "name": "stdout",
     "output_type": "stream",
     "text": [
      "epoch 111 0.9706 0.9704 0.9999333333333333 0.9996833333333334\n",
      "sgd [0.9999] [0.9692]\n",
      "adam [0.99951667] [0.9679]\n"
     ]
    }
   ],
   "source": [
    "epoch = int(max(ts))\n",
    "print('epoch', epoch, r_sgd.max_test_acc, r_adam.max_test_acc, r_sgd.max_train_acc, r_adam.max_train_acc)\n",
    "print('sgd', r_sgd.accs_train[its == epoch], r_sgd.accs_test[its == epoch])\n",
    "print('adam', r_adam.accs_train[its == epoch], r_adam.accs_test[its == epoch])"
   ]
  },
  {
   "cell_type": "markdown",
   "metadata": {},
   "source": [
    "# prune by magnitude, see if acc goes down"
   ]
  },
  {
   "cell_type": "code",
   "execution_count": 63,
   "metadata": {},
   "outputs": [
    {
     "name": "stdout",
     "output_type": "stream",
     "text": [
      "sgd\n"
     ]
    },
    {
     "name": "stderr",
     "output_type": "stream",
     "text": [
      "100%|██████████| 512/512 [01:16<00:00,  6.93it/s]\n"
     ]
    },
    {
     "name": "stdout",
     "output_type": "stream",
     "text": [
      "adam\n"
     ]
    },
    {
     "name": "stderr",
     "output_type": "stream",
     "text": [
      "100%|██████████| 512/512 [00:18<00:00, 27.99it/s]\n"
     ]
    }
   ],
   "source": [
    "# all info in [r_sgd, r_adam], [rw_sgd, rw_adam]\n",
    "def calc_accs(model, X_train, Y_train, X_test, Y_test):\n",
    "    preds = model(X_train).data.cpu().numpy().argmax(axis=1)\n",
    "    accs_train = preds==Y_train\n",
    "    preds = model(X_test).data.cpu().numpy().argmax(axis=1)\n",
    "    accs_test = preds==Y_test\n",
    "    return np.mean(accs_train), np.mean(accs_test)\n",
    "\n",
    "\n",
    "# takes in weights_dict copy\n",
    "# zeros the k weights with the smallest norms\n",
    "# returns new weights dict\n",
    "def zero_top_k(weights_dict, k=1, lay='fc.0.weight'):\n",
    "    w_orig = deepcopy(weights_dict[lay])\n",
    "    if k > 0:\n",
    "        norms = np.linalg.norm(w_orig, axis=1)\n",
    "        idxs_smallest = np.argsort(norms)[:k]\n",
    "        w_orig[idxs_smallest] = 0 * w_orig[idxs_smallest]\n",
    "    weights_dict_copy = deepcopy(weights_dict)\n",
    "    weights_dict_copy[lay] = w_orig\n",
    "    return weights_dict_copy\n",
    "\n",
    "accs_train = {'sgd': [], 'adam': []}\n",
    "accs_test = {'sgd': [], 'adam': []}\n",
    "for run in [rw_sgd, rw_adam]:\n",
    "    print(run.optimizer)\n",
    "        \n",
    "    # get data\n",
    "    run['num_layer'] = int(run['num_layers'])\n",
    "    run['hidden_size'] = int(run['hidden_size'])\n",
    "    run['batch_size'] = int(run.batch_size)\n",
    "    train_loader, test_loader = data.get_data_loaders(run)\n",
    "    X_train, Y_train, X_test, Y_test = data.process_loaders(train_loader, test_loader)\n",
    "    \n",
    "    # load in weights\n",
    "    model = data.get_model(run)\n",
    "    weights_dict_dict = run['weights'] # keys are epochs, vals are dicts of all weights\n",
    "    weights_dict = weights_dict_dict[epoch] # keys are layers, vals are weight values    \n",
    "\n",
    "    # prune 1st lay weights by magnitude and see how acc changes    \n",
    "    for k in tqdm(range(512)):\n",
    "        weights_dict_copy = zero_top_k(weights_dict, k=k)\n",
    "        weights_dict_tensors = {k: torch.Tensor(v) for k, v in weights_dict_copy.items()}\n",
    "        model.load_state_dict(weights_dict_tensors)\n",
    "        model = model.cuda()\n",
    "        acc_train, acc_test = calc_accs(model, X_train, Y_train, X_test, Y_test)\n",
    "        accs_train[run.optimizer].append(acc_train)\n",
    "        accs_test[run.optimizer].append(acc_test)         "
   ]
  },
  {
   "cell_type": "code",
   "execution_count": 84,
   "metadata": {},
   "outputs": [
    {
     "data": {
      "text/plain": [
       "dict_keys(['fc.1.bias', 'fc.1.weight', 'fc.0.weight', 'fc.0.bias'])"
      ]
     },
     "execution_count": 84,
     "metadata": {},
     "output_type": "execute_result"
    }
   ],
   "source": [
    "weights_dict.keys()"
   ]
  },
  {
   "cell_type": "code",
   "execution_count": 75,
   "metadata": {},
   "outputs": [
    {
     "data": {
      "image/png": "[encoded data removed]",
      "text/plain": [
       "<Figure size 432x288 with 2 Axes>"
      ]
     },
     "metadata": {},
     "output_type": "display_data"
    }
   ],
   "source": [
    "plt.subplot(121)\n",
    "plt.ylabel('Training accuracy')\n",
    "plt.plot(np.arange(512) / 512 * 100, accs_train['sgd'], label='sgd')\n",
    "plt.plot(np.arange(512) / 512 * 100, accs_train['adam'], label='adam')\n",
    "plt.xlabel('Percent of layer 1 filters pruned')\n",
    "# plt.legend()\n",
    "\n",
    "plt.subplot(122)\n",
    "plt.ylabel('Testing accuracy')\n",
    "plt.plot(np.arange(512) / 512 * 100, accs_test['sgd'], label='sgd')\n",
    "plt.plot(np.arange(512) / 512 * 100, accs_test['adam'], label='adam')\n",
    "plt.xlabel('Percent of layer 1 filters pruned')\n",
    "plt.legend()\n",
    "\n",
    "\n",
    "\n",
    "plt.tight_layout()\n",
    "plt.savefig('pruning.pdf')\n",
    "plt.show()"
   ]
  },
  {
   "cell_type": "markdown",
   "metadata": {},
   "source": [
    "# unrelated: check if bigger norm -> bigger mem"
   ]
  },
  {
   "cell_type": "code",
   "execution_count": 81,
   "metadata": {},
   "outputs": [
    {
     "data": {
      "image/png": "[encoded data removed]",
      "text/plain": [
       "<Figure size 432x288 with 2 Axes>"
      ]
     },
     "metadata": {},
     "output_type": "display_data"
    }
   ],
   "source": [
    "r = results\n",
    "tmax = max(ts)\n",
    "\n",
    "plt.subplot(121)\n",
    "r_sgd = r[r.optimizer == 'sgd'].iloc[0]\n",
    "d = r_sgd['mean_max_corrs'][tmax]['fc.0.weight']\n",
    "plt.plot(d['W_norms'], d['max_corrs'], '.')\n",
    "plt.xlabel('w_norm')\n",
    "plt.ylabel('max corr')\n",
    "plt.ylim(0, 1)\n",
    "plt.title('sgd')\n",
    "\n",
    "plt.subplot(122)\n",
    "r_adam = r[r.optimizer == 'adam'].iloc[0]\n",
    "d = r_adam['mean_max_corrs'][tmax]['fc.0.weight']\n",
    "plt.plot(d['W_norms'], d['max_corrs'], '.')\n",
    "plt.xlabel('w_norm')\n",
    "plt.ylabel('max corr')\n",
    "plt.title('adam')\n",
    "plt.ylim(0, 1)\n",
    "plt.tight_layout()\n",
    "plt.savefig('corr_vs_norm.pdf')\n",
    "plt.show()"
   ]
  },
  {
   "cell_type": "code",
   "execution_count": null,
   "metadata": {},
   "outputs": [],
   "source": []
  }
 ],
 "metadata": {
  "anaconda-cloud": {},
  "kernelspec": {
   "display_name": "Python 3",
   "language": "python",
   "name": "python3"
  },
  "language_info": {
   "codemirror_mode": {
    "name": "ipython",
    "version": 3
   },
   "file_extension": ".py",
   "mimetype": "text/x-python",
   "name": "python",
   "nbconvert_exporter": "python",
   "pygments_lexer": "ipython3",
   "version": "3.7.0"
  }
 },
 "nbformat": 4,
 "nbformat_minor": 2
}
