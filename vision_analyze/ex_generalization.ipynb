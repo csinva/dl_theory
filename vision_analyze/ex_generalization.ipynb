{
 "cells": [
  {
   "cell_type": "code",
   "execution_count": 1,
   "metadata": {},
   "outputs": [],
   "source": [
    "import os\n",
    "from os.path import join as oj\n",
    "import sys, time\n",
    "sys.path.insert(1, oj(sys.path[0], '..'))  # insert parent path\n",
    "sys.path.insert(1, oj(sys.path[0], '..', 'vision_fit'))  # insert parent path\n",
    "import seaborn as sns\n",
    "import numpy as np\n",
    "import matplotlib.pyplot as plt\n",
    "\n",
    "from tqdm import tqdm\n",
    "from copy import deepcopy\n",
    "import pickle as pkl\n",
    "import pandas as pd\n",
    "import math\n",
    "# plt.style.use('dark_background')\n",
    "from mog_fit import data\n",
    "from collections import OrderedDict\n",
    "from sklearn import preprocessing\n",
    "\n",
    "import torch\n",
    "from torch.autograd import Variable\n",
    "from mog_analyze import viz\n",
    "from sklearn.decomposition import PCA\n",
    "\n",
    "import warnings\n",
    "warnings.filterwarnings(\"ignore\")\n",
    "\n",
    "from vision_fit import data\n",
    "import viz_weights\n",
    "from process_results import process_results\n",
    "\n",
    "%matplotlib inline\n",
    "%load_ext autoreload\n",
    "%autoreload 2\n",
    "\n",
    "import style\n",
    "cb = '#008fd5'\n",
    "cr = '#fc4f30'"
   ]
  },
  {
   "cell_type": "code",
   "execution_count": 2,
   "metadata": {},
   "outputs": [],
   "source": [
    "style.set_style()"
   ]
  },
  {
   "cell_type": "markdown",
   "metadata": {},
   "source": [
    "# load results from a directory"
   ]
  },
  {
   "cell_type": "code",
   "execution_count": 3,
   "metadata": {},
   "outputs": [
    {
     "name": "stderr",
     "output_type": "stream",
     "text": [
      "100%|██████████| 1306/1306 [00:16<00:00, 78.43it/s]\n"
     ]
    }
   ],
   "source": [
    "# depending on how much is saved, this may take a while\n",
    "out_dir = '/scratch/users/vision/yu_dl/raaz.rsk/track_acts/resweep_full_new'\n",
    "fnames = sorted([fname for fname in os.listdir(out_dir) \\\n",
    "                 if not fname.startswith('weights') \\\n",
    "                 and not fname.startswith('idx')])\n",
    "\n",
    "results_list = [pd.Series(pkl.load(open(oj(out_dir, fname), \"rb\"))) for fname in tqdm(fnames) \n",
    "                if not fname.startswith('weights') and not fname.startswith('idx')]\n",
    "results = pd.concat(results_list, axis=1).T.infer_objects()"
   ]
  },
  {
   "cell_type": "markdown",
   "metadata": {},
   "source": [
    "**add cols**"
   ]
  },
  {
   "cell_type": "code",
   "execution_count": 4,
   "metadata": {},
   "outputs": [
    {
     "name": "stdout",
     "output_type": "stream",
     "text": [
      "(1219, 84)\n"
     ]
    }
   ],
   "source": [
    "# adds these vec keys: fc0_fro, fc1_fro, fc0_stab_rank, fc1_stab_rank, act0_stab_rank, act1_stab_rank, corr0, corr1\n",
    "# adds these scalar keys: max_train_acc, max_test_acc, _final of all the above\n",
    "its, ts, results = process_results(results)\n",
    "print(results.shape)"
   ]
  },
  {
   "cell_type": "markdown",
   "metadata": {},
   "source": [
    "# plot max corrs\n",
    "*note some things disappear in below plot as a result of nans*"
   ]
  },
  {
   "cell_type": "code",
   "execution_count": null,
   "metadata": {},
   "outputs": [],
   "source": [
    "r = results\n",
    "sweep_params = ['lr', 'optimizer', 'num_layers', 'dset', 'batch_size', 'shuffle_labels', 'hidden_size']# wanna group by everything but seed\n",
    "\n",
    "r = r.groupby(sweep_params).mean().reset_index()\n",
    "r = r[r.shuffle_labels == False]\n",
    "r = r[r.num_layers == 4]\n",
    "hue = 'optimizer'\n",
    "cb = '#008fd5'\n",
    "cr = '#fc4f30'\n",
    "\n",
    "plt.figure(figsize=(7, 7))\n",
    "R, C = 2, 2\n",
    "rm = r[r.dset == 'mnist']\n",
    "plt.subplot(R, C, 1)\n",
    "plt.title('MNIST')\n",
    "sns.scatterplot(rm.max_test_acc, rm.corr0_final, alpha=0.5)\n",
    "plt.ylim(0, 1)\n",
    "plt.xlabel('Test accuracy')\n",
    "plt.ylabel('$\\\\rho_{mem}$ Final Layer 1')\n",
    "\n",
    "plt.subplot(R, C, 2)\n",
    "plt.title('MNIST')\n",
    "sns.scatterplot(rm.max_test_acc, rm.corr1_final, alpha=0.5)\n",
    "plt.ylim(0, 1)\n",
    "plt.xlabel('Test accuracy')\n",
    "plt.ylabel('$\\\\rho_{mem}$ Final Layer 2')\n",
    "\n",
    "\n",
    "rm = r[r.dset == 'cifar10']\n",
    "plt.subplot(R, C, 3)\n",
    "plt.title('CIFAR')\n",
    "sns.scatterplot(rm.max_test_acc, rm.corr0_final, alpha=0.5)\n",
    "plt.ylim(0, 1)\n",
    "plt.xlabel('Test accuracy')\n",
    "plt.ylabel('$\\\\rho_{mem}$ Final Layer 1')\n",
    "\n",
    "\n",
    "plt.subplot(R, C, 4)\n",
    "plt.title('CIFAR')\n",
    "sns.scatterplot(rm.max_test_acc, rm.corr1_final, alpha=0.5)\n",
    "plt.ylim(0, 1)\n",
    "plt.xlabel('Test accuracy')\n",
    "plt.ylabel('$\\\\rho_{mem}$ Final Layer 2')\n",
    "\n",
    "plt.tight_layout()\n",
    "plt.savefig('generalization.pdf')\n",
    "plt.show()"
   ]
  },
  {
   "cell_type": "code",
   "execution_count": null,
   "metadata": {},
   "outputs": [],
   "source": [
    "r = results\n",
    "r = r[r.shuffle_labels == False]\n",
    "# r1 = r[r.optimizer == 'adam']\n",
    "r = r[r.dset == 'cifar10']\n",
    "# r = r[r.max_test_acc >= 0.4]\n",
    "plt.plot(r.max_test_acc, r.max_train_acc - r.max_test_acc, 'o')\n",
    "# plt.plot(r1.max_train_acc, r1.max_test_acc, 'o')"
   ]
  },
  {
   "cell_type": "code",
   "execution_count": null,
   "metadata": {},
   "outputs": [],
   "source": []
  }
 ],
 "metadata": {
  "anaconda-cloud": {},
  "kernelspec": {
   "display_name": "Python 3",
   "language": "python",
   "name": "python3"
  },
  "language_info": {
   "codemirror_mode": {
    "name": "ipython",
    "version": 3
   },
   "file_extension": ".py",
   "mimetype": "text/x-python",
   "name": "python",
   "nbconvert_exporter": "python",
   "pygments_lexer": "ipython3",
   "version": "3.5.4"
  }
 },
 "nbformat": 4,
 "nbformat_minor": 2
}
