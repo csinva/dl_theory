{
 "cells": [
  {
   "cell_type": "code",
   "execution_count": null,
   "metadata": {},
   "outputs": [],
   "source": [
    "import os\n",
    "from os.path import join as oj\n",
    "import sys, time\n",
    "sys.path.insert(1, oj(sys.path[0], '..'))  # insert parent path\n",
    "import seaborn as sns\n",
    "import numpy as np\n",
    "import matplotlib.pyplot as plt\n",
    "from tqdm import tqdm\n",
    "from copy import deepcopy\n",
    "import pickle as pkl\n",
    "import pandas as pd\n",
    "import math\n",
    "# plt.style.use('dark_background')\n",
    "plt.style.use('seaborn-notebook')\n",
    "from data_load_preprocess import data\n",
    "from collections import OrderedDict\n",
    "from sklearn import preprocessing\n",
    "\n",
    "import torch\n",
    "from torch.autograd import Variable\n",
    "from viz import viz\n",
    "from sklearn.decomposition import PCA\n",
    "\n",
    "import warnings\n",
    "warnings.filterwarnings(\"ignore\")\n",
    "import viz_losses, viz_weights\n",
    "\n",
    "%load_ext autoreload\n",
    "%autoreload 2"
   ]
  },
  {
   "cell_type": "markdown",
   "metadata": {},
   "source": [
    "# load results from a directory"
   ]
  },
  {
   "cell_type": "code",
   "execution_count": null,
   "metadata": {},
   "outputs": [],
   "source": [
    "# ['mnist_conv_special', 'mnist_conv_lenet', 'cifar10_conv', 'cifar10_conv_special', 'cifar10_linear', 'mnist_linear', 'mnist_conv_lenet_old']\n",
    "out_dir_main = '/scratch/users/vision/yu_dl/raaz.rsk/freeze_train'\n",
    "print(os.listdir(out_dir_main))"
   ]
  },
  {
   "cell_type": "code",
   "execution_count": null,
   "metadata": {},
   "outputs": [],
   "source": [
    "folder = 'mnist_linear'\n",
    "out_dir = oj(out_dir_main, folder)\n",
    "fnames = sorted(os.listdir(out_dir))\n",
    "results_list = [pd.Series(pkl.load(open(oj(out_dir, fname), \"rb\"))) for fname in fnames if not fname.startswith('weights')]\n",
    "results_mnist = pd.concat(results_list, axis=1).T.infer_objects()\n",
    "\n",
    "\n",
    "folder = 'cifar10_linear'\n",
    "out_dir = oj(out_dir_main, folder)\n",
    "fnames = sorted(os.listdir(out_dir))\n",
    "results_list = [pd.Series(pkl.load(open(oj(out_dir, fname), \"rb\"))) for fname in fnames if not fname.startswith('weights')]\n",
    "results_cifar10 = pd.concat(results_list, axis=1).T.infer_objects()"
   ]
  },
  {
   "cell_type": "markdown",
   "metadata": {},
   "source": [
    "# plot over num layers"
   ]
  },
  {
   "cell_type": "code",
   "execution_count": null,
   "metadata": {},
   "outputs": [],
   "source": [
    "# print specials\n",
    "for folder in ['mnist_conv_special', 'cifar10_conv', 'mnist_conv_lenet', 'cifar10_conv_special']:\n",
    "    out_dir = oj(out_dir_main, folder)\n",
    "    fnames = sorted(os.listdir(out_dir))\n",
    "    results_list = [pd.Series(pkl.load(open(oj(out_dir, fname), \"rb\"))) for fname in fnames if not fname.startswith('weights')]\n",
    "    results = pd.concat(results_list, axis=1).T.infer_objects()\n",
    "    \n",
    "    results['accs_test_final'] = np.array([x[-1] for x in results.accs_test])\n",
    "    results['accs_train_final'] = np.array([x[-1] for x in results.accs_train])\n",
    "    results_grouped = results.groupby(['lr', 'optimizer']).mean().reset_index()\n",
    "    r = results_grouped[\"accs_test_final\"]\n",
    "    print(folder, f'test {np.max(r)}', 'train', np.max(results_grouped['accs_train_final']))\n",
    "#     print('variability: ', results_grouped[['lr', 'optimizer', 'accs_test_final', 'accs_train_final']])"
   ]
  },
  {
   "cell_type": "code",
   "execution_count": null,
   "metadata": {},
   "outputs": [],
   "source": [
    "plt.figure(facecolor='w', dpi=100)\n",
    "\n",
    "R, C = 2, 2\n",
    "cols = {0: 'cyan', 1: 'orange'} # 'freeze_all_but_first'\n",
    "markers = {0: 'o', 1: 'x'}\n",
    "# labels = {True: 'train first', False: 'train last'}\n",
    "\n",
    "plt.subplot(R, C, 1)\n",
    "labels = {x:x for x in set(results_mnist.hidden_size)}\n",
    "r = results_mnist[results_mnist['freeze_all_but_first'] == True]\n",
    "r['accs_test_final'] = np.array([x[-1] for x in r.accs_test])\n",
    "for i, (col_index, group) in enumerate(r.groupby(['hidden_size'])):\n",
    "    results_grouped = group.groupby(['use_num_hidden', 'lr']).mean().reset_index()\n",
    "#     results_grouped_std = group.groupby(['use_num_hidden', 'lr']).std().reset_index()\n",
    "    results_grouped = results_grouped.groupby('use_num_hidden').max().reset_index() # max over lr\n",
    "    plt.errorbar(results_grouped['use_num_hidden'] + 0.05 * np.random.randn(results_grouped['use_num_hidden'].size), \n",
    "                 results_grouped['accs_test_final'], \n",
    "             fmt=markers[i], markeredgewidth=1, linestyle='--', c=cols[i], alpha=0.8, \n",
    "             label=labels[col_index], yerr=0)\n",
    "\n",
    "plt.xlabel('num layers')    \n",
    "plt.ylabel('final test acc')\n",
    "plt.title('mnist')\n",
    "plt.ylim((0.85, 1.0))\n",
    "plt.xlim((.9, 4.1))\n",
    "plt.legend()    \n",
    "\n",
    "\n",
    "plt.subplot(R, C, 2)\n",
    "labels = {x:x for x in set(results_cifar10.hidden_size)}\n",
    "r = results_cifar10[results_cifar10['freeze_all_but_first'] == True]\n",
    "r['accs_test_final'] = np.array([x[-1] for x in r.accs_test])\n",
    "for i, (col_index, group) in enumerate(r.groupby(['hidden_size'])):\n",
    "    results_grouped = group.groupby(['use_num_hidden', 'lr']).mean().reset_index()\n",
    "#     results_grouped_std = group.groupby(['use_num_hidden', 'lr']).std().reset_index()\n",
    "    results_grouped = results_grouped.groupby('use_num_hidden').max().reset_index() # max over lr\n",
    "    plt.errorbar(results_grouped['use_num_hidden'] + 0.05 * np.random.randn(results_grouped['use_num_hidden'].size), \n",
    "                 results_grouped['accs_test_final'], \n",
    "             fmt=markers[i], markeredgewidth=1, linestyle='--', c=cols[i], alpha=0.8, \n",
    "             label=labels[col_index], yerr=0)\n",
    "\n",
    "plt.xlabel('num layers')    \n",
    "plt.title('cifar10')\n",
    "# plt.ylim((0.85, 1.0))\n",
    "plt.xlim((.9, 4.1))\n",
    "\n",
    "\n",
    "\n",
    "plt.subplot(R, C, 3)\n",
    "labels = {x:x for x in set(results_mnist.hidden_size)}\n",
    "r = results_mnist[results_mnist['freeze_all_but_first'] == True]\n",
    "r['accs_train_final'] = np.array([x[-1] for x in r.accs_train])\n",
    "for i, (col_index, group) in enumerate(r.groupby(['hidden_size'])):\n",
    "    results_grouped = group.groupby(['use_num_hidden', 'lr']).mean().reset_index()\n",
    "#     results_grouped_std = group.groupby(['use_num_hidden', 'lr']).std().reset_index()\n",
    "    results_grouped = results_grouped.groupby('use_num_hidden').max().reset_index() # max over lr\n",
    "    plt.errorbar(results_grouped['use_num_hidden'] + 0.05 * np.random.randn(results_grouped['use_num_hidden'].size), \n",
    "                 results_grouped['accs_train_final'], \n",
    "             fmt=markers[i], markeredgewidth=1, linestyle='--', c=cols[i], alpha=0.8, \n",
    "             label=labels[col_index], yerr=0)\n",
    "\n",
    "plt.xlabel('num layers')    \n",
    "plt.ylabel('final train acc')\n",
    "plt.ylim((0.85, 1.0))\n",
    "plt.xlim((.9, 4.1))\n",
    "\n",
    "\n",
    "plt.subplot(R, C, 4)\n",
    "labels = {x:x for x in set(results_cifar10.hidden_size)}\n",
    "r = results_cifar10[results_cifar10['freeze_all_but_first'] == True]\n",
    "r['accs_train_final'] = np.array([x[-1] for x in r.accs_train])\n",
    "for i, (col_index, group) in enumerate(r.groupby(['hidden_size'])):\n",
    "    results_grouped = group.groupby(['use_num_hidden', 'lr']).mean().reset_index()\n",
    "#     results_grouped_std = group.groupby(['use_num_hidden', 'lr']).std().reset_index()\n",
    "    results_grouped = results_grouped.groupby('use_num_hidden').max().reset_index() # max over lr\n",
    "    plt.errorbar(results_grouped['use_num_hidden'] + 0.05 * np.random.randn(results_grouped['use_num_hidden'].size), \n",
    "                 results_grouped['accs_train_final'], \n",
    "             fmt=markers[i], markeredgewidth=1, linestyle='--', c=cols[i], alpha=0.8, \n",
    "             label=labels[col_index], yerr=0)\n",
    "\n",
    "plt.xlabel('num layers')    \n",
    "# plt.ylim((0.85, 1.0))\n",
    "plt.xlim((.9, 4.1))\n",
    "plt.show()"
   ]
  },
  {
   "cell_type": "markdown",
   "metadata": {},
   "source": [
    "# look at the weights"
   ]
  },
  {
   "cell_type": "code",
   "execution_count": null,
   "metadata": {},
   "outputs": [],
   "source": [
    "# ['mnist_conv_special', 'mnist_conv_lenet', 'cifar10_conv', 'cifar10_conv_special', 'cifar10_linear', 'mnist_linear']"
   ]
  },
  {
   "cell_type": "markdown",
   "metadata": {},
   "source": [
    "**load weights**"
   ]
  },
  {
   "cell_type": "code",
   "execution_count": null,
   "metadata": {},
   "outputs": [],
   "source": [
    "folder = 'mnist_conv_special'\n",
    "out_dir = oj(out_dir_main, folder)\n",
    "fnames = sorted(os.listdir(out_dir))\n",
    "results_list = [pd.Series(pkl.load(open(oj(out_dir, fname), \"rb\"))) for fname in fnames if not fname.startswith('weights')]\n",
    "results = pd.concat(results_list, axis=1).T.infer_objects()\n",
    "\n",
    "weights_list = [pd.Series(pkl.load(open(oj(out_dir, fname), \"rb\"))) for fname in fnames if fname.startswith('weights')]\n",
    "results_weights = pd.concat(weights_list, axis=1).T.infer_objects()\n",
    "# results.head()\n",
    "# results_weights.dtypes"
   ]
  },
  {
   "cell_type": "code",
   "execution_count": null,
   "metadata": {},
   "outputs": [],
   "source": [
    "w_dict = results_weights['weights'][0]\n",
    "it = max(w_dict.keys())\n",
    "w = w_dict[it]['fc.0.weight']\n",
    "print(w.shape)\n",
    "viz_weights.plot_weights(w)"
   ]
  },
  {
   "cell_type": "code",
   "execution_count": null,
   "metadata": {},
   "outputs": [],
   "source": [
    "def save_final_weights(results_weights, results, out_dir='figs_special'):\n",
    "    for optimizer in set(results_weights.optimizer): # 'sgd', 'adam'\n",
    "        for lr in set(results_weights.lr): # lr 0.1, 0.01, 0.001\n",
    "            for num_hidden in set(results_weights.use_num_hidden):\n",
    "                try:\n",
    "                    runs = results_weights[results_weights.lr==lr]\n",
    "                    runs = runs[runs.optimizer==optimizer]\n",
    "                    run = runs.iloc[0]\n",
    "                    weight_dict = run.weights\n",
    "                    min_key, max_key = min(weight_dict.keys()), max(weight_dict.keys())\n",
    "                    weight_key = results.weight_names.iloc[0][0]\n",
    "                    w = weight_dict[max_key][weight_key]\n",
    "                    print(optimizer, lr, num_hidden)\n",
    "                    viz_weights.plot_weights(w, run.dset)\n",
    "                    plt.savefig(oj(out_dir, optimizer + '_' + 'lr=' + str(lr) + 'numh=' + str(num_hidden) + '.pdf'), \n",
    "                                   dpi=300, bbox_inches='tight')\n",
    "                except Exception as e: print('err', optimizer, lr, e)\n",
    "        \n",
    "save_final_weights(results_weights, results)"
   ]
  },
  {
   "cell_type": "code",
   "execution_count": null,
   "metadata": {},
   "outputs": [],
   "source": [
    "# note these norms were squared\n",
    "# calculated via np.linalg.norm(weight_dict[lay_name])**2\n",
    "viz_losses.plot_weight_norms_and_margin(results, out_dir='test')    "
   ]
  },
  {
   "cell_type": "code",
   "execution_count": null,
   "metadata": {},
   "outputs": [],
   "source": [
    "all_w = ['explained_var_dicts_pca', 'explained_var_dicts_rbf', 'explained_var_dicts_lap', 'explained_var_dicts_cosine']\n",
    "acts = ['act_var_dicts_train_pca', 'act_var_dicts_test_pca', 'act_var_dicts_train_rbf', 'act_var_dicts_test_rbf']\n",
    "viz_losses.plot_dims_flexible(results, out_dir='test', xlim=None, dim_types=all_w, figname='ws')\n",
    "# viz_losses.plot_dims(results, out_dir=save_dir, xlim=None, dim_types=all_w, figname='acts')    "
   ]
  },
  {
   "cell_type": "code",
   "execution_count": null,
   "metadata": {},
   "outputs": [],
   "source": [
    "viz_losses.plot_losses(results_mnist, out_dir=save_dir)"
   ]
  },
  {
   "cell_type": "markdown",
   "metadata": {},
   "source": [
    "just plot them all (this takes ~2 mins)"
   ]
  },
  {
   "cell_type": "code",
   "execution_count": null,
   "metadata": {},
   "outputs": [],
   "source": [
    "viz_weights.save_final_weights(results_weights, results, out_dir='.')"
   ]
  },
  {
   "cell_type": "code",
   "execution_count": null,
   "metadata": {},
   "outputs": [],
   "source": [
    "viz_weights.save_weight_evol(results_weights, out_dir='.')"
   ]
  }
 ],
 "metadata": {
  "kernelspec": {
   "display_name": "Python 3",
   "language": "python",
   "name": "python3"
  },
  "language_info": {
   "codemirror_mode": {
    "name": "ipython",
    "version": 3
   },
   "file_extension": ".py",
   "mimetype": "text/x-python",
   "name": "python",
   "nbconvert_exporter": "python",
   "pygments_lexer": "ipython3",
   "version": "3.5.4"
  }
 },
 "nbformat": 4,
 "nbformat_minor": 2
}
