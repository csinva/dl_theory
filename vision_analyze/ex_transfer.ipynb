{
 "cells": [
  {
   "cell_type": "code",
   "execution_count": 177,
   "metadata": {},
   "outputs": [
    {
     "name": "stdout",
     "output_type": "stream",
     "text": [
      "[master aa7bbf9] pushing updated transfer nb\n",
      " 1 file changed, 1523 insertions(+), 538 deletions(-)\n",
      " rewrite vision_analyze/ex_transfer.ipynb (92%)\n"
     ]
    }
   ],
   "source": [
    "!git commit -m 'pushing updated transfer nb'\n"
   ]
  },
  {
   "cell_type": "code",
   "execution_count": 178,
   "metadata": {},
   "outputs": [
    {
     "name": "stdout",
     "output_type": "stream",
     "text": [
      "remote: Enumerating objects: 38, done.\u001b[K\n",
      "remote: Counting objects: 100% (29/29), done.\u001b[K\n",
      "remote: Compressing objects: 100% (4/4), done.\u001b[K\n",
      "remote: Total 18 (delta 14), reused 18 (delta 14), pack-reused 0\u001b[K\n",
      "Unpacking objects: 100% (18/18), done.\n",
      "From github.com:csinva/dl_theory\n",
      "   b6ffb32..89a4888  master     -> origin/master\n",
      "\u001b[20A"
     ]
    }
   ],
   "source": [
    "!git pull"
   ]
  },
  {
   "cell_type": "code",
   "execution_count": 175,
   "metadata": {},
   "outputs": [],
   "source": [
    "!git add  ex_transfer.ipynb"
   ]
  },
  {
   "cell_type": "code",
   "execution_count": 176,
   "metadata": {},
   "outputs": [],
   "source": [
    "!git checkout ex_weights.ipynb"
   ]
  },
  {
   "cell_type": "code",
   "execution_count": 1,
   "metadata": {},
   "outputs": [],
   "source": [
    "import os\n",
    "from os.path import join as oj\n",
    "import sys, time\n",
    "sys.path.insert(1, oj(sys.path[0], '..'))  # insert parent path\n",
    "sys.path.insert(1, oj(sys.path[0], '..', 'vision_fit'))  # insert parent path\n",
    "import seaborn as sns\n",
    "import numpy as np\n",
    "import matplotlib.pyplot as plt\n",
    "\n",
    "from tqdm import tqdm\n",
    "from copy import deepcopy\n",
    "import pickle as pkl\n",
    "import pandas as pd\n",
    "import math\n",
    "# plt.style.use('dark_background')\n",
    "from mog_fit import data\n",
    "from collections import OrderedDict\n",
    "from sklearn import preprocessing\n",
    "\n",
    "import torch\n",
    "from torch.autograd import Variable\n",
    "from mog_analyze import viz\n",
    "from sklearn.decomposition import PCA\n",
    "\n",
    "import warnings\n",
    "warnings.filterwarnings(\"ignore\")\n",
    "\n",
    "from vision_fit import data\n",
    "import viz_weights\n",
    "from process_results import process_results\n",
    "\n",
    "%matplotlib inline\n",
    "%load_ext autoreload\n",
    "%autoreload 2\n",
    "\n",
    "import style\n",
    "cb = '#008fd5'\n",
    "cr = '#fc4f30'"
   ]
  },
  {
   "cell_type": "code",
   "execution_count": 2,
   "metadata": {},
   "outputs": [],
   "source": [
    "style.set_style()"
   ]
  },
  {
   "cell_type": "markdown",
   "metadata": {},
   "source": [
    "# load results from a directory"
   ]
  },
  {
   "cell_type": "code",
   "execution_count": 3,
   "metadata": {},
   "outputs": [
    {
     "name": "stderr",
     "output_type": "stream",
     "text": [
      "100%|██████████| 48/48 [00:00<00:00, 60.79it/s]\n"
     ]
    }
   ],
   "source": [
    "# depending on how much is saved, this may take a while\n",
    "# out_dir = '/scratch/users/vision/yu_dl/raaz.rsk/simple_dsets/mnist_5_5'\n",
    "# out_dir = '/scratch/users/vision/yu_dl/raaz.rsk/simple_dsets/mnist_5_5_flip'\n",
    "# out_dir = '/scratch/users/vision/yu_dl/raaz.rsk/simple_dsets/cifar10_5_5_flip'\n",
    "out_dir = '/scratch/users/vision/yu_dl/raaz.rsk/simple_dsets/all_flips'\n",
    "out_dir = '/scratch/users/vision/yu_dl/raaz.rsk/simple_dsets/all_flips_big'\n",
    "fnames = sorted([fname for fname in os.listdir(out_dir) \\\n",
    "                 if not fname.startswith('weights') \\\n",
    "                 and not fname.startswith('idx')])\n",
    "#                  if not 'mnist' in fname and \n",
    "#                  'numlays=4' in fname and \n",
    "#                  'batchsize=100' in fname and not 'batchsize=1000' in fname])\n",
    "#                   and \n",
    "#                  'numlays=4' in fname]) # and \n",
    "#                  'batchsize=100' in fname and \n",
    "#                  not 'batchsize=1000' in fname])\n",
    "# weights_list = [pd.Series(pkl.load(open(oj(out_dir, fname), \"rb\"))) for fname in tqdm(fnames) \n",
    "#                 if fname.startswith('weights')]\n",
    "# results_weights = pd.concat(weights_list, axis=1).T.infer_objects()\n",
    "\n",
    "results_list = [pd.Series(pkl.load(open(oj(out_dir, fname), \"rb\"))) for fname in tqdm(fnames) \n",
    "                if not fname.startswith('weights') and not fname.startswith('idx')]\n",
    "results = pd.concat(results_list, axis=1).T.infer_objects()"
   ]
  },
  {
   "cell_type": "markdown",
   "metadata": {},
   "source": [
    "**add cols**"
   ]
  },
  {
   "cell_type": "code",
   "execution_count": 4,
   "metadata": {},
   "outputs": [],
   "source": [
    "# results.keys()"
   ]
  },
  {
   "cell_type": "code",
   "execution_count": 5,
   "metadata": {},
   "outputs": [
    {
     "name": "stdout",
     "output_type": "stream",
     "text": [
      "(38, 88)\n"
     ]
    }
   ],
   "source": [
    "# adds these vec keys: fc0_fro, fc1_fro, fc0_stab_rank, fc1_stab_rank, act0_stab_rank, act1_stab_rank, corr0, corr1\n",
    "# adds these scalar keys: max_train_acc, max_test_acc, _final of all the above\n",
    "its, ts, results = process_results(results)\n",
    "print(results.shape)"
   ]
  },
  {
   "cell_type": "code",
   "execution_count": 6,
   "metadata": {},
   "outputs": [
    {
     "data": {
      "text/plain": [
       "[<matplotlib.lines.Line2D at 0x7fe911e27e10>]"
      ]
     },
     "execution_count": 6,
     "metadata": {},
     "output_type": "execute_result"
    },
    {
     "data": {
      "image/png": "[encoded data removed]",
      "text/plain": [
       "<Figure size 432x288 with 1 Axes>"
      ]
     },
     "metadata": {},
     "output_type": "display_data"
    }
   ],
   "source": [
    "plt.plot(its, results['accs_train'][43])\n",
    "plt.plot(ts, results['corr0'][43])"
   ]
  },
  {
   "cell_type": "code",
   "execution_count": 9,
   "metadata": {},
   "outputs": [
    {
     "data": {
      "text/plain": [
       "<matplotlib.legend.Legend at 0x7fe911c212e8>"
      ]
     },
     "execution_count": 9,
     "metadata": {},
     "output_type": "execute_result"
    },
    {
     "data": {
      "image/png": "[encoded data removed]",
      "text/plain": [
       "<Figure size 432x288 with 1 Axes>"
      ]
     },
     "metadata": {},
     "output_type": "display_data"
    }
   ],
   "source": [
    "plt.plot(its, results.margin_unn_train[1], label='train margin')\n",
    "plt.plot(its, results.confidence_unn_train[1], linestyle='--', label='train conf')\n",
    "\n",
    "plt.plot(its, np.abs(results.margin_unn_test[1]), label='test margin')\n",
    "plt.plot(its, results.confidence_unn_test[1], linestyle='--', label='test conf')\n",
    "\n",
    "plt.legend()"
   ]
  },
  {
   "cell_type": "code",
   "execution_count": 10,
   "metadata": {},
   "outputs": [],
   "source": [
    "idxs = results.index\n",
    "mid_idx = 30\n",
    "results['mid_train_acc'] = np.array([results.accs_train[i][mid_idx] for i in idxs]) \n",
    "results['mid_train_margin'] = np.array([results.margin_norm_train[i][mid_idx] for i in idxs]) \n",
    "results['mid_train_margin_unn'] = np.array([results.margin_unn_train[i][mid_idx] for i in idxs]) \n",
    "results['mid_test_margin'] = np.array([results.margin_norm_test[i][mid_idx] for i in idxs]) \n",
    "results['mid_test_margin_unn'] = np.array([results.margin_unn_test[i][mid_idx] for i in idxs]) \n",
    "results['mid_train_confidence_unn'] = np.array([results.confidence_unn_train[i][mid_idx] for i in idxs]) \n",
    "results['mid_test_confidence_unn'] = np.array([results.confidence_unn_test[i][mid_idx] for i in idxs]) \n",
    "\n",
    "\n",
    "\n",
    "results['final_train_acc'] = np.array([results.accs_train[i][-1] for i in idxs]) \n",
    "results['final_test_acc'] = np.array([results.accs_test[i][-1] for i in idxs]) \n",
    "results['final_train_margin'] = np.array([results.margin_norm_train[i][-1] for i in idxs]) \n",
    "results['final_train_margin_unn'] = np.array([results.margin_unn_train[i][-1] for i in idxs]) \n",
    "results['final_test_margin'] = np.array([results.margin_norm_test[i][-1] for i in idxs]) \n",
    "results['final_test_margin_unn'] = np.array([results.margin_unn_test[i][-1] for i in idxs]) \n",
    "results['final_train_confidence_unn'] = np.array([results.confidence_unn_train[i][-1] for i in idxs]) \n",
    "results['final_test_confidence_unn'] = np.array([results.confidence_unn_test[i][-1] for i in idxs]) \n",
    "\n",
    "results['mid_corr0'] = np.array([results.corr0[i][8] for i in idxs]) "
   ]
  },
  {
   "cell_type": "code",
   "execution_count": 12,
   "metadata": {},
   "outputs": [],
   "source": [
    "sweep_params = ['num_layers', 'optimizer', 'lr', 'dset']# wanna group by everything but seed\n",
    "r = results\n",
    "r_mu = r.groupby(sweep_params).mean()\n",
    "# r_std = r.groupby(sweep_params).std()"
   ]
  },
  {
   "cell_type": "code",
   "execution_count": 13,
   "metadata": {},
   "outputs": [
    {
     "data": {
      "text/plain": [
       "Text(0.5,0,'Final test margin/ Test Confidence just before flip')"
      ]
     },
     "execution_count": 13,
     "metadata": {},
     "output_type": "execute_result"
    },
    {
     "data": {
      "image/png": "[encoded data removed]",
      "text/plain": [
       "<Figure size 432x288 with 1 Axes>"
      ]
     },
     "metadata": {},
     "output_type": "display_data"
    }
   ],
   "source": [
    "plt.scatter(\n",
    "    r_mu['final_test_margin_unn']\n",
    "           -\n",
    "    r_mu['mid_test_confidence_unn']\n",
    "             , \n",
    "#            r_mu.corr0_final,\n",
    "    r_mu.mid_corr0\n",
    ")\n",
    "plt.ylabel('Corr0 before flip')\n",
    "plt.xlabel('Final test margin/ Test Confidence just before flip')"
   ]
  },
  {
   "cell_type": "markdown",
   "metadata": {},
   "source": [
    "# Visualize first layer of these 12 networks or at least a few good/bad ones.."
   ]
  },
  {
   "cell_type": "code",
   "execution_count": 14,
   "metadata": {},
   "outputs": [],
   "source": [
    "fnames = sorted([oj(out_dir, fname) for fname in os.listdir(out_dir)])\n",
    "# weights\n",
    "fnames_w = [fname for fname in fnames if 'weights' in fname]\n",
    "results_list = [pd.Series(pkl.load(open(fname, \"rb\"))) for fname in fnames_w]\n",
    "rw = pd.concat(results_list, axis=1).T.infer_objects()"
   ]
  },
  {
   "cell_type": "code",
   "execution_count": 147,
   "metadata": {},
   "outputs": [
    {
     "data": {
      "text/html": [
       "<div>\n",
       "<style scoped>\n",
       "    .dataframe tbody tr th:only-of-type {\n",
       "        vertical-align: middle;\n",
       "    }\n",
       "\n",
       "    .dataframe tbody tr th {\n",
       "        vertical-align: top;\n",
       "    }\n",
       "\n",
       "    .dataframe thead th {\n",
       "        text-align: right;\n",
       "    }\n",
       "</style>\n",
       "<table border=\"1\" class=\"dataframe\">\n",
       "  <thead>\n",
       "    <tr style=\"text-align: right;\">\n",
       "      <th></th>\n",
       "      <th>dset</th>\n",
       "      <th>lr</th>\n",
       "      <th>optimizer</th>\n",
       "      <th>num_layers</th>\n",
       "      <th>hidden_size</th>\n",
       "      <th>mid_train_confidence_unn</th>\n",
       "      <th>mid_train_acc</th>\n",
       "      <th>final_train_acc</th>\n",
       "      <th>final_test_acc</th>\n",
       "      <th>corr0_final</th>\n",
       "    </tr>\n",
       "  </thead>\n",
       "  <tbody>\n",
       "    <tr>\n",
       "      <th>1</th>\n",
       "      <td>cifar10_5_5_flip</td>\n",
       "      <td>0.100</td>\n",
       "      <td>adam</td>\n",
       "      <td>4</td>\n",
       "      <td>128</td>\n",
       "      <td>3.903528</td>\n",
       "      <td>0.88004</td>\n",
       "      <td>0.97064</td>\n",
       "      <td>0.7090</td>\n",
       "      <td>0.275012</td>\n",
       "    </tr>\n",
       "    <tr>\n",
       "      <th>41</th>\n",
       "      <td>cifar10_5_5_flip</td>\n",
       "      <td>1.000</td>\n",
       "      <td>adam</td>\n",
       "      <td>4</td>\n",
       "      <td>128</td>\n",
       "      <td>3.978291</td>\n",
       "      <td>0.86772</td>\n",
       "      <td>0.97024</td>\n",
       "      <td>0.7170</td>\n",
       "      <td>0.278112</td>\n",
       "    </tr>\n",
       "    <tr>\n",
       "      <th>38</th>\n",
       "      <td>cifar10_5_5_flip</td>\n",
       "      <td>0.100</td>\n",
       "      <td>adam</td>\n",
       "      <td>4</td>\n",
       "      <td>128</td>\n",
       "      <td>4.091345</td>\n",
       "      <td>0.89468</td>\n",
       "      <td>0.97036</td>\n",
       "      <td>0.7194</td>\n",
       "      <td>0.273102</td>\n",
       "    </tr>\n",
       "    <tr>\n",
       "      <th>32</th>\n",
       "      <td>cifar10_5_5_flip</td>\n",
       "      <td>1.000</td>\n",
       "      <td>adam</td>\n",
       "      <td>4</td>\n",
       "      <td>128</td>\n",
       "      <td>3.856310</td>\n",
       "      <td>0.87860</td>\n",
       "      <td>0.97440</td>\n",
       "      <td>0.7218</td>\n",
       "      <td>0.279358</td>\n",
       "    </tr>\n",
       "    <tr>\n",
       "      <th>43</th>\n",
       "      <td>cifar10_5_5_flip</td>\n",
       "      <td>1.000</td>\n",
       "      <td>adam</td>\n",
       "      <td>4</td>\n",
       "      <td>1024</td>\n",
       "      <td>6.920992</td>\n",
       "      <td>0.94580</td>\n",
       "      <td>0.99372</td>\n",
       "      <td>0.7472</td>\n",
       "      <td>0.339330</td>\n",
       "    </tr>\n",
       "    <tr>\n",
       "      <th>26</th>\n",
       "      <td>cifar10_5_5_flip</td>\n",
       "      <td>0.100</td>\n",
       "      <td>adam</td>\n",
       "      <td>4</td>\n",
       "      <td>1024</td>\n",
       "      <td>7.651115</td>\n",
       "      <td>0.94880</td>\n",
       "      <td>0.99684</td>\n",
       "      <td>0.7474</td>\n",
       "      <td>0.341649</td>\n",
       "    </tr>\n",
       "    <tr>\n",
       "      <th>37</th>\n",
       "      <td>cifar10_5_5_flip</td>\n",
       "      <td>1.000</td>\n",
       "      <td>adam</td>\n",
       "      <td>4</td>\n",
       "      <td>1024</td>\n",
       "      <td>6.606058</td>\n",
       "      <td>0.93148</td>\n",
       "      <td>0.99320</td>\n",
       "      <td>0.7526</td>\n",
       "      <td>0.340663</td>\n",
       "    </tr>\n",
       "    <tr>\n",
       "      <th>3</th>\n",
       "      <td>cifar10_5_5_flip</td>\n",
       "      <td>0.001</td>\n",
       "      <td>sgd</td>\n",
       "      <td>4</td>\n",
       "      <td>1024</td>\n",
       "      <td>0.051839</td>\n",
       "      <td>0.43440</td>\n",
       "      <td>0.43664</td>\n",
       "      <td>0.4412</td>\n",
       "      <td>0.070535</td>\n",
       "    </tr>\n",
       "    <tr>\n",
       "      <th>47</th>\n",
       "      <td>cifar10_5_5_flip</td>\n",
       "      <td>0.001</td>\n",
       "      <td>sgd</td>\n",
       "      <td>4</td>\n",
       "      <td>1024</td>\n",
       "      <td>0.065139</td>\n",
       "      <td>0.40840</td>\n",
       "      <td>0.45096</td>\n",
       "      <td>0.4504</td>\n",
       "      <td>0.070219</td>\n",
       "    </tr>\n",
       "    <tr>\n",
       "      <th>44</th>\n",
       "      <td>cifar10_5_5_flip</td>\n",
       "      <td>0.001</td>\n",
       "      <td>sgd</td>\n",
       "      <td>4</td>\n",
       "      <td>128</td>\n",
       "      <td>0.108003</td>\n",
       "      <td>0.47892</td>\n",
       "      <td>0.48368</td>\n",
       "      <td>0.4830</td>\n",
       "      <td>0.083866</td>\n",
       "    </tr>\n",
       "    <tr>\n",
       "      <th>21</th>\n",
       "      <td>cifar10_5_5_flip</td>\n",
       "      <td>0.001</td>\n",
       "      <td>sgd</td>\n",
       "      <td>4</td>\n",
       "      <td>128</td>\n",
       "      <td>0.061606</td>\n",
       "      <td>0.50436</td>\n",
       "      <td>0.48644</td>\n",
       "      <td>0.4864</td>\n",
       "      <td>0.084535</td>\n",
       "    </tr>\n",
       "    <tr>\n",
       "      <th>19</th>\n",
       "      <td>cifar10_5_5_flip</td>\n",
       "      <td>1.000</td>\n",
       "      <td>sgd</td>\n",
       "      <td>4</td>\n",
       "      <td>128</td>\n",
       "      <td>3.291845</td>\n",
       "      <td>0.89584</td>\n",
       "      <td>0.96916</td>\n",
       "      <td>0.7262</td>\n",
       "      <td>0.286575</td>\n",
       "    </tr>\n",
       "    <tr>\n",
       "      <th>45</th>\n",
       "      <td>cifar10_5_5_flip</td>\n",
       "      <td>1.000</td>\n",
       "      <td>sgd</td>\n",
       "      <td>4</td>\n",
       "      <td>128</td>\n",
       "      <td>3.075524</td>\n",
       "      <td>0.81200</td>\n",
       "      <td>0.96208</td>\n",
       "      <td>0.7310</td>\n",
       "      <td>0.284105</td>\n",
       "    </tr>\n",
       "    <tr>\n",
       "      <th>5</th>\n",
       "      <td>cifar10_5_5_flip</td>\n",
       "      <td>1.000</td>\n",
       "      <td>sgd</td>\n",
       "      <td>4</td>\n",
       "      <td>1024</td>\n",
       "      <td>4.520866</td>\n",
       "      <td>0.94460</td>\n",
       "      <td>1.00000</td>\n",
       "      <td>0.7670</td>\n",
       "      <td>0.324515</td>\n",
       "    </tr>\n",
       "    <tr>\n",
       "      <th>35</th>\n",
       "      <td>cifar10_5_5_flip</td>\n",
       "      <td>0.100</td>\n",
       "      <td>sgd</td>\n",
       "      <td>4</td>\n",
       "      <td>1024</td>\n",
       "      <td>3.641521</td>\n",
       "      <td>0.92312</td>\n",
       "      <td>0.99840</td>\n",
       "      <td>0.7670</td>\n",
       "      <td>0.227464</td>\n",
       "    </tr>\n",
       "    <tr>\n",
       "      <th>17</th>\n",
       "      <td>cifar10_5_5_flip</td>\n",
       "      <td>1.000</td>\n",
       "      <td>sgd</td>\n",
       "      <td>4</td>\n",
       "      <td>1024</td>\n",
       "      <td>4.660789</td>\n",
       "      <td>0.92448</td>\n",
       "      <td>1.00000</td>\n",
       "      <td>0.7678</td>\n",
       "      <td>0.322504</td>\n",
       "    </tr>\n",
       "    <tr>\n",
       "      <th>30</th>\n",
       "      <td>cifar10_5_5_flip</td>\n",
       "      <td>0.100</td>\n",
       "      <td>sgd</td>\n",
       "      <td>4</td>\n",
       "      <td>1024</td>\n",
       "      <td>3.422546</td>\n",
       "      <td>0.93492</td>\n",
       "      <td>0.99952</td>\n",
       "      <td>0.7702</td>\n",
       "      <td>0.228049</td>\n",
       "    </tr>\n",
       "  </tbody>\n",
       "</table>\n",
       "</div>"
      ],
      "text/plain": [
       "                dset     lr optimizer  num_layers  hidden_size  \\\n",
       "1   cifar10_5_5_flip  0.100      adam           4          128   \n",
       "41  cifar10_5_5_flip  1.000      adam           4          128   \n",
       "38  cifar10_5_5_flip  0.100      adam           4          128   \n",
       "32  cifar10_5_5_flip  1.000      adam           4          128   \n",
       "43  cifar10_5_5_flip  1.000      adam           4         1024   \n",
       "26  cifar10_5_5_flip  0.100      adam           4         1024   \n",
       "37  cifar10_5_5_flip  1.000      adam           4         1024   \n",
       "3   cifar10_5_5_flip  0.001       sgd           4         1024   \n",
       "47  cifar10_5_5_flip  0.001       sgd           4         1024   \n",
       "44  cifar10_5_5_flip  0.001       sgd           4          128   \n",
       "21  cifar10_5_5_flip  0.001       sgd           4          128   \n",
       "19  cifar10_5_5_flip  1.000       sgd           4          128   \n",
       "45  cifar10_5_5_flip  1.000       sgd           4          128   \n",
       "5   cifar10_5_5_flip  1.000       sgd           4         1024   \n",
       "35  cifar10_5_5_flip  0.100       sgd           4         1024   \n",
       "17  cifar10_5_5_flip  1.000       sgd           4         1024   \n",
       "30  cifar10_5_5_flip  0.100       sgd           4         1024   \n",
       "\n",
       "    mid_train_confidence_unn  mid_train_acc  final_train_acc  final_test_acc  \\\n",
       "1                   3.903528        0.88004          0.97064          0.7090   \n",
       "41                  3.978291        0.86772          0.97024          0.7170   \n",
       "38                  4.091345        0.89468          0.97036          0.7194   \n",
       "32                  3.856310        0.87860          0.97440          0.7218   \n",
       "43                  6.920992        0.94580          0.99372          0.7472   \n",
       "26                  7.651115        0.94880          0.99684          0.7474   \n",
       "37                  6.606058        0.93148          0.99320          0.7526   \n",
       "3                   0.051839        0.43440          0.43664          0.4412   \n",
       "47                  0.065139        0.40840          0.45096          0.4504   \n",
       "44                  0.108003        0.47892          0.48368          0.4830   \n",
       "21                  0.061606        0.50436          0.48644          0.4864   \n",
       "19                  3.291845        0.89584          0.96916          0.7262   \n",
       "45                  3.075524        0.81200          0.96208          0.7310   \n",
       "5                   4.520866        0.94460          1.00000          0.7670   \n",
       "35                  3.641521        0.92312          0.99840          0.7670   \n",
       "17                  4.660789        0.92448          1.00000          0.7678   \n",
       "30                  3.422546        0.93492          0.99952          0.7702   \n",
       "\n",
       "    corr0_final  \n",
       "1      0.275012  \n",
       "41     0.278112  \n",
       "38     0.273102  \n",
       "32     0.279358  \n",
       "43     0.339330  \n",
       "26     0.341649  \n",
       "37     0.340663  \n",
       "3      0.070535  \n",
       "47     0.070219  \n",
       "44     0.083866  \n",
       "21     0.084535  \n",
       "19     0.286575  \n",
       "45     0.284105  \n",
       "5      0.324515  \n",
       "35     0.227464  \n",
       "17     0.322504  \n",
       "30     0.228049  "
      ]
     },
     "execution_count": 147,
     "metadata": {},
     "output_type": "execute_result"
    }
   ],
   "source": [
    "results[['dset','lr', 'optimizer', 'num_layers', \n",
    "         'hidden_size','mid_train_confidence_unn',\n",
    "         'mid_train_acc','final_train_acc', 'final_test_acc',\n",
    "          'corr0_final']][(results['num_layers']==4)\n",
    "                                                    &(results['dset']!='mnist_5_5_flip')].sort_values(\n",
    "    by=['optimizer','final_test_acc'])"
   ]
  },
  {
   "cell_type": "code",
   "execution_count": 155,
   "metadata": {},
   "outputs": [],
   "source": [
    "idxs = [43, 5]\n",
    "idxs = [32, 45]\n",
    "dsets = ['cifar10', 'cifar10']\n",
    "\n",
    "idxs = [25, 14]\n",
    "dsets = ['mnist', 'mnist']"
   ]
  },
  {
   "cell_type": "code",
   "execution_count": 156,
   "metadata": {},
   "outputs": [
    {
     "data": {
      "image/png": "[encoded data removed]",
      "text/plain": [
       "<Figure size 432x288 with 1 Axes>"
      ]
     },
     "metadata": {},
     "output_type": "display_data"
    },
    {
     "data": {
      "image/png": "[encoded data removed]",
      "text/plain": [
       "<Figure size 432x288 with 1 Axes>"
      ]
     },
     "metadata": {},
     "output_type": "display_data"
    }
   ],
   "source": [
    "plt.plot(np.linalg.norm(rw.weights[idxs[0]][51]['fc.0.weight']-rw.weights[idxs[0]][22]['fc.0.weight'], axis=1),\n",
    "#         bins=100\n",
    "        )\n",
    "plt.title(results.optimizer[idxs[0]])\n",
    "plt.show()\n",
    "plt.plot(np.linalg.norm(rw.weights[idxs[1]][51]['fc.0.weight']-rw.weights[idxs[1]][22]['fc.0.weight'], axis=1),\n",
    "#         bins=100\n",
    "        )\n",
    "plt.title(results.optimizer[idxs[1]])\n",
    "plt.show()\n",
    "\n"
   ]
  },
  {
   "cell_type": "code",
   "execution_count": 157,
   "metadata": {},
   "outputs": [
    {
     "name": "stdout",
     "output_type": "stream",
     "text": [
      "85\n"
     ]
    },
    {
     "data": {
      "text/plain": [
       "3"
      ]
     },
     "execution_count": 157,
     "metadata": {},
     "output_type": "execute_result"
    }
   ],
   "source": [
    "print(sum(np.linalg.norm(rw.weights[idxs[0]][51]['fc.0.weight']-\n",
    "                          rw.weights[idxs[0]][32]['fc.0.weight'], axis=1)==0))\n",
    "sum(np.linalg.norm(rw.weights[idxs[1]][51]['fc.0.weight']-\n",
    "                          rw.weights[idxs[1]][32]['fc.0.weight'], axis=1)==0)"
   ]
  },
  {
   "cell_type": "code",
   "execution_count": 158,
   "metadata": {},
   "outputs": [
    {
     "data": {
      "image/png": "[encoded data removed]",
      "text/plain": [
       "<Figure size 432x288 with 2 Axes>"
      ]
     },
     "metadata": {},
     "output_type": "display_data"
    },
    {
     "data": {
      "text/plain": [
       "<matplotlib.colorbar.Colorbar at 0x7fe905521be0>"
      ]
     },
     "execution_count": 158,
     "metadata": {},
     "output_type": "execute_result"
    },
    {
     "data": {
      "image/png": "[encoded data removed]",
      "text/plain": [
       "<Figure size 432x288 with 2 Axes>"
      ]
     },
     "metadata": {},
     "output_type": "display_data"
    }
   ],
   "source": [
    "plt.imshow(np.linalg.norm(rw.weights[idxs[0]][51]['fc.0.weight']-\n",
    "                          rw.weights[idxs[0]][22]['fc.0.weight'], axis=1).reshape(-1, 32),\n",
    "           \n",
    "          cmap='gray')\n",
    "plt.colorbar()\n",
    "plt.show()\n",
    "plt.imshow(np.linalg.norm(rw.weights[idxs[1]][51]['fc.0.weight']-\n",
    "                          rw.weights[idxs[1]][22]['fc.0.weight'], axis=1).reshape(-1, 32),\n",
    "          cmap='gray')\n",
    "plt.colorbar()"
   ]
  },
  {
   "cell_type": "code",
   "execution_count": 173,
   "metadata": {},
   "outputs": [],
   "source": [
    "idx = idxs[0]\n",
    "dset = dsets[0]\n",
    "# viz_weights.plot_weights(rw.weights[idx][22]['fc.0.weight'], dset=dset)\n",
    "# plt.savefig('adam_128_5.pdf', bbox_inches = 'tight', pad_inches = 0)\n",
    "# viz_weights.plot_weights(rw.weights[idx][51]['fc.0.weight'], dset=dset)\n",
    "\n",
    "# viz_weights.plot_weights(rw.weights[idx][51]['fc.0.weight']-rw.weights[idx][32]['fc.0.weight'], dset=dset)\n",
    "# plt.savefig('adam_difference.pdf', bbox_inches = 'tight', pad_inches = 0)"
   ]
  },
  {
   "cell_type": "code",
   "execution_count": 170,
   "metadata": {},
   "outputs": [],
   "source": [
    "idx = idxs[1]\n",
    "dset = dsets[1]\n",
    "\n",
    "# viz_weights.plot_weights(rw.weights[idx][22]['fc.0.weight'], dset=dset)\n",
    "# plt.savefig('sgd_128_5.pdf', bbox_inches = 'tight', pad_inches = 0)\n",
    "# viz_weights.plot_weights(rw.weights[idx][51]['fc.0.weight'], dset=dset)\n",
    "# viz_weights.plot_weights(rw.weights[idx][51]['fc.0.weight']-rw.weights[idx][32]['fc.0.weight'], dset=dset)\n",
    "# plt.tight_layout()\n",
    "# plt.savefig('sgd_difference.pdf', bbox_inches = 'tight', pad_inches = 0)"
   ]
  },
  {
   "cell_type": "code",
   "execution_count": 172,
   "metadata": {},
   "outputs": [],
   "source": [
    "# viz_weights.plot_weights(rw.weights[idxs[0]][51]['fc.0.weight'][24:40]\n",
    "#                          -rw.weights[idxs[0]][32]['fc.0.weight'][24:40], dset)\n",
    "# viz_weights.plot_weights(rw.weights[idxs[1]][51]['fc.0.weight'][24:40]\n",
    "#                          -rw.weights[idxs[1]][32]['fc.0.weight'][24:40], dset)"
   ]
  },
  {
   "cell_type": "code",
   "execution_count": 101,
   "metadata": {},
   "outputs": [],
   "source": [
    "# plt.imshow(rw.weights[idx][51]['fc.0.weight'][24].reshape(28, 28), cmap='gray')\n",
    "# plt.grid(False)"
   ]
  },
  {
   "cell_type": "markdown",
   "metadata": {},
   "source": [
    "# Linear Span"
   ]
  },
  {
   "cell_type": "code",
   "execution_count": 301,
   "metadata": {},
   "outputs": [
    {
     "data": {
      "text/plain": [
       "(0.4438695, 0.37530208)"
      ]
     },
     "execution_count": 301,
     "metadata": {},
     "output_type": "execute_result"
    }
   ],
   "source": [
    "'/scratch/users/vision/yu_dl/raaz.rsk/simple_dsets/freeze_transfer'"
   ]
  },
  {
   "cell_type": "code",
   "execution_count": 122,
   "metadata": {},
   "outputs": [],
   "source": [
    "import numpy as np\n",
    "import os\n",
    "import torch\n",
    "import torch.nn as nn\n",
    "from torch.autograd import Variable\n",
    "import torchvision.datasets as dset\n",
    "import torchvision.transforms as transforms\n",
    "import torch.nn.functional as F\n",
    "import torch.optim as optim\n",
    "import torchvision\n",
    "from os.path import join as oj\n",
    "import sys\n",
    "import numpy as np\n",
    "import models\n",
    "import random\n",
    "import time\n",
    "import numpy.linalg as npl\n",
    "from numpy.linalg import norm as norm\n",
    "from numpy.linalg import inv as inv"
   ]
  },
  {
   "cell_type": "code",
   "execution_count": 123,
   "metadata": {},
   "outputs": [],
   "source": [
    "def relu(x):\n",
    "    return np.maximum(0, x)\n",
    "def process_loaders_local(train_loader, test_loader):\n",
    "    # need to load like this to ensure transformation applied\n",
    "    data_list_train = [batch for batch in train_loader]\n",
    "    train_data_list = [batch[0] for batch in data_list_train]\n",
    "    train_data = np.vstack(train_data_list)\n",
    "    X_train = torch.Tensor(train_data).float()\n",
    "    Y_train = np.hstack([batch[1] for batch in data_list_train])\n",
    "\n",
    "    data_list_test = [batch for batch in test_loader]\n",
    "    test_data_list = [batch[0] for batch in data_list_test]\n",
    "    test_data = np.vstack(test_data_list)\n",
    "    X_test = torch.Tensor(test_data).float()\n",
    "    Y_test = np.hstack([batch[1] for batch in data_list_test])\n",
    "    \n",
    "    return X_train, Y_train, X_test, Y_test"
   ]
  },
  {
   "cell_type": "code",
   "execution_count": 124,
   "metadata": {},
   "outputs": [],
   "source": [
    "didx='mnist'"
   ]
  },
  {
   "cell_type": "code",
   "execution_count": 125,
   "metadata": {},
   "outputs": [],
   "source": [
    "transforms_noise = []\n",
    "trans = transforms.Compose(transforms_noise + [transforms.ToTensor(), transforms.Normalize((0.5,), (1.0,))])\n",
    "\n",
    "if didx=='mnist':\n",
    "    root = oj('/scratch/users/vision/yu_dl/raaz.rsk/data/mnist')\n",
    "    train_set = dset.MNIST(root=root, train=True, transform=trans, download=True)\n",
    "    test_set = dset.MNIST(root=root, train=False, transform=trans, download=True)\n",
    "else:\n",
    "    root = oj('/scratch/users/vision/yu_dl/raaz.rsk/data/cifar10')\n",
    "    train_set = dset.CIFAR10(root=root, train=True, transform=trans, download=True)\n",
    "    test_set = dset.CIFAR10(root=root, train=False, transform=trans, download=True)\n",
    "\n",
    "batch_size = 1000\n",
    "train_loader = torch.utils.data.DataLoader(train_set, \n",
    "                batch_size=batch_size, shuffle=True)\n",
    "test_loader = torch.utils.data.DataLoader(test_set, \n",
    "                batch_size=batch_size, shuffle=True)\n",
    "\n",
    "X_train, Y_train, X_test, Y_test = process_loaders_local(train_loader, test_loader)\n",
    "if didx=='mnist':\n",
    "    X_train = np.asarray(X_train.reshape(-1, 784))\n",
    "    X_test  = np.asarray(X_test.reshape(-1, 784))\n",
    "else:\n",
    "    X_train = np.asarray(X_train.reshape(-1, 3072))\n",
    "    X_test  = np.asarray(X_test.reshape(-1, 3072))"
   ]
  },
  {
   "cell_type": "code",
   "execution_count": 126,
   "metadata": {},
   "outputs": [
    {
     "data": {
      "text/html": [
       "<div>\n",
       "<style scoped>\n",
       "    .dataframe tbody tr th:only-of-type {\n",
       "        vertical-align: middle;\n",
       "    }\n",
       "\n",
       "    .dataframe tbody tr th {\n",
       "        vertical-align: top;\n",
       "    }\n",
       "\n",
       "    .dataframe thead th {\n",
       "        text-align: right;\n",
       "    }\n",
       "</style>\n",
       "<table border=\"1\" class=\"dataframe\">\n",
       "  <thead>\n",
       "    <tr style=\"text-align: right;\">\n",
       "      <th></th>\n",
       "      <th>dset</th>\n",
       "      <th>lr</th>\n",
       "      <th>optimizer</th>\n",
       "      <th>num_layers</th>\n",
       "      <th>hidden_size</th>\n",
       "      <th>mid_train_confidence_unn</th>\n",
       "      <th>mid_train_acc</th>\n",
       "      <th>final_train_acc</th>\n",
       "      <th>final_test_acc</th>\n",
       "      <th>corr0_final</th>\n",
       "    </tr>\n",
       "  </thead>\n",
       "  <tbody>\n",
       "    <tr>\n",
       "      <th>1</th>\n",
       "      <td>cifar10_5_5_flip</td>\n",
       "      <td>0.100</td>\n",
       "      <td>adam</td>\n",
       "      <td>4</td>\n",
       "      <td>128</td>\n",
       "      <td>3.903528</td>\n",
       "      <td>0.88004</td>\n",
       "      <td>0.97064</td>\n",
       "      <td>0.7090</td>\n",
       "      <td>0.275012</td>\n",
       "    </tr>\n",
       "    <tr>\n",
       "      <th>41</th>\n",
       "      <td>cifar10_5_5_flip</td>\n",
       "      <td>1.000</td>\n",
       "      <td>adam</td>\n",
       "      <td>4</td>\n",
       "      <td>128</td>\n",
       "      <td>3.978291</td>\n",
       "      <td>0.86772</td>\n",
       "      <td>0.97024</td>\n",
       "      <td>0.7170</td>\n",
       "      <td>0.278112</td>\n",
       "    </tr>\n",
       "    <tr>\n",
       "      <th>38</th>\n",
       "      <td>cifar10_5_5_flip</td>\n",
       "      <td>0.100</td>\n",
       "      <td>adam</td>\n",
       "      <td>4</td>\n",
       "      <td>128</td>\n",
       "      <td>4.091345</td>\n",
       "      <td>0.89468</td>\n",
       "      <td>0.97036</td>\n",
       "      <td>0.7194</td>\n",
       "      <td>0.273102</td>\n",
       "    </tr>\n",
       "    <tr>\n",
       "      <th>32</th>\n",
       "      <td>cifar10_5_5_flip</td>\n",
       "      <td>1.000</td>\n",
       "      <td>adam</td>\n",
       "      <td>4</td>\n",
       "      <td>128</td>\n",
       "      <td>3.856310</td>\n",
       "      <td>0.87860</td>\n",
       "      <td>0.97440</td>\n",
       "      <td>0.7218</td>\n",
       "      <td>0.279358</td>\n",
       "    </tr>\n",
       "    <tr>\n",
       "      <th>43</th>\n",
       "      <td>cifar10_5_5_flip</td>\n",
       "      <td>1.000</td>\n",
       "      <td>adam</td>\n",
       "      <td>4</td>\n",
       "      <td>1024</td>\n",
       "      <td>6.920992</td>\n",
       "      <td>0.94580</td>\n",
       "      <td>0.99372</td>\n",
       "      <td>0.7472</td>\n",
       "      <td>0.339330</td>\n",
       "    </tr>\n",
       "    <tr>\n",
       "      <th>26</th>\n",
       "      <td>cifar10_5_5_flip</td>\n",
       "      <td>0.100</td>\n",
       "      <td>adam</td>\n",
       "      <td>4</td>\n",
       "      <td>1024</td>\n",
       "      <td>7.651115</td>\n",
       "      <td>0.94880</td>\n",
       "      <td>0.99684</td>\n",
       "      <td>0.7474</td>\n",
       "      <td>0.341649</td>\n",
       "    </tr>\n",
       "    <tr>\n",
       "      <th>37</th>\n",
       "      <td>cifar10_5_5_flip</td>\n",
       "      <td>1.000</td>\n",
       "      <td>adam</td>\n",
       "      <td>4</td>\n",
       "      <td>1024</td>\n",
       "      <td>6.606058</td>\n",
       "      <td>0.93148</td>\n",
       "      <td>0.99320</td>\n",
       "      <td>0.7526</td>\n",
       "      <td>0.340663</td>\n",
       "    </tr>\n",
       "    <tr>\n",
       "      <th>3</th>\n",
       "      <td>cifar10_5_5_flip</td>\n",
       "      <td>0.001</td>\n",
       "      <td>sgd</td>\n",
       "      <td>4</td>\n",
       "      <td>1024</td>\n",
       "      <td>0.051839</td>\n",
       "      <td>0.43440</td>\n",
       "      <td>0.43664</td>\n",
       "      <td>0.4412</td>\n",
       "      <td>0.070535</td>\n",
       "    </tr>\n",
       "    <tr>\n",
       "      <th>47</th>\n",
       "      <td>cifar10_5_5_flip</td>\n",
       "      <td>0.001</td>\n",
       "      <td>sgd</td>\n",
       "      <td>4</td>\n",
       "      <td>1024</td>\n",
       "      <td>0.065139</td>\n",
       "      <td>0.40840</td>\n",
       "      <td>0.45096</td>\n",
       "      <td>0.4504</td>\n",
       "      <td>0.070219</td>\n",
       "    </tr>\n",
       "    <tr>\n",
       "      <th>44</th>\n",
       "      <td>cifar10_5_5_flip</td>\n",
       "      <td>0.001</td>\n",
       "      <td>sgd</td>\n",
       "      <td>4</td>\n",
       "      <td>128</td>\n",
       "      <td>0.108003</td>\n",
       "      <td>0.47892</td>\n",
       "      <td>0.48368</td>\n",
       "      <td>0.4830</td>\n",
       "      <td>0.083866</td>\n",
       "    </tr>\n",
       "    <tr>\n",
       "      <th>21</th>\n",
       "      <td>cifar10_5_5_flip</td>\n",
       "      <td>0.001</td>\n",
       "      <td>sgd</td>\n",
       "      <td>4</td>\n",
       "      <td>128</td>\n",
       "      <td>0.061606</td>\n",
       "      <td>0.50436</td>\n",
       "      <td>0.48644</td>\n",
       "      <td>0.4864</td>\n",
       "      <td>0.084535</td>\n",
       "    </tr>\n",
       "    <tr>\n",
       "      <th>19</th>\n",
       "      <td>cifar10_5_5_flip</td>\n",
       "      <td>1.000</td>\n",
       "      <td>sgd</td>\n",
       "      <td>4</td>\n",
       "      <td>128</td>\n",
       "      <td>3.291845</td>\n",
       "      <td>0.89584</td>\n",
       "      <td>0.96916</td>\n",
       "      <td>0.7262</td>\n",
       "      <td>0.286575</td>\n",
       "    </tr>\n",
       "    <tr>\n",
       "      <th>45</th>\n",
       "      <td>cifar10_5_5_flip</td>\n",
       "      <td>1.000</td>\n",
       "      <td>sgd</td>\n",
       "      <td>4</td>\n",
       "      <td>128</td>\n",
       "      <td>3.075524</td>\n",
       "      <td>0.81200</td>\n",
       "      <td>0.96208</td>\n",
       "      <td>0.7310</td>\n",
       "      <td>0.284105</td>\n",
       "    </tr>\n",
       "    <tr>\n",
       "      <th>5</th>\n",
       "      <td>cifar10_5_5_flip</td>\n",
       "      <td>1.000</td>\n",
       "      <td>sgd</td>\n",
       "      <td>4</td>\n",
       "      <td>1024</td>\n",
       "      <td>4.520866</td>\n",
       "      <td>0.94460</td>\n",
       "      <td>1.00000</td>\n",
       "      <td>0.7670</td>\n",
       "      <td>0.324515</td>\n",
       "    </tr>\n",
       "    <tr>\n",
       "      <th>35</th>\n",
       "      <td>cifar10_5_5_flip</td>\n",
       "      <td>0.100</td>\n",
       "      <td>sgd</td>\n",
       "      <td>4</td>\n",
       "      <td>1024</td>\n",
       "      <td>3.641521</td>\n",
       "      <td>0.92312</td>\n",
       "      <td>0.99840</td>\n",
       "      <td>0.7670</td>\n",
       "      <td>0.227464</td>\n",
       "    </tr>\n",
       "    <tr>\n",
       "      <th>17</th>\n",
       "      <td>cifar10_5_5_flip</td>\n",
       "      <td>1.000</td>\n",
       "      <td>sgd</td>\n",
       "      <td>4</td>\n",
       "      <td>1024</td>\n",
       "      <td>4.660789</td>\n",
       "      <td>0.92448</td>\n",
       "      <td>1.00000</td>\n",
       "      <td>0.7678</td>\n",
       "      <td>0.322504</td>\n",
       "    </tr>\n",
       "    <tr>\n",
       "      <th>30</th>\n",
       "      <td>cifar10_5_5_flip</td>\n",
       "      <td>0.100</td>\n",
       "      <td>sgd</td>\n",
       "      <td>4</td>\n",
       "      <td>1024</td>\n",
       "      <td>3.422546</td>\n",
       "      <td>0.93492</td>\n",
       "      <td>0.99952</td>\n",
       "      <td>0.7702</td>\n",
       "      <td>0.228049</td>\n",
       "    </tr>\n",
       "  </tbody>\n",
       "</table>\n",
       "</div>"
      ],
      "text/plain": [
       "                dset     lr optimizer  num_layers  hidden_size  \\\n",
       "1   cifar10_5_5_flip  0.100      adam           4          128   \n",
       "41  cifar10_5_5_flip  1.000      adam           4          128   \n",
       "38  cifar10_5_5_flip  0.100      adam           4          128   \n",
       "32  cifar10_5_5_flip  1.000      adam           4          128   \n",
       "43  cifar10_5_5_flip  1.000      adam           4         1024   \n",
       "26  cifar10_5_5_flip  0.100      adam           4         1024   \n",
       "37  cifar10_5_5_flip  1.000      adam           4         1024   \n",
       "3   cifar10_5_5_flip  0.001       sgd           4         1024   \n",
       "47  cifar10_5_5_flip  0.001       sgd           4         1024   \n",
       "44  cifar10_5_5_flip  0.001       sgd           4          128   \n",
       "21  cifar10_5_5_flip  0.001       sgd           4          128   \n",
       "19  cifar10_5_5_flip  1.000       sgd           4          128   \n",
       "45  cifar10_5_5_flip  1.000       sgd           4          128   \n",
       "5   cifar10_5_5_flip  1.000       sgd           4         1024   \n",
       "35  cifar10_5_5_flip  0.100       sgd           4         1024   \n",
       "17  cifar10_5_5_flip  1.000       sgd           4         1024   \n",
       "30  cifar10_5_5_flip  0.100       sgd           4         1024   \n",
       "\n",
       "    mid_train_confidence_unn  mid_train_acc  final_train_acc  final_test_acc  \\\n",
       "1                   3.903528        0.88004          0.97064          0.7090   \n",
       "41                  3.978291        0.86772          0.97024          0.7170   \n",
       "38                  4.091345        0.89468          0.97036          0.7194   \n",
       "32                  3.856310        0.87860          0.97440          0.7218   \n",
       "43                  6.920992        0.94580          0.99372          0.7472   \n",
       "26                  7.651115        0.94880          0.99684          0.7474   \n",
       "37                  6.606058        0.93148          0.99320          0.7526   \n",
       "3                   0.051839        0.43440          0.43664          0.4412   \n",
       "47                  0.065139        0.40840          0.45096          0.4504   \n",
       "44                  0.108003        0.47892          0.48368          0.4830   \n",
       "21                  0.061606        0.50436          0.48644          0.4864   \n",
       "19                  3.291845        0.89584          0.96916          0.7262   \n",
       "45                  3.075524        0.81200          0.96208          0.7310   \n",
       "5                   4.520866        0.94460          1.00000          0.7670   \n",
       "35                  3.641521        0.92312          0.99840          0.7670   \n",
       "17                  4.660789        0.92448          1.00000          0.7678   \n",
       "30                  3.422546        0.93492          0.99952          0.7702   \n",
       "\n",
       "    corr0_final  \n",
       "1      0.275012  \n",
       "41     0.278112  \n",
       "38     0.273102  \n",
       "32     0.279358  \n",
       "43     0.339330  \n",
       "26     0.341649  \n",
       "37     0.340663  \n",
       "3      0.070535  \n",
       "47     0.070219  \n",
       "44     0.083866  \n",
       "21     0.084535  \n",
       "19     0.286575  \n",
       "45     0.284105  \n",
       "5      0.324515  \n",
       "35     0.227464  \n",
       "17     0.322504  \n",
       "30     0.228049  "
      ]
     },
     "execution_count": 126,
     "metadata": {},
     "output_type": "execute_result"
    }
   ],
   "source": [
    "results[['dset','lr', 'optimizer', 'num_layers', \n",
    "         'hidden_size','mid_train_confidence_unn',\n",
    "         'mid_train_acc','final_train_acc', 'final_test_acc',\n",
    "          'corr0_final']][(results['num_layers']==4)\n",
    "                                                    &(results['dset']!='mnist_5_5_flip')].sort_values(\n",
    "    by=['optimizer','final_test_acc'])"
   ]
  },
  {
   "cell_type": "code",
   "execution_count": 127,
   "metadata": {},
   "outputs": [
    {
     "data": {
      "text/html": [
       "<div>\n",
       "<style scoped>\n",
       "    .dataframe tbody tr th:only-of-type {\n",
       "        vertical-align: middle;\n",
       "    }\n",
       "\n",
       "    .dataframe tbody tr th {\n",
       "        vertical-align: top;\n",
       "    }\n",
       "\n",
       "    .dataframe thead th {\n",
       "        text-align: right;\n",
       "    }\n",
       "</style>\n",
       "<table border=\"1\" class=\"dataframe\">\n",
       "  <thead>\n",
       "    <tr style=\"text-align: right;\">\n",
       "      <th></th>\n",
       "      <th>dset</th>\n",
       "      <th>lr</th>\n",
       "      <th>optimizer</th>\n",
       "      <th>num_layers</th>\n",
       "      <th>hidden_size</th>\n",
       "      <th>mid_train_confidence_unn</th>\n",
       "      <th>mid_train_acc</th>\n",
       "      <th>final_train_acc</th>\n",
       "      <th>final_test_acc</th>\n",
       "      <th>corr0_final</th>\n",
       "    </tr>\n",
       "  </thead>\n",
       "  <tbody>\n",
       "    <tr>\n",
       "      <th>10</th>\n",
       "      <td>mnist_5_5_flip</td>\n",
       "      <td>1.0</td>\n",
       "      <td>adam</td>\n",
       "      <td>4</td>\n",
       "      <td>128</td>\n",
       "      <td>12.648044</td>\n",
       "      <td>0.993824</td>\n",
       "      <td>0.993186</td>\n",
       "      <td>0.969796</td>\n",
       "      <td>0.587785</td>\n",
       "    </tr>\n",
       "    <tr>\n",
       "      <th>15</th>\n",
       "      <td>mnist_5_5_flip</td>\n",
       "      <td>1.0</td>\n",
       "      <td>sgd</td>\n",
       "      <td>4</td>\n",
       "      <td>128</td>\n",
       "      <td>7.615953</td>\n",
       "      <td>0.993464</td>\n",
       "      <td>0.994339</td>\n",
       "      <td>0.974490</td>\n",
       "      <td>0.307500</td>\n",
       "    </tr>\n",
       "  </tbody>\n",
       "</table>\n",
       "</div>"
      ],
      "text/plain": [
       "              dset   lr optimizer  num_layers  hidden_size  \\\n",
       "10  mnist_5_5_flip  1.0      adam           4          128   \n",
       "15  mnist_5_5_flip  1.0       sgd           4          128   \n",
       "\n",
       "    mid_train_confidence_unn  mid_train_acc  final_train_acc  final_test_acc  \\\n",
       "10                 12.648044       0.993824         0.993186        0.969796   \n",
       "15                  7.615953       0.993464         0.994339        0.974490   \n",
       "\n",
       "    corr0_final  \n",
       "10     0.587785  \n",
       "15     0.307500  "
      ]
     },
     "execution_count": 127,
     "metadata": {},
     "output_type": "execute_result"
    }
   ],
   "source": [
    "if didx=='mnist':\n",
    "    idxs = [10, 15]\n",
    "    dsets = ['mnist', 'mnist']\n",
    "else:\n",
    "    idxs = [32, 45]\n",
    "    dsets = ['cifar10', 'cifar10']\n",
    "\n",
    "\n",
    "results[['dset','lr', 'optimizer', 'num_layers', \n",
    "         'hidden_size','mid_train_confidence_unn',\n",
    "         'mid_train_acc','final_train_acc', 'final_test_acc',\n",
    "          'corr0_final']].loc[idxs]"
   ]
  },
  {
   "cell_type": "code",
   "execution_count": 128,
   "metadata": {},
   "outputs": [],
   "source": [
    "w1 = rw.weights[idxs[0]][22]['fc.0.weight'].T\n",
    "w2 = rw.weights[idxs[1]][22]['fc.0.weight'].T\n",
    "\n",
    "Pw1 = w1 @ np.linalg.inv(w1.T @ w1) @ w1.T\n",
    "Pw2 = w2 @ np.linalg.inv(w2.T @ w2) @ w2.T"
   ]
  },
  {
   "cell_type": "code",
   "execution_count": 129,
   "metadata": {},
   "outputs": [
    {
     "data": {
      "text/plain": [
       "(0.9049138, 0.93362916)"
      ]
     },
     "execution_count": 129,
     "metadata": {},
     "output_type": "execute_result"
    }
   ],
   "source": [
    "norm(Pw2.dot(w1))/norm(w1), norm(Pw1.dot(w2))/norm(w2)"
   ]
  },
  {
   "cell_type": "code",
   "execution_count": 138,
   "metadata": {},
   "outputs": [],
   "source": [
    "a1 = X_train[:batch_size,:].dot(w1)\n",
    "a2 = X_train[:batch_size,:].dot(w2)\n",
    "\n",
    "P1 = a1 @ npl.pinv(a1.T @ a1) @ a1.T\n",
    "P2 = a2 @ npl.pinv(a2.T @ a2) @ a2.T"
   ]
  },
  {
   "cell_type": "code",
   "execution_count": 139,
   "metadata": {},
   "outputs": [
    {
     "data": {
      "text/plain": [
       "(1.0055656, 1.0500506)"
      ]
     },
     "execution_count": 139,
     "metadata": {},
     "output_type": "execute_result"
    }
   ],
   "source": [
    "norm(P2.dot(a1))/norm(a1), norm(P1.dot(a2))/norm(a2)"
   ]
  },
  {
   "cell_type": "code",
   "execution_count": 136,
   "metadata": {},
   "outputs": [],
   "source": [
    "ar1 = relu(a1)\n",
    "ar2 = relu(a2)\n",
    "\n",
    "Pr1 = ar1 @ npl.pinv(ar1.T @ ar1) @ ar1.T\n",
    "Pr2 = ar2 @ npl.pinv(ar2.T @ ar2) @ ar2.T"
   ]
  },
  {
   "cell_type": "code",
   "execution_count": 137,
   "metadata": {},
   "outputs": [
    {
     "data": {
      "text/plain": [
       "(0.95209825, 0.9338865)"
      ]
     },
     "execution_count": 137,
     "metadata": {},
     "output_type": "execute_result"
    }
   ],
   "source": [
    "norm(Pr2.dot(ar1))/norm(ar1), norm(Pr1.dot(ar2))/norm(ar2)"
   ]
  },
  {
   "cell_type": "code",
   "execution_count": null,
   "metadata": {},
   "outputs": [],
   "source": []
  }
 ],
 "metadata": {
  "anaconda-cloud": {},
  "kernelspec": {
   "display_name": "Python 3",
   "language": "python",
   "name": "python3"
  },
  "language_info": {
   "codemirror_mode": {
    "name": "ipython",
    "version": 3
   },
   "file_extension": ".py",
   "mimetype": "text/x-python",
   "name": "python",
   "nbconvert_exporter": "python",
   "pygments_lexer": "ipython3",
   "version": "3.5.4"
  }
 },
 "nbformat": 4,
 "nbformat_minor": 2
}
