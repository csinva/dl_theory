{
 "cells": [
  {
   "cell_type": "code",
   "execution_count": 4,
   "metadata": {},
   "outputs": [],
   "source": [
    "import os\n",
    "from os.path import join as oj\n",
    "import sys, time\n",
    "sys.path.insert(1, oj(sys.path[0], '..'))  # insert parent path\n",
    "sys.path.insert(1, oj(sys.path[0], '..', 'vision_fit'))  # insert parent path\n",
    "import seaborn as sns\n",
    "import numpy as np\n",
    "import matplotlib.pyplot as plt\n",
    "\n",
    "from tqdm import tqdm\n",
    "from copy import deepcopy\n",
    "import pickle as pkl\n",
    "import pandas as pd\n",
    "import math\n",
    "# plt.style.use('dark_background')\n",
    "# from mog_fit import data\n",
    "from collections import OrderedDict\n",
    "from sklearn import preprocessing\n",
    "\n",
    "import torch\n",
    "from torch.autograd import Variable\n",
    "# from mog_analyze import viz\n",
    "from sklearn.decomposition import PCA\n",
    "\n",
    "import warnings\n",
    "warnings.filterwarnings(\"ignore\")\n",
    "\n",
    "from vision_fit import data\n",
    "import viz_weights\n",
    "from process_results import process_results\n",
    "\n",
    "%matplotlib inline\n",
    "%load_ext autoreload\n",
    "%autoreload 2\n",
    "\n",
    "import style\n",
    "cb = '#008fd5'\n",
    "cr = '#fc4f30'"
   ]
  },
  {
   "cell_type": "code",
   "execution_count": 5,
   "metadata": {},
   "outputs": [],
   "source": [
    "style.set_style()"
   ]
  },
  {
   "cell_type": "markdown",
   "metadata": {},
   "source": [
    "# load results from a directory"
   ]
  },
  {
   "cell_type": "code",
   "execution_count": 6,
   "metadata": {},
   "outputs": [
    {
     "name": "stderr",
     "output_type": "stream",
     "text": [
      "100%|██████████| 1306/1306 [01:56<00:00, 11.17it/s]\n"
     ]
    },
    {
     "name": "stdout",
     "output_type": "stream",
     "text": [
      "(1306, 54)\n"
     ]
    }
   ],
   "source": [
    "# depending on how much is saved, this may take a while\n",
    "out_dir = '/scratch/users/vision/yu_dl/raaz.rsk/track_acts/resweep_full_new'\n",
    "out_dir2 = '/scratch/users/vision/yu_dl/raaz.rsk/track_acts/resweep_full_new2'\n",
    "fnames = sorted([oj(out_dir, fname) for fname in os.listdir(out_dir) \\\n",
    "                 if not fname.startswith('weights') \\\n",
    "                 and not fname.startswith('idx')])\n",
    "results_list = [pd.Series(pkl.load(open(fname, \"rb\"))) for fname in tqdm(fnames) \n",
    "                if not fname.startswith('weights') and not fname.startswith('idx')]\n",
    "results = pd.concat(results_list, axis=1).T.infer_objects()\n",
    "print(results.shape)"
   ]
  },
  {
   "cell_type": "markdown",
   "metadata": {},
   "source": [
    "**add cols**"
   ]
  },
  {
   "cell_type": "code",
   "execution_count": 8,
   "metadata": {},
   "outputs": [
    {
     "name": "stdout",
     "output_type": "stream",
     "text": [
      "after (1219, 86)\n"
     ]
    }
   ],
   "source": [
    "# adds these vec keys: fc0_fro, fc1_fro, fc0_stab_rank, fc1_stab_rank, act0_stab_rank, act1_stab_rank, corr0, corr1\n",
    "# adds these scalar keys: max_train_acc, max_test_acc, _final of all the above\n",
    "# print('before', results.shape)\n",
    "its, ts, results = process_results(results)\n",
    "print('after', results.shape)"
   ]
  },
  {
   "cell_type": "markdown",
   "metadata": {},
   "source": [
    "# plot max corrs\n",
    "*note some things disappear in below plot as a result of nans*"
   ]
  },
  {
   "cell_type": "code",
   "execution_count": null,
   "metadata": {},
   "outputs": [],
   "source": [
    "r = results\n",
    "# r = r[r.dset == 'mnist']\n",
    "# r = r[r.hidden_size == 128]\n",
    "r = r[r.max_test_acc >= 0.4]\n",
    "r = r[r.dset == 'cifar10']\n",
    "r = r[r.optimizer == 'sgd']\n",
    "plt.figure(figsize=(14, 14), facecolor='w', dpi=100)\n",
    "x = np.array(r.max_test_acc)\n",
    "y = np.array(r.corr0_final)\n",
    "# plt.plot(x, y, 'o')\n",
    "# plt.scatter(x, y, c=r.optimizer=='sgd')\n",
    "'''\n",
    "pids = np.array([pid[:6] for pid in r.pid])\n",
    "ax = sns.scatterplot(x, y, hue=r.optimizer)\n",
    "plt.xlabel('max test acc')\n",
    "plt.ylabel('corr0_final')\n",
    "\n",
    "for i, pid in enumerate(pids):\n",
    "    ax.annotate(pid, (x[i], y[i]))\n",
    "'''\n",
    "\n",
    "plt.show()"
   ]
  },
  {
   "cell_type": "code",
   "execution_count": 10,
   "metadata": {},
   "outputs": [],
   "source": [
    "r = results"
   ]
  },
  {
   "cell_type": "markdown",
   "metadata": {},
   "source": [
    "# pick examples"
   ]
  },
  {
   "cell_type": "code",
   "execution_count": 151,
   "metadata": {},
   "outputs": [
    {
     "data": {
      "text/plain": [
       "{2, 4, 7}"
      ]
     },
     "execution_count": 151,
     "metadata": {},
     "output_type": "execute_result"
    }
   ],
   "source": []
  },
  {
   "cell_type": "code",
   "execution_count": 153,
   "metadata": {},
   "outputs": [
    {
     "name": "stdout",
     "output_type": "stream",
     "text": [
      "(24, 86)\n"
     ]
    }
   ],
   "source": [
    "r = results\n",
    "r = r[r.optimizer == 'sgd']\n",
    "r = r[r.dset == 'cifar10']\n",
    "r = r[r.num_layers == 2]\n",
    "r = r[r.max_test_acc > 0.5]\n",
    "print(r.shape)\n",
    "# r = r[r.hidden_size == 512]"
   ]
  },
  {
   "cell_type": "code",
   "execution_count": null,
   "metadata": {},
   "outputs": [],
   "source": [
    "r[['lr', 'optimizer', 'hidden_size', 'num_layers']]"
   ]
  },
  {
   "cell_type": "code",
   "execution_count": 155,
   "metadata": {},
   "outputs": [],
   "source": [
    "pids = r.pid[:5]"
   ]
  },
  {
   "cell_type": "code",
   "execution_count": null,
   "metadata": {},
   "outputs": [],
   "source": [
    "curves = []\n",
    "for i, pid_a in enumerate(tqdm(pids)):\n",
    "\n",
    "    # depending on how much is saved, this may take a while\n",
    "    out_dir = '/scratch/users/vision/yu_dl/raaz.rsk/track_acts/resweep_full_new'\n",
    "    fnames = sorted([oj(out_dir, fname) for fname in os.listdir(out_dir) \\\n",
    "                     if (pid_a in fname)])\n",
    "    # weights\n",
    "    fnames_w = [fname for fname in fnames if 'weights' in fname]\n",
    "    results_list = [pd.Series(pkl.load(open(fname, \"rb\"))) for fname in fnames_w]\n",
    "    rw = pd.concat(results_list, axis=1).T.infer_objects()\n",
    "\n",
    "    # normal results\n",
    "    fnames_acc = [fname for fname in fnames if '/pid' in fname] # normal results\n",
    "    results_list = [pd.Series(pkl.load(open(fname, \"rb\"))) for fname in fnames_acc]\n",
    "    r = pd.concat(results_list, axis=1).T.infer_objects()\n",
    "    its, ts, r = process_results(r)\n",
    "\n",
    "    # get individual weights\n",
    "    run = rw[rw.optimizer == 'sgd'].reset_index().iloc[0]\n",
    "\n",
    "    # get accs\n",
    "    r_sgd = r[r.optimizer == 'sgd'].reset_index().iloc[0]\n",
    "    \n",
    "    epoch = int(max(ts))\n",
    "    print('sgd', r_sgd.accs_train[its == epoch], r_sgd.accs_test[its == epoch])\n",
    "    \n",
    "    # get data\n",
    "\n",
    "    run['num_layer'] = int(run['num_layers'])\n",
    "    run['hidden_size'] = int(run['hidden_size'])\n",
    "    run['batch_size'] = int(run.batch_size)\n",
    "    '''\n",
    "    if i == 0:    \n",
    "        train_loader, test_loader = data.get_data_loaders(run)\n",
    "        X_train, Y_train, X_test, Y_test = data.process_loaders(train_loader, test_loader)\n",
    "        # x = X_train.cpu().numpy().reshape(60000, 784)\n",
    "        x = X_train.cpu().numpy().reshape(50000, 32*32*3)\n",
    "    '''\n",
    "\n",
    "\n",
    "    # load in weights\n",
    "    weights_dict_dict = run['weights'] # keys are epochs, vals are dicts of all weights\n",
    "    epochs = sorted(run['weights'].keys())\n",
    "\n",
    "\n",
    "    ys = []\n",
    "    for epoch in epochs[::4]:\n",
    "        weights_dict = weights_dict_dict[epoch] # keys are layers, vals are weight values    \n",
    "        weights_dict_tensors = {k: torch.Tensor(v) for k, v in weights_dict.items()}\n",
    "        W = weights_dict_tensors['fc.0.weight'].cpu().numpy()\n",
    "        y = x @ W.T\n",
    "        ys.append(y)\n",
    "    ys = np.array(ys)\n",
    "    \n",
    "    overlap_frac = []\n",
    "    for i in range(ys.shape[0]):\n",
    "        y0 = ys[i] > 0\n",
    "        yf = ys[0] > 0\n",
    "        num_overlap = np.sum(np.multiply(y0, yf))\n",
    "        overlap_frac.append(num_overlap / yf.size)\n",
    "    \n",
    "    curves.append((epochs, [np.sum(ys[i] > 0) / ys[i].size for i in range(ys.shape[0])], overlap_frac))"
   ]
  },
  {
   "cell_type": "code",
   "execution_count": 162,
   "metadata": {},
   "outputs": [
    {
     "data": {
      "image/png": "[encoded data removed]",
      "text/plain": [
       "<Figure size 432x288 with 1 Axes>"
      ]
     },
     "metadata": {},
     "output_type": "display_data"
    }
   ],
   "source": [
    "cs = ['red', 'green', 'cyan', 'magenta', 'black']\n",
    "for i in range(len(curves)):\n",
    "    epochs, ys_one, overlap_frac = curves[i]\n",
    "    epochs = epochs[::4]\n",
    "    ys_one = np.array(ys_one) \n",
    "    plt.plot(epochs, ys_one, '-', color=cs[i])\n",
    "    plt.plot(epochs, overlap_frac, '.', color=cs[i])\n",
    "\n",
    "plt.xlabel('epochs')\n",
    "plt.ylabel('fraction activations > 0')\n",
    "plt.title(f'pid: {pid}, hidden_size: {W.shape[0]}')\n",
    "# plt.legend()\n",
    "plt.show()"
   ]
  },
  {
   "cell_type": "code",
   "execution_count": null,
   "metadata": {},
   "outputs": [],
   "source": [
    "from matplotlib.ticker import NullLocator\n",
    "\n",
    "def get_w(run):\n",
    "    run['num_layer'] = int(run['num_layers'])\n",
    "    run['hidden_size'] = int(run['hidden_size'])\n",
    "    lay = 'fc.0.weight'\n",
    "\n",
    "    # keys are epochs, vals are dicts of all weights\n",
    "    weights_dict_dict = run['weights']\n",
    "\n",
    "    # keys are layers, vals are weight values\n",
    "#     print(weights_dict_dict.keys())\n",
    "    weights_dict = weights_dict_dict[epoch]\n",
    "#     print(weights_dict.keys())\n",
    "    w = weights_dict[lay]\n",
    "\n",
    "    return w\n",
    "\n",
    "for run in [rw_sgd]:\n",
    "    w = get_w(run)\n",
    "    # matrix of weights (output x input)\n",
    "    viz_weights.plot_weights(w, dset='mnist', C=18, dpi=120)\n",
    "                \n",
    "    plt.gca().set_axis_off()\n",
    "    plt.gca().xaxis.set_major_locator(NullLocator())\n",
    "    plt.gca().yaxis.set_major_locator(NullLocator())\n",
    "    plt.margins(0, 0)\n",
    "\n",
    "    plt.savefig(run.optimizer + '_' + str(run.hidden_size) + '_' + 'w0.pdf', \n",
    "                bbox_inches = 'tight', pad_inches = 0)"
   ]
  }
 ],
 "metadata": {
  "anaconda-cloud": {},
  "kernelspec": {
   "display_name": "Python 3",
   "language": "python",
   "name": "python3"
  },
  "language_info": {
   "codemirror_mode": {
    "name": "ipython",
    "version": 3
   },
   "file_extension": ".py",
   "mimetype": "text/x-python",
   "name": "python",
   "nbconvert_exporter": "python",
   "pygments_lexer": "ipython3",
   "version": "3.7.0"
  }
 },
 "nbformat": 4,
 "nbformat_minor": 2
}
