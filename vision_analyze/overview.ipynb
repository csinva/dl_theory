{
 "cells": [
  {
   "cell_type": "code",
   "execution_count": null,
   "metadata": {},
   "outputs": [],
   "source": [
    "import os\n",
    "from os.path import join as oj\n",
    "import sys, time\n",
    "sys.path.insert(1, oj(sys.path[0], '..'))  # insert parent path\n",
    "sys.path.insert(1, oj(sys.path[0], '..', 'vision_fit'))  # insert parent path\n",
    "import seaborn as sns\n",
    "import numpy as np\n",
    "import matplotlib.pyplot as plt\n",
    "\n",
    "from tqdm import tqdm\n",
    "from copy import deepcopy\n",
    "import pickle as pkl\n",
    "import pandas as pd\n",
    "import math\n",
    "# plt.style.use('dark_background')\n",
    "from mog_fit import data\n",
    "from collections import OrderedDict\n",
    "from sklearn import preprocessing\n",
    "\n",
    "import torch\n",
    "from torch.autograd import Variable\n",
    "from mog_analyze import viz\n",
    "from sklearn.decomposition import PCA\n",
    "\n",
    "import warnings\n",
    "warnings.filterwarnings(\"ignore\")\n",
    "\n",
    "from vision_fit import data\n",
    "import viz_weights\n",
    "from process_results import process_results\n",
    "\n",
    "%matplotlib inline\n",
    "%load_ext autoreload\n",
    "%autoreload 2\n",
    "\n",
    "import style\n",
    "cb = '#33ccff'"
   ]
  },
  {
   "cell_type": "code",
   "execution_count": null,
   "metadata": {},
   "outputs": [],
   "source": [
    "style.set_style()"
   ]
  },
  {
   "cell_type": "markdown",
   "metadata": {},
   "source": [
    "# load results from a directory"
   ]
  },
  {
   "cell_type": "code",
   "execution_count": null,
   "metadata": {},
   "outputs": [],
   "source": [
    "# depending on how much is saved, this may take a while\n",
    "out_dir = '/scratch/users/vision/yu_dl/raaz.rsk/track_acts/resweep_full_new'\n",
    "fnames = sorted([fname for fname in os.listdir(out_dir) \n",
    "                 if not fname.startswith('weights')\n",
    "                 and if not fname.startswith('idx')])\n",
    "#                  if not 'mnist' in fname and \n",
    "#                  'numlays=4' in fname and \n",
    "#                  'batchsize=100' in fname and not 'batchsize=1000' in fname])\n",
    "#                   and \n",
    "#                  'numlays=4' in fname]) # and \n",
    "#                  'batchsize=100' in fname and \n",
    "#                  not 'batchsize=1000' in fname])\n",
    "# weights_list = [pd.Series(pkl.load(open(oj(out_dir, fname), \"rb\"))) for fname in tqdm(fnames) \n",
    "#                 if fname.startswith('weights')]\n",
    "# results_weights = pd.concat(weights_list, axis=1).T.infer_objects()\n",
    "\n",
    "results_list = [pd.Series(pkl.load(open(oj(out_dir, fname), \"rb\"))) for fname in tqdm(fnames) \n",
    "                if not fname.startswith('weights') and not fname.startswith('idx')]\n",
    "results = pd.concat(results_list, axis=1).T.infer_objects()\n",
    "\n",
    "save_dir = 'results_weights'\n",
    "if not os.path.exists(save_dir):\n",
    "    os.makedirs(save_dir)\n",
    "    \n",
    "# print('loaded', results_weights.shape[0], 'runs')"
   ]
  },
  {
   "cell_type": "markdown",
   "metadata": {},
   "source": [
    "# add cols"
   ]
  },
  {
   "cell_type": "code",
   "execution_count": null,
   "metadata": {},
   "outputs": [],
   "source": [
    "# adds these vec keys: fc0_fro, fc1_fro, fc0_stab_rank, fc1_stab_rank, act0_stab_rank, act1_stab_rank, corr0, corr1\n",
    "# adds these scalar keys: max_train_acc, max_test_acc, _final of all the above\n",
    "results = process_results(results)"
   ]
  },
  {
   "cell_type": "code",
   "execution_count": null,
   "metadata": {},
   "outputs": [],
   "source": [
    "results.shape"
   ]
  },
  {
   "cell_type": "markdown",
   "metadata": {},
   "source": [
    "# plot max corrs\n",
    "*note some things disappear in below plot as a result of nans*"
   ]
  },
  {
   "cell_type": "code",
   "execution_count": null,
   "metadata": {},
   "outputs": [],
   "source": [
    "r = results[(results.seed == 0) * (results.shuffle_labels == False)]\n",
    "# r = results[results.num_layers == 4]\n",
    "hue = 'batch_size'\n",
    "\n",
    "plt.figure(figsize=(10, 10))\n",
    "R, C = 2, 2\n",
    "rm = r[r.dset == 'mnist']\n",
    "plt.subplot(R, C, 1)\n",
    "plt.title('mnist')\n",
    "\n",
    "sns.scatterplot(rm.max_test_acc, rm.corr0_final, hue=rm[hue])\n",
    "plt.ylim(0, 1)\n",
    "\n",
    "plt.subplot(R, C, 2)\n",
    "plt.title('mnist')\n",
    "sns.scatterplot(rm.max_test_acc, rm.corr1_final, hue=rm[hue])\n",
    "plt.ylim(0, 1)\n",
    "\n",
    "\n",
    "rm = r[r.dset == 'cifar10']\n",
    "plt.subplot(R, C, 3)\n",
    "plt.title('cifar')\n",
    "sns.scatterplot(rm.max_test_acc, rm.corr0_final, hue=rm[hue])\n",
    "plt.ylim(0, 1)\n",
    "\n",
    "plt.subplot(R, C, 4)\n",
    "plt.title('cifar')\n",
    "sns.scatterplot(rm.max_test_acc, rm.corr1_final, hue=rm[hue])\n",
    "plt.ylim(0, 1)"
   ]
  },
  {
   "cell_type": "markdown",
   "metadata": {},
   "source": [
    "# track things over time"
   ]
  },
  {
   "cell_type": "code",
   "execution_count": null,
   "metadata": {},
   "outputs": [],
   "source": [
    "rm = results[(results.dset == 'mnist') * (results.max_test_acc >= 0.9) * (results.seed==0)] # good mnist\n",
    "# rm = results[(results.dset == 'mnist') * (results.max_test_acc < 0.9) * (results.seed==0)] # bad mnist\n",
    "# rm = results[(results.dset == 'cifar10') * (results.max_test_acc >= 0.4) * (results.seed==0)] # good cifar10\n",
    "# rm = results[(results.dset == 'cifar10') * (results.max_test_acc < 0.4) * (results.seed==0)] # good cifar10\n",
    "\n",
    "rm = rm[rm.shuffle_labels == False]\n",
    "\n",
    "R, C = 2, 5\n",
    "plt.figure(figsize=(15, 8))\n",
    "xlim = 100\n",
    "\n",
    "vals = ['accs_train', 'accs_test', 'corr0', 'corr1', 'fc0_fro', 'fc1_fro', 'fc0_stab_rank', 'fc1_stab_rank', 'act0_stab_rank', 'act1_stab_rank']\n",
    "\n",
    "\n",
    "# well-behaved\n",
    "for _, row in rm.iterrows():\n",
    "\n",
    "    for i, val in enumerate(vals):\n",
    "        plt.subplot(R, C, i+1)\n",
    "        try:\n",
    "            plt.plot(ts, row[val], color='red' if row.optimizer=='adam' else cb, alpha=0.5)\n",
    "        except:\n",
    "            plt.plot(row.its[:row[val].size], row[val], color='red' if row.optimizer=='adam' else cb, alpha=0.5)\n",
    "        plt.xlabel('epochs')\n",
    "        plt.ylabel(val)\n",
    "        plt.xlim((0, xlim))"
   ]
  },
  {
   "cell_type": "markdown",
   "metadata": {},
   "source": [
    "## plot these things against one another\n",
    "**overmemorization in the beginning can still maintain high train acc but suffers on test acc**"
   ]
  },
  {
   "cell_type": "code",
   "execution_count": null,
   "metadata": {},
   "outputs": [],
   "source": [
    "rm = results[(results.seed == 0) * (results.dset == 'mnist')]\n",
    "# rm = results[(results.dset == 'mnist') * (results.max_test_acc >= 0.8)]\n",
    "plt.figure(figsize=(12, 4))\n",
    "R, C = 1, 1\n",
    "for _, row in rm.iterrows():\n",
    "\n",
    "    plt.subplot(R, C, 1)\n",
    "    idxs = [True if v in ts else False for v in row.its[:row.accs_train.size]]\n",
    "    accs_train = row.accs_train[idxs]\n",
    "    plt.plot(accs_train, row.corr0, color='red' if row.optimizer=='adam' else cb, alpha=0.1)\n",
    "#     plt.scatter(accs_train, row.corr0, c=accs_train) #color='red' if row.optimizer=='adam' else cb, alpha=0.1)    \n",
    "#     plt.plot([accs_train[0], accs_train[1], accs_train[-1]], [row.corr0[0], row.corr0[1], row.corr0[-1]]) #, color='red' if row.optimizer=='adam' else cb, alpha=0.1)    \n",
    "#     plt.plot([accs_train[3], accs_train[-1]], [row.corr0[3], row.corr0[-1]], alpha=0.5) #, color='red' if row.optimizer=='adam' else cb, alpha=0.1)        \n",
    "    plt.xlabel('train acc')\n",
    "    plt.ylabel('max_corr')\n",
    "    \n",
    "    '''\n",
    "    \n",
    "    plt.plot(row.its[:row.accs_train.size], row.accs_train, \n",
    "    plt.xlabel('epochs')\n",
    "    plt.ylabel('max_corr')\n",
    "    plt.xlim((0, 20))\n",
    "    \n",
    "    plt.subplot(R, C, 2)\n",
    "    plt.title('max')\n",
    "    \n",
    "    plt.plot(ts, row.corr0, color='red' if row.optimizer=='adam' else cb, alpha=0.5)\n",
    "    plt.xlabel('epochs')\n",
    "    plt.ylabel('max_corr')\n",
    "    plt.xlim((0, 20))\n",
    "    '''\n",
    "    "
   ]
  },
  {
   "cell_type": "code",
   "execution_count": null,
   "metadata": {},
   "outputs": [],
   "source": [
    "np.unique(results.num_layers)\n",
    "np.unique(results.optimizer, return_counts=True)"
   ]
  },
  {
   "cell_type": "markdown",
   "metadata": {},
   "source": [
    "# stability over random init\n",
    "**note there are some nans/infs here which are being ignored**"
   ]
  },
  {
   "cell_type": "code",
   "execution_count": null,
   "metadata": {},
   "outputs": [],
   "source": [
    "chr(ord('A'))"
   ]
  },
  {
   "cell_type": "code",
   "execution_count": null,
   "metadata": {},
   "outputs": [],
   "source": [
    "sweep_params = ['lr', 'optimizer', 'num_layers', 'dset', 'batch_size', 'shuffle_labels', 'hidden_size']# wanna group by everything but seed\n",
    "r = results[results.shuffle_labels == False]\n",
    "r_mu = r.groupby(sweep_params).mean()\n",
    "r_std = r.groupby(sweep_params).std()\n",
    "r_snr = r_mu / r_std\n",
    "r_mu = r_mu.reset_index()\n",
    "r_std = r_std.reset_index()\n",
    "# print(r_mu.describe())\n",
    "\n",
    "R, C = 4, 4\n",
    "vals = ['max_train_acc', 'max_test_acc', 'corr0_final', 'corr1_final', \n",
    "        'fc0_fro_final', 'fc1_fro_final', 'fc0_stab_rank_final', 'fc1_stab_rank_final', 'act0_stab_rank_final', 'act1_stab_rank_final']\n",
    "val_labs = ['Train Acc', 'Test Acc', '$\\\\rho_{mem}(W_1)$', '$\\\\rho_{mem}(W_2)$', \n",
    "        '$||W_1||_F$', '$||W_2||_F$', 'Stable rank($||W_1||$)', 'Stable rank($||W_2||$)', 'Stable rank($||A_1||$)', 'Stable rank($||A_2||$)']\n",
    "\n",
    "plt.figure(figsize=(14, 20), dpi=100)\n",
    "for i, val in enumerate(vals):\n",
    "    plt.subplot(R, C, i + 1)\n",
    "    plt.title(val_labs[i])\n",
    "    plt.title(chr(ord('A') + i), loc='left', fontweight='bold')\n",
    "    sns.scatterplot(r_mu[val], r_std[val], legend=None, alpha=0.5) # hue=r_mu['optimizer'], \n",
    "\n",
    "    # print diag line\n",
    "    left, right = plt.xlim()  # return the current xlim\n",
    "    xspace = np.linspace(0, right, 100)\n",
    "    plt.plot(xspace, xspace, '--', alpha=0.5, color='black')\n",
    "    ymax = np.max(r_std[val])\n",
    "    dy = ymax / 20\n",
    "    plt.ylim(-dy, ymax + dy)\n",
    "    plt.xlabel('Mean')\n",
    "    plt.ylabel('S.D.')\n",
    "plt.show()"
   ]
  },
  {
   "cell_type": "code",
   "execution_count": null,
   "metadata": {},
   "outputs": [],
   "source": [
    "means = [] \n",
    "medians = []\n",
    "# plt.figure(figsize=(4, 2), dpi=100)\n",
    "for i, val in enumerate(vals):\n",
    "    snr = r_snr[val].values\n",
    "    snr = snr[np.isfinite(snr)]\n",
    "    means.append(np.mean(snr))\n",
    "    medians.append(np.median(snr))\n",
    "# r_snr['max_train_acc']\n",
    "# sns.barplot(x = means, y = vals, orient='h')\n",
    "\n",
    "sns.barplot(x = medians, y = val_labs, orient='h')\n",
    "plt.xlabel(\"Median signal to noise ratio (Mean / S.D. accross random initializations)\")\n",
    "plt.savefig('out.png', dpi=300)\n",
    "plt.show()"
   ]
  },
  {
   "cell_type": "code",
   "execution_count": null,
   "metadata": {},
   "outputs": [],
   "source": [
    "sweep_params = ['lr', 'optimizer', 'num_layers', 'dset', 'batch_size', 'shuffle_labels', 'hidden_size']# wanna group by everything but seed\n",
    "r = results[results.shuffle_labels == False]\n",
    "r_mu = r.groupby(sweep_params).mean()\n",
    "r_std = r.groupby(sweep_params).std()\n",
    "r_snr = r_mu / r_std\n",
    "r_mu = r_mu.reset_index()\n",
    "r_std = r_std.reset_index()\n",
    "# print(r_mu.describe())\n",
    "\n",
    "R, C = 4, 4\n",
    "vals = ['max_train_acc', 'max_test_acc', 'corr0_final', 'corr1_final', \n",
    "        'fc0_fro_final', 'fc1_fro_final', 'fc0_stab_rank_final', 'fc1_stab_rank_final', 'act0_stab_rank_final', 'act1_stab_rank_final']\n",
    "plt.figure(figsize=(12, 18), dpi=100)\n",
    "for i, val in enumerate(vals):\n",
    "    plt.subplot(R, C, i + 1)\n",
    "    plt.title(val)\n",
    "    snr = r_snr[val].values\n",
    "    snr = snr[np.isfinite(snr)]\n",
    "    plt.hist(snr)\n",
    "plt.show()"
   ]
  },
  {
   "cell_type": "code",
   "execution_count": null,
   "metadata": {},
   "outputs": [],
   "source": []
  }
 ],
 "metadata": {
  "anaconda-cloud": {},
  "kernelspec": {
   "display_name": "Python 3",
   "language": "python",
   "name": "python3"
  },
  "language_info": {
   "codemirror_mode": {
    "name": "ipython",
    "version": 3
   },
   "file_extension": ".py",
   "mimetype": "text/x-python",
   "name": "python",
   "nbconvert_exporter": "python",
   "pygments_lexer": "ipython3",
   "version": "3.5.4"
  }
 },
 "nbformat": 4,
 "nbformat_minor": 2
}
