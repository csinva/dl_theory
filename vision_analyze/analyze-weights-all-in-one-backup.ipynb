{
 "cells": [
  {
   "cell_type": "code",
   "execution_count": 3,
   "metadata": {},
   "outputs": [],
   "source": [
    "import os\n",
    "from os.path import join as oj\n",
    "import sys, time\n",
    "sys.path.insert(1, oj(sys.path[0], '..'))  # insert parent path\n",
    "import seaborn as sns\n",
    "import numpy as np\n",
    "import matplotlib.pyplot as plt\n",
    "from tqdm import tqdm\n",
    "from copy import deepcopy\n",
    "import pickle as pkl\n",
    "import pandas as pd\n",
    "import math\n",
    "# plt.style.use('dark_background')\n",
    "from mog_fit import data\n",
    "from collections import OrderedDict\n",
    "from sklearn import preprocessing\n",
    "\n",
    "import torch\n",
    "from torch.autograd import Variable\n",
    "from mog_analyze import viz\n",
    "from sklearn.decomposition import PCA\n",
    "\n",
    "import warnings\n",
    "warnings.filterwarnings(\"ignore\")\n",
    "import viz_losses, viz_weights\n",
    "\n",
    "%load_ext autoreload\n",
    "%autoreload 2"
   ]
  },
  {
   "cell_type": "code",
   "execution_count": 4,
   "metadata": {},
   "outputs": [],
   "source": [
    "from scipy.stats import entropy\n",
    "from scipy.stats import ks_2samp"
   ]
  },
  {
   "cell_type": "code",
   "execution_count": 5,
   "metadata": {},
   "outputs": [],
   "source": [
    "plt.style.use('fivethirtyeight')\n"
   ]
  },
  {
   "cell_type": "code",
   "execution_count": 6,
   "metadata": {},
   "outputs": [],
   "source": [
    "import matplotlib as mpl\n",
    "import matplotlib.pylab as pylab\n",
    "label_size = 12\n",
    "mpl.rcParams['xtick.labelsize'] = label_size \n",
    "mpl.rcParams['ytick.labelsize'] = label_size \n",
    "mpl.rcParams['axes.labelsize'] = label_size\n",
    "mpl.rcParams['axes.titlesize'] = label_size\n",
    "mpl.rcParams['figure.titlesize'] = label_size\n",
    "mpl.rcParams['lines.markersize'] = 20\n",
    "mpl.rcParams['lines.linewidth'] = 3.\n",
    "mpl.rcParams['grid.linewidth'] = 1.\n",
    "mpl.rcParams['legend.fontsize'] = label_size\n",
    "pylab.rcParams['xtick.major.pad']=3\n",
    "pylab.rcParams['ytick.major.pad']=3\n",
    "# mpl.rcParams['figure.figsize'] = [12, 10]\n",
    "# mpl.rcParams.keys()\n",
    "# Say, \"the default sans-serif font is COMIC SANS\"\n",
    "# mpl.rcParams['font.serif'] = 'Times New Roman'\n",
    "# # Then, \"ALWAYS use sans-serif fonts\"\n",
    "# mpl.rcParams['font.family'] = \"Serif\"\n",
    "\n"
   ]
  },
  {
   "cell_type": "code",
   "execution_count": 7,
   "metadata": {},
   "outputs": [],
   "source": [
    "# pylab.rcParams.keys()"
   ]
  },
  {
   "cell_type": "code",
   "execution_count": 8,
   "metadata": {},
   "outputs": [],
   "source": [
    "pylab.rcParams['figure.facecolor']='white'\n",
    "pylab.rcParams['axes.facecolor']='white'"
   ]
  },
  {
   "cell_type": "markdown",
   "metadata": {},
   "source": [
    "# load results from a directory"
   ]
  },
  {
   "cell_type": "code",
   "execution_count": 9,
   "metadata": {},
   "outputs": [],
   "source": [
    "# out_dir_main = '/scratch/users/vision/yu_dl/raaz.rsk/adam_vs_sgd_ref'\n",
    "out_dir_main = '/scratch/users/vision/yu_dl/raaz.rsk/track_acts/sweep_full_real'\n",
    "folder = ''"
   ]
  },
  {
   "cell_type": "code",
   "execution_count": 822,
   "metadata": {
    "scrolled": true
   },
   "outputs": [
    {
     "data": {
      "text/plain": [
       "(688, 46)"
      ]
     },
     "execution_count": 822,
     "metadata": {},
     "output_type": "execute_result"
    }
   ],
   "source": [
    "results.shape"
   ]
  },
  {
   "cell_type": "code",
   "execution_count": 10,
   "metadata": {},
   "outputs": [
    {
     "name": "stderr",
     "output_type": "stream",
     "text": [
      "100%|██████████| 1500/1500 [00:14<00:00, 105.47it/s]\n"
     ]
    }
   ],
   "source": [
    "# depending on how much is saved, this may take a while\n",
    "out_dir = oj(out_dir_main, folder)\n",
    "fnames = sorted(os.listdir(out_dir))\n",
    "results_list = [pd.Series(pkl.load(open(oj(out_dir, fname), \"rb\"))) for fname in tqdm(fnames) if not fname.startswith('weights')]\n",
    "results = pd.concat(results_list, axis=1).T.infer_objects()\n",
    "\n",
    "save_dir = 'test'\n",
    "if not os.path.exists(save_dir):\n",
    "    os.makedirs(save_dir)"
   ]
  },
  {
   "cell_type": "code",
   "execution_count": 12,
   "metadata": {},
   "outputs": [
    {
     "data": {
      "text/plain": [
       "(750, 44)"
      ]
     },
     "execution_count": 12,
     "metadata": {},
     "output_type": "execute_result"
    }
   ],
   "source": [
    "results.shape"
   ]
  },
  {
   "cell_type": "code",
   "execution_count": 11,
   "metadata": {},
   "outputs": [],
   "source": [
    "for i in tqdm(range(len(results))):\n",
    "    results.accs_train[i] *= 100/results.batch_size[i]\n",
    "    results.accs_test[i] *=  100/results.batch_size[i]"
   ]
  },
  {
   "cell_type": "code",
   "execution_count": 13,
   "metadata": {},
   "outputs": [],
   "source": [
    "results['max_train_acc'] = np.array([max(results.accs_train[i]) for i in range(len(results)) ]) \n",
    "results['max_test_acc'] = np.array([max(results.accs_test[i]) for i in range(len(results)) ])"
   ]
  },
  {
   "cell_type": "code",
   "execution_count": 14,
   "metadata": {},
   "outputs": [
    {
     "data": {
      "text/plain": [
       "Index(['accs_test', 'accs_test_r', 'accs_train', 'accs_train_r',\n",
       "       'act_singular_val_dicts_test_pca', 'act_singular_val_dicts_test_rbf',\n",
       "       'act_singular_val_dicts_train_pca', 'act_singular_val_dicts_train_rbf',\n",
       "       'batch_size', 'calc_activations', 'dset', 'freeze', 'hidden_size',\n",
       "       'its', 'losses_test', 'losses_test_r', 'losses_train', 'losses_train_r',\n",
       "       'lr', 'lr_step', 'lr_ticks', 'mean_margin_test',\n",
       "       'mean_margin_test_unnormalized', 'mean_margin_train',\n",
       "       'mean_margin_train_unnormalized', 'num_iters', 'num_iters_small',\n",
       "       'num_layers', 'optimizer', 'out_dir', 'save_acts_and_reduce',\n",
       "       'save_all_weights_freq', 'saves_per_iter', 'saves_per_iter_end', 'seed',\n",
       "       'shuffle_labels', 'singular_val_dicts_cosine', 'singular_val_dicts_lap',\n",
       "       'singular_val_dicts_pca', 'singular_val_dicts_rbf', 'use_conv',\n",
       "       'use_conv_special', 'weight_names', 'weight_norms', 'max_train_acc',\n",
       "       'max_test_acc'],\n",
       "      dtype='object')"
      ]
     },
     "execution_count": 14,
     "metadata": {},
     "output_type": "execute_result"
    }
   ],
   "source": [
    "results.keys()"
   ]
  },
  {
   "cell_type": "code",
   "execution_count": 20,
   "metadata": {},
   "outputs": [
    {
     "data": {
      "image/png": "[encoded data removed]",
      "text/plain": [
       "<Figure size 576x396 with 1 Axes>"
      ]
     },
     "metadata": {},
     "output_type": "display_data"
    }
   ],
   "source": [
    "plt.scatter(results['max_train_acc'], results['max_test_acc'], marker='.')\n",
    "plt.show()"
   ]
  },
  {
   "cell_type": "code",
   "execution_count": 21,
   "metadata": {},
   "outputs": [],
   "source": [
    "# use this function to create a filter based on several conditions\n",
    "def idx_filter(conds):\n",
    "    ans = np.bool(len(conds[0]))\n",
    "    for cond in conds:\n",
    "        ans = ans & cond\n",
    "    return np.where(ans)[0]"
   ]
  },
  {
   "cell_type": "code",
   "execution_count": null,
   "metadata": {},
   "outputs": [],
   "source": [
    "def conditions(case)"
   ]
  },
  {
   "cell_type": "code",
   "execution_count": 46,
   "metadata": {},
   "outputs": [],
   "source": [
    "# different conditions\n",
    "\n",
    "cifar_conds = [\n",
    "    (results.max_train_acc <= 1.), \n",
    "        (results.max_train_acc >= .95), \n",
    "        (results.dset=='cifar10'),\n",
    "        (results.shuffle_labels==False),\n",
    "        (results.num_layers==4),\n",
    "#         (results.seed==2),\n",
    "        (results.optimizer=='sgd'), \n",
    "#         (results.lr==0.01), \n",
    "#         (results.batch_size==100),\n",
    "       ]\n",
    "mnist_conds = [(results.max_train_acc <= 1.), \n",
    "        (results.max_train_acc >= .95), \n",
    "        (results.dset=='mnist'),\n",
    "        (results.num_layers==4),\n",
    "#         (results.seed==2),\n",
    "        (results.optimizer=='sgd'), \n",
    "#         (results.lr==0.001), \n",
    "        (results.batch_size==100),\n",
    "       ]\n",
    "\n",
    "\n",
    "# cifar_idxs = idx_filter(cifar_conds)\n",
    "\n"
   ]
  },
  {
   "cell_type": "code",
   "execution_count": 115,
   "metadata": {},
   "outputs": [],
   "source": [
    "ITS = results.its[0]"
   ]
  },
  {
   "cell_type": "code",
   "execution_count": 97,
   "metadata": {},
   "outputs": [
    {
     "data": {
      "text/plain": [
       "Index(['accs_test', 'accs_test_r', 'accs_train', 'accs_train_r',\n",
       "       'act_singular_val_dicts_test_pca', 'act_singular_val_dicts_test_rbf',\n",
       "       'act_singular_val_dicts_train_pca', 'act_singular_val_dicts_train_rbf',\n",
       "       'batch_size', 'calc_activations', 'dset', 'freeze', 'hidden_size',\n",
       "       'its', 'losses_test', 'losses_test_r', 'losses_train', 'losses_train_r',\n",
       "       'lr', 'lr_step', 'lr_ticks', 'mean_margin_test',\n",
       "       'mean_margin_test_unnormalized', 'mean_margin_train',\n",
       "       'mean_margin_train_unnormalized', 'num_iters', 'num_iters_small',\n",
       "       'num_layers', 'optimizer', 'out_dir', 'save_acts_and_reduce',\n",
       "       'save_all_weights_freq', 'saves_per_iter', 'saves_per_iter_end', 'seed',\n",
       "       'shuffle_labels', 'singular_val_dicts_cosine', 'singular_val_dicts_lap',\n",
       "       'singular_val_dicts_pca', 'singular_val_dicts_rbf', 'use_conv',\n",
       "       'use_conv_special', 'weight_names', 'weight_norms', 'max_train_acc',\n",
       "       'max_test_acc'],\n",
       "      dtype='object')"
      ]
     },
     "execution_count": 97,
     "metadata": {},
     "output_type": "execute_result"
    }
   ],
   "source": [
    "results.keys()"
   ]
  },
  {
   "cell_type": "code",
   "execution_count": 112,
   "metadata": {},
   "outputs": [],
   "source": [
    "rg = results.loc[idx_filter(cifar_conds)].groupby(['shuffle_labels',\n",
    "    'dset', 'num_layers', 'optimizer', 'lr', 'batch_size'])\n",
    "rg = results.groupby(['shuffle_labels',\n",
    "    'dset', 'num_layers', 'optimizer', 'lr', 'batch_size'])"
   ]
  },
  {
   "cell_type": "code",
   "execution_count": 113,
   "metadata": {},
   "outputs": [],
   "source": [
    "sl, dset, num_layers, opt, lr, bs = False, 'cifar10', 4, 'sgd', 0.01, 100"
   ]
  },
  {
   "cell_type": "code",
   "execution_count": 116,
   "metadata": {},
   "outputs": [
    {
     "data": {
      "text/plain": [
       "<matplotlib.collections.PolyCollection at 0x7f1c819d6be0>"
      ]
     },
     "execution_count": 116,
     "metadata": {},
     "output_type": "execute_result"
    },
    {
     "data": {
      "image/png": "[encoded data removed]",
      "text/plain": [
       "<Figure size 576x396 with 1 Axes>"
      ]
     },
     "metadata": {},
     "output_type": "display_data"
    }
   ],
   "source": [
    "x = ITS\n",
    "accs = np.vstack(rg.get_group((sl, dset, num_layers, opt, lr, bs))['accs_test'])\n",
    "accs_mean = accs.mean(axis=0)\n",
    "accs_std = accs.std(axis=0)\n",
    "y = accs_mean\n",
    "plt.plot(x, y)\n",
    "plt.fill_between(x, np.maximum(y-3*accs_std, 0.), np.minimum(y+3*accs_std, 1.),\n",
    "                 alpha=0.3,)\n",
    "# plt.plot(np.vstack(rg.get_group((0.001, 10))['accs_train']).std(axis=0))"
   ]
  },
  {
   "cell_type": "code",
   "execution_count": null,
   "metadata": {},
   "outputs": [],
   "source": [
    "results.loc[idx_filter(cifar_conds)].groupby(['lr', 'batch_size']).groups"
   ]
  },
  {
   "cell_type": "code",
   "execution_count": 1221,
   "metadata": {},
   "outputs": [
    {
     "data": {
      "text/html": [
       "<div>\n",
       "<style scoped>\n",
       "    .dataframe tbody tr th:only-of-type {\n",
       "        vertical-align: middle;\n",
       "    }\n",
       "\n",
       "    .dataframe tbody tr th {\n",
       "        vertical-align: top;\n",
       "    }\n",
       "\n",
       "    .dataframe thead th {\n",
       "        text-align: right;\n",
       "    }\n",
       "</style>\n",
       "<table border=\"1\" class=\"dataframe\">\n",
       "  <thead>\n",
       "    <tr style=\"text-align: right;\">\n",
       "      <th></th>\n",
       "      <th>dset</th>\n",
       "      <th>max_train_acc</th>\n",
       "      <th>max_test_acc</th>\n",
       "      <th>shuffle_labels</th>\n",
       "      <th>seed</th>\n",
       "      <th>optimizer</th>\n",
       "      <th>lr</th>\n",
       "      <th>num_layers</th>\n",
       "      <th>batch_size</th>\n",
       "    </tr>\n",
       "  </thead>\n",
       "  <tbody>\n",
       "    <tr>\n",
       "      <th>71</th>\n",
       "      <td>mnist</td>\n",
       "      <td>0.983550</td>\n",
       "      <td>0.9733</td>\n",
       "      <td>False</td>\n",
       "      <td>0</td>\n",
       "      <td>sgd</td>\n",
       "      <td>0.01</td>\n",
       "      <td>4</td>\n",
       "      <td>100</td>\n",
       "    </tr>\n",
       "    <tr>\n",
       "      <th>55</th>\n",
       "      <td>mnist</td>\n",
       "      <td>0.983600</td>\n",
       "      <td>0.9734</td>\n",
       "      <td>False</td>\n",
       "      <td>1</td>\n",
       "      <td>sgd</td>\n",
       "      <td>0.01</td>\n",
       "      <td>4</td>\n",
       "      <td>100</td>\n",
       "    </tr>\n",
       "    <tr>\n",
       "      <th>172</th>\n",
       "      <td>mnist</td>\n",
       "      <td>0.984483</td>\n",
       "      <td>0.9729</td>\n",
       "      <td>False</td>\n",
       "      <td>2</td>\n",
       "      <td>sgd</td>\n",
       "      <td>0.01</td>\n",
       "      <td>4</td>\n",
       "      <td>100</td>\n",
       "    </tr>\n",
       "    <tr>\n",
       "      <th>428</th>\n",
       "      <td>mnist</td>\n",
       "      <td>1.000000</td>\n",
       "      <td>0.9836</td>\n",
       "      <td>False</td>\n",
       "      <td>0</td>\n",
       "      <td>sgd</td>\n",
       "      <td>0.10</td>\n",
       "      <td>4</td>\n",
       "      <td>100</td>\n",
       "    </tr>\n",
       "    <tr>\n",
       "      <th>675</th>\n",
       "      <td>mnist</td>\n",
       "      <td>1.000000</td>\n",
       "      <td>0.9841</td>\n",
       "      <td>False</td>\n",
       "      <td>1</td>\n",
       "      <td>sgd</td>\n",
       "      <td>0.10</td>\n",
       "      <td>4</td>\n",
       "      <td>100</td>\n",
       "    </tr>\n",
       "    <tr>\n",
       "      <th>126</th>\n",
       "      <td>mnist</td>\n",
       "      <td>1.000000</td>\n",
       "      <td>0.9844</td>\n",
       "      <td>False</td>\n",
       "      <td>2</td>\n",
       "      <td>sgd</td>\n",
       "      <td>0.10</td>\n",
       "      <td>4</td>\n",
       "      <td>100</td>\n",
       "    </tr>\n",
       "    <tr>\n",
       "      <th>21</th>\n",
       "      <td>mnist</td>\n",
       "      <td>0.976617</td>\n",
       "      <td>0.2070</td>\n",
       "      <td>True</td>\n",
       "      <td>0</td>\n",
       "      <td>sgd</td>\n",
       "      <td>1.00</td>\n",
       "      <td>4</td>\n",
       "      <td>100</td>\n",
       "    </tr>\n",
       "    <tr>\n",
       "      <th>348</th>\n",
       "      <td>mnist</td>\n",
       "      <td>0.977300</td>\n",
       "      <td>0.1480</td>\n",
       "      <td>True</td>\n",
       "      <td>1</td>\n",
       "      <td>sgd</td>\n",
       "      <td>1.00</td>\n",
       "      <td>4</td>\n",
       "      <td>100</td>\n",
       "    </tr>\n",
       "    <tr>\n",
       "      <th>403</th>\n",
       "      <td>mnist</td>\n",
       "      <td>0.974867</td>\n",
       "      <td>0.1631</td>\n",
       "      <td>True</td>\n",
       "      <td>2</td>\n",
       "      <td>sgd</td>\n",
       "      <td>1.00</td>\n",
       "      <td>4</td>\n",
       "      <td>100</td>\n",
       "    </tr>\n",
       "  </tbody>\n",
       "</table>\n",
       "</div>"
      ],
      "text/plain": [
       "      dset  max_train_acc  max_test_acc  shuffle_labels  seed optimizer    lr  \\\n",
       "71   mnist       0.983550        0.9733           False     0       sgd  0.01   \n",
       "55   mnist       0.983600        0.9734           False     1       sgd  0.01   \n",
       "172  mnist       0.984483        0.9729           False     2       sgd  0.01   \n",
       "428  mnist       1.000000        0.9836           False     0       sgd  0.10   \n",
       "675  mnist       1.000000        0.9841           False     1       sgd  0.10   \n",
       "126  mnist       1.000000        0.9844           False     2       sgd  0.10   \n",
       "21   mnist       0.976617        0.2070            True     0       sgd  1.00   \n",
       "348  mnist       0.977300        0.1480            True     1       sgd  1.00   \n",
       "403  mnist       0.974867        0.1631            True     2       sgd  1.00   \n",
       "\n",
       "     num_layers  batch_size  \n",
       "71            4         100  \n",
       "55            4         100  \n",
       "172           4         100  \n",
       "428           4         100  \n",
       "675           4         100  \n",
       "126           4         100  \n",
       "21            4         100  \n",
       "348           4         100  \n",
       "403           4         100  "
      ]
     },
     "execution_count": 1221,
     "metadata": {},
     "output_type": "execute_result"
    }
   ],
   "source": [
    "# mnist\n",
    "results[['dset','max_train_acc', 'max_test_acc', 'shuffle_labels', 'seed','optimizer', 'lr', 'num_layers', 'batch_size']].loc[idx_filter(mnist_conds)].sort_values(\n",
    "     ['shuffle_labels', 'optimizer', 'num_layers', 'batch_size', 'lr', 'seed',])"
   ]
  },
  {
   "cell_type": "markdown",
   "metadata": {},
   "source": [
    "# What to plot\n",
    "\n",
    "- here we select indices and provide title/legend labels so that we can keep a track of what we are comparing\n",
    "- idxs_list provides a list of lists (mostly one list). \n",
    "- each outer list is labeled by label_list and each sublist is labeled by labels\n",
    "- I have manually selected the indices based on what I wanted to compare, didn't create a function because \n",
    "  there are too many things to specify.\n",
    "- If the indices and labels are well-specified, rest of the code can be run directly."
   ]
  },
  {
   "cell_type": "code",
   "execution_count": 1262,
   "metadata": {},
   "outputs": [],
   "source": [
    "## MNIST INDICES\n",
    "\n",
    "\n",
    "idxs_list = [[480, 221]] # TWO LISTS\n",
    "labels = ['true label', 'random label'] # true vs random labels\n",
    "label_list = ['mnist4L-sgd-0.1-bs10'] # adam vs sgd\n",
    "\n",
    "\n",
    "# idxs_list = [[172, 126], [112, 188]] # just one list\n",
    "# labels = ['small step 1x', 'large step 10x'] # different step sizes across indices (for\n",
    "# #  for sgd 0.01 and 0.1; for adam it is 0.001 and 0.01)\n",
    "# label_list = ['mnist4L-effect-of-step-size-sgd-bs100', 'mnist4L-adam-effect-of-step-size-bs100']\n",
    "\n",
    "# idxs_list = [[69, 112, 204], [480, 675, 419]] # two lists\n",
    "# labels = ['bs10', 'bs100', 'bs1000'] # different batch sizes across indices for adam\n",
    "# label_list = ['mnist4L-batch-size-adam-0.001', 'mnist4L-batch-size-sgd-0.1']\n",
    "\n",
    "# idxs_list = [[680, 71, 513]] # just one list\n",
    "# labels = ['bs10', 'bs100', 'bs1000'] # different batch and step sizes across indices for sgd\n",
    "# label_list = ['mnist4L-batch-step-const-sgd-0.001-0.01-0.1']\n",
    "\n",
    "\n",
    "# idxs_list = [[654, 45]] # just one list\n",
    "# labels = ['bs100', 'bs1000'] # different batch and step sizes across indices for sgd\n",
    "# label_list = ['mnist4L-batch-step-const-adam-0.001-0.01']\n",
    "# =========================\n",
    "\n",
    "## CIFAR INDICES\n",
    "\n",
    "# idxs_list = [[191, 518], [450, 677]] # just one list\n",
    "# labels = ['small step 1x', 'large step 10x'] # different step sizes across indices (for\n",
    "# # #  for sgd 0.01 and 0.1; for adam it is 0.001 and 0.01)\n",
    "# label_list = ['cifar4L-sgd-effect-of-step-size-bs100', 'cifar4L-adam-effect-of-step-size-bs1000'] \n",
    "\n",
    "# idxs_list = [[109, 528, 425]] # just one list\n",
    "# labels = ['bs10', 'bs100', 'bs1000'] # same step size, similar accuracy\n",
    "# label_list = ['cifar2L-batch-size-adam']\n",
    "\n",
    "\n",
    "# idxs_list = [[524, 85, 268], [559, 49]] # just one list\n",
    "# labels = ['bs10', 'bs100', 'bs1000'] # same step size, similar accuracy\n",
    "# label_list = ['cifar4L-batch-size-adam-0.001', 'cifar4L-batch-size-sgd-0.01']\n",
    "\n",
    "# idxs_list = [[559, 587, 63]] # just one list\n",
    "# labels = ['bs10', 'bs100', 'bs1000'] # same step size, similar accuracy\n",
    "# label_list = ['cifar4L-batch-step-const-sgd-0.01-0.1-1']\n",
    "\n",
    "# idxs_list = [[524, 677]] # just one list\n",
    "# labels = ['bs100', 'bs1000'] # different batch and step sizes across indices for sgd\n",
    "# label_list = ['cifar4L-batch-step-const-adam-0.001-0.01']\n",
    "\n",
    "# idxs_list = [[49, 442]]\n",
    "# labels = ['true label', 'random label'] # true vs random labels\n",
    "# label_list = ['cifar4L-sgd-0.1-bs100'] # adam vs sgd\n",
    "\n",
    "# idxs_list = [[429, 133]]\n",
    "# labels = ['true label', 'random label'] # true vs random labels\n",
    "# label_list = ['cifar2L-adam-0.001-bs100'] # adam vs sgd\n",
    "\n",
    "\n",
    "### UNION across datasets\n",
    "\n",
    "\n",
    "# idxs_list = [[172, 126], [191, 518]] \n",
    "# labels = ['small step 1x', 'large step 10x']\n",
    "# # # #  for sgd 0.01 and 0.1; for adam it is 0.001 and 0.01)\n",
    "# label_list = ['mnist4L-sgd-effect-of-step-size-bs100','cifar4L-sgd-effect-of-step-size-bs100'] \n",
    "\n",
    "# idxs_list = [[112, 188], [450, 677]]\n",
    "# labels = ['small step 1x', 'large step 10x']\n",
    "# # # #  for sgd 0.01 and 0.1; for adam it is 0.001 and 0.01)\n",
    "# label_list = ['mnist4L-adam-effect-of-step-size-bs100','cifar4L-adam-effect-of-step-size-bs100'] \n",
    "\n",
    "\n",
    "# idxs_list = [[480, 675, 419], [559, 49]] \n",
    "# labels = ['bs10', 'bs100', 'bs1000']\n",
    "# label_list = ['mnist4L-batch-size-sgd-0.1', 'cifar4L-batch-size-sgd-0.01'] \n",
    "\n",
    "# idxs_list = [[69, 112, 204], [524, 85, 268]]\n",
    "# labels = ['bs10', 'bs100', 'bs1000']\n",
    "# label_list = ['mnist4L-batch-size-adam-0.001', 'cifar4L-batch-adam-0.001'] \n",
    "\n",
    "\n",
    "\n",
    "\n"
   ]
  },
  {
   "cell_type": "markdown",
   "metadata": {},
   "source": [
    "## Prelim view\n",
    "\n"
   ]
  },
  {
   "cell_type": "code",
   "execution_count": 1263,
   "metadata": {},
   "outputs": [
    {
     "data": {
      "image/png": "[encoded data removed]",
      "text/plain": [
       "<Figure size 1152x288 with 4 Axes>"
      ]
     },
     "metadata": {},
     "output_type": "display_data"
    }
   ],
   "source": [
    "# first we visualize losses\n",
    "\n",
    "fields = ['losses_train', 'losses_test', 'accs_train', 'accs_test']\n",
    "num_epochs = 150\n",
    "\n",
    "for idxs, lab in zip(idxs_list, label_list):\n",
    "    \n",
    "    plt.figure(figsize=[4*len(fields), 4])\n",
    "    for i, field in enumerate(fields):\n",
    "        plt.subplot(1, len(fields), i+1)\n",
    "        for j, idx in enumerate(idxs):\n",
    "            if 'losses' in field:\n",
    "                plt.semilogy(results.its[idx], results[field][idx], label=labels[j])\n",
    "            else:\n",
    "                plt.plot(results.its[idx], results[field][idx], label=labels[j])\n",
    "        plt.legend()\n",
    "        plt.title(field)\n",
    "    plt.suptitle(lab)\n",
    "    plt.show()"
   ]
  },
  {
   "cell_type": "code",
   "execution_count": 1264,
   "metadata": {},
   "outputs": [
    {
     "data": {
      "image/png": "[encoded data removed]",
      "text/plain": [
       "<Figure size 720x288 with 2 Axes>"
      ]
     },
     "metadata": {},
     "output_type": "display_data"
    }
   ],
   "source": [
    "colors = ['blue', 'red', 'black']\n",
    "for k, (idxs, lab) in enumerate(zip(idxs_list, label_list)):\n",
    "    plt.figure(figsize=[10, 4])\n",
    "    plt.subplot(121)\n",
    "    for j, idx in enumerate(idxs):\n",
    "        plt.plot(results.mean_margin_train_unnormalized[idx]*100/results.batch_size[idx], color=colors[j], label=labels[j]+'-train')\n",
    "        plt.plot(results.mean_margin_test_unnormalized[idx]*100/results.batch_size[idx], linestyle='--', color=colors[j], \n",
    "                 label=labels[j]+'-test')\n",
    "    plt.legend()\n",
    "    plt.title('mean margin UN-normalized')\n",
    "\n",
    "    plt.subplot(122)\n",
    "    for j, idx in enumerate(idxs):\n",
    "        plt.plot(results.mean_margin_train[idx]*100/results.batch_size[idx], color=colors[j], label=labels[j]+'-train')\n",
    "        plt.plot(results.mean_margin_test[idx]*100/results.batch_size[idx], linestyle='--', color=colors[j], \n",
    "                 label=labels[j]+'-test')\n",
    "    plt.legend()\n",
    "    plt.title('mean margin normalized')\n",
    "    plt.suptitle(label_list[k])\n",
    "    plt.show()"
   ]
  },
  {
   "cell_type": "markdown",
   "metadata": {},
   "source": [
    "### More figures\n",
    "- Keep savfig off, unless you want to save figure in which case specify the file name carefully.\n",
    "- plotfig should be set to True to plot the figures\n",
    "- but there are too many figures and notebook can not be saved, so turn it to False and run the cells so that the notebook can be saved."
   ]
  },
  {
   "cell_type": "code",
   "execution_count": 1274,
   "metadata": {},
   "outputs": [],
   "source": [
    "savepath = 'figures/shuffle/'\n",
    "savfig = False\n",
    "plotfig = False\n",
    "if savfig:\n",
    "    fs = [12, 10]"
   ]
  },
  {
   "cell_type": "code",
   "execution_count": 1275,
   "metadata": {
    "scrolled": false
   },
   "outputs": [],
   "source": [
    "# suffix = '_summary.pdf'\n",
    "# if plotfig:\n",
    "#     for k, (idxs, lab) in enumerate(zip(idxs_list, label_list)):\n",
    "#         wkyes = sorted(results['singular_val_dicts_pca'][idxs[0]][0].keys())\n",
    "#         akeys = sorted(results['act_singular_val_dicts_train_pca'][idxs[0]][0].keys())\n",
    "#         for i, (weight_key, act_key) in enumerate(zip(wkeys, akeys)):\n",
    "#             if i < len(results['singular_val_dicts_pca'][idxs[0]][0].keys()):\n",
    "#                 print('layer = %d, weight-key = %s, activation-key = %s, hidden nodes = %d'%(i+1, \n",
    "#                     weight_key, act_key, len(results['act_singular_val_dicts_train_pca'][idx][0][act_key])))\n",
    "#                 R, C = 1, 4\n",
    "\n",
    "#                 for label, idx in zip(labels, idxs):\n",
    "#                     plt.figure(figsize=[4*C, R*3])\n",
    "#                     optim = results['optimizer'][idx]\n",
    "#                     lr = results['lr'][idx]\n",
    "#                     test_acc = results['accs_test'][idx][-1]\n",
    "\n",
    "#                     plt.subplot(141)    \n",
    "#                     plt.semilogy(results['losses_train'][idx], label='train', color='blue')\n",
    "#                     plt.semilogy(results['losses_test'][idx], linestyle='--', label='test', color='blue')\n",
    "#                     plt.ylabel('loss', color='blue')\n",
    "#                     plt.yticks(color='blue')\n",
    "#                     plt.xlabel('iterations')\n",
    "#                     plt.legend()\n",
    "#                     plt.grid(False)\n",
    "#                     plt.twinx()\n",
    "#                     plt.plot(results['accs_train'][idx], label='train', color='red')\n",
    "#                     plt.plot(results['accs_test'][idx], linestyle='--', label='test', color='red')\n",
    "#                     plt.ylabel('accuracy', color='red')\n",
    "#                     plt.yticks(color='red')\n",
    "#                     plt.title('Loss/Accuracy')\n",
    "#                     plt.grid(False)\n",
    "#                     plt.legend()\n",
    "\n",
    "#                     plt.subplot(142)    \n",
    "#                     stable_rank_acts =  np.array([np.sum(results['act_singular_val_dicts_train_pca'][idx][e][act_key])\n",
    "#                                                   /results['act_singular_val_dicts_train_pca'][idx][e][act_key][0] for e in range(num_epochs)])\n",
    "#                     stable_rank_acts_test =  np.array([np.sum(results['act_singular_val_dicts_test_pca'][idx][e][act_key])\n",
    "#                                                        /results['act_singular_val_dicts_test_pca'][idx][e][act_key][0] for e in range(num_epochs)])\n",
    "#                     stable_rank_weights = np.array([np.sum(results['singular_val_dicts_pca'][idx][e][weight_key])/\n",
    "#                                                     results['singular_val_dicts_pca'][idx][e][weight_key][0] for e in range(num_epochs)])\n",
    "\n",
    "#                     entropy_acts = np.array([entropy(results['act_singular_val_dicts_train_pca'][idx][e][act_key]) for e in range(num_epochs)])\n",
    "#                     entropy_acts_test = np.array([entropy(results['act_singular_val_dicts_test_pca'][idx][e][act_key]) for e in range(num_epochs)])\n",
    "#                     entropy_weights = np.array([entropy(results['singular_val_dicts_pca'][idx][e][weight_key]) for e in range(num_epochs)])\n",
    "\n",
    "#                     tr, te, w, title = stable_rank_acts, stable_rank_acts_test, stable_rank_weights, 'Stable Rank'\n",
    "#         #             tr, te, w, title = entropy_acts, entropy_acts_test, entropy_weights, 'Entropy'\n",
    "\n",
    "#                     plt.plot(tr,  color='blue')\n",
    "#                     plt.plot(te, linestyle='--', color='blue')\n",
    "#                     plt.ylabel('activation', color='blue')\n",
    "#                     plt.yticks(color='blue')\n",
    "#                     plt.xlabel('iterations')\n",
    "#                     plt.grid(False)\n",
    "#                     plt.twinx()\n",
    "#                     plt.plot(w, color='red')\n",
    "#                     plt.ylabel('weight', color='red')\n",
    "#                     plt.yticks(color='red')\n",
    "#                     plt.title(title)\n",
    "#                     plt.grid(False)\n",
    "\n",
    "\n",
    "#                     for epoch in epochs:\n",
    "#                         plt.subplot(143)\n",
    "#                         yval = results['act_singular_val_dicts_train_pca'][idx][epoch][act_key].cumsum()\n",
    "#                         yval /= np.sum(results['act_singular_val_dicts_train_pca'][idx][epoch][act_key])\n",
    "#                         plt.plot(yval, label=epoch)\n",
    "#                         plt.xlabel('index')\n",
    "#                         if epoch == 0:\n",
    "#                             plt.title('Activations SVD')\n",
    "\n",
    "#                         plt.subplot(144)\n",
    "#                         yval = results['singular_val_dicts_pca'][idx][epoch][weight_key].cumsum()\n",
    "#                         yval /= np.sum(results['singular_val_dicts_pca'][idx][epoch][weight_key])\n",
    "#                         plt.plot(yval, label=epoch)\n",
    "#                         if epoch == 0:\n",
    "#                             plt.title('Weights: Frac-SVD')\n",
    "#                         plt.xlabel('index')\n",
    "#                     plt.suptitle(lab+'-'+label)\n",
    "#                     plt.legend()\n",
    "#                     plt.tight_layout()\n",
    "#                     if savfig:  \n",
    "#                         plt.savefig(savepath+'layer_%d_%s'%(i+1, optim)+suffix)\n",
    "#                         plt.close\n",
    "#                     else:\n",
    "#                         plt.show()\n"
   ]
  },
  {
   "cell_type": "code",
   "execution_count": 1276,
   "metadata": {},
   "outputs": [],
   "source": [
    "# label_size = 30\n",
    "# mpl.rcParams['xtick.labelsize'] = label_size \n",
    "# mpl.rcParams['ytick.labelsize'] = label_size \n",
    "# mpl.rcParams['axes.labelsize'] = label_size\n",
    "# mpl.rcParams['axes.titlesize'] = label_size\n",
    "# mpl.rcParams['figure.titlesize'] = label_size\n",
    "# mpl.rcParams['lines.markersize'] = 20\n",
    "# mpl.rcParams['lines.linewidth'] = 5.\n",
    "# mpl.rcParams['grid.linewidth'] = 1.\n",
    "# mpl.rcParams['legend.fontsize'] = label_size\n",
    "# pylab.rcParams['xtick.major.pad']=3\n",
    "# pylab.rcParams['ytick.major.pad']=3\n",
    "# # mpl.rcParams['figure.figsize'] = [12, 10]"
   ]
  },
  {
   "cell_type": "markdown",
   "metadata": {},
   "source": [
    "# Summary of visualization\n",
    "\n",
    "Contrasting the weights and activations for the two datasets MNIST and CIFAR\n",
    "\n",
    "- Summary statistics: Stable rank and entropy with epoch\n",
    "\n",
    "- Evolution of cumsum of singular values across epochs\n",
    "\n",
    "- Evolution of histogram across epochs\n",
    "\n",
    "- Comparison of histogram for each label at initialization and after training.\n"
   ]
  },
  {
   "cell_type": "markdown",
   "metadata": {},
   "source": [
    "## Summmary Statistics "
   ]
  },
  {
   "cell_type": "code",
   "execution_count": 1277,
   "metadata": {
    "scrolled": false
   },
   "outputs": [],
   "source": [
    "if plotfig:\n",
    "    for lab, idxs in zip(label_list, idxs_list):\n",
    "        wkyes = sorted(results['singular_val_dicts_pca'][idxs[0]][0].keys())\n",
    "        akeys = sorted(results['act_singular_val_dicts_train_pca'][idxs[0]][0].keys())\n",
    "        if savfig:\n",
    "            plt.figure(figsize=fs)\n",
    "        else:\n",
    "            plt.figure(figsize=[8, 4])\n",
    "            plt.subplot(1,2,1)\n",
    "\n",
    "        for k, (idx, label) in enumerate(zip(idxs, labels)):\n",
    "            plt.semilogy(results['losses_train'][idx], label=label)\n",
    "        plt.title('Training Loss')\n",
    "        plt.legend()\n",
    "        plt.xlabel('Epoch')\n",
    "        plt.tight_layout()\n",
    "        \n",
    "        if savfig:\n",
    "            plt.savefig(savepath+'train_loss.pdf')\n",
    "            plt.close()\n",
    "            plt.figure(figsize=fs)\n",
    "        else:\n",
    "            plt.subplot(1,2,2)\n",
    "\n",
    "        for k, (idx, label) in enumerate(zip(idxs, labels)):\n",
    "            plt.plot(results['accs_test'][idx], label=label)\n",
    "        plt.title('Test Accuracy')\n",
    "        plt.legend()\n",
    "        plt.xlabel('Epoch')\n",
    "        plt.tight_layout()\n",
    "        plt.suptitle(lab)\n",
    "        if savfig:\n",
    "            plt.savefig(savepath+'train_accuracy.pdf')\n",
    "            plt.close()\n",
    "        else:\n",
    "            plt.show()\n",
    "\n",
    "        for i, (weight_key, act_key) in enumerate(zip(wkeys, akeys)):\n",
    "\n",
    "            comfix = 'Layer %d '%(i+1)\n",
    "            figfix = 'layer_%d_'%(i+1)\n",
    "            if not savfig:\n",
    "                plt.figure(figsize=[4*4, 4])\n",
    "            if i < len(results['singular_val_dicts_pca'][idxs[0]][0].keys()):\n",
    "                if savfig:\n",
    "                    plt.figure(figsize=fs)\n",
    "                else:\n",
    "                    plt.subplot(1, 4, 1)\n",
    "                for k, (idx, label) in enumerate(zip(idxs, labels)):\n",
    "                    stable_rank_weights =  np.array([\n",
    "                        np.sum(results['singular_val_dicts_pca'][idx][e][weight_key])/results['singular_val_dicts_pca'][idx][e][weight_key][0] \n",
    "                                                     for e in range(num_epochs)])\n",
    "                    plt.plot(stable_rank_weights, label=label)\n",
    "                plt.title(comfix+'Weights: Stable rank')\n",
    "                plt.legend()\n",
    "                plt.xlabel('Epoch')\n",
    "                plt.tight_layout()\n",
    "\n",
    "                if savfig:\n",
    "                    plt.savefig(savepath+figfix+'weights_stable_rank.pdf')\n",
    "                    plt.close()\n",
    "                    plt.figure(figsize=fs)\n",
    "                else:\n",
    "                    plt.subplot(1, 4, 2)\n",
    "\n",
    "                for k, (idx, label) in enumerate(zip(idxs, labels)):\n",
    "                    entropy_weights =  np.array([entropy(results['singular_val_dicts_pca'][idx][e][weight_key]) for e in range(num_epochs)])\n",
    "                    plt.plot(entropy_weights, label=label)\n",
    "                plt.title(comfix+'Weights: Entropy')\n",
    "                plt.legend()\n",
    "                plt.xlabel('Epoch')\n",
    "                plt.tight_layout()\n",
    "                if savfig:\n",
    "                    plt.savefig(savepath+figfix+'weights_entropy.pdf')\n",
    "                    plt.close()\n",
    "                    plt.figure(figsize=fs)\n",
    "                else:\n",
    "                    plt.subplot(1, 4, 3)\n",
    "\n",
    "\n",
    "                for k, (idx, label) in enumerate(zip(idxs, labels)):\n",
    "                    stable_rank_acts =  np.array([\n",
    "                        np.sum(results['act_singular_val_dicts_train_pca'][idx][e][act_key])\n",
    "                        /results['act_singular_val_dicts_train_pca'][idx][e][act_key][0] for e in range(num_epochs)])\n",
    "                    plt.plot(stable_rank_acts, label=label)\n",
    "                plt.title(comfix+'Training Activations: Stable rank')\n",
    "                plt.legend()\n",
    "                plt.xlabel('Epoch')\n",
    "                plt.tight_layout()\n",
    "                if savfig:\n",
    "                    plt.savefig(savepath+figfix+'train_acts_stable_rank.pdf')\n",
    "                    plt.close()\n",
    "                    plt.figure(figsize=fs)\n",
    "                else:\n",
    "                    plt.subplot(1, 4, 4)\n",
    "\n",
    "                for k, (idx, label) in enumerate(zip(idxs, labels)):\n",
    "                    entropy_acts =  np.array([entropy(results['act_singular_val_dicts_train_pca'][idx][e][act_key]) for e in range(num_epochs)])\n",
    "                    plt.plot(entropy_acts, label=label)\n",
    "                plt.title(comfix+'Activations: Entropy')\n",
    "                plt.legend()\n",
    "                plt.xlabel('Epoch')\n",
    "                plt.tight_layout()\n",
    "                plt.suptitle('#hidden=%d'%(len(results['act_singular_val_dicts_train_pca'][idx][e][act_key])))\n",
    "                if savfig:\n",
    "                    plt.savefig(savepath+figfix+'train_acts_entropy.pdf')\n",
    "                    plt.close()\n",
    "                else:\n",
    "                    plt.show()\n"
   ]
  },
  {
   "cell_type": "markdown",
   "metadata": {},
   "source": [
    "## Looking at cumsum"
   ]
  },
  {
   "cell_type": "code",
   "execution_count": 1278,
   "metadata": {
    "scrolled": false
   },
   "outputs": [],
   "source": [
    "epochs = [0, 1, 50, 150]\n",
    "if plotfig:\n",
    "    for lab, idxs in zip(label_list, idxs_list):\n",
    "        wkyes = sorted(results['singular_val_dicts_pca'][idxs[0]][0].keys())\n",
    "        akeys = sorted(results['act_singular_val_dicts_train_pca'][idxs[0]][0].keys())\n",
    "        for i, (weight_key, act_key) in enumerate(zip(wkeys, akeys)):\n",
    "            if i<len(results['singular_val_dicts_pca'][idxs[0]][0].keys()):\n",
    "                if not savfig:\n",
    "                    plt.figure(figsize=[4*4, 4])\n",
    "                for j, e in enumerate(epochs):\n",
    "                    figfix = 'layer_%d_cumsum_epoch_%d_'%(i+1, e)\n",
    "                    comfix = 'Layer %d '%(i+1)\n",
    "\n",
    "                    if savfig:\n",
    "                        plt.figure(figsize=fs)\n",
    "                    else:\n",
    "                        plt.subplot(1, 4, j+1)\n",
    "                    for idx, label in zip(idxs, labels):\n",
    "                        yval = results['singular_val_dicts_pca'][idx][e][weight_key].cumsum()\n",
    "                        yval /= yval[-1]\n",
    "                        plt.plot(yval, label=label), \n",
    "                    plt.title(comfix+'Weights: Epoch=%d'%(e))\n",
    "                    plt.legend()\n",
    "                    plt.tight_layout()\n",
    "                    if savfig:\n",
    "                        plt.savefig(savepath+figfix+'weights.pdf')\n",
    "                        plt.close()\n",
    "                plt.suptitle(lab+' Layer %d'%(i+1))\n",
    "                if not savfig:\n",
    "                    plt.show()\n",
    "                    plt.figure(figsize=[4*4, 4])\n",
    "\n",
    "                for j, e in enumerate(epochs):\n",
    "                    figfix = 'layer_%d_cumsum_epoch_%d_'%(i+1, e)\n",
    "                    comfix = 'Layer %d '%(i+1)\n",
    "                    if savfig:\n",
    "                        plt.figure(figsize=fs)\n",
    "                    else:\n",
    "                        plt.subplot(1, 4, j+1)\n",
    "                    for idx, label in zip(idxs, labels):\n",
    "                        yval = results['act_singular_val_dicts_train_pca'][idx][e][act_key].cumsum()\n",
    "                        yval /= yval[-1]\n",
    "                        plt.plot(yval, label=label),\n",
    "\n",
    "                    plt.title(comfix+'Activations: Epoch=%d'%(e))\n",
    "                    plt.legend()\n",
    "                    plt.tight_layout()\n",
    "                    if savfig:\n",
    "                        plt.savefig(savepath+figfix+'train_acts.pdf')\n",
    "                        plt.close()\n",
    "                plt.suptitle(lab+' Layer %d'%(i+1))\n",
    "                if not savfig:\n",
    "                    plt.show()"
   ]
  },
  {
   "cell_type": "markdown",
   "metadata": {},
   "source": [
    "## Looking at histogram"
   ]
  },
  {
   "cell_type": "code",
   "execution_count": 1279,
   "metadata": {
    "scrolled": false
   },
   "outputs": [
    {
     "name": "stdout",
     "output_type": "stream",
     "text": [
      "Log scale histogram comparison at epochs\n"
     ]
    }
   ],
   "source": [
    "\n",
    "print('Log scale histogram comparison at epochs')\n",
    "if plotfig:\n",
    "    for lab, idxs in zip(label_list, idxs_list):\n",
    "        wkyes = sorted(results['singular_val_dicts_pca'][idxs[0]][0].keys())\n",
    "        akeys = sorted(results['act_singular_val_dicts_train_pca'][idxs[0]][0].keys())\n",
    "        for i, (weight_key, act_key) in enumerate(zip(wkeys, akeys)):\n",
    "            if True:\n",
    "                if not savfig:\n",
    "                    plt.figure(figsize=[4*4, 4])\n",
    "                for j, e in enumerate([epochs[0], epochs[-1]]):\n",
    "                    figfix = 'layer_%d_hist_epoch_%d_'%(i+1, e)\n",
    "                    comfix = 'Layer %d '%(i+1)\n",
    "                    if savfig:\n",
    "                        plt.figure(figsize=fs)\n",
    "                    else:\n",
    "                        plt.subplot(1, 4, 2*j+1)\n",
    "                    data = []\n",
    "                    for idx in idxs:\n",
    "                        data.append(np.log10(results['singular_val_dicts_pca'][idx][e][weight_key]))\n",
    "                    plt.hist(data, bins=20, label=labels)\n",
    "                    plt.title(comfix+'Weight: Epoch=%d'%e)\n",
    "                    plt.legend()\n",
    "                    plt.tight_layout()\n",
    "                    idx = idxs[0]\n",
    "                    plt.suptitle(results.optimizer[idx]+' '+str(results.lr[idx])+' #hidden=%d'%(len(results['act_singular_val_dicts_train_pca'][idx][e][act_key])))\n",
    "                    if savfig:\n",
    "                        plt.savefig(savepath+figfix+'weights.pdf')\n",
    "                        plt.close()\n",
    "                        plt.figure(figsize=fs)\n",
    "                    else:\n",
    "                        plt.subplot(1, 4, 2*j+2)\n",
    "\n",
    "                    data = []\n",
    "                    for idx in idxs:\n",
    "                        data.append(np.log10(results['act_singular_val_dicts_train_pca'][idx][e][act_key]))\n",
    "                    plt.hist(data, bins=20, label=labels)\n",
    "                    plt.title(comfix+'Activation: Epoch=%d, numpc=%d'%(e, dim_acts))            \n",
    "                    plt.legend()\n",
    "                    plt.tight_layout()\n",
    "                    if savfig:\n",
    "                        plt.savefig(savepath+figfix+'train_acts.pdf')\n",
    "                        plt.close()\n",
    "                if not savfig:\n",
    "                    plt.suptitle(lab+' Layer %d '%(i+1)+' #hidden=%d'%(len(results['act_singular_val_dicts_train_pca'][idx][e][act_key])))\n",
    "                    plt.show()\n"
   ]
  },
  {
   "cell_type": "code",
   "execution_count": 1280,
   "metadata": {
    "scrolled": false
   },
   "outputs": [
    {
     "name": "stdout",
     "output_type": "stream",
     "text": [
      "Normal scale histogram comparison at epochs\n"
     ]
    }
   ],
   "source": [
    "print('Normal scale histogram comparison at epochs')\n",
    "if plotfig:\n",
    "    \n",
    "\n",
    "    for lab, idxs in zip(label_list, idxs_list):\n",
    "        wkyes = sorted(results['singular_val_dicts_pca'][idxs[0]][0].keys())\n",
    "        akeys = sorted(results['act_singular_val_dicts_train_pca'][idxs[0]][0].keys())\n",
    "        for i, (weight_key, act_key) in enumerate(zip(wkeys, akeys)):\n",
    "            if True:\n",
    "#             if i<1:\n",
    "                if not savfig:\n",
    "                    plt.figure(figsize=[4*4, 4])\n",
    "                for j, e in enumerate([epochs[0], epochs[-1]]):\n",
    "                    figfix = 'layer_%d_hist_epoch_%d_'%(i+1, e)\n",
    "                    comfix = 'Layer %d '%(i+1)\n",
    "                    if savfig:\n",
    "                        plt.figure(figsize=fs)\n",
    "                    else:\n",
    "                        plt.subplot(1, 4, 2*j+1)\n",
    "                    data = []\n",
    "                    for idx in idxs:\n",
    "                        data.append(results['singular_val_dicts_pca'][idx][e][weight_key])\n",
    "                    plt.hist(data, bins=10, label=labels)\n",
    "                    plt.title(comfix+'Weight: Epoch=%d'%e)\n",
    "                    plt.legend()\n",
    "                    plt.tight_layout()\n",
    "                    idx = idxs[0]\n",
    "                    \n",
    "                    if savfig:\n",
    "                        plt.savefig(savepath+figfix+'weights.pdf')\n",
    "                        plt.close()\n",
    "                        plt.figure(figsize=fs)\n",
    "                    else:\n",
    "                        plt.subplot(1, 4, 2*j+2)\n",
    "\n",
    "                    data = []\n",
    "                    for idx in idxs:\n",
    "                        data.append(results['act_singular_val_dicts_train_pca'][idx][e][act_key])\n",
    "                    plt.hist(data, bins=20, label=labels)\n",
    "                    plt.title(comfix+'Activation: Epoch=%d, numpc=%d'%(e, dim_acts))            \n",
    "                    plt.legend()\n",
    "                    plt.tight_layout()\n",
    "                    if savfig:\n",
    "                        plt.savefig(savepath+figfix+'train_acts.pdf')\n",
    "                        plt.close()\n",
    "                if not savfig:\n",
    "                    plt.suptitle(lab+' Layer %d '%(i+1)+' #hidden=%d'%(len(results['act_singular_val_dicts_train_pca'][idx][e][act_key])))\n",
    "                    plt.show()\n",
    "\n",
    "\n"
   ]
  },
  {
   "cell_type": "markdown",
   "metadata": {},
   "source": [
    "## Init vs final"
   ]
  },
  {
   "cell_type": "code",
   "execution_count": 1281,
   "metadata": {
    "scrolled": false
   },
   "outputs": [
    {
     "name": "stdout",
     "output_type": "stream",
     "text": [
      "Log scale histogram comparison at init and final\n"
     ]
    }
   ],
   "source": [
    "print('Log scale histogram comparison at init and final')\n",
    "if plotfig:\n",
    "    for lab, idxs in zip(label_list, idxs_list):\n",
    "        for i, (weight_key, act_key) in enumerate(zip(wkeys, akeys)):\n",
    "#             if i==1:\n",
    "            if True:\n",
    "                R, C = 1, 2*len(idxs)\n",
    "                plt.figure(figsize=[3.1*C, 3*R])\n",
    "\n",
    "                for jj, idx in enumerate(idxs):\n",
    "                    plt.subplot(R, C, 2*jj+1)\n",
    "\n",
    "                    [data1, data2] = [np.log10(results['singular_val_dicts_pca'][idx][0][weight_key]), \n",
    "                                                    np.log10(results['singular_val_dicts_pca'][idx][-1][weight_key])]\n",
    "                    plt.hist([data1, data2], bins=20, label=['init','final'])\n",
    "                    plt.legend()\n",
    "                    plt.title(labels[jj]+' Weights')\n",
    "\n",
    "\n",
    "                    plt.subplot(R, C, 2*jj+2)\n",
    "                    [data1, data2] = [np.log10(results['act_singular_val_dicts_train_pca'][idx][0][act_key]), \n",
    "                                                    np.log10(results['act_singular_val_dicts_train_pca'][idx][-1][act_key])]\n",
    "                    plt.hist([data1, data2], bins=20, label=['init','final'])\n",
    "                    plt.legend()\n",
    "                    plt.title(labels[jj]+' Activations')\n",
    "                plt.suptitle(lab+' Layer %d '%(i+1)+' #hidden=%d'%(len(results['act_singular_val_dicts_train_pca'][idx][e][act_key])))\n",
    "                plt.show()"
   ]
  },
  {
   "cell_type": "code",
   "execution_count": 1282,
   "metadata": {},
   "outputs": [
    {
     "name": "stdout",
     "output_type": "stream",
     "text": [
      "Normal scale histogram comparison at init and final\n"
     ]
    }
   ],
   "source": [
    "print('Normal scale histogram comparison at init and final')\n",
    "if plotfig:\n",
    "    for lab, idxs in zip(label_list, idxs_list):\n",
    "        for i, (weight_key, act_key) in enumerate(zip(wkeys, akeys)):\n",
    "#             if i==1:\n",
    "            if True:\n",
    "                R, C = 1, 2*len(idxs)\n",
    "                plt.figure(figsize=[3.1*C, 3*R])\n",
    "\n",
    "                for jj, idx in enumerate(idxs):\n",
    "                    plt.subplot(R, C, 2*jj+1)\n",
    "\n",
    "                    [data1, data2] = [results['singular_val_dicts_pca'][idx][0][weight_key], \n",
    "                                     results['singular_val_dicts_pca'][idx][-1][weight_key]]\n",
    "                    plt.hist([data1, data2], bins=20, label=['init','final'])\n",
    "                    plt.legend()\n",
    "                    plt.title(labels[jj]+' Weights')\n",
    "\n",
    "\n",
    "                    plt.subplot(R, C, 2*jj+2)\n",
    "                    [data1, data2] = [results['act_singular_val_dicts_train_pca'][idx][0][act_key], \n",
    "                                     results['act_singular_val_dicts_train_pca'][idx][-1][act_key]]\n",
    "                    plt.hist([data1, data2], bins=20, label=['init','final'])\n",
    "                    plt.legend()\n",
    "                    plt.title(labels[jj]+' Activations')\n",
    "                plt.suptitle(lab+' Layer %d '%(i+1)+' #hidden=%d'%(len(results['act_singular_val_dicts_train_pca'][idx][e][act_key])))\n",
    "                plt.show()"
   ]
  },
  {
   "cell_type": "code",
   "execution_count": null,
   "metadata": {},
   "outputs": [],
   "source": []
  },
  {
   "cell_type": "code",
   "execution_count": null,
   "metadata": {},
   "outputs": [],
   "source": []
  }
 ],
 "metadata": {
  "anaconda-cloud": {},
  "kernelspec": {
   "display_name": "Python 3",
   "language": "python",
   "name": "python3"
  },
  "language_info": {
   "codemirror_mode": {
    "name": "ipython",
    "version": 3
   },
   "file_extension": ".py",
   "mimetype": "text/x-python",
   "name": "python",
   "nbconvert_exporter": "python",
   "pygments_lexer": "ipython3",
   "version": "3.5.4"
  }
 },
 "nbformat": 4,
 "nbformat_minor": 2
}
