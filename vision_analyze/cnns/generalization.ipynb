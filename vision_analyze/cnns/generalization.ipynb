{
 "cells": [
  {
   "cell_type": "code",
   "execution_count": 3,
   "metadata": {},
   "outputs": [],
   "source": [
    "import os\n",
    "from os.path import join as oj\n",
    "import sys, time\n",
    "sys.path.insert(1, oj(sys.path[0], '..'))  # insert parent path\n",
    "sys.path.insert(1, oj(sys.path[0], '../vision_fit'))  # insert parent path\n",
    "import time\n",
    "import numpy as np\n",
    "from tqdm import tqdm\n",
    "from copy import deepcopy\n",
    "import pickle as pkl\n",
    "import torchvision.datasets as dset\n",
    "import torchvision.transforms as transforms\n",
    "import torch\n",
    "from torch.autograd import Variable\n",
    "import torchvision.models as models\n",
    "import warnings\n",
    "warnings.filterwarnings(\"ignore\")\n",
    "import matplotlib.pyplot as plt\n",
    "import seaborn as sns\n",
    "import style\n",
    "\n",
    "%load_ext autoreload\n",
    "%autoreload 2"
   ]
  },
  {
   "cell_type": "code",
   "execution_count": 4,
   "metadata": {},
   "outputs": [],
   "source": [
    "style.set_style()\n",
    "import warnings\n",
    "warnings.filterwarnings(\"ignore\")"
   ]
  },
  {
   "cell_type": "markdown",
   "metadata": {},
   "source": [
    "# generalization plot"
   ]
  },
  {
   "cell_type": "code",
   "execution_count": 19,
   "metadata": {},
   "outputs": [
    {
     "data": {
      "image/png": "[encoded data removed]",
      "text/plain": [
       "<Figure size 400x300 with 1 Axes>"
      ]
     },
     "metadata": {},
     "output_type": "display_data"
    }
   ],
   "source": [
    "max_corr_dir = '/accounts/projects/vision/scratch/yu_dl/raaz.rsk/max_corrs'\n",
    "fnames = os.listdir(max_corr_dir)\n",
    "corrs = {}\n",
    "R, C = 2, 2\n",
    "print_fc1 = True\n",
    "model_names_list = [['alexnet', 'inception_v3'],\n",
    "               ['vgg11', 'vgg13', 'vgg16', 'vgg19'],\n",
    "#                ['vgg16'],\n",
    "               ['resnet18', 'resnet34', 'resnet50', 'resnet101', 'resnet152'],                    \n",
    "               ['densenet121', 'densenet169', 'densenet201']]\n",
    "\n",
    "plt.figure(figsize=(4, 3), dpi=100)\n",
    "rho_mem = [0.299, \n",
    "           0.393, 0.385, 0.386, 0.386,\n",
    "           0.556, 0.513, 0.525, 0.438, 0.441,\n",
    "           0.457, 0.463, 0.440]\n",
    "test_acc = 100 - np.array([20.91, \n",
    "            11.37, 10.75, 9.62, 8.15,\n",
    "            10.92, 8.58, 7.13, 6.44, 5.94,\n",
    "            7.83, 7.00, 6.43])\n",
    "\n",
    "plt.plot(rho_mem, test_acc, 'o')\n",
    "plt.xlabel('$\\\\rho_{mem}(W_{final})$')\n",
    "plt.ylabel('Top-5 accuracy')\n",
    "plt.tight_layout()\n",
    "plt.savefig('generalization.pdf')\n",
    "plt.show()"
   ]
  },
  {
   "cell_type": "code",
   "execution_count": null,
   "metadata": {},
   "outputs": [],
   "source": []
  }
 ],
 "metadata": {
  "kernelspec": {
   "display_name": "Python 3",
   "language": "python",
   "name": "python3"
  },
  "language_info": {
   "codemirror_mode": {
    "name": "ipython",
    "version": 3
   },
   "file_extension": ".py",
   "mimetype": "text/x-python",
   "name": "python",
   "nbconvert_exporter": "python",
   "pygments_lexer": "ipython3",
   "version": "3.5.4"
  }
 },
 "nbformat": 4,
 "nbformat_minor": 2
}
