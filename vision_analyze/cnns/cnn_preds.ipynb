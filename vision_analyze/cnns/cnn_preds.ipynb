{
 "cells": [
  {
   "cell_type": "code",
   "execution_count": 18,
   "metadata": {},
   "outputs": [
    {
     "name": "stdout",
     "output_type": "stream",
     "text": [
      "The autoreload extension is already loaded. To reload it, use:\n",
      "  %reload_ext autoreload\n"
     ]
    }
   ],
   "source": [
    "import os\n",
    "from os.path import join as oj\n",
    "import sys, time\n",
    "sys.path.insert(1, oj(sys.path[0], '..'))  # insert parent path\n",
    "sys.path.insert(1, oj(sys.path[0], '../vision_fit'))  # insert parent path\n",
    "import time\n",
    "import numpy as np\n",
    "from tqdm import tqdm\n",
    "from copy import deepcopy\n",
    "import scipy\n",
    "import pickle as pkl\n",
    "import h5py\n",
    "import warnings\n",
    "warnings.filterwarnings(\"ignore\")\n",
    "import matplotlib.pyplot as plt\n",
    "import seaborn as sns\n",
    "import style\n",
    "from imagenet_classes import lab_dict\n",
    "import sklearn\n",
    "import pandas as pd\n",
    "\n",
    "%load_ext autoreload\n",
    "%autoreload 2"
   ]
  },
  {
   "cell_type": "code",
   "execution_count": 19,
   "metadata": {},
   "outputs": [],
   "source": [
    "style.set_style()\n",
    "import warnings\n",
    "warnings.filterwarnings(\"ignore\")"
   ]
  },
  {
   "cell_type": "markdown",
   "metadata": {},
   "source": [
    "# get data on labs, preds, and feats"
   ]
  },
  {
   "cell_type": "code",
   "execution_count": 132,
   "metadata": {},
   "outputs": [
    {
     "name": "stdout",
     "output_type": "stream",
     "text": [
      "['alexnet_feats.h5', 'alexnet.h5', 'top_10_inds_dict.pkl', 'labs.h5', 'vgg19.h5', 'vgg11.h5', 'resnet50.h5', 'resnet18.h5', 'resnet34.h5', 'vgg13.h5', 'densenet169.h5', 'vgg16.h5']\n"
     ]
    }
   ],
   "source": [
    "out_dir = '/accounts/projects/vision/scratch/yu_dl/raaz.rsk/cnns_preds'\n",
    "fnames = os.listdir(out_dir)\n",
    "print(fnames)"
   ]
  },
  {
   "cell_type": "code",
   "execution_count": 88,
   "metadata": {},
   "outputs": [],
   "source": [
    "labs_train = h5py.File(oj(out_dir, 'labs.h5'), 'r')['labs_train']\n",
    "labs_val = h5py.File(oj(out_dir, 'labs.h5'), 'r')['labs_val']"
   ]
  },
  {
   "cell_type": "code",
   "execution_count": 89,
   "metadata": {},
   "outputs": [],
   "source": [
    "preds_train = h5py.File(oj(out_dir, 'alexnet.h5'), 'r')['preds_train']\n",
    "preds_val = h5py.File(oj(out_dir, 'densenet169.h5'), 'r')['preds_val']"
   ]
  },
  {
   "cell_type": "code",
   "execution_count": 90,
   "metadata": {},
   "outputs": [],
   "source": [
    "feats_train = h5py.File(oj(out_dir, 'alexnet_feats.h5'), 'r')['feats_train']\n",
    "feats_val = h5py.File(oj(out_dir, 'alexnet_feats.h5'), 'r')['feats_val']"
   ]
  },
  {
   "cell_type": "code",
   "execution_count": 91,
   "metadata": {},
   "outputs": [],
   "source": [
    "# slightly diff sizes because part of last batch gets cut off for labs"
   ]
  },
  {
   "cell_type": "code",
   "execution_count": 92,
   "metadata": {},
   "outputs": [
    {
     "name": "stdout",
     "output_type": "stream",
     "text": [
      "(1281100,) (50000,) (1281150, 1000)\n"
     ]
    }
   ],
   "source": [
    "print(labs_train.shape, labs_val.shape, preds_train.shape)\n",
    "n = labs_train.size"
   ]
  },
  {
   "cell_type": "markdown",
   "metadata": {},
   "source": [
    "# look at a class"
   ]
  },
  {
   "cell_type": "code",
   "execution_count": 93,
   "metadata": {},
   "outputs": [
    {
     "name": "stdout",
     "output_type": "stream",
     "text": [
      "goldfish, Carassius auratus\n"
     ]
    }
   ],
   "source": [
    "lab_num = 1\n",
    "print(lab_dict[lab_num])"
   ]
  },
  {
   "cell_type": "code",
   "execution_count": 94,
   "metadata": {},
   "outputs": [
    {
     "name": "stdout",
     "output_type": "stream",
     "text": [
      "(1281100,) (1281150,)\n"
     ]
    }
   ],
   "source": [
    "print(labs_train.shape, preds_train[:, 0].shape)"
   ]
  },
  {
   "cell_type": "markdown",
   "metadata": {},
   "source": [
    "plt.scatter(preds_train[:n, 0], np.array(labs_train)==0)\n",
    "plt.show()"
   ]
  },
  {
   "cell_type": "markdown",
   "metadata": {},
   "source": [
    "**for data points in class, does larger pred mean closer to getting it right?**"
   ]
  },
  {
   "cell_type": "code",
   "execution_count": 95,
   "metadata": {},
   "outputs": [],
   "source": [
    "preds_max_class_val = np.argmax(preds_val, axis=1)"
   ]
  },
  {
   "cell_type": "code",
   "execution_count": 99,
   "metadata": {},
   "outputs": [
    {
     "name": "stdout",
     "output_type": "stream",
     "text": [
      "goldfish, Carassius auratus\n",
      "[115   1   1   1 647   1   1   1   1   1   1 111   1   1   1   1   1   1\n",
      "   1   1   1   1   1   1   1   1   1   1   1 396   1   1   1   1   1   1\n",
      "   1 512 301   1   1  58   1   1   1   1   1   1   1   1]\n",
      "18.78882 10.507709\n"
     ]
    },
    {
     "data": {
      "image/png": "[encoded data removed]",
      "text/plain": [
       "<Figure size 432x288 with 1 Axes>"
      ]
     },
     "metadata": {},
     "output_type": "display_data"
    }
   ],
   "source": [
    "lab_num = 1\n",
    "print(lab_dict[lab_num])\n",
    "\n",
    "idxs = np.array(labs_val) == lab_num\n",
    "preds = preds_val[idxs, lab_num]\n",
    "preds_max_class = preds_max_class_val[idxs]\n",
    "print(preds_max_class)\n",
    "plt.hist(preds[preds_max_class == lab_num], color='red', alpha=0.5)\n",
    "plt.hist(preds[preds_max_class != lab_num], color='blue', alpha=0.5)\n",
    "\n",
    "print(np.mean(preds[preds_max_class == lab_num]), np.mean(preds[preds_max_class != lab_num]))\n",
    "# plt.hist(labs_train, bins=1000)\n",
    "plt.show()"
   ]
  },
  {
   "cell_type": "markdown",
   "metadata": {},
   "source": [
    "**hist correct points top pred vs hist wrong points top pred**"
   ]
  },
  {
   "cell_type": "code",
   "execution_count": 100,
   "metadata": {},
   "outputs": [
    {
     "data": {
      "image/png": "[encoded data removed]",
      "text/plain": [
       "<Figure size 432x288 with 2 Axes>"
      ]
     },
     "metadata": {},
     "output_type": "display_data"
    }
   ],
   "source": [
    "preds_max_val = np.max(scipy.special.softmax(preds_val, axis=1), axis=1)\n",
    "preds_max_class_v = np.argmax(preds_val, axis=1)\n",
    "labs = labs_val\n",
    "\n",
    "plt.subplot(121)\n",
    "plt.title('with softmax')\n",
    "plt.hist(preds_max_val[preds_max_class_val == labs_val], color='red', alpha=0.5)\n",
    "plt.hist(preds_max_val[preds_max_class_val != labs_val], color='blue', alpha=0.5)\n",
    "\n",
    "plt.subplot(122)\n",
    "plt.title('no softmax')\n",
    "preds_max_val = np.max(preds_val, axis=1)\n",
    "plt.hist(preds_max_val[preds_max_class_val == labs_val], color='red', alpha=0.5)\n",
    "plt.hist(preds_max_val[preds_max_class_val != labs_val], color='blue', alpha=0.5)\n",
    "plt.show()"
   ]
  },
  {
   "cell_type": "code",
   "execution_count": 19,
   "metadata": {},
   "outputs": [
    {
     "data": {
      "text/plain": [
       "(1281150, 4096)"
      ]
     },
     "execution_count": 19,
     "metadata": {},
     "output_type": "execute_result"
    }
   ],
   "source": [
    "feats_train.shape"
   ]
  },
  {
   "cell_type": "markdown",
   "metadata": {},
   "source": [
    "# look at pairwise similarities"
   ]
  },
  {
   "cell_type": "code",
   "execution_count": 23,
   "metadata": {},
   "outputs": [],
   "source": [
    "from sklearn import metrics"
   ]
  },
  {
   "cell_type": "code",
   "execution_count": null,
   "metadata": {},
   "outputs": [],
   "source": [
    "sims = metrics.pairwise.cosine_similarity(feats_train)\n",
    "print(sims.shape)"
   ]
  },
  {
   "cell_type": "code",
   "execution_count": null,
   "metadata": {},
   "outputs": [],
   "source": [
    "np.save('sims.npy', sims)"
   ]
  },
  {
   "cell_type": "code",
   "execution_count": 26,
   "metadata": {},
   "outputs": [],
   "source": [
    "preds_val2 = h5py.File(oj(out_dir, 'densenet169.h5'), 'r')['preds_val']"
   ]
  },
  {
   "cell_type": "code",
   "execution_count": 13,
   "metadata": {},
   "outputs": [
    {
     "name": "stdout",
     "output_type": "stream",
     "text": [
      "(50000, 1000) (50000, 1000)\n"
     ]
    }
   ],
   "source": [
    "print(preds_val.shape, preds_val2.shape)"
   ]
  },
  {
   "cell_type": "code",
   "execution_count": 17,
   "metadata": {},
   "outputs": [
    {
     "data": {
      "image/png": "[encoded data removed]",
      "text/plain": [
       "<Figure size 432x288 with 1 Axes>"
      ]
     },
     "metadata": {},
     "output_type": "display_data"
    }
   ],
   "source": [
    "plt.plot(preds_val[:, 0], preds_val2[:, 0], 'o', alpha=0.05)\n",
    "# plt.plot(scipy.special.softmax(preds_val, axis=1)[:, 0], \n",
    "#          scipy.special.softmax(preds_val2, axis=1)[:, 0], 'o', alpha=0.1)\n",
    "plt.show()"
   ]
  },
  {
   "cell_type": "markdown",
   "metadata": {},
   "source": [
    "# do different nets put their maxes at the same place?"
   ]
  },
  {
   "cell_type": "code",
   "execution_count": 101,
   "metadata": {},
   "outputs": [
    {
     "name": "stderr",
     "output_type": "stream",
     "text": [
      "100%|██████████| 4/4 [15:38<00:00, 235.36s/it]\n"
     ]
    }
   ],
   "source": [
    "maxes = []\n",
    "ind_top10s = [] # these are in ascending order\n",
    "for fname in tqdm(['alexnet.h5', 'vgg11.h5', 'resnet18.h5', 'densenet169.h5']):\n",
    "    preds_val = h5py.File(oj(out_dir, fname), 'r')['preds_train']\n",
    "    maxes.append(np.argmax(preds_val, axis=0))\n",
    "\n",
    "    # get 10 largest indices for each class\n",
    "#     ind_top10 = np.argpartition(preds_val, kth=-10, axis=0)[-10:]\n",
    "    ind_top10 = np.argsort(preds_val, axis=0)[-10:] # in ascending order\n",
    "    ind_top10s.append(ind_top10)"
   ]
  },
  {
   "cell_type": "code",
   "execution_count": 102,
   "metadata": {},
   "outputs": [],
   "source": [
    "maxes = np.array(maxes)\n",
    "ind_top10s = np.array(ind_top10s)"
   ]
  },
  {
   "cell_type": "code",
   "execution_count": 104,
   "metadata": {},
   "outputs": [
    {
     "data": {
      "text/plain": [
       "(4, 10, 1000)"
      ]
     },
     "execution_count": 104,
     "metadata": {},
     "output_type": "execute_result"
    }
   ],
   "source": [
    "ind_top10s.shape"
   ]
  },
  {
   "cell_type": "code",
   "execution_count": 106,
   "metadata": {},
   "outputs": [],
   "source": [
    "# top_10_inds = {}\n",
    "# for i, name in enumerate(['alexnet.h5', 'vgg11.h5', 'resnet18.h5', 'densenet169.h5']):\n",
    "#     top_10_inds[name] = ind_top10s[i]\n",
    "# pkl.dump(top_10_inds, open(oj(out_dir, \"top_10_inds_dict.pkl\"), \"wb\" ))"
   ]
  },
  {
   "cell_type": "code",
   "execution_count": 85,
   "metadata": {},
   "outputs": [
    {
     "name": "stdout",
     "output_type": "stream",
     "text": [
      "(4, 10, 1000)\n"
     ]
    }
   ],
   "source": [
    "print(ind_top10s.shape)"
   ]
  },
  {
   "cell_type": "code",
   "execution_count": 82,
   "metadata": {},
   "outputs": [
    {
     "data": {
      "image/png": "[encoded data removed]",
      "text/plain": [
       "<Figure size 432x288 with 1 Axes>"
      ]
     },
     "metadata": {},
     "output_type": "display_data"
    }
   ],
   "source": [
    "plt.hist(pd.DataFrame(maxes).nunique())\n",
    "plt.show()"
   ]
  },
  {
   "cell_type": "code",
   "execution_count": 72,
   "metadata": {},
   "outputs": [
    {
     "name": "stdout",
     "output_type": "stream",
     "text": [
      "(array([ 90,   0,   0,   0,   0,   0,   0,   0,   0, 910]), array([1. , 1.1, 1.2, 1.3, 1.4, 1.5, 1.6, 1.7, 1.8, 1.9, 2. ]))\n"
     ]
    }
   ],
   "source": [
    "print(np.histogram(pd.DataFrame(maxes[:2]).nunique()))"
   ]
  },
  {
   "cell_type": "code",
   "execution_count": 113,
   "metadata": {},
   "outputs": [
    {
     "name": "stdout",
     "output_type": "stream",
     "text": [
      "[  518  2583  2629  5010  5371  7397  8555 10523 10523 11796]\n",
      "[  518  2583  2629  5010  5371  7397  8555 10523 10523 11796]\n"
     ]
    }
   ],
   "source": [
    "maxes.shape\n",
    "print(maxes[0][:10])\n",
    "print(top_10_inds['alexnet.h5'][-1, :10])"
   ]
  },
  {
   "cell_type": "code",
   "execution_count": 110,
   "metadata": {},
   "outputs": [
    {
     "data": {
      "text/plain": [
       "dict_keys(['alexnet.h5', 'vgg11.h5', 'resnet18.h5', 'densenet169.h5'])"
      ]
     },
     "execution_count": 110,
     "metadata": {},
     "output_type": "execute_result"
    }
   ],
   "source": [
    "top_10_inds.keys()"
   ]
  },
  {
   "cell_type": "code",
   "execution_count": 117,
   "metadata": {},
   "outputs": [
    {
     "data": {
      "text/plain": [
       "333"
      ]
     },
     "execution_count": 117,
     "metadata": {},
     "output_type": "execute_result"
    }
   ],
   "source": [
    "# 2 inputs: k x num_classes \n",
    "# output: whether top-1 in first is in top-k of 2nd\n",
    "# note: this is not symmetric\n",
    "# note: max is last\n",
    "def num_agree_topk(inds1, inds2, k=None):\n",
    "    if k is None:\n",
    "        k = inds1.shape[0]\n",
    "    top_inds1 = inds1[-1]\n",
    "    num_agree = 0\n",
    "    for class_num in range(inds1.shape[1]):\n",
    "        if top_inds1[class_num] in inds2[-1 * k:, class_num]:\n",
    "            num_agree += 1\n",
    "    return num_agree\n",
    "\n",
    "num_agree_topk(top_10_inds['alexnet.h5'], top_10_inds['vgg11.h5'])"
   ]
  },
  {
   "cell_type": "code",
   "execution_count": 137,
   "metadata": {},
   "outputs": [
    {
     "name": "stdout",
     "output_type": "stream",
     "text": [
      "[]\n"
     ]
    },
    {
     "data": {
      "image/png": "[encoded data removed]",
      "text/plain": [
       "<Figure size 432x288 with 1 Axes>"
      ]
     },
     "metadata": {},
     "output_type": "display_data"
    }
   ],
   "source": [
    "nums_agree = []\n",
    "nums_agree2 = []\n",
    "for k in range(1, 11):\n",
    "    nums_agree.append(num_agree_topk(top_10_inds['alexnet.h5'], top_10_inds['vgg11.h5'], k=k) / 1000)\n",
    "#     nums_agree2.append(num_agree_topk(top_10_inds['densenet169.h5'], top_10_inds['vgg11.h5'], k=k) / 1000)    \n",
    "plt.plot(range(1, 11), nums_agree, '.')\n",
    "# plt.plot(range(1, 11), nums_agree2, '.')\n",
    "plt.xlabel('Top k to match')\n",
    "plt.ylabel('Percent agreement between alexnet and vgg11\\nbaseline = 1/1000 for k=1')\n",
    "print(nums_agree2)"
   ]
  },
  {
   "cell_type": "code",
   "execution_count": null,
   "metadata": {},
   "outputs": [],
   "source": []
  }
 ],
 "metadata": {
  "kernelspec": {
   "display_name": "Python 3",
   "language": "python",
   "name": "python3"
  },
  "language_info": {
   "codemirror_mode": {
    "name": "ipython",
    "version": 3
   },
   "file_extension": ".py",
   "mimetype": "text/x-python",
   "name": "python",
   "nbconvert_exporter": "python",
   "pygments_lexer": "ipython3",
   "version": "3.7.0"
  }
 },
 "nbformat": 4,
 "nbformat_minor": 2
}
