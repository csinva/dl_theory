{
 "cells": [
  {
   "cell_type": "code",
   "execution_count": 21,
   "metadata": {},
   "outputs": [
    {
     "name": "stdout",
     "output_type": "stream",
     "text": [
      "The autoreload extension is already loaded. To reload it, use:\n",
      "  %reload_ext autoreload\n"
     ]
    }
   ],
   "source": [
    "import os\n",
    "from os.path import join as oj\n",
    "import sys, time\n",
    "sys.path.insert(1, oj(sys.path[0], '..'))  # insert parent path\n",
    "sys.path.insert(1, oj(sys.path[0], '../vision_fit'))  # insert parent path\n",
    "import time\n",
    "import numpy as np\n",
    "from tqdm import tqdm\n",
    "from copy import deepcopy\n",
    "import scipy\n",
    "import pickle as pkl\n",
    "import h5py\n",
    "import warnings\n",
    "warnings.filterwarnings(\"ignore\")\n",
    "import matplotlib.pyplot as plt\n",
    "import seaborn as sns\n",
    "import style\n",
    "from imagenet_classes import lab_dict\n",
    "import sklearn\n",
    "\n",
    "%load_ext autoreload\n",
    "%autoreload 2"
   ]
  },
  {
   "cell_type": "code",
   "execution_count": 2,
   "metadata": {},
   "outputs": [],
   "source": [
    "style.set_style()\n",
    "import warnings\n",
    "warnings.filterwarnings(\"ignore\")"
   ]
  },
  {
   "cell_type": "markdown",
   "metadata": {},
   "source": [
    "# get data on labs, preds, and feats"
   ]
  },
  {
   "cell_type": "code",
   "execution_count": 3,
   "metadata": {},
   "outputs": [
    {
     "name": "stdout",
     "output_type": "stream",
     "text": [
      "['alexnet_feats.h5', 'alexnet.h5', 'labs.h5', 'vgg11.h5', 'resnet18.h5', 'densenet169.h5']\n"
     ]
    }
   ],
   "source": [
    "out_dir = '/accounts/projects/vision/scratch/yu_dl/raaz.rsk/cnns_preds'\n",
    "fnames = os.listdir(out_dir)\n",
    "print(fnames)"
   ]
  },
  {
   "cell_type": "code",
   "execution_count": 4,
   "metadata": {},
   "outputs": [],
   "source": [
    "labs_train = h5py.File(oj(out_dir, 'labs.h5'), 'r')['labs_train']\n",
    "labs_val = h5py.File(oj(out_dir, 'labs.h5'), 'r')['labs_val']"
   ]
  },
  {
   "cell_type": "code",
   "execution_count": 5,
   "metadata": {},
   "outputs": [],
   "source": [
    "preds_train = h5py.File(oj(out_dir, 'alexnet.h5'), 'r')['preds_train']\n",
    "preds_val = h5py.File(oj(out_dir, 'alexnet.h5'), 'r')['preds_val']"
   ]
  },
  {
   "cell_type": "code",
   "execution_count": 6,
   "metadata": {},
   "outputs": [],
   "source": [
    "feats_train = h5py.File(oj(out_dir, 'alexnet_feats.h5'), 'r')['feats_train']\n",
    "feats_val = h5py.File(oj(out_dir, 'alexnet_feats.h5'), 'r')['feats_val']"
   ]
  },
  {
   "cell_type": "code",
   "execution_count": 7,
   "metadata": {},
   "outputs": [],
   "source": [
    "# slightly diff sizes because part of last batch gets cut off for labs"
   ]
  },
  {
   "cell_type": "code",
   "execution_count": 8,
   "metadata": {},
   "outputs": [
    {
     "name": "stdout",
     "output_type": "stream",
     "text": [
      "(1281100,) (50000,) (1281150, 1000)\n"
     ]
    }
   ],
   "source": [
    "print(labs_train.shape, labs_val.shape, preds_train.shape)\n",
    "n = labs_train.size"
   ]
  },
  {
   "cell_type": "markdown",
   "metadata": {},
   "source": [
    "# look at a class"
   ]
  },
  {
   "cell_type": "code",
   "execution_count": 9,
   "metadata": {},
   "outputs": [
    {
     "name": "stdout",
     "output_type": "stream",
     "text": [
      "goldfish, Carassius auratus\n"
     ]
    }
   ],
   "source": [
    "lab_num = 1\n",
    "print(lab_dict[lab_num])"
   ]
  },
  {
   "cell_type": "code",
   "execution_count": 10,
   "metadata": {},
   "outputs": [
    {
     "name": "stdout",
     "output_type": "stream",
     "text": [
      "(1281100,) (1281150,)\n"
     ]
    }
   ],
   "source": [
    "print(labs_train.shape, preds_train[:, 0].shape)"
   ]
  },
  {
   "cell_type": "markdown",
   "metadata": {},
   "source": [
    "plt.scatter(preds_train[:n, 0], np.array(labs_train)==0)\n",
    "plt.show()"
   ]
  },
  {
   "cell_type": "markdown",
   "metadata": {},
   "source": [
    "**for data points in class, does larger pred mean closer to getting it right?**"
   ]
  },
  {
   "cell_type": "code",
   "execution_count": 23,
   "metadata": {},
   "outputs": [],
   "source": [
    "preds_max_class_val = np.argmax(preds_val, axis=1)"
   ]
  },
  {
   "cell_type": "code",
   "execution_count": 16,
   "metadata": {},
   "outputs": [
    {
     "name": "stdout",
     "output_type": "stream",
     "text": [
      "electric ray, crampfish, numbfish, torpedo\n",
      "[329   5 983   5   5   5   5   5   5   5   5   2 467   5  34   5   5 618\n",
      "   5   5   5   5   5   3   5   5   6   5 394   5   5   5   5  36   5   5\n",
      "   5   5   5 973 111   6   5 148 394   5   5   5  78   6]\n",
      "15.536227 10.376371\n"
     ]
    },
    {
     "data": {
      "image/png": "[encoded data removed]",
      "text/plain": [
       "<Figure size 432x288 with 1 Axes>"
      ]
     },
     "metadata": {},
     "output_type": "display_data"
    }
   ],
   "source": [
    "lab_num = 5\n",
    "print(lab_dict[lab_num])\n",
    "\n",
    "idxs = np.array(labs_val) == lab_num\n",
    "preds = preds_val[idxs, lab_num]\n",
    "preds_max_class = preds_max_class_val[idxs]\n",
    "print(preds_max_class)\n",
    "plt.hist(preds[preds_max_class == lab_num], color='red', alpha=0.5)\n",
    "plt.hist(preds[preds_max_class != lab_num], color='blue', alpha=0.5)\n",
    "\n",
    "print(np.mean(preds[preds_max_class == lab_num]), np.mean(preds[preds_max_class != lab_num]))\n",
    "# plt.hist(labs_train, bins=1000)\n",
    "plt.show()"
   ]
  },
  {
   "cell_type": "markdown",
   "metadata": {},
   "source": [
    "**hist correct points top pred vs hist wrong points top pred**"
   ]
  },
  {
   "cell_type": "code",
   "execution_count": 18,
   "metadata": {},
   "outputs": [
    {
     "data": {
      "image/png": "[encoded data removed]",
      "text/plain": [
       "<Figure size 432x288 with 2 Axes>"
      ]
     },
     "metadata": {},
     "output_type": "display_data"
    }
   ],
   "source": [
    "preds_max = np.max(scipy.special.softmax(preds_val, axis=1), axis=1)\n",
    "preds_max_class_v = np.argmax(preds_val, axis=1)\n",
    "labs = labs_val\n",
    "\n",
    "plt.subplot(121)\n",
    "plt.title('with softmax')\n",
    "plt.hist(preds_max_val[preds_max_class_val == labs_val], color='red', alpha=0.5)\n",
    "plt.hist(preds_max_val[preds_max_class_val != labs_val], color='blue', alpha=0.5)\n",
    "\n",
    "plt.subplot(122)\n",
    "plt.title('no softmax')\n",
    "preds_max_val = np.max(preds_val, axis=1)\n",
    "plt.hist(preds_max_val[preds_max_class_val == labs_val], color='red', alpha=0.5)\n",
    "plt.hist(preds_max_val[preds_max_class_val != labs_val], color='blue', alpha=0.5)\n",
    "plt.show()"
   ]
  },
  {
   "cell_type": "code",
   "execution_count": 19,
   "metadata": {},
   "outputs": [
    {
     "data": {
      "text/plain": [
       "(1281150, 4096)"
      ]
     },
     "execution_count": 19,
     "metadata": {},
     "output_type": "execute_result"
    }
   ],
   "source": [
    "feats_train.shape"
   ]
  },
  {
   "cell_type": "markdown",
   "metadata": {},
   "source": [
    "# look at pairwise similarities"
   ]
  },
  {
   "cell_type": "code",
   "execution_count": 23,
   "metadata": {},
   "outputs": [],
   "source": [
    "from sklearn import metrics"
   ]
  },
  {
   "cell_type": "code",
   "execution_count": null,
   "metadata": {},
   "outputs": [],
   "source": [
    "sims = metrics.pairwise.cosine_similarity(feats_train)\n",
    "print(sims.shape)"
   ]
  },
  {
   "cell_type": "code",
   "execution_count": null,
   "metadata": {},
   "outputs": [],
   "source": [
    "np.save('sims.npy', sims)"
   ]
  },
  {
   "cell_type": "code",
   "execution_count": null,
   "metadata": {},
   "outputs": [],
   "source": []
  }
 ],
 "metadata": {
  "kernelspec": {
   "display_name": "Python 3",
   "language": "python",
   "name": "python3"
  },
  "language_info": {
   "codemirror_mode": {
    "name": "ipython",
    "version": 3
   },
   "file_extension": ".py",
   "mimetype": "text/x-python",
   "name": "python",
   "nbconvert_exporter": "python",
   "pygments_lexer": "ipython3",
   "version": "3.7.0"
  }
 },
 "nbformat": 4,
 "nbformat_minor": 2
}
