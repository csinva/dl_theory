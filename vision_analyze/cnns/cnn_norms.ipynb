{
 "cells": [
  {
   "cell_type": "code",
   "execution_count": 27,
   "metadata": {},
   "outputs": [
    {
     "name": "stdout",
     "output_type": "stream",
     "text": [
      "The autoreload extension is already loaded. To reload it, use:\n",
      "  %reload_ext autoreload\n"
     ]
    }
   ],
   "source": [
    "import os\n",
    "from os.path import join as oj\n",
    "import sys, time\n",
    "sys.path.insert(1, oj(sys.path[0], '..'))  # insert parent path\n",
    "sys.path.insert(1, oj(sys.path[0], '../vision_fit'))  # insert parent path\n",
    "import time\n",
    "import numpy as np\n",
    "from tqdm import tqdm\n",
    "from copy import deepcopy\n",
    "import pickle as pkl\n",
    "import torchvision.datasets as dset\n",
    "import torchvision.transforms as transforms\n",
    "import torch\n",
    "from torch.autograd import Variable\n",
    "import torchvision.models as models\n",
    "import warnings\n",
    "warnings.filterwarnings(\"ignore\")\n",
    "import data\n",
    "from max_corr_cnns import get_model_pretrained, lays_and_names\n",
    "import matplotlib.pyplot as plt\n",
    "import seaborn as sns\n",
    "# import style\n",
    "from collections import OrderedDict\n",
    "import style\n",
    "\n",
    "%load_ext autoreload\n",
    "%autoreload 2"
   ]
  },
  {
   "cell_type": "code",
   "execution_count": 31,
   "metadata": {},
   "outputs": [],
   "source": [
    "style.set_style()\n",
    "import warnings\n",
    "warnings.filterwarnings(\"ignore\")"
   ]
  },
  {
   "cell_type": "code",
   "execution_count": 32,
   "metadata": {},
   "outputs": [],
   "source": [
    "model_names_list = ['vgg11'] \n",
    "#     ['alexnet', 'vgg11', 'vgg13', 'vgg16', 'vgg19', 'resnet18', \n",
    "#                     'resnet34', 'resnet50', \n",
    "#                     'resnet101', 'resnet152', 'densenet121', 'densenet169', 'densenet201']"
   ]
  },
  {
   "cell_type": "code",
   "execution_count": 33,
   "metadata": {},
   "outputs": [
    {
     "name": "stdout",
     "output_type": "stream",
     "text": [
      "vgg11\n"
     ]
    },
    {
     "data": {
      "image/png": "[encoded data removed]",
      "text/plain": [
       "<Figure size 432x288 with 1 Axes>"
      ]
     },
     "metadata": {},
     "output_type": "display_data"
    }
   ],
   "source": [
    "# loop over some different models\n",
    "for i, model_name in enumerate(model_names_list):\n",
    "    print(model_name)\n",
    "    model_init = get_model_pretrained(model_name, pretrained=False)\n",
    "    model_trained = get_model_pretrained(model_name, pretrained=True)\n",
    "    \n",
    "    # calculate weight ratios\n",
    "    lays, norm_ratios = [], [] \n",
    "    for x_init, x_trained in zip(model_init.named_parameters(), model_trained.named_parameters()):\n",
    "        if 'weight' in x_init[0]:\n",
    "            lays.append(x_init[0].replace('.weight', ''))\n",
    "            norm_ratios.append(x_trained[1].norm().item() / x_init[1].norm().item())\n",
    "\n",
    "    # for vgg11    \n",
    "#     lays = ['conv1', 'conv2', 'conv3', 'conv4', \n",
    "#             'conv5', 'conv6', 'conv7', 'conv8',\n",
    "#             'fc1', 'fc2', 'fc3']   \n",
    "    \n",
    "    # bar plots of learning    \n",
    "    plt.cla()\n",
    "    plt.barh(lays, norm_ratios)\n",
    "    plt.xlabel('Ratio of $||W||_F$ after training to before training')\n",
    "    plt.ylabel(model_name + ' layers\\n(starts at bottom, ends at top)')\n",
    "    plt.axvline(1.0, linestyle='--', color='gray', alpha=0.5)\n",
    "    if len(lays) > 11:\n",
    "        plt.yticks([])\n",
    "    plt.grid(False)\n",
    "    plt.tight_layout()\n",
    "    plt.savefig('cnn_norm_changes/' + model_name + '.pdf', facecolor='w', edgecolor='none')\n",
    "    "
   ]
  },
  {
   "cell_type": "code",
   "execution_count": null,
   "metadata": {},
   "outputs": [],
   "source": []
  }
 ],
 "metadata": {
  "kernelspec": {
   "display_name": "Python 3",
   "language": "python",
   "name": "python3"
  },
  "language_info": {
   "codemirror_mode": {
    "name": "ipython",
    "version": 3
   },
   "file_extension": ".py",
   "mimetype": "text/x-python",
   "name": "python",
   "nbconvert_exporter": "python",
   "pygments_lexer": "ipython3",
   "version": "3.5.4"
  }
 },
 "nbformat": 4,
 "nbformat_minor": 2
}
