{
 "cells": [
  {
   "cell_type": "code",
   "execution_count": 1,
   "metadata": {},
   "outputs": [],
   "source": [
    "import os\n",
    "from os.path import join as oj\n",
    "import sys, time\n",
    "sys.path.insert(1, oj(sys.path[0], '..'))  # insert parent path\n",
    "sys.path.insert(1, oj(sys.path[0], '../vision_fit'))  # insert parent path\n",
    "import time\n",
    "import numpy as np\n",
    "from tqdm import tqdm\n",
    "from copy import deepcopy\n",
    "import scipy\n",
    "import pickle as pkl\n",
    "import h5py\n",
    "import warnings\n",
    "warnings.filterwarnings(\"ignore\")\n",
    "import matplotlib.pyplot as plt\n",
    "import seaborn as sns\n",
    "from sklearn import metrics\n",
    "import style\n",
    "from imagenet_classes import lab_dict\n",
    "import sklearn\n",
    "import pandas as pd\n",
    "import stats\n",
    "\n",
    "%load_ext autoreload\n",
    "%autoreload 2"
   ]
  },
  {
   "cell_type": "code",
   "execution_count": 2,
   "metadata": {},
   "outputs": [],
   "source": [
    "style.set_style()\n",
    "import warnings\n",
    "warnings.filterwarnings(\"ignore\")"
   ]
  },
  {
   "cell_type": "markdown",
   "metadata": {},
   "source": [
    "# get data on labs, preds, and feats"
   ]
  },
  {
   "cell_type": "code",
   "execution_count": 3,
   "metadata": {},
   "outputs": [
    {
     "name": "stdout",
     "output_type": "stream",
     "text": [
      "['.ipynb_checkpoints', 'alexnet.h5', 'alexnet_corrs.h5', 'alexnet_feats.h5', 'densenet121_corrs.h5', 'densenet169.h5', 'densenet169_corrs.h5', 'densenet169_feats.h5', 'densenet201_corrs.h5', 'ind_tops_train.pkl', 'ind_tops_train_corrs.pkl', 'ind_tops_val.pkl', 'ind_tops_val_corrs.pkl', 'labs.h5', 'readme.md', 'resnet101_corrs.h5', 'resnet152_corrs.h5', 'resnet18.h5', 'resnet18_corrs.h5', 'resnet18_feats.h5', 'resnet34_corrs.h5', 'resnet50.h5', 'resnet50_corrs.h5', 'vgg11.h5', 'vgg11_corrs.h5', 'vgg11_feats.h5', 'vgg13.h5', 'vgg13_corrs.h5', 'vgg13_feats.h5', 'vgg16.h5', 'vgg16_corrs.h5', 'vgg19.h5', 'vgg19_corrs.h5']\n"
     ]
    }
   ],
   "source": [
    "out_dir = '/accounts/projects/vision/scratch/yu_dl/raaz.rsk/cnns_preds'\n",
    "fnames = sorted(os.listdir(out_dir))\n",
    "print(fnames)\n",
    "\n",
    "# labs_train slightly smaller because part of last batch gets cut off\n",
    "labs_train = np.array(h5py.File(oj(out_dir, 'labs.h5'), 'r')['labs_train'])\n",
    "labs_val = np.array(h5py.File(oj(out_dir, 'labs.h5'), 'r')['labs_val'])\n",
    "\n",
    "preds_train = h5py.File(oj(out_dir, 'alexnet.h5'), 'r')['preds_train']\n",
    "preds_val = h5py.File(oj(out_dir, 'densenet169.h5'), 'r')['preds_val']\n",
    "\n",
    "feats_train = h5py.File(oj(out_dir, 'alexnet_feats.h5'), 'r')['feats_train']\n",
    "feats_val = h5py.File(oj(out_dir, 'alexnet_feats.h5'), 'r')['feats_val']"
   ]
  },
  {
   "cell_type": "markdown",
   "metadata": {},
   "source": [
    "# pairwise pred plots"
   ]
  },
  {
   "cell_type": "code",
   "execution_count": null,
   "metadata": {},
   "outputs": [],
   "source": [
    "# ['alexnet.h5', 'alexnet_feats.h5', 'densenet169.h5', 'labs.h5', 'resnet18.h5', \n",
    "# 'resnet50.h5', 'top_10_inds_dict.pkl', 'vgg11.h5', 'vgg13.h5', 'vgg16.h5', 'vgg19.h5']\n",
    "p1 = np.array(h5py.File(oj(out_dir, 'alexnet.h5'), 'r')['preds_val'])\n",
    "p2 = np.array(h5py.File(oj(out_dir, 'vgg11.h5'), 'r')['preds_val'])\n",
    "\n",
    "for lab_num in range(10):\n",
    "    plt.plot(p1[labs_val==lab_num][:, 0], \n",
    "             p2[labs_val==lab_num][:, 0], '.', alpha=0.5, label=str(lab_num))\n",
    "plt.legend()\n",
    "plt.xlabel('intra-class preds class zero model 1')\n",
    "plt.ylabel('intra-class preds class zero model 2')\n",
    "corrs = []\n",
    "for lab_num in range(10):\n",
    "    corrs.append(np.corrcoef(p1[labs_val==lab_num][:, 0], p2[labs_val==lab_num][:, 0])[0, 1])\n",
    "print(f'mean: {np.mean(corrs):.2f}, {corrs}')\n",
    "plt.title(f'mean corr: {np.mean(corrs):.2f}')\n",
    "plt.tight_layout()\n",
    "plt.savefig('imagenet_intra_class_preds_class=0.png', dpi=300)"
   ]
  },
  {
   "cell_type": "code",
   "execution_count": null,
   "metadata": {},
   "outputs": [],
   "source": [
    "# ['alexnet.h5', 'alexnet_feats.h5', 'densenet169.h5', 'labs.h5', 'resnet18.h5', \n",
    "# 'resnet50.h5', 'top_10_inds_dict.pkl', 'vgg11.h5', 'vgg13.h5', 'vgg16.h5', 'vgg19.h5']\n",
    "p1 = np.array(h5py.File(oj(out_dir, 'densenet169.h5'), 'r')['preds_val'])\n",
    "p2 = np.array(h5py.File(oj(out_dir, 'resnet50.h5'), 'r')['preds_val'])\n",
    "\n",
    "for lab_num in range(10):\n",
    "    plt.plot(p1[labs_val==lab_num][:, lab_num], \n",
    "             p2[labs_val==lab_num][:, lab_num], '.', alpha=0.5, label=str(lab_num))\n",
    "plt.legend()\n",
    "plt.xlabel('intra-class preds for class model 1')\n",
    "plt.ylabel('intra-class preds for class model 2')\n",
    "corrs = []\n",
    "for lab_num in range(10):\n",
    "    corrs.append(np.corrcoef(p1[labs_val==lab_num][:, lab_num], p2[labs_val==lab_num][:, lab_num])[0, 1])\n",
    "print(f'mean: {np.mean(corrs):.2f}, {corrs}')\n",
    "plt.tight_layout()\n",
    "plt.title(f'mean corr: {np.mean(corrs):.2f}')\n",
    "plt.savefig('imagenet_intra_class_preds.png', dpi=300)"
   ]
  },
  {
   "cell_type": "markdown",
   "metadata": {},
   "source": [
    "**correlations persist after softmax**"
   ]
  },
  {
   "cell_type": "code",
   "execution_count": null,
   "metadata": {},
   "outputs": [],
   "source": [
    "plt.subplot(121)\n",
    "plt.title('after softmax')\n",
    "plt.plot(scipy.special.softmax(p1, axis=1)[:, 0], \n",
    "         scipy.special.softmax(p2, axis=1)[:, 0], 'o', alpha=0.1)\n",
    "\n",
    "plt.subplot(122)\n",
    "plt.title('before softmax')\n",
    "plt.plot(p1[:, 0], p2[:, 0], 'o', alpha=0.05)\n",
    "plt.show()"
   ]
  },
  {
   "cell_type": "markdown",
   "metadata": {},
   "source": [
    "# calc all pairwise corrs"
   ]
  },
  {
   "cell_type": "code",
   "execution_count": 9,
   "metadata": {},
   "outputs": [],
   "source": []
  },
  {
   "cell_type": "code",
   "execution_count": null,
   "metadata": {},
   "outputs": [],
   "source": [
    "nets = ['alexnet', 'vgg11', 'vgg13', 'resnet18', 'densenet169']\n",
    "dset = 'val' # ['val', 'train']\n",
    "softmax = False # [False, True]\n",
    "corrs_dict = {'raw_corr': np.zeros((len(nets), len(nets))), \n",
    "              'intra_class_corr_all': np.zeros((len(nets), len(nets))), \n",
    "              'intra_class_corr_correct': np.zeros((len(nets), len(nets))),\n",
    "              'intra_class_rank_corr': np.zeros((len(nets), len(nets)))}\n",
    "for i, net1 in tqdm(enumerate(nets)):\n",
    "    for j, net2 in enumerate(nets):\n",
    "        labs = np.array(h5py.File(oj(out_dir, 'labs.h5'), 'r')['labs_' + dset])        \n",
    "        p1 = np.array(h5py.File(oj(out_dir, net1 + '.h5'), 'r')['preds_' + dset])[:labs.size]\n",
    "        p2 = np.array(h5py.File(oj(out_dir, net2 + '.h5'), 'r')['preds_' + dset])[:labs.size]\n",
    "\n",
    "\n",
    "        if softmax:\n",
    "            p1 = scipy.special.softmax(p1, axis=1)\n",
    "            p2 = scipy.special.softmax(p2, axis=1)                \n",
    "        \n",
    "        corrs = stats.calc_corrs(p1, p2, labs)\n",
    "        for key in corrs:\n",
    "            corrs_dict[key][i, j] = corrs[key]"
   ]
  },
  {
   "cell_type": "code",
   "execution_count": 11,
   "metadata": {},
   "outputs": [],
   "source": [
    "# corr_comparisons_dict_val.pkl - val, no softmax\n",
    "# corr_comparisons_dict_val_softmax.pkl - val, with softmax\n",
    "# corr_comparisons_dict_train.pkl - train, no softmax\n",
    "pkl.dump(corrs_dict, open('corr_comparisons_dict_val.pkl', 'wb'))\n",
    "\n",
    "# corrs_dict = pkl.load(open('corr_comparisons_dict_val.pkl', 'rb'))\n",
    "# corrs_dict = pkl.load(open('corr_comparisons_dict_train.pkl', 'rb'))"
   ]
  },
  {
   "cell_type": "code",
   "execution_count": null,
   "metadata": {},
   "outputs": [],
   "source": [
    "plt.figure(figsize=(20, 6))\n",
    "tits = ['Raw', 'Intra-class', 'Intra-class both correct',  'Intra-class rank correlation']\n",
    "for i, corr_type in enumerate(['raw_corr', 'intra_class_corr_all', 'intra_class_corr_correct', 'intra_class_rank_corr']):\n",
    "    plt.subplot(1, 4, i + 1)\n",
    "    sns.heatmap(corrs_dict[corr_type], annot=True, vmin=0.5, vmax=1, cbar=False, fmt='.3f')\n",
    "#     plt.imshow(corrs_dict['raw_corr'])\n",
    "#     plt.grid(False)\n",
    "#     plt.clim(0, 1)\n",
    "\n",
    "    plt.xticks(0.5 + np.arange(len(nets)), nets, rotation='vertical')\n",
    "\n",
    "    plt.title(tits[i])\n",
    "    plt.yticks([])\n",
    "    if i == 0:\n",
    "        plt.yticks(0.5 + np.arange(len(nets)),  nets, rotation='horizontal')\n",
    "#     if i == 2:\n",
    "#         plt.colorbar()\n",
    "\n",
    "plt.tight_layout()\n",
    "plt.savefig('pred_corrs_val_full.pdf')\n",
    "plt.show()"
   ]
  },
  {
   "cell_type": "code",
   "execution_count": null,
   "metadata": {},
   "outputs": [],
   "source": [
    "sns.heatmap(corrs_dict['intra_class_corr_correct'], annot=True, vmin=0.5, vmax=1, cbar=False, fmt='.3f')\n",
    "plt.xticks(0.5 + np.arange(len(nets)), nets, rotation='vertical')\n",
    "plt.yticks(0.5 + np.arange(len(nets)),  nets, rotation='horizontal')\n",
    "\n",
    "plt.tight_layout()\n",
    "plt.savefig('pred_corrs_val.pdf')\n",
    "plt.show()"
   ]
  },
  {
   "cell_type": "markdown",
   "metadata": {},
   "source": [
    "# do different nets put their maxes at the same place? -> **answer: yes**"
   ]
  },
  {
   "cell_type": "code",
   "execution_count": null,
   "metadata": {},
   "outputs": [],
   "source": [
    "ind_tops = {} # these are in ascending order\n",
    "for fname in tqdm(['alexnet.h5', 'vgg11.h5', 'vgg13.h5', 'resnet18.h5', 'densenet169.h5']):\n",
    "#     preds = h5py.File(oj(out_dir, fname + corr), 'r')['preds_train']\n",
    "    preds = h5py.File(oj(out_dir, fname[:-3] + '_corrs' + '.h5'), 'r')['corrs_train']    \n",
    "\n",
    "    # get largest indices for each class\n",
    "    ind_top = np.argsort(preds, axis=0) # in ascending order\n",
    "    ind_tops[fname] = ind_top[-50:]\n",
    "    \n",
    "# pkl.dump(ind_tops, open(oj(out_dir, \"ind_tops_train.pkl\"), \"wb\" ))\n",
    "pkl.dump(ind_tops, open(oj(out_dir, \"ind_tops_train_corrs.pkl\"), \"wb\" ))"
   ]
  },
  {
   "cell_type": "code",
   "execution_count": 59,
   "metadata": {},
   "outputs": [],
   "source": [
    "ind_tops_val = pkl.load(open(oj(out_dir, \"ind_tops_val_corrs.pkl\"), \"rb\"))\n",
    "ind_tops_train = pkl.load(open(oj(out_dir, \"ind_tops_train_corrs.pkl\"), \"rb\")) # contain 'alexnet.h5', 'vgg11.h5', 'vgg13.h5', 'vgg16.h5', 'resnet18.h5', 'densenet169.h5'"
   ]
  },
  {
   "cell_type": "code",
   "execution_count": null,
   "metadata": {},
   "outputs": [],
   "source": [
    "# note: need to pass in ks!\n",
    "ks = np.arange(1, 31)\n",
    "\n",
    "plt.subplot(121)\n",
    "plt.title('Training')\n",
    "\n",
    "nets_list = [('vgg11', 'alexnet'), ('vgg11', 'vgg13'), ('vgg11', 'densenet169')]\n",
    "for nets in nets_list:\n",
    "    nums_agree = []\n",
    "    for k in ks:\n",
    "        num1 = stats.num_agree_topk(ind_tops_train[nets[0] + '.h5'], ind_tops_train[nets[1] + '.h5'], k=k) / 1000.0\n",
    "        num2 = stats.num_agree_topk(ind_tops_train[nets[1] + '.h5'], ind_tops_train[nets[0] + '.h5'], k=k) / 1000.0\n",
    "        nums_agree.append((num1 + num2) / 2.0)\n",
    "    plt.plot(ks, nums_agree, '.-', label=str(nets))\n",
    "    print(nums_agree[0], end=' ')\n",
    "plt.semilogy(ks, ks / 1000, '-', label='chance')\n",
    "plt.xlabel('Top k to match')\n",
    "plt.ylabel('Fraction agreement')\n",
    "plt.ylim(0, 1)\n",
    "plt.legend()\n",
    "\n",
    "plt.subplot(122)\n",
    "plt.title('Validation')\n",
    "\n",
    "for nets in nets_list:\n",
    "    nums_agree = []\n",
    "    for k in ks:\n",
    "        num1 = stats.num_agree_topk(ind_tops_val[nets[0] + '.h5'], ind_tops_val[nets[1] + '.h5'], k=k) / 1000\n",
    "        num2 = stats.num_agree_topk(ind_tops_val[nets[1] + '.h5'], ind_tops_val[nets[0] + '.h5'], k=k) / 1000\n",
    "        nums_agree.append((num1 + num2) / 2)\n",
    "    plt.plot(ks, nums_agree, '.-', label=str(nets))\n",
    "plt.semilogy(ks, ks / 50, '-', label='chance')\n",
    "plt.ylim(0, 1)\n",
    "plt.xlabel('Top k to match')\n",
    "# plt.ylabel('Percent agreement')\n",
    "\n",
    "plt.tight_layout()\n",
    "plt.savefig('topk_corrs.pdf')\n",
    "plt.show()"
   ]
  },
  {
   "cell_type": "code",
   "execution_count": null,
   "metadata": {},
   "outputs": [],
   "source": []
  }
 ],
 "metadata": {
  "kernelspec": {
   "display_name": "Python 3",
   "language": "python",
   "name": "python3"
  },
  "language_info": {
   "codemirror_mode": {
    "name": "ipython",
    "version": 3
   },
   "file_extension": ".py",
   "mimetype": "text/x-python",
   "name": "python",
   "nbconvert_exporter": "python",
   "pygments_lexer": "ipython3",
   "version": "3.7.0"
  }
 },
 "nbformat": 4,
 "nbformat_minor": 2
}
