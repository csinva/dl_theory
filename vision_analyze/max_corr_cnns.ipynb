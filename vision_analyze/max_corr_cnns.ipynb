{
 "cells": [
  {
   "cell_type": "code",
   "execution_count": 1,
   "metadata": {},
   "outputs": [],
   "source": [
    "import os\n",
    "from os.path import join as oj\n",
    "import sys, time\n",
    "sys.path.insert(1, oj(sys.path[0], '..'))  # insert parent path\n",
    "import seaborn as sns\n",
    "import numpy as np\n",
    "import matplotlib.pyplot as plt\n",
    "from tqdm import tqdm\n",
    "from copy import deepcopy\n",
    "import pickle as pkl\n",
    "\n",
    "# plt.style.use('dark_background')\n",
    "from mog_fit import data\n",
    "from collections import OrderedDict\n",
    "from sklearn import preprocessing\n",
    "\n",
    "import torch\n",
    "from torch.autograd import Variable\n",
    "import torchvision.models as models\n",
    "\n",
    "import warnings\n",
    "warnings.filterwarnings(\"ignore\")\n",
    "\n",
    "\n",
    "%load_ext autoreload\n",
    "%autoreload 2"
   ]
  },
  {
   "cell_type": "markdown",
   "metadata": {},
   "source": [
    "# load in imagenet dset"
   ]
  },
  {
   "cell_type": "code",
   "execution_count": 14,
   "metadata": {},
   "outputs": [
    {
     "name": "stderr",
     "output_type": "stream",
     "text": [
      "\n",
      "KeyboardInterrupt\n",
      "\n"
     ]
    }
   ],
   "source": [
    "import torchvision.datasets as dset\n",
    "import torchvision.transforms as transforms\n",
    "\n",
    "# Data loading code\n",
    "data_dir = '/scratch/users/vision/data/cv/imagenet_full'\n",
    "traindir = os.path.join(data_dir, 'train')\n",
    "valdir = os.path.join(data_dir, 'val')\n",
    "normalize = transforms.Normalize(mean=[0.485, 0.456, 0.406],\n",
    "                                 std=[0.229, 0.224, 0.225])\n",
    "\n",
    "batch_size = 10\n",
    "num_workers = 1\n",
    "'''\n",
    "train_dataset = datasets.ImageFolder(\n",
    "    traindir,\n",
    "    transforms.Compose([\n",
    "        transforms.RandomResizedCrop(224),\n",
    "        transforms.RandomHorizontalFlip(),\n",
    "        transforms.ToTensor(),\n",
    "        normalize,\n",
    "    ]))\n",
    "\n",
    "train_loader = torch.utils.data.DataLoader(\n",
    "    train_dataset, batch_size=batch_size, shuffle=False,\n",
    "    num_workers=num_workers, pin_memory=True)\n",
    "'''\n",
    "val_loader = torch.utils.data.DataLoader(\n",
    "    dset.ImageFolder(valdir, transforms.Compose([\n",
    "        transforms.Resize(256),\n",
    "        transforms.CenterCrop(224),\n",
    "        transforms.ToTensor(),\n",
    "        normalize])),\n",
    "    batch_size=batch_size, shuffle=False, \n",
    "    num_workers=num_workers, pin_memory=True)"
   ]
  },
  {
   "cell_type": "markdown",
   "metadata": {},
   "source": [
    "# load in some models"
   ]
  },
  {
   "cell_type": "code",
   "execution_count": 22,
   "metadata": {},
   "outputs": [],
   "source": [
    "\n",
    "def get_model(s):\n",
    "    if s == 'densenet':\n",
    "        model = models.densenet161(pretrained=True)\n",
    "    elif s == 'alexnet':\n",
    "        model = models.alexnet(pretrained=True)\n",
    "    elif s == 'resnet18':\n",
    "        model = models.resnet18(pretrained=True)\n",
    "    elif s == 'vgg16':\n",
    "        model = models.vgg16(pretrained=True)\n",
    "    elif s == 'inception_v3':\n",
    "        model = models.inception_v3(pretrained=True)\n",
    "    return model.cuda()"
   ]
  },
  {
   "cell_type": "markdown",
   "metadata": {},
   "source": [
    "# iterate"
   ]
  },
  {
   "cell_type": "code",
   "execution_count": 27,
   "metadata": {},
   "outputs": [
    {
     "name": "stdout",
     "output_type": "stream",
     "text": [
      "Parameter containing:\n",
      " 4.0023e-03  6.0941e-03  1.3376e-02  ...  -3.1656e-04 -2.1764e-03 -9.2843e-03\n",
      " 1.3021e-03  2.0498e-03  2.7710e-03  ...   5.2761e-03  2.0754e-04 -1.4514e-02\n",
      "-1.8520e-02 -1.4540e-02 -1.9814e-02  ...  -3.3310e-04 -1.2449e-03  1.9117e-02\n",
      "                ...                   ⋱                   ...                \n",
      "-6.3274e-03  2.6374e-03 -8.3830e-03  ...  -7.9338e-03  5.5023e-03  6.6757e-03\n",
      "-1.1492e-02 -5.5136e-03 -9.2469e-03  ...  -3.8866e-03 -4.8030e-03 -9.8874e-03\n",
      " 2.6484e-03 -1.4830e-02 -1.6435e-03  ...   5.0250e-03  5.1868e-03 -4.4632e-03\n",
      "[torch.cuda.FloatTensor of size 4096x9216 (GPU 0)]\n",
      "\n"
     ]
    }
   ],
   "source": [
    "def linear_hook(module, act_in, act_out):\n",
    "#     print(module.__class__.__name__)\n",
    "#     max_corrs[module.name] = \n",
    "    print(module.weight)\n",
    "#     print(module.name)\n",
    "#     outputs.append(output)\n",
    "    \n",
    "def calc_max_corr(val_loader, outputs):\n",
    "    for x in val_loader:\n",
    "        ims = x[0].cuda()\n",
    "        break\n",
    "    _ = model(Variable(ims))\n",
    "    \n",
    "\n",
    "model = get_model('alexnet')    \n",
    "\n",
    "\n",
    "# list(model.modules())\n",
    "\n",
    "# pick some layers\n",
    "lay1 = model.classifier[1] # fc1\n",
    "lay1.name = 'fc1'\n",
    "# model.classifier[4] # fc2\n",
    "# model.classifier[6] # fc3\n",
    "\n",
    "max_corrs = {}\n",
    "# loop over hooks / Ws here\n",
    "model.classifier[1].register_forward_hook(linear_hook)\n",
    "calc_max_corr(val_loader, outputs)"
   ]
  },
  {
   "cell_type": "code",
   "execution_count": null,
   "metadata": {},
   "outputs": [],
   "source": []
  }
 ],
 "metadata": {
  "kernelspec": {
   "display_name": "Python 3",
   "language": "python",
   "name": "python3"
  },
  "language_info": {
   "codemirror_mode": {
    "name": "ipython",
    "version": 3
   },
   "file_extension": ".py",
   "mimetype": "text/x-python",
   "name": "python",
   "nbconvert_exporter": "python",
   "pygments_lexer": "ipython3",
   "version": "3.5.4"
  }
 },
 "nbformat": 4,
 "nbformat_minor": 2
}
