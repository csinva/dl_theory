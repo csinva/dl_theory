{
 "cells": [
  {
   "cell_type": "code",
   "execution_count": 1,
   "metadata": {},
   "outputs": [],
   "source": [
    "import os\n",
    "from os.path import join as oj\n",
    "import sys, time\n",
    "sys.path.insert(1, oj(sys.path[0], '..'))  # insert parent path\n",
    "sys.path.insert(1, oj(sys.path[0], '..', 'vision_fit'))  # insert parent path\n",
    "import seaborn as sns\n",
    "import numpy as np\n",
    "import matplotlib.pyplot as plt\n",
    "\n",
    "from tqdm import tqdm\n",
    "from copy import deepcopy\n",
    "import pickle as pkl\n",
    "import pandas as pd\n",
    "import math\n",
    "# plt.style.use('dark_background')\n",
    "from mog_fit import data\n",
    "from collections import OrderedDict\n",
    "from sklearn import preprocessing\n",
    "\n",
    "import torch\n",
    "from torch.autograd import Variable\n",
    "from mog_analyze import viz\n",
    "from sklearn.decomposition import PCA\n",
    "\n",
    "import warnings\n",
    "warnings.filterwarnings(\"ignore\")\n",
    "\n",
    "from vision_fit import data\n",
    "import viz_weights\n",
    "from process_results import process_results\n",
    "\n",
    "%matplotlib inline\n",
    "%load_ext autoreload\n",
    "%autoreload 2\n",
    "\n",
    "import style\n",
    "cb = '#008fd5'\n",
    "cr = '#fc4f30'"
   ]
  },
  {
   "cell_type": "code",
   "execution_count": 2,
   "metadata": {},
   "outputs": [],
   "source": [
    "style.set_style()"
   ]
  },
  {
   "cell_type": "markdown",
   "metadata": {},
   "source": [
    "# load results from a directory"
   ]
  },
  {
   "cell_type": "code",
   "execution_count": 3,
   "metadata": {},
   "outputs": [
    {
     "name": "stderr",
     "output_type": "stream",
     "text": [
      "100%|██████████| 3034/3034 [00:37<00:00, 80.20it/s]\n"
     ]
    },
    {
     "name": "stdout",
     "output_type": "stream",
     "text": [
      "(3034, 54)\n"
     ]
    }
   ],
   "source": [
    "# depending on how much is saved, this may take a while\n",
    "out_dir = '/scratch/users/vision/yu_dl/raaz.rsk/track_acts/resweep_full_new'\n",
    "out_dir2 = '/scratch/users/vision/yu_dl/raaz.rsk/track_acts/resweep_full_new2'\n",
    "fnames = sorted([oj(out_dir, fname) for fname in os.listdir(out_dir) \\\n",
    "                 if not fname.startswith('weights') \\\n",
    "                 and not fname.startswith('idx')]) + \\\n",
    "         sorted([oj(out_dir2, fname) for fname in os.listdir(out_dir2) \\\n",
    "                 if not fname.startswith('weights') \\\n",
    "                 and not fname.startswith('idx')])    \n",
    "results_list = [pd.Series(pkl.load(open(fname, \"rb\"))) for fname in tqdm(fnames) \n",
    "                if not fname.startswith('weights') and not fname.startswith('idx')]\n",
    "results = pd.concat(results_list, axis=1).T.infer_objects()\n",
    "print(results.shape)"
   ]
  },
  {
   "cell_type": "markdown",
   "metadata": {},
   "source": [
    "**add cols**"
   ]
  },
  {
   "cell_type": "code",
   "execution_count": 44,
   "metadata": {},
   "outputs": [
    {
     "name": "stdout",
     "output_type": "stream",
     "text": [
      "after (2856, 84)\n"
     ]
    }
   ],
   "source": [
    "# adds these vec keys: fc0_fro, fc1_fro, fc0_stab_rank, fc1_stab_rank, act0_stab_rank, act1_stab_rank, corr0, corr1\n",
    "# adds these scalar keys: max_train_acc, max_test_acc, _final of all the above\n",
    "# print('before', results.shape)\n",
    "its, ts, results = process_results(results)\n",
    "print('after', results.shape)"
   ]
  },
  {
   "cell_type": "markdown",
   "metadata": {},
   "source": [
    "# plot max corrs\n",
    "*note some things disappear in below plot as a result of nans*"
   ]
  },
  {
   "cell_type": "code",
   "execution_count": null,
   "metadata": {},
   "outputs": [],
   "source": [
    "r = results\n",
    "r = r[r.dset == 'mnist']\n",
    "r = r[r.hidden_size == 128]\n",
    "r = r[r.max_test_acc >= 0.97]\n",
    "hue = 'optimizer'\n",
    "\n",
    "R, C = 1, 1\n",
    "plt.figure(figsize=(14, 14), facecolor='w', dpi=100)\n",
    "plt.subplot(R, C, 1)\n",
    "plt.title('mnist')\n",
    "\n",
    "x = np.array(r.max_test_acc)\n",
    "y = np.array(r.corr0_final)\n",
    "pids = np.array([pid[:5] for pid in r.pid])\n",
    "ax = sns.scatterplot(x, y, hue=r[hue])\n",
    "\n",
    "for i, pid in enumerate(pids):\n",
    "    ax.annotate(pid, (x[i], y[i]))\n",
    "\n",
    "plt.show()"
   ]
  },
  {
   "cell_type": "markdown",
   "metadata": {},
   "source": [
    "# pick examples"
   ]
  },
  {
   "cell_type": "code",
   "execution_count": 5,
   "metadata": {},
   "outputs": [
    {
     "name": "stdout",
     "output_type": "stream",
     "text": [
      "s 40043048138378577087\n",
      "a 24421020350011741116\n"
     ]
    }
   ],
   "source": [
    "pre_a = '24421'\n",
    "pre_s = '40043'\n",
    "\n",
    "r = results\n",
    "for pid in r.pid:\n",
    "    if pid.startswith(pre_a):\n",
    "        print('a', pid)\n",
    "    if pid.startswith(pre_s):\n",
    "        print('s', pid)\n",
    "\n",
    "# good for 128\n",
    "# pid_a = '24421020350011741116'\n",
    "# pid_s = '40043048138378577087'\n",
    "\n",
    "# good for 512\n",
    "pid_a = '07665771801545027002'\n",
    "pid_s = '24656068102223723425'"
   ]
  },
  {
   "cell_type": "code",
   "execution_count": 6,
   "metadata": {},
   "outputs": [],
   "source": [
    "# depending on how much is saved, this may take a while\n",
    "out_dir = '/scratch/users/vision/yu_dl/raaz.rsk/track_acts/resweep_full_new'\n",
    "out_dir2 = '/scratch/users/vision/yu_dl/raaz.rsk/track_acts/resweep_full_new2'\n",
    "fnames = sorted([oj(out_dir, fname) for fname in os.listdir(out_dir) \\\n",
    "                 if (pid_a in fname or pid_s in fname)]) + \\\n",
    "         sorted([oj(out_dir2, fname) for fname in os.listdir(out_dir2) \\\n",
    "                 if (pid_a in fname or pid_s in fname)])\n",
    "\n",
    "# weights\n",
    "fnames_w = [fname for fname in fnames if 'weights' in fname]\n",
    "results_list = [pd.Series(pkl.load(open(fname, \"rb\"))) for fname in fnames_w]\n",
    "rw = pd.concat(results_list, axis=1).T.infer_objects()\n",
    "\n",
    "# normal results\n",
    "fnames_acc = [fname for fname in fnames if '/pid' in fname] # normal results\n",
    "results_list = [pd.Series(pkl.load(open(fname, \"rb\"))) for fname in fnames_acc]\n",
    "r = pd.concat(results_list, axis=1).T.infer_objects()\n",
    "its, ts, r = process_results(r)\n",
    "\n",
    "# get individual weights\n",
    "rw_sgd = rw[rw.optimizer == 'sgd'].reset_index().iloc[0]\n",
    "rw_adam = rw[rw.optimizer == 'adam'].reset_index().iloc[0]\n",
    "\n",
    "# get accs\n",
    "r_sgd = r[r.optimizer == 'sgd'].reset_index().iloc[0]\n",
    "r_adam = r[r.optimizer == 'adam'].reset_index().iloc[0]"
   ]
  },
  {
   "cell_type": "code",
   "execution_count": 7,
   "metadata": {},
   "outputs": [
    {
     "name": "stdout",
     "output_type": "stream",
     "text": [
      "0.9706 0.9704 0.9999333333333333 0.9996833333333334\n",
      "sgd [0.9999] [0.9692]\n",
      "adam [0.99951667] [0.9679]\n"
     ]
    }
   ],
   "source": [
    "epoch = int(max(ts))\n",
    "print(r_sgd.max_test_acc, r_adam.max_test_acc, r_sgd.max_train_acc, r_adam.max_train_acc)\n",
    "print('sgd', r_sgd.accs_train[its == epoch], r_sgd.accs_test[its == epoch])\n",
    "print('adam', r_adam.accs_train[its == epoch], r_adam.accs_test[its == epoch])"
   ]
  },
  {
   "cell_type": "markdown",
   "metadata": {},
   "source": [
    "# remake weight plots with hist"
   ]
  },
  {
   "cell_type": "code",
   "execution_count": null,
   "metadata": {},
   "outputs": [],
   "source": [
    "from matplotlib.ticker import NullLocator\n",
    "\n",
    "def get_w(run):\n",
    "    run['num_layer'] = int(run['num_layers'])\n",
    "    run['hidden_size'] = int(run['hidden_size'])\n",
    "    lay = 'fc.0.weight'\n",
    "\n",
    "    # keys are epochs, vals are dicts of all weights\n",
    "    weights_dict_dict = run['weights']\n",
    "\n",
    "    # keys are layers, vals are weight values\n",
    "#     print(weights_dict_dict.keys())\n",
    "    weights_dict = weights_dict_dict[epoch]\n",
    "#     print(weights_dict.keys())\n",
    "    w = weights_dict[lay]\n",
    "\n",
    "    return w\n",
    "\n",
    "for run in [rw_sgd, rw_adam]:\n",
    "    w = get_w(run)\n",
    "    # matrix of weights (output x input)\n",
    "    viz_weights.plot_weights(w, dset='mnist', C=18, dpi=120)\n",
    "                \n",
    "    plt.gca().set_axis_off()\n",
    "    plt.gca().xaxis.set_major_locator(NullLocator())\n",
    "    plt.gca().yaxis.set_major_locator(NullLocator())\n",
    "    plt.margins(0, 0)\n",
    "\n",
    "    plt.savefig(run.optimizer + '_' + str(run.hidden_size) + '_' + 'w0.pdf', \n",
    "                bbox_inches = 'tight', pad_inches = 0)"
   ]
  },
  {
   "cell_type": "code",
   "execution_count": null,
   "metadata": {},
   "outputs": [],
   "source": [
    "for r_opt in [r_sgd, r_adam]:\n",
    "    max_corrs = r_opt['mean_max_corrs'][epoch]['fc.0.weight']['max_corrs']\n",
    "    plt.figure(facecolor='w')\n",
    "    plt.hist(max_corrs, density=True)\n",
    "    plt.axvline(np.mean(max_corrs), color='red')\n",
    "    plt.xlim(0, 1)\n",
    "    plt.xlabel('$\\\\rho_{mem}(W_1)$')\n",
    "    plt.ylabel('Densiy')\n",
    "    plt.tight_layout()\n",
    "    plt.savefig(r_opt.optimizer + '_' + 'hist.pdf')\n",
    "    print(np.mean(max_corrs))\n",
    "# plt.show()"
   ]
  },
  {
   "cell_type": "markdown",
   "metadata": {},
   "source": [
    "*sort the weights by highest mem to lowest mem*"
   ]
  },
  {
   "cell_type": "code",
   "execution_count": null,
   "metadata": {},
   "outputs": [],
   "source": [
    "for r_opt, run in zip([r_sgd, r_adam], [rw_sgd, rw_adam]):\n",
    "    max_corrs = r_opt['mean_max_corrs'][epoch]['fc.0.weight']['max_corrs']\n",
    "    w = get_w(run)\n",
    "    inds = max_corrs.argsort()\n",
    "    max_corrs = max_corrs[inds[::-1]]\n",
    "    w = w[inds[::-1]]\n",
    "    viz_weights.plot_weights(w, dset='mnist', C=18, dpi=120)\n",
    "    \n",
    "    plt.savefig(run.optimizer + '_sorted_' + str(run.hidden_size) + '_' + 'w0.pdf', \n",
    "            bbox_inches = 'tight', pad_inches = 0)"
   ]
  },
  {
   "cell_type": "markdown",
   "metadata": {},
   "source": [
    "# make alterations"
   ]
  },
  {
   "cell_type": "code",
   "execution_count": 110,
   "metadata": {},
   "outputs": [
    {
     "name": "stdout",
     "output_type": "stream",
     "text": [
      "sgd\n",
      "mean acc 0.7859833333333334 0.7886\n",
      "mean acc 0.45355 0.4657\n",
      "mean acc 0.30416666666666664 0.3067\n",
      "mean acc 0.23331666666666667 0.2362\n",
      "mean acc 0.15193333333333334 0.1482\n",
      "mean acc 0.13183333333333333 0.1336\n",
      "mean acc 0.12185 0.118\n",
      "mean acc 0.11715 0.1198\n",
      "mean acc 0.10841666666666666 0.1049\n",
      "mean acc 0.10265 0.1085\n",
      "mean acc 0.10181666666666667 0.0968\n",
      "mean acc 0.10123333333333333 0.1027\n",
      "mean acc 0.9999 0.9692\n",
      "mean acc 0.98115 0.9622\n",
      "mean acc 0.9539333333333333 0.941\n",
      "mean acc 0.9071166666666667 0.902\n",
      "mean acc 0.8403666666666667 0.838\n",
      "mean acc 0.69295 0.6867\n",
      "mean acc 0.5691 0.571\n",
      "mean acc 0.9841 0.9565\n",
      "mean acc 0.9623 0.9478\n",
      "mean acc 0.96455 0.9508\n",
      "mean acc 0.9652166666666666 0.9536\n",
      "mean acc 0.9646333333333333 0.9559\n",
      "mean acc 0.9638666666666666 0.9575\n",
      "adam\n",
      "mean acc 0.8405833333333333 0.84\n",
      "mean acc 0.5518166666666666 0.555\n",
      "mean acc 0.3847833333333333 0.3841\n",
      "mean acc 0.29246666666666665 0.2949\n",
      "mean acc 0.17516666666666666 0.1688\n",
      "mean acc 0.14131666666666667 0.144\n",
      "mean acc 0.12868333333333334 0.1332\n",
      "mean acc 0.12206666666666667 0.1282\n",
      "mean acc 0.10813333333333333 0.1135\n",
      "mean acc 0.104 0.1045\n",
      "mean acc 0.10193333333333333 0.1057\n",
      "mean acc 0.10223333333333333 0.099\n",
      "mean acc 0.9995166666666667 0.9679\n",
      "mean acc 0.9770833333333333 0.9589\n",
      "mean acc 0.9470333333333333 0.9403\n",
      "mean acc 0.9012666666666667 0.8974\n",
      "mean acc 0.8380333333333333 0.8381\n",
      "mean acc 0.69145 0.6913\n",
      "mean acc 0.5769 0.5792\n",
      "mean acc 0.9838166666666667 0.9561\n",
      "mean acc 0.9627333333333333 0.9456\n",
      "mean acc 0.96225 0.9512\n",
      "mean acc 0.9609 0.9503\n",
      "mean acc 0.9605833333333333 0.9517\n",
      "mean acc 0.9599 0.951\n"
     ]
    }
   ],
   "source": [
    "# all info in [r_sgd, r_adam], [rw_sgd, rw_adam]\n",
    "def calc_accs(model, X_train, Y_train, X_test, Y_test):\n",
    "    preds = model(X_train).data.cpu().numpy().argmax(axis=1)\n",
    "    accs_train = preds==Y_train\n",
    "    preds = model(X_test).data.cpu().numpy().argmax(axis=1)\n",
    "    accs_test = preds==Y_test\n",
    "    print('mean acc', np.mean(accs_train), np.mean(accs_test))\n",
    "    return np.mean(accs_train), np.mean(accs_test)\n",
    "\n",
    "def add_noise(X_train, X_test, val):\n",
    "    return X_train + torch.empty(X_train.shape).uniform_(-val, val).cuda(), X_test + torch.empty(X_test.shape).uniform_(-val, val).cuda() \n",
    "\n",
    "\n",
    "# load model\n",
    "# accs = pkl.load(open('accs_corrupted.pkl', \"rb\"))\n",
    "# CONTRAST is actually random pixel noise\n",
    "accs_train = {'rotate': [], 'noise': [], 'brightness': []}\n",
    "accs_test = {'rotate': [], 'noise': [], 'brightness': []}\n",
    "accs = {'sgd': {'train': deepcopy(accs_train), 'test': deepcopy(accs_test)},\n",
    "        'adam': {'train': deepcopy(accs_train), 'test': deepcopy(accs_test)}}\n",
    "rots = 180 * np.array([0.0025, 0.05, 0.1, 0.15, 0.2, 0.3, 0.4])\n",
    "brights = 255 * np.array([0.0025, 0.05, 0.1, 0.2, 0.3, 0.4])\n",
    "vals = 255 * np.array([0.0025, 0.005, 0.0075, 0.01, 0.02, 0.03, 0.04, 0.05, 0.1, 0.2, 0.3, 0.4])\n",
    "for run in [rw_sgd, rw_adam]:\n",
    "    print(run.optimizer)\n",
    "    \n",
    "    # get data\n",
    "    run['num_layer'] = int(run['num_layers'])\n",
    "    run['hidden_size'] = int(run['hidden_size'])\n",
    "    run['batch_size'] = int(run.batch_size)\n",
    "    train_loader, test_loader = data.get_data_loaders(run)\n",
    "    X_train, Y_train, X_test, Y_test = data.process_loaders(train_loader, test_loader)\n",
    "    \n",
    "    \n",
    "    # load in weights\n",
    "    model = data.get_model(run)\n",
    "    weights_dict_dict = run['weights'] # keys are epochs, vals are dicts of all weights\n",
    "    weights_dict = weights_dict_dict[epoch] # keys are layers, vals are weight values    \n",
    "    weights_dict_tensors = {k: torch.Tensor(v) for k, v in weights_dict.items()}\n",
    "    model.load_state_dict(weights_dict_tensors)\n",
    "    model = model.cuda()\n",
    "    \n",
    "    # calc changed accs\n",
    "    run['noise_rotate'] = 0 # degrees able to rotate\n",
    "    run['noise_brightness'] = 0 # how much brightness can be jittered\n",
    "    for val in vals:\n",
    "        X_train1, X_test1 = add_noise(X_train, X_test, val)\n",
    "        acc_train, acc_test = calc_accs(model, X_train1, Y_train, X_test1, Y_test)    \n",
    "        accs[run.optimizer]['train']['noise'].append(acc_train)\n",
    "        accs[run.optimizer]['test']['noise'].append(acc_test)   \n",
    "        \n",
    "    for rot in rots:\n",
    "        run['noise_rotate'] = rot\n",
    "        train_loader, test_loader = data.get_data_loaders(run)\n",
    "        X_train, Y_train, X_test, Y_test = data.process_loaders(train_loader, test_loader)\n",
    "        acc_train, acc_test = calc_accs(model, X_train, Y_train, X_test, Y_test)    \n",
    "        accs[run.optimizer]['train']['rotate'].append(acc_train)\n",
    "        accs[run.optimizer]['test']['rotate'].append(acc_test)\n",
    "    run['noise_rotate'] = 0 # degrees able to rotate\n",
    "    \n",
    "    for bright in brights:\n",
    "        run['noise_brightness'] = bright\n",
    "        train_loader, test_loader = data.get_data_loaders(run)\n",
    "        X_train, Y_train, X_test, Y_test = data.process_loaders(train_loader, test_loader)\n",
    "        acc_train, acc_test = calc_accs(model, X_train, Y_train, X_test, Y_test)    \n",
    "        accs[run.optimizer]['train']['brightness'].append(acc_train)\n",
    "        accs[run.optimizer]['test']['brightness'].append(acc_test)   \n",
    "    run['noise_brightness'] = 0\n",
    "\n",
    "    \n",
    "pkl.dump(accs, open('accs_corrupted.pkl', 'wb'))"
   ]
  },
  {
   "cell_type": "code",
   "execution_count": 121,
   "metadata": {},
   "outputs": [
    {
     "data": {
      "image/png": "[encoded data removed]",
      "text/plain": [
       "<Figure size 432x288 with 1 Axes>"
      ]
     },
     "metadata": {},
     "output_type": "display_data"
    }
   ],
   "source": [
    "plt.figure(facecolor='w')\n",
    "plt.plot(rots / 180, accs['sgd']['test']['rotate'], label='SGD rotate', alpha=0.5)\n",
    "plt.plot(rots / 180, accs['adam']['test']['rotate'], '--', label='ADAM rotate', alpha=0.5)\n",
    "plt.plot(brights / 255, accs['sgd']['test']['brightness'], label='SGD brightness', alpha=0.5)\n",
    "plt.plot(brights / 255, accs['adam']['test']['brightness'], '--', label='ADAM brightness', alpha=0.5)\n",
    "plt.plot(vals / 255, accs['sgd']['test']['noise'], label='SGD gaussian pixels', alpha=0.5)\n",
    "plt.plot(vals / 255, accs['adam']['test']['noise'], '--', label='ADAM gaussian pixels', alpha=0.5)\n",
    "# plt.xlim((0, 0.3))\n",
    "# plt.xlim((0, 0.02))\n",
    "plt.xlabel('Fraction corruption')\n",
    "plt.ylabel('Test accuracy')\n",
    "plt.legend()\n",
    "plt.tight_layout()\n",
    "plt.savefig('corrupted.pdf')\n",
    "plt.show()"
   ]
  },
  {
   "cell_type": "markdown",
   "metadata": {},
   "source": [
    "# unrelated: check if bigger norm -> bigger mem"
   ]
  },
  {
   "cell_type": "code",
   "execution_count": 52,
   "metadata": {},
   "outputs": [
    {
     "name": "stdout",
     "output_type": "stream",
     "text": [
      "lr                 0.01\n",
      "optimizer          adam\n",
      "num_layers            7\n",
      "dset              mnist\n",
      "batch_size         1000\n",
      "shuffle_labels    False\n",
      "hidden_size         128\n",
      "Name: 7, dtype: object\n",
      "test acc 0.9685\n",
      "unadj 0.7087994 adj 0.57613635\n"
     ]
    },
    {
     "data": {
      "image/png": "[encoded data removed]",
      "text/plain": [
       "<Figure size 432x288 with 1 Axes>"
      ]
     },
     "metadata": {},
     "output_type": "display_data"
    }
   ],
   "source": [
    "r = results\n",
    "r = r[r.corr0_final > 0.5]\n",
    "r = r[r.max_test_acc >= 0.9]\n",
    "r = r.reset_index()\n",
    "row = r.iloc[7]\n",
    "sweep_params = ['lr', 'optimizer', 'num_layers', 'dset', 'batch_size', 'shuffle_labels', 'hidden_size']# wanna group by everything but seed\n",
    "print(row[sweep_params])\n",
    "print('test acc', row.max_test_acc)\n",
    "tmax = max(ts)\n",
    "d = row['mean_max_corrs'][tmax]['fc.0.weight']\n",
    "plt.plot(d['W_norms'], d['max_corrs'], 'o')\n",
    "plt.xlabel('w_norm')\n",
    "plt.ylabel('max corr')\n",
    "\n",
    "print('unadj', row.corr0_final, 'adj', row.corr0_adj_final)\n",
    "plt.show()"
   ]
  },
  {
   "cell_type": "code",
   "execution_count": null,
   "metadata": {},
   "outputs": [],
   "source": []
  }
 ],
 "metadata": {
  "anaconda-cloud": {},
  "kernelspec": {
   "display_name": "Python 3",
   "language": "python",
   "name": "python3"
  },
  "language_info": {
   "codemirror_mode": {
    "name": "ipython",
    "version": 3
   },
   "file_extension": ".py",
   "mimetype": "text/x-python",
   "name": "python",
   "nbconvert_exporter": "python",
   "pygments_lexer": "ipython3",
   "version": "3.5.4"
  }
 },
 "nbformat": 4,
 "nbformat_minor": 2
}
