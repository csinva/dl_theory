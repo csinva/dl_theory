{
 "cells": [
  {
   "cell_type": "code",
   "execution_count": null,
   "metadata": {},
   "outputs": [],
   "source": [
    "import os\n",
    "from os.path import join as oj\n",
    "import sys, time\n",
    "sys.path.insert(1, oj(sys.path[0], '..'))  # insert parent path\n",
    "import seaborn as sns\n",
    "import numpy as np\n",
    "import matplotlib.pyplot as plt\n",
    "from tqdm import tqdm\n",
    "from copy import deepcopy\n",
    "import pickle as pkl\n",
    "import pandas as pd\n",
    "import math\n",
    "# plt.style.use('dark_background')\n",
    "from mog_fit import data\n",
    "from collections import OrderedDict\n",
    "from sklearn import preprocessing\n",
    "\n",
    "import torch\n",
    "from torch.autograd import Variable\n",
    "from mog_analyze import viz\n",
    "from sklearn.decomposition import PCA\n",
    "\n",
    "import warnings\n",
    "warnings.filterwarnings(\"ignore\")\n",
    "\n",
    "from scipy.stats import entropy\n",
    "from scipy.stats import ks_2samp\n",
    "\n",
    "%load_ext autoreload\n",
    "%autoreload 2"
   ]
  },
  {
   "cell_type": "code",
   "execution_count": null,
   "metadata": {},
   "outputs": [],
   "source": [
    "plt.style.use('fivethirtyeight')\n",
    "\n",
    "import matplotlib as mpl\n",
    "import matplotlib.pylab as pylab\n",
    "label_size = 12\n",
    "mpl.rcParams['xtick.labelsize'] = label_size \n",
    "mpl.rcParams['ytick.labelsize'] = label_size \n",
    "mpl.rcParams['axes.labelsize'] = label_size\n",
    "mpl.rcParams['axes.titlesize'] = label_size\n",
    "mpl.rcParams['figure.titlesize'] = label_size\n",
    "mpl.rcParams['lines.markersize'] = 20\n",
    "mpl.rcParams['lines.linewidth'] = 3.\n",
    "mpl.rcParams['grid.linewidth'] = 1.\n",
    "mpl.rcParams['legend.fontsize'] = label_size\n",
    "pylab.rcParams['xtick.major.pad']=3\n",
    "pylab.rcParams['ytick.major.pad']=3\n",
    "\n",
    "pylab.rcParams['figure.facecolor']='white'\n",
    "pylab.rcParams['axes.facecolor']='white'\n",
    "# mpl.rcParams['figure.figsize'] = [12, 10]\n",
    "# mpl.rcParams.keys()\n",
    "# Say, \"the default sans-serif font is COMIC SANS\"\n",
    "# mpl.rcParams['font.serif'] = 'Times New Roman'\n",
    "# # Then, \"ALWAYS use sans-serif fonts\"\n",
    "# mpl.rcParams['font.family'] = \"Serif\""
   ]
  },
  {
   "cell_type": "markdown",
   "metadata": {},
   "source": [
    "# load results from a directory"
   ]
  },
  {
   "cell_type": "code",
   "execution_count": null,
   "metadata": {},
   "outputs": [],
   "source": [
    "out_dir_main = '/scratch/users/vision/yu_dl/raaz.rsk/track_acts/sweep_full_real' # current plots were made with 512"
   ]
  },
  {
   "cell_type": "code",
   "execution_count": null,
   "metadata": {},
   "outputs": [],
   "source": [
    "# depending on how much is saved, this may take a while\n",
    "out_dir = oj(out_dir_main, folder)\n",
    "fnames = sorted(os.listdir(out_dir))\n",
    "results_list = [pd.Series(pkl.load(open(oj(out_dir, fname), \"rb\"))) for fname in tqdm(fnames) if not fname.startswith('weights')]\n",
    "results = pd.concat(results_list, axis=1).T.infer_objects()\n",
    "\n",
    "save_dir = 'test'\n",
    "if not os.path.exists(save_dir):\n",
    "    os.makedirs(save_dir)"
   ]
  },
  {
   "cell_type": "code",
   "execution_count": null,
   "metadata": {},
   "outputs": [],
   "source": [
    "# run only once!\n",
    "results['accs_train'] = np.multiply(results.accs_train, 100/results.batch_size)\n",
    "results['accs_test'] = np.multiply(results.accs_test, 100/results.batch_size)"
   ]
  },
  {
   "cell_type": "code",
   "execution_count": 221,
   "metadata": {},
   "outputs": [],
   "source": [
    "results['max_train_acc'] = np.array([max(results.accs_train[i]) for i in range(len(results)) ]) \n",
    "results['max_test_acc'] = np.array([max(results.accs_test[i]) for i in range(len(results)) ])"
   ]
  },
  {
   "cell_type": "markdown",
   "metadata": {},
   "source": [
    "# norm fig\n",
    "*uses raaz.rsk/track_acts/sweep_full_real' dset*"
   ]
  },
  {
   "cell_type": "code",
   "execution_count": 225,
   "metadata": {},
   "outputs": [
    {
     "name": "stdout",
     "output_type": "stream",
     "text": [
      "sgd\n"
     ]
    },
    {
     "data": {
      "image/png": "[encoded data removed]",
      "text/plain": [
       "<Figure size 720x144 with 3 Axes>"
      ]
     },
     "metadata": {},
     "output_type": "display_data"
    }
   ],
   "source": [
    "plt.figure(figsize=(10, 2))\n",
    "\n",
    "rex = results[results['num_layers']==2]\n",
    "rex = results[results['max_test_acc']>=0.9]\n",
    "\n",
    "R, C = 1, 3\n",
    "row_adam = rex.iloc[0]\n",
    "row_sgd = rex.iloc[3]\n",
    "print(row_sgd.optimizer)\n",
    "epochs = sorted(row_sgd['weight_norms'].keys())\n",
    "fc0 = [row_sgd['weight_norms'][t]['fc.0.weight_fro'] for t in epochs]\n",
    "fc0_adam = [row_adam['weight_norms'][t]['fc.0.weight_fro'] for t in epochs]\n",
    "plt.subplot(R, C, 1)\n",
    "plt.plot(row_sgd.its, fc0)\n",
    "plt.plot(row_sgd.its, fc0_adam)\n",
    "plt.xlabel('epochs')\n",
    "plt.ylabel('$||W_1||_F$')\n",
    "\n",
    "fc1 = [row_sgd['weight_norms'][t]['fc.1.weight_fro'] for t in epochs]\n",
    "fc1_adam = [row_adam['weight_norms'][t]['fc.1.weight_fro'] for t in epochs]\n",
    "plt.subplot(R, C, 2)\n",
    "plt.plot(row_sgd.its, fc1)\n",
    "plt.plot(row_adam.its, fc1_adam)\n",
    "plt.xlabel('epochs')\n",
    "plt.ylabel('$||W_2|_F$')\n",
    "\n",
    "plt.subplot(R, C, 3)\n",
    "plt.plot(row_sgd.its, row_sgd['accs_test'], label=row_sgd['optimizer'])\n",
    "plt.plot(row_adam.its, row_adam['accs_test'], label=row_adam['optimizer'])\n",
    "plt.xlabel('epochs')\n",
    "plt.ylabel('test accuracy')\n",
    "plt.legend()\n",
    "plt.show()"
   ]
  },
  {
   "cell_type": "code",
   "execution_count": null,
   "metadata": {},
   "outputs": [],
   "source": []
  },
  {
   "cell_type": "code",
   "execution_count": null,
   "metadata": {},
   "outputs": [],
   "source": [
    "epoch = 151\n",
    "# r = results[results['num_layers'] == 4]\n",
    "# N = r.shape[0]\n",
    "# keys = r['weight_norms']\n",
    "ts = [0, 1, 151]\n",
    "# results['fro0_final'] = [results['weight_norms'][i][151]['fc.0.weight_fro'] for i in results.index]\n",
    "# results['fro1_final'] = [results['weight_norms'][i][151]['fc.1.weight_fro'] for i in results.index]\n",
    "# results['fro2_final'] = [results['weight_norms'][i][151]['fc.2.weight_fro'] for i in results.index]\n",
    "# results['fro3_final'] = [results['weight_norms'][i][151]['fc.0.weight_fro'] for i in results.index]\n",
    "\n",
    "numlays = 2\n",
    "r = results[results['num_layers']==numlays]\n",
    "for t in ts:\n",
    "    for i in range(numlays):\n",
    "        r['fro' + str(i) + '_' + str(t)] = [r['weight_norms'][j][t]['fc.' + str(i) + '.weight_fro'] for j in r.index]\n",
    "    r['fros_' + str(t)] = [[r['weight_norms'][j][t]['fc.' + str(i) + '.weight_fro'] for i in range(numlays)] for j in r.index]  "
   ]
  },
  {
   "cell_type": "code",
   "execution_count": null,
   "metadata": {},
   "outputs": [],
   "source": [
    "xw"
   ]
  },
  {
   "cell_type": "code",
   "execution_count": null,
   "metadata": {},
   "outputs": [],
   "source": [
    "R, C = 2, 2\n",
    "plt.figure(figsize=(8, 8))\n",
    "\n",
    "rm = r[r['dset'] == 'mnist']\n",
    "rm = rm[rm['max_test_acc'] > 0.95]\n",
    "plt.subplot(R, C, 1)\n",
    "plt.title('mnist')\n",
    "sns.scatterplot('fro0_final', 'fro1_final', hue='optimizer', data=rm)\n",
    "plt.plot(range(75))\n",
    "\n",
    "rc = r[r['dset'] == 'cifar10']\n",
    "rc = rc[rc['max_test_acc'] > 0.5]\n",
    "plt.subplot(R, C, 2)\n",
    "plt.title('cifar10')\n",
    "sns.scatterplot('max_test_acc','fro0_final', hue='optimizer', data=rc)\n",
    "\n",
    "# plt.xlim(0, 1000)\n",
    "plt.show()"
   ]
  },
  {
   "cell_type": "code",
   "execution_count": null,
   "metadata": {},
   "outputs": [],
   "source": []
  },
  {
   "cell_type": "code",
   "execution_count": null,
   "metadata": {},
   "outputs": [],
   "source": [
    "R, C = len(ts), 2\n",
    "plt.figure(figsize=(8, 8))\n",
    "\n",
    "for i, t in enumerate(ts):\n",
    "    plt.subplot(R, C, 1 + i * C)\n",
    "    for index, row in rm.iterrows():\n",
    "    #     print(row.keys())\n",
    "        plt.plot(row['fros_'+str(t)], alpha=0.1, color='red' if row['optimizer']=='adam' else 'cyan')\n",
    "\n",
    "    plt.subplot(R, C, 2 + i *C)\n",
    "    for index, row in rc.iterrows():\n",
    "        plt.plot(row['fros_1'+str(t)], alpha=0.1, color='red' if row['optimizer']=='adam' else 'cyan')\n",
    "\n",
    "    #     print(row)\n"
   ]
  },
  {
   "cell_type": "code",
   "execution_count": null,
   "metadata": {},
   "outputs": [],
   "source": [
    "ITS = results.its[0]"
   ]
  }
 ],
 "metadata": {
  "anaconda-cloud": {},
  "kernelspec": {
   "display_name": "Python 3",
   "language": "python",
   "name": "python3"
  },
  "language_info": {
   "codemirror_mode": {
    "name": "ipython",
    "version": 3
   },
   "file_extension": ".py",
   "mimetype": "text/x-python",
   "name": "python",
   "nbconvert_exporter": "python",
   "pygments_lexer": "ipython3",
   "version": "3.5.4"
  }
 },
 "nbformat": 4,
 "nbformat_minor": 2
}
