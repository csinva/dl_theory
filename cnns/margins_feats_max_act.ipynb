{
 "cells": [
  {
   "cell_type": "code",
   "execution_count": 5,
   "metadata": {},
   "outputs": [
    {
     "name": "stdout",
     "output_type": "stream",
     "text": [
      "The autoreload extension is already loaded. To reload it, use:\n",
      "  %reload_ext autoreload\n"
     ]
    }
   ],
   "source": [
    "import os\n",
    "from os.path import join as oj\n",
    "import sys, time\n",
    "sys.path.insert(1, oj(sys.path[0], '..'))  # insert parent path\n",
    "sys.path.insert(1, oj(sys.path[0], '../vision_fit'))  # insert parent path\n",
    "import time\n",
    "import numpy as np\n",
    "from tqdm import tqdm\n",
    "from copy import deepcopy\n",
    "import scipy\n",
    "import pickle as pkl\n",
    "import h5py\n",
    "import warnings\n",
    "warnings.filterwarnings(\"ignore\")\n",
    "import matplotlib.pyplot as plt\n",
    "import seaborn as sns\n",
    "from sklearn import metrics\n",
    "import style\n",
    "from imagenet_classes import lab_dict\n",
    "import sklearn\n",
    "import pandas as pd\n",
    "import stats\n",
    "import scipy.misc\n",
    "sys.path.append('/accounts/projects/vision/chandan/max_activation_interpretation_pytorch/')\n",
    "import max_act\n",
    "from model_helpers import Model_feats\n",
    "import visualize_ims as viz\n",
    "from visualize_ims import im_to_np, get_im\n",
    "\n",
    "import torchvision.datasets as dset\n",
    "import torchvision.transforms as transforms\n",
    "import torchvision.models as models\n",
    "import torch\n",
    "\n",
    "%load_ext autoreload\n",
    "%autoreload 2"
   ]
  },
  {
   "cell_type": "code",
   "execution_count": 2,
   "metadata": {},
   "outputs": [],
   "source": [
    "style.set_style()\n",
    "import warnings\n",
    "warnings.filterwarnings(\"ignore\")"
   ]
  },
  {
   "cell_type": "markdown",
   "metadata": {},
   "source": [
    "# get data on labs, preds, and feats"
   ]
  },
  {
   "cell_type": "code",
   "execution_count": 3,
   "metadata": {},
   "outputs": [
    {
     "name": "stdout",
     "output_type": "stream",
     "text": [
      "['.ipynb_checkpoints', 'alexnet.h5', 'alexnet_corrs.h5', 'alexnet_feats.h5', 'densenet121_corrs.h5', 'densenet169.h5', 'densenet169_corrs.h5', 'densenet169_feats.h5', 'densenet201_corrs.h5', 'ind_tops_train.pkl', 'ind_tops_train_corrs.pkl', 'ind_tops_val.pkl', 'ind_tops_val_corrs.pkl', 'labs.h5', 'readme.md', 'resnet101_corrs.h5', 'resnet152_corrs.h5', 'resnet18.h5', 'resnet18_corrs.h5', 'resnet18_feats.h5', 'resnet34_corrs.h5', 'resnet50.h5', 'resnet50_corrs.h5', 'vgg11.h5', 'vgg11_corrs.h5', 'vgg11_feats.h5', 'vgg13.h5', 'vgg13_corrs.h5', 'vgg13_feats.h5', 'vgg16.h5', 'vgg16_corrs.h5', 'vgg19.h5', 'vgg19_corrs.h5']\n"
     ]
    }
   ],
   "source": [
    "out_dir = '/accounts/projects/vision/scratch/yu_dl/raaz.rsk/cnns_preds'\n",
    "print(sorted(os.listdir(out_dir)))\n",
    "\n",
    "# labs_train slightly smaller because part of last batch gets cut off\n",
    "labs_train = np.array(h5py.File(oj(out_dir, 'labs.h5'), 'r')['labs_train'])\n",
    "labs_val = np.array(h5py.File(oj(out_dir, 'labs.h5'), 'r')['labs_val'])"
   ]
  },
  {
   "cell_type": "markdown",
   "metadata": {},
   "source": [
    "**hist correct points top pred vs hist wrong points top pred**"
   ]
  },
  {
   "cell_type": "code",
   "execution_count": 4,
   "metadata": {},
   "outputs": [
    {
     "data": {
      "image/png": "[encoded data removed]",
      "text/plain": [
       "<Figure size 864x180 with 4 Axes>"
      ]
     },
     "metadata": {},
     "output_type": "display_data"
    }
   ],
   "source": [
    "# params to set\n",
    "preds = np.array(h5py.File(oj(out_dir, 'vgg11.h5'), 'r')['preds_val'])\n",
    "labs = labs_val\n",
    "\n",
    "# find right idxs\n",
    "preds_max_class = np.argmax(preds, axis=1)\n",
    "idxs_correct = preds_max_class == labs\n",
    "preds = np.sort(preds, axis=1) # sort into ascending order for each row\n",
    "\n",
    "\n",
    "R, C = 1, 4\n",
    "plt.figure(figsize=(C * 3, R * 2.5))\n",
    "preds_max = np.max(scipy.special.softmax(preds, axis=1), axis=1) #[:, -1]\n",
    "plt.subplot(R, C, 1)\n",
    "plt.hist(preds_max[idxs_correct], color='red', alpha=0.5)\n",
    "plt.hist(preds_max[~idxs_correct], color='blue', alpha=0.5)\n",
    "plt.xlabel('max pred with softmax')\n",
    "\n",
    "plt.subplot(R, C, 2)\n",
    "preds_max = preds[:, -1]\n",
    "plt.xlabel('max pred logit')\n",
    "plt.hist(preds_max[idxs_correct], color='red', alpha=0.5, label='correct')\n",
    "plt.hist(preds_max[~idxs_correct], color='blue', alpha=0.5, label='wrong')\n",
    "\n",
    "plt.subplot(R, C, 3)\n",
    "preds_max = preds[:, -1] - preds[:, -2]\n",
    "plt.xlabel('max pred - 2nd max pred')\n",
    "plt.hist(preds_max[idxs_correct], color='red', alpha=0.5, label='correct')\n",
    "plt.hist(preds_max[~idxs_correct], color='blue', alpha=0.5, label='wrong')\n",
    "\n",
    "plt.subplot(R, C, 4)\n",
    "preds_max = preds[:, -1] - (preds[:, -2] + preds[:, -3] + preds[:, -4] + preds[:, -5]) / 4\n",
    "plt.xlabel('max pred - next 4 preds')\n",
    "plt.hist(preds_max[idxs_correct], color='red', alpha=0.5, label='correct')\n",
    "plt.hist(preds_max[~idxs_correct], color='blue', alpha=0.5, label='wrong')\n",
    "plt.legend()\n",
    "plt.show()"
   ]
  },
  {
   "cell_type": "markdown",
   "metadata": {},
   "source": [
    "# look at features"
   ]
  },
  {
   "cell_type": "code",
   "execution_count": 12,
   "metadata": {},
   "outputs": [
    {
     "data": {
      "text/plain": [
       "(50000, 4096)"
      ]
     },
     "execution_count": 12,
     "metadata": {},
     "output_type": "execute_result"
    }
   ],
   "source": [
    "# n x feat_size\n",
    "feats_train = h5py.File(oj(out_dir, 'alexnet_feats.h5'), 'r')['feats_train']\n",
    "feats_val = h5py.File(oj(out_dir, 'alexnet_feats.h5'), 'r')['feats_val']"
   ]
  },
  {
   "cell_type": "code",
   "execution_count": 13,
   "metadata": {},
   "outputs": [
    {
     "name": "stdout",
     "output_type": "stream",
     "text": [
      "(10000, 10000)\n"
     ]
    }
   ],
   "source": [
    "sims = metrics.pairwise.cosine_similarity(feats_val[:10000])\n",
    "print(sims.shape)"
   ]
  },
  {
   "cell_type": "code",
   "execution_count": null,
   "metadata": {},
   "outputs": [],
   "source": [
    "plt.figure(figsize=(14, 14))\n",
    "plt.imshow(sims, interpolation=None)\n",
    "plt.grid(False)\n",
    "plt.savefig('act_sims.pdf')\n",
    "plt.show()"
   ]
  },
  {
   "cell_type": "code",
   "execution_count": 10,
   "metadata": {},
   "outputs": [],
   "source": [
    "means = np.mean(feats_val, axis=0)\n",
    "stds = np.std(feats_val, axis=0)"
   ]
  },
  {
   "cell_type": "code",
   "execution_count": null,
   "metadata": {},
   "outputs": [],
   "source": [
    "sns.heatmap(feats_val[:10, :4096])\n",
    "plt.show()"
   ]
  },
  {
   "cell_type": "code",
   "execution_count": 14,
   "metadata": {},
   "outputs": [
    {
     "name": "stdout",
     "output_type": "stream",
     "text": [
      "(50000, 4096)\n"
     ]
    }
   ],
   "source": [
    "print(feats_val.shape)"
   ]
  },
  {
   "cell_type": "markdown",
   "metadata": {},
   "source": [
    "# look at individual ims"
   ]
  },
  {
   "cell_type": "code",
   "execution_count": 3,
   "metadata": {},
   "outputs": [],
   "source": [
    "root = '/scratch/users/vision/data/cv/imagenet_full'\n",
    "dset_name = 'val/val' # train or val/val\n",
    "dset_val = dset.ImageFolder(oj(root, dset_name), \n",
    "                            transforms.Compose([transforms.Resize(256),\n",
    "                                                transforms.CenterCrop(224),\n",
    "                                                transforms.ToTensor()]))"
   ]
  },
  {
   "cell_type": "markdown",
   "metadata": {},
   "source": [
    "# find closest nn point"
   ]
  },
  {
   "cell_type": "code",
   "execution_count": 23,
   "metadata": {},
   "outputs": [],
   "source": [
    "device = 'cuda' if torch.cuda.is_available() else 'cpu'"
   ]
  },
  {
   "cell_type": "code",
   "execution_count": 127,
   "metadata": {},
   "outputs": [],
   "source": [
    "m = models.alexnet(pretrained=True).eval()\n",
    "class_num = 130 # 84 is peacock, 130 is flamingo\n",
    "offset = 50 * class_num\n",
    "im_num = offset + 3\n",
    "\n",
    "im_np, im_torch = get_im(dset_val, im_num)\n",
    "# show(im_np)\n",
    "# pred = m(im_torch) # this matches what's in preds"
   ]
  },
  {
   "cell_type": "markdown",
   "metadata": {},
   "source": [
    "search within class for neighbors"
   ]
  },
  {
   "cell_type": "code",
   "execution_count": 128,
   "metadata": {},
   "outputs": [],
   "source": [
    "preds = np.array(h5py.File(oj(out_dir, 'alexnet.h5'), 'r')['preds_val'])\n",
    "feats = h5py.File(oj(out_dir, 'alexnet_feats.h5'), 'r')['feats_val']\n",
    "\n",
    "feats_all = np.array(feats[offset: offset + 50])\n",
    "feats_im = np.array(feats[im_num])\n",
    "\n",
    "preds_all = np.array(preds[offset: offset + 50])\n",
    "preds_im = np.array(preds[im_num])"
   ]
  },
  {
   "cell_type": "code",
   "execution_count": 129,
   "metadata": {},
   "outputs": [],
   "source": [
    "# dists = feats_all @ feats_im.T # dot prods\n",
    "dists = np.linalg.norm(feats_all - feats_im, axis=1, ord=2) # l2 dists\n",
    "# dists = np.linalg.norm(preds_all - preds_im, axis=1, ord=2) # l2 dist in prediction\n",
    "inds_sorted = np.argsort(dists) # increasing"
   ]
  },
  {
   "cell_type": "code",
   "execution_count": null,
   "metadata": {},
   "outputs": [],
   "source": [
    "ranks = np.arange(dists.size)\n",
    "inds_correct = np.argmax(preds_all[inds_sorted], axis=1) == class_num\n",
    "plt.plot(ranks[inds_correct][1:], dists[inds_sorted][inds_correct][1:], 'o', label='correct')\n",
    "plt.plot(ranks[~inds_correct], dists[inds_sorted][~inds_correct], 'o', label='wrong')\n",
    "plt.legend()\n",
    "plt.xlabel('rank of closest match')\n",
    "plt.ylabel('dist')\n",
    "plt.show()"
   ]
  },
  {
   "cell_type": "code",
   "execution_count": null,
   "metadata": {},
   "outputs": [],
   "source": [
    "ims_np = []\n",
    "for j in range(6):\n",
    "#     plt.subplot(1, 6, j + 1)\n",
    "    im_np, im_torch = get_im(dset_val, offset + inds_sorted[j])\n",
    "    ims_np.append(im_np)\n",
    "#     show(im_np)\n",
    "# plt.show()\n",
    "viz.show(ims_np)\n",
    "plt.show()"
   ]
  },
  {
   "cell_type": "markdown",
   "metadata": {},
   "source": [
    "# max act\n",
    "also was comparing sgd vs adam"
   ]
  },
  {
   "cell_type": "code",
   "execution_count": null,
   "metadata": {},
   "outputs": [],
   "source": [
    "device = 'cuda'\n",
    "m = m.to(device)\n",
    "center_crop = None\n",
    "# output_weights = -1 * torch.ones(1000).to(device)\n",
    "output_weights = torch.zeros(1000).to(device)\n",
    "output_weights[130] = 1 # 84 is peacock, 130 is flamingo\n",
    "ims_opt, losses = max_act.maximize_im(model=m, im_shape=im1_torch.shape, \n",
    "                                      output_weights=output_weights, \n",
    "                                      lambda_tv=1e-2, lambda_pnorm=1e-2, jitter=0,\n",
    "                                      device=device, num_iters=300, \n",
    "                                      init='zero', lr=1e-2, center_crop=center_crop)"
   ]
  },
  {
   "cell_type": "code",
   "execution_count": null,
   "metadata": {},
   "outputs": [],
   "source": [
    "plt.subplot(121)\n",
    "plt.plot(losses, '.-')\n",
    "plt.ylabel('dist')\n",
    "plt.xlabel('iter')\n",
    "plt.subplot(122)\n",
    "plt.hist(im_to_np(ims_opt[-1]).flatten())\n",
    "plt.show()\n",
    "\n",
    "viz.show([im_to_np(im) for im in ims_opt], dpi=40)\n",
    "plt.show()"
   ]
  },
  {
   "cell_type": "code",
   "execution_count": null,
   "metadata": {},
   "outputs": [],
   "source": [
    "viz.show(im_to_np(ims_opt[-1]))"
   ]
  },
  {
   "cell_type": "markdown",
   "metadata": {},
   "source": [
    "# maximize diff between 2 ims"
   ]
  },
  {
   "cell_type": "code",
   "execution_count": null,
   "metadata": {},
   "outputs": [],
   "source": [
    "im1_np, im1_torch = get_im(dset_val, offset + inds_sorted[0])\n",
    "im2_np, im2_torch = get_im(dset_val, offset + inds_sorted[1])\n",
    "feats1 = feats[offset + inds_sorted[0]]\n",
    "feats2 = feats[offset + inds_sorted[1]]"
   ]
  },
  {
   "cell_type": "code",
   "execution_count": null,
   "metadata": {},
   "outputs": [],
   "source": [
    "viz.show([im1_np, im2_np])\n",
    "plt.show()"
   ]
  },
  {
   "cell_type": "code",
   "execution_count": 273,
   "metadata": {},
   "outputs": [],
   "source": [
    "m = models.alexnet(pretrained=True).eval().to('cuda')\n",
    "model_feats = Model_feats(m, model_name='alexnet', feat_size=4096)"
   ]
  },
  {
   "cell_type": "code",
   "execution_count": null,
   "metadata": {},
   "outputs": [],
   "source": [
    "ims_opt, losses = max_act.maximize_im(model=model_feats, im_shape=im1_torch.shape, \n",
    "                                      objective='diff', im1 = im1_torch, im2=im2_torch,\n",
    "                                      lambda_tv=5e-1, lambda_pnorm=5e-1, jitter=0,\n",
    "                                      device=device, num_iters=900, \n",
    "                                      init='zero', lr=1e-3, center_crop=None)"
   ]
  },
  {
   "cell_type": "code",
   "execution_count": null,
   "metadata": {},
   "outputs": [],
   "source": [
    "plt.subplot(121)\n",
    "plt.plot(losses, '.-')\n",
    "plt.ylabel('dist')\n",
    "plt.xlabel('iter')\n",
    "plt.subplot(122)\n",
    "plt.hist(im_to_np(ims_opt[-1]).flatten())\n",
    "plt.show()\n",
    "\n",
    "# im_opt = ims_opt[-1]\n",
    "viz.show([im_to_np(im1_torch), im2_np, im_to_np(im_opt), \n",
    "      im_to_np(im_opt - im2_torch), im_to_np(im_opt - im1_torch)], dpi=40)\n",
    "plt.show()\n",
    "viz.show([im_to_np(im) for im in ims_opt], dpi=40)\n",
    "plt.show()"
   ]
  },
  {
   "cell_type": "code",
   "execution_count": null,
   "metadata": {},
   "outputs": [],
   "source": [
    "viz.show(im_to_np(ims_opt[-1]))"
   ]
  },
  {
   "cell_type": "code",
   "execution_count": null,
   "metadata": {},
   "outputs": [],
   "source": []
  }
 ],
 "metadata": {
  "kernelspec": {
   "display_name": "Python 3",
   "language": "python",
   "name": "python3"
  },
  "language_info": {
   "codemirror_mode": {
    "name": "ipython",
    "version": 3
   },
   "file_extension": ".py",
   "mimetype": "text/x-python",
   "name": "python",
   "nbconvert_exporter": "python",
   "pygments_lexer": "ipython3",
   "version": "3.7.0"
  }
 },
 "nbformat": 4,
 "nbformat_minor": 2
}
